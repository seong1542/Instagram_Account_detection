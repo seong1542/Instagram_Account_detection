{
  "nbformat": 4,
  "nbformat_minor": 0,
  "metadata": {
    "colab": {
      "name": "인스타그램_영향주는_속성찾기.ipynb",
      "provenance": [],
      "collapsed_sections": []
    },
    "kernelspec": {
      "name": "python3",
      "display_name": "Python 3"
    },
    "language_info": {
      "name": "python"
    }
  },
  "cells": [
    {
      "cell_type": "code",
      "metadata": {
        "colab": {
          "base_uri": "https://localhost:8080/"
        },
        "id": "PfO-_X1yrBdj",
        "outputId": "d0135fb3-adb4-45ad-f289-417d2b951d47"
      },
      "source": [
        "import numpy as np\n",
        "import pandas as pd\n",
        "import matplotlib.pyplot as plt\n",
        "import seaborn as sns\n",
        "from sklearn.model_selection import train_test_split\n",
        "from google.colab import drive\n",
        "drive.mount('/content/gdrive', force_remount=True)"
      ],
      "execution_count": null,
      "outputs": [
        {
          "output_type": "stream",
          "text": [
            "Mounted at /content/gdrive\n"
          ],
          "name": "stdout"
        }
      ]
    },
    {
      "cell_type": "code",
      "metadata": {
        "id": "_RQnoPHGrFFf",
        "colab": {
          "base_uri": "https://localhost:8080/"
        },
        "outputId": "c900478e-2079-40f7-b4d8-294d9530a960"
      },
      "source": [
        "filepath='/content/gdrive/My Drive/'\n",
        "train = pd.read_csv(filepath+'instagram_detection.csv')\n",
        "print(train.shape)"
      ],
      "execution_count": null,
      "outputs": [
        {
          "output_type": "stream",
          "text": [
            "(10104, 17)\n"
          ],
          "name": "stdout"
        }
      ]
    },
    {
      "cell_type": "code",
      "metadata": {
        "id": "bNMYZJkTrMG2"
      },
      "source": [
        "y_train = train['#fake']\n",
        "X_train = train.drop('#fake',axis=1)"
      ],
      "execution_count": null,
      "outputs": []
    },
    {
      "cell_type": "code",
      "metadata": {
        "id": "NavXvLl2rTv1",
        "colab": {
          "base_uri": "https://localhost:8080/"
        },
        "outputId": "8c931fc8-2877-4cc8-b7d1-5a632d9480f7"
      },
      "source": [
        "# 어떤 속성이 가장 영향을 줄까? -> 속성을 하나씩 지워서 돌려보기\n",
        "#1. 프로필 사진 유무 지우기\n",
        "A_train = train.drop('#fake',axis=1)\n",
        "A_train = A_train.drop('#profile_pic',axis=1)\n",
        "\n",
        "A_train,A_valid, y_train, y_valid = train_test_split(A_train,y_train, test_size=0.2, random_state=0, shuffle=True)\n",
        "\n",
        "print('X_train = ', A_train.shape)\n",
        "print('X_valid = ', A_valid.shape)\n",
        "print('y_train = ', y_train.shape)\n",
        "print('y_valid = ', y_valid.shape)"
      ],
      "execution_count": null,
      "outputs": [
        {
          "output_type": "stream",
          "text": [
            "X_train =  (8083, 15)\n",
            "X_valid =  (2021, 15)\n",
            "y_train =  (8083,)\n",
            "y_valid =  (2021,)\n"
          ],
          "name": "stdout"
        }
      ]
    },
    {
      "cell_type": "code",
      "metadata": {
        "id": "Os5sE741smfZ",
        "colab": {
          "base_uri": "https://localhost:8080/"
        },
        "outputId": "3e4f2445-7c33-402d-db29-c4abbd1e5b4c"
      },
      "source": [
        "from sklearn.ensemble import RandomForestClassifier\n",
        "rf= RandomForestClassifier()\n",
        "rf.fit(A_train, y_train)\n",
        "train_score = rf.score(A_train, y_train)\n",
        "valid_score = rf.score(A_valid, y_valid)\n",
        "print('RandomForest Train_Accuracy : {}'.format(train_score))\n",
        "print('RandomForest Valid_Accuracy : {}'.format(valid_score))\n",
        "print('{:.6f}'.format(train_score - 1.000000))\n",
        "print('{:.6f}'.format(valid_score - 0.972290))\n",
        "print()\n",
        "\n",
        "import lightgbm as lgb   \n",
        "lgb_model = lgb.LGBMClassifier()\n",
        "lgb_model.fit(A_train, y_train)\n",
        "train_score =lgb_model.score(A_train,y_train)\n",
        "valid_score= lgb_model.score(A_valid,y_valid)\n",
        "print('LGBM Train_Accuracy : {}'.format(train_score))\n",
        "print('LGBM Valid_Accuracy : {}'.format(valid_score))\n",
        "print('{:.6f}'.format(train_score - 0.998876))\n",
        "print('{:.6f}'.format(valid_score - 0.972290))\n",
        "print()\n",
        "\n",
        "from sklearn.ensemble import GradientBoostingClassifier\n",
        "gb= GradientBoostingClassifier()\n",
        "gb.fit(A_train, y_train)\n",
        "train_score = gb.score(A_train, y_train)\n",
        "valid_score = gb.score(A_valid, y_valid)\n",
        "print('GradientBoosting Train_Accuracy : {}'.format(train_score))\n",
        "print('GradientBoosting Valid_Accuracy : {}'.format(valid_score))\n",
        "print('{:.6f}'.format(train_score - 0.977731))\n",
        "print('{:.6f}'.format(valid_score - 0.970311))\n",
        "print()"
      ],
      "execution_count": null,
      "outputs": [
        {
          "output_type": "stream",
          "text": [
            "RandomForest Train_Accuracy : 1.0\n",
            "RandomForest Valid_Accuracy : 0.9727857496288966\n",
            "0.000000\n",
            "0.000496\n",
            "\n",
            "LGBM Train_Accuracy : 0.9976493876036125\n",
            "LGBM Valid_Accuracy : 0.971301335972291\n",
            "-0.001227\n",
            "-0.000989\n",
            "\n",
            "GradientBoosting Train_Accuracy : 0.9789682048744278\n",
            "GradientBoosting Valid_Accuracy : 0.9698169223156853\n",
            "0.001237\n",
            "-0.000494\n",
            "\n"
          ],
          "name": "stdout"
        }
      ]
    },
    {
      "cell_type": "code",
      "metadata": {
        "id": "-ah4tOxOtEfG",
        "colab": {
          "base_uri": "https://localhost:8080/"
        },
        "outputId": "9532d684-3a8f-4567-d42a-ade370eb1902"
      },
      "source": [
        "#2. id 길이 지우기\n",
        "train = pd.read_csv(filepath+'instagram_detection.csv')\n",
        "y_train = train['#fake']\n",
        "A_train = train.drop('#fake',axis=1)\n",
        "A_train = A_train.drop('#id_len',axis=1)\n",
        "\n",
        "A_train,A_valid, y_train, y_valid = train_test_split(A_train,y_train, test_size=0.2, random_state=0, shuffle=True)\n",
        "\n",
        "print('X_train = ', A_train.shape)\n",
        "print('X_valid = ', A_valid.shape)\n",
        "print('y_train = ', y_train.shape)\n",
        "print('y_valid = ', y_valid.shape)"
      ],
      "execution_count": null,
      "outputs": [
        {
          "output_type": "stream",
          "text": [
            "X_train =  (8083, 15)\n",
            "X_valid =  (2021, 15)\n",
            "y_train =  (8083,)\n",
            "y_valid =  (2021,)\n"
          ],
          "name": "stdout"
        }
      ]
    },
    {
      "cell_type": "code",
      "metadata": {
        "id": "FQHIGz5yt4qD",
        "colab": {
          "base_uri": "https://localhost:8080/"
        },
        "outputId": "c1c6bbf2-fe2b-45b8-fb25-468873d11565"
      },
      "source": [
        "from sklearn.ensemble import RandomForestClassifier\n",
        "rf= RandomForestClassifier()\n",
        "rf.fit(A_train, y_train)\n",
        "train_score = rf.score(A_train, y_train)\n",
        "valid_score = rf.score(A_valid, y_valid)\n",
        "print('RandomForest Train_Accuracy : {}'.format(train_score))\n",
        "print('RandomForest Valid_Accuracy : {}'.format(valid_score))\n",
        "print('{:.6f}'.format(train_score - 1.000000))\n",
        "print('{:.6f}'.format(valid_score - 0.972290))\n",
        "print()\n",
        "\n",
        "import lightgbm as lgb   \n",
        "lgb_model = lgb.LGBMClassifier()\n",
        "lgb_model.fit(A_train, y_train)\n",
        "train_score =lgb_model.score(A_train,y_train)\n",
        "valid_score= lgb_model.score(A_valid,y_valid)\n",
        "print('LGBM Train_Accuracy : {}'.format(train_score))\n",
        "print('LGBM Valid_Accuracy : {}'.format(valid_score))\n",
        "print('{:.6f}'.format(train_score - 0.998876))\n",
        "print('{:.6f}'.format(valid_score - 0.972290))\n",
        "print()\n",
        "\n",
        "from sklearn.ensemble import GradientBoostingClassifier\n",
        "gb= GradientBoostingClassifier()\n",
        "gb.fit(A_train, y_train)\n",
        "train_score = gb.score(A_train, y_train)\n",
        "valid_score = gb.score(A_valid, y_valid)\n",
        "print('GradientBoosting Train_Accuracy : {}'.format(train_score))\n",
        "print('GradientBoosting Valid_Accuracy : {}'.format(valid_score))\n",
        "print('{:.6f}'.format(train_score - 0.977731))\n",
        "print('{:.6f}'.format(valid_score - 0.970311))\n",
        "print()"
      ],
      "execution_count": null,
      "outputs": [
        {
          "output_type": "stream",
          "text": [
            "RandomForest Train_Accuracy : 1.0\n",
            "RandomForest Valid_Accuracy : 0.9678377041068777\n",
            "0.000000\n",
            "-0.004452\n",
            "\n",
            "LGBM Train_Accuracy : 0.9967833725102067\n",
            "LGBM Valid_Accuracy : 0.9708065314200891\n",
            "-0.002093\n",
            "-0.001483\n",
            "\n",
            "GradientBoosting Train_Accuracy : 0.9773598911295311\n",
            "GradientBoosting Valid_Accuracy : 0.9688273132112816\n",
            "-0.000371\n",
            "-0.001484\n",
            "\n"
          ],
          "name": "stdout"
        }
      ]
    },
    {
      "cell_type": "code",
      "metadata": {
        "id": "Cs2PChQWuTfn",
        "colab": {
          "base_uri": "https://localhost:8080/"
        },
        "outputId": "596645e6-5adf-42a8-88eb-270b05574cfe"
      },
      "source": [
        "#3. id 속의 숫자\n",
        "train = pd.read_csv(filepath+'instagram_detection.csv')\n",
        "y_train = train['#fake']\n",
        "A_train = train.drop('#fake',axis=1)\n",
        "A_train = A_train.drop('#num_in_id',axis=1)\n",
        "\n",
        "A_train,A_valid, y_train, y_valid = train_test_split(A_train,y_train, test_size=0.2, random_state=0, shuffle=True)\n",
        "\n",
        "print('X_train = ', A_train.shape)\n",
        "print('X_valid = ', A_valid.shape)\n",
        "print('y_train = ', y_train.shape)\n",
        "print('y_valid = ', y_valid.shape)"
      ],
      "execution_count": null,
      "outputs": [
        {
          "output_type": "stream",
          "text": [
            "X_train =  (8083, 15)\n",
            "X_valid =  (2021, 15)\n",
            "y_train =  (8083,)\n",
            "y_valid =  (2021,)\n"
          ],
          "name": "stdout"
        }
      ]
    },
    {
      "cell_type": "code",
      "metadata": {
        "id": "TPjL5Xgk4Qph",
        "colab": {
          "base_uri": "https://localhost:8080/"
        },
        "outputId": "7809ecdd-f505-4aeb-d56f-ecc22296a4c5"
      },
      "source": [
        "from sklearn.ensemble import RandomForestClassifier\n",
        "rf= RandomForestClassifier()\n",
        "rf.fit(A_train, y_train)\n",
        "train_score = rf.score(A_train, y_train)\n",
        "valid_score = rf.score(A_valid, y_valid)\n",
        "print('RandomForest Train_Accuracy : {}'.format(train_score))\n",
        "print('RandomForest Valid_Accuracy : {}'.format(valid_score))\n",
        "print('{:.6f}'.format(train_score - 1.000000))\n",
        "print('{:.6f}'.format(valid_score - 0.972290))\n",
        "print()\n",
        "\n",
        "import lightgbm as lgb   \n",
        "lgb_model = lgb.LGBMClassifier()\n",
        "lgb_model.fit(A_train, y_train)\n",
        "train_score =lgb_model.score(A_train,y_train)\n",
        "valid_score= lgb_model.score(A_valid,y_valid)\n",
        "print('LGBM Train_Accuracy : {}'.format(train_score))\n",
        "print('LGBM Valid_Accuracy : {}'.format(valid_score))\n",
        "print('{:.6f}'.format(train_score - 0.998876))\n",
        "print('{:.6f}'.format(valid_score - 0.972290))\n",
        "print()\n",
        "\n",
        "from sklearn.ensemble import GradientBoostingClassifier\n",
        "gb= GradientBoostingClassifier()\n",
        "gb.fit(A_train, y_train)\n",
        "train_score = gb.score(A_train, y_train)\n",
        "valid_score = gb.score(A_valid, y_valid)\n",
        "print('GradientBoosting Train_Accuracy : {}'.format(train_score))\n",
        "print('GradientBoosting Valid_Accuracy : {}'.format(valid_score))\n",
        "print('{:.6f}'.format(train_score - 0.977731))\n",
        "print('{:.6f}'.format(valid_score - 0.970311))\n",
        "print()"
      ],
      "execution_count": null,
      "outputs": [
        {
          "output_type": "stream",
          "text": [
            "RandomForest Train_Accuracy : 1.0\n",
            "RandomForest Valid_Accuracy : 0.9693221177634834\n",
            "0.000000\n",
            "-0.002968\n",
            "\n",
            "LGBM Train_Accuracy : 0.9969070889521218\n",
            "LGBM Valid_Accuracy : 0.9717961405244928\n",
            "-0.001969\n",
            "-0.000494\n",
            "\n",
            "GradientBoosting Train_Accuracy : 0.9777310404552765\n",
            "GradientBoosting Valid_Accuracy : 0.966848095002474\n",
            "0.000000\n",
            "-0.003463\n",
            "\n"
          ],
          "name": "stdout"
        }
      ]
    },
    {
      "cell_type": "code",
      "metadata": {
        "id": "fum1u_LdwxXM",
        "colab": {
          "base_uri": "https://localhost:8080/"
        },
        "outputId": "0bb07041-efc3-43c9-92ac-472e01e0bd5f"
      },
      "source": [
        "#4.name 길이\n",
        "train = pd.read_csv(filepath+'instagram_detection.csv')\n",
        "y_train = train['#fake']\n",
        "A_train = train.drop('#fake',axis=1)\n",
        "A_train = A_train.drop('#name_len',axis=1)\n",
        "\n",
        "A_train,A_valid, y_train, y_valid = train_test_split(A_train,y_train, test_size=0.2, random_state=0, shuffle=True)\n",
        "\n",
        "print('X_train = ', A_train.shape)\n",
        "print('X_valid = ', A_valid.shape)\n",
        "print('y_train = ', y_train.shape)\n",
        "print('y_valid = ', y_valid.shape)"
      ],
      "execution_count": null,
      "outputs": [
        {
          "output_type": "stream",
          "text": [
            "X_train =  (8083, 15)\n",
            "X_valid =  (2021, 15)\n",
            "y_train =  (8083,)\n",
            "y_valid =  (2021,)\n"
          ],
          "name": "stdout"
        }
      ]
    },
    {
      "cell_type": "code",
      "metadata": {
        "id": "4IskWMIn4Rf1",
        "colab": {
          "base_uri": "https://localhost:8080/"
        },
        "outputId": "92e9329c-32d1-4dc9-d4e4-f7f621476fd0"
      },
      "source": [
        "from sklearn.ensemble import RandomForestClassifier\n",
        "rf= RandomForestClassifier()\n",
        "rf.fit(A_train, y_train)\n",
        "train_score = rf.score(A_train, y_train)\n",
        "valid_score = rf.score(A_valid, y_valid)\n",
        "print('RandomForest Train_Accuracy : {}'.format(train_score))\n",
        "print('RandomForest Valid_Accuracy : {}'.format(valid_score))\n",
        "print('{:.6f}'.format(train_score - 1.000000))\n",
        "print('{:.6f}'.format(valid_score - 0.972290))\n",
        "print()\n",
        "\n",
        "import lightgbm as lgb   \n",
        "lgb_model = lgb.LGBMClassifier()\n",
        "lgb_model.fit(A_train, y_train)\n",
        "train_score =lgb_model.score(A_train,y_train)\n",
        "valid_score= lgb_model.score(A_valid,y_valid)\n",
        "print('LGBM Train_Accuracy : {}'.format(train_score))\n",
        "print('LGBM Valid_Accuracy : {}'.format(valid_score))\n",
        "print('{:.6f}'.format(train_score - 0.998876))\n",
        "print('{:.6f}'.format(valid_score - 0.972290))\n",
        "print()\n",
        "\n",
        "from sklearn.ensemble import GradientBoostingClassifier\n",
        "gb= GradientBoostingClassifier()\n",
        "gb.fit(A_train, y_train)\n",
        "train_score = gb.score(A_train, y_train)\n",
        "valid_score = gb.score(A_valid, y_valid)\n",
        "print('GradientBoosting Train_Accuracy : {}'.format(train_score))\n",
        "print('GradientBoosting Valid_Accuracy : {}'.format(valid_score))\n",
        "print('{:.6f}'.format(train_score - 0.977731))\n",
        "print('{:.6f}'.format(valid_score - 0.970311))\n",
        "print()"
      ],
      "execution_count": null,
      "outputs": [
        {
          "output_type": "stream",
          "text": [
            "RandomForest Train_Accuracy : 1.0\n",
            "RandomForest Valid_Accuracy : 0.9658584858980702\n",
            "0.000000\n",
            "-0.006432\n",
            "\n",
            "LGBM Train_Accuracy : 0.9954224916491402\n",
            "LGBM Valid_Accuracy : 0.9698169223156853\n",
            "-0.003454\n",
            "-0.002473\n",
            "\n",
            "GradientBoosting Train_Accuracy : 0.9726586663367561\n",
            "GradientBoosting Valid_Accuracy : 0.9658584858980702\n",
            "-0.005072\n",
            "-0.004453\n",
            "\n"
          ],
          "name": "stdout"
        }
      ]
    },
    {
      "cell_type": "code",
      "metadata": {
        "id": "ktA3zEikPQFg",
        "colab": {
          "base_uri": "https://localhost:8080/"
        },
        "outputId": "e07bf3bc-f528-4e73-9ce8-e8b98f1c500e"
      },
      "source": [
        "#4. name 속의 숫자\n",
        "train = pd.read_csv(filepath+'instagram_detection.csv')\n",
        "y_train = train['#fake']\n",
        "A_train = train.drop('#fake',axis=1)\n",
        "A_train = A_train.drop('#num_in_name',axis=1)\n",
        "\n",
        "A_train,A_valid, y_train, y_valid = train_test_split(A_train,y_train, test_size=0.2, random_state=0, shuffle=True)\n",
        "\n",
        "print('X_train = ', A_train.shape)\n",
        "print('X_valid = ', A_valid.shape)\n",
        "print('y_train = ', y_train.shape)\n",
        "print('y_valid = ', y_valid.shape)"
      ],
      "execution_count": null,
      "outputs": [
        {
          "output_type": "stream",
          "text": [
            "X_train =  (8083, 15)\n",
            "X_valid =  (2021, 15)\n",
            "y_train =  (8083,)\n",
            "y_valid =  (2021,)\n"
          ],
          "name": "stdout"
        }
      ]
    },
    {
      "cell_type": "code",
      "metadata": {
        "id": "TlhPnwBW4TR9",
        "colab": {
          "base_uri": "https://localhost:8080/"
        },
        "outputId": "284347a0-961a-4ae0-e01c-e3ea24d35424"
      },
      "source": [
        "from sklearn.ensemble import RandomForestClassifier\n",
        "rf= RandomForestClassifier()\n",
        "rf.fit(A_train, y_train)\n",
        "train_score = rf.score(A_train, y_train)\n",
        "valid_score = rf.score(A_valid, y_valid)\n",
        "print('RandomForest Train_Accuracy : {}'.format(train_score))\n",
        "print('RandomForest Valid_Accuracy : {}'.format(valid_score))\n",
        "print('{:.6f}'.format(train_score - 1.000000))\n",
        "print('{:.6f}'.format(valid_score - 0.972290))\n",
        "print()\n",
        "\n",
        "import lightgbm as lgb   \n",
        "lgb_model = lgb.LGBMClassifier()\n",
        "lgb_model.fit(A_train, y_train)\n",
        "train_score =lgb_model.score(A_train,y_train)\n",
        "valid_score= lgb_model.score(A_valid,y_valid)\n",
        "print('LGBM Train_Accuracy : {}'.format(train_score))\n",
        "print('LGBM Valid_Accuracy : {}'.format(valid_score))\n",
        "print('{:.6f}'.format(train_score - 0.998876))\n",
        "print('{:.6f}'.format(valid_score - 0.972290))\n",
        "print()\n",
        "\n",
        "from sklearn.ensemble import GradientBoostingClassifier\n",
        "gb= GradientBoostingClassifier()\n",
        "gb.fit(A_train, y_train)\n",
        "train_score = gb.score(A_train, y_train)\n",
        "valid_score = gb.score(A_valid, y_valid)\n",
        "print('GradientBoosting Train_Accuracy : {}'.format(train_score))\n",
        "print('GradientBoosting Valid_Accuracy : {}'.format(valid_score))\n",
        "print('{:.6f}'.format(train_score - 0.977731))\n",
        "print('{:.6f}'.format(valid_score - 0.970311))\n",
        "print()"
      ],
      "execution_count": null,
      "outputs": [
        {
          "output_type": "stream",
          "text": [
            "RandomForest Train_Accuracy : 1.0\n",
            "RandomForest Valid_Accuracy : 0.9683325086590797\n",
            "0.000000\n",
            "-0.003957\n",
            "\n",
            "LGBM Train_Accuracy : 0.9980205369293579\n",
            "LGBM Valid_Accuracy : 0.9722909450766947\n",
            "-0.000855\n",
            "0.000001\n",
            "\n",
            "GradientBoosting Train_Accuracy : 0.9777310404552765\n",
            "GradientBoosting Valid_Accuracy : 0.9703117268678871\n",
            "0.000000\n",
            "0.000001\n",
            "\n"
          ],
          "name": "stdout"
        }
      ]
    },
    {
      "cell_type": "code",
      "metadata": {
        "id": "NscCkZz8RFm6",
        "colab": {
          "base_uri": "https://localhost:8080/"
        },
        "outputId": "f654f0ad-0019-4cbb-d04d-db5b75bd4ce7"
      },
      "source": [
        "#5. name == id\n",
        "train = pd.read_csv(filepath+'instagram_detection.csv')\n",
        "y_train = train['#fake']\n",
        "A_train = train.drop('#fake',axis=1)\n",
        "A_train = A_train.drop('#name==id',axis=1)\n",
        "\n",
        "A_train,A_valid, y_train, y_valid = train_test_split(A_train,y_train, test_size=0.2, random_state=0, shuffle=True)\n",
        "\n",
        "print('X_train = ', A_train.shape)\n",
        "print('X_valid = ', A_valid.shape)\n",
        "print('y_train = ', y_train.shape)\n",
        "print('y_valid = ', y_valid.shape)"
      ],
      "execution_count": null,
      "outputs": [
        {
          "output_type": "stream",
          "text": [
            "X_train =  (8083, 15)\n",
            "X_valid =  (2021, 15)\n",
            "y_train =  (8083,)\n",
            "y_valid =  (2021,)\n"
          ],
          "name": "stdout"
        }
      ]
    },
    {
      "cell_type": "code",
      "metadata": {
        "id": "WXSCwpJ14qL-",
        "colab": {
          "base_uri": "https://localhost:8080/"
        },
        "outputId": "acfd4acb-6edb-4f56-e956-641c24d1f2ed"
      },
      "source": [
        "from sklearn.ensemble import RandomForestClassifier\n",
        "rf= RandomForestClassifier()\n",
        "rf.fit(A_train, y_train)\n",
        "train_score = rf.score(A_train, y_train)\n",
        "valid_score = rf.score(A_valid, y_valid)\n",
        "print('RandomForest Train_Accuracy : {}'.format(train_score))\n",
        "print('RandomForest Valid_Accuracy : {}'.format(valid_score))\n",
        "print('{:.6f}'.format(train_score - 1.000000))\n",
        "print('{:.6f}'.format(valid_score - 0.972290))\n",
        "print()\n",
        "\n",
        "import lightgbm as lgb   \n",
        "lgb_model = lgb.LGBMClassifier()\n",
        "lgb_model.fit(A_train, y_train)\n",
        "train_score =lgb_model.score(A_train,y_train)\n",
        "valid_score= lgb_model.score(A_valid,y_valid)\n",
        "print('LGBM Train_Accuracy : {}'.format(train_score))\n",
        "print('LGBM Valid_Accuracy : {}'.format(valid_score))\n",
        "print('{:.6f}'.format(train_score - 0.998876))\n",
        "print('{:.6f}'.format(valid_score - 0.972290))\n",
        "print()\n",
        "\n",
        "from sklearn.ensemble import GradientBoostingClassifier\n",
        "gb= GradientBoostingClassifier()\n",
        "gb.fit(A_train, y_train)\n",
        "train_score = gb.score(A_train, y_train)\n",
        "valid_score = gb.score(A_valid, y_valid)\n",
        "print('GradientBoosting Train_Accuracy : {}'.format(train_score))\n",
        "print('GradientBoosting Valid_Accuracy : {}'.format(valid_score))\n",
        "print('{:.6f}'.format(train_score - 0.977731))\n",
        "print('{:.6f}'.format(valid_score - 0.970311))\n",
        "print()"
      ],
      "execution_count": null,
      "outputs": [
        {
          "output_type": "stream",
          "text": [
            "RandomForest Train_Accuracy : 1.0\n",
            "RandomForest Valid_Accuracy : 0.9708065314200891\n",
            "0.000000\n",
            "-0.001483\n",
            "\n",
            "LGBM Train_Accuracy : 0.9983916862551033\n",
            "LGBM Valid_Accuracy : 0.9698169223156853\n",
            "-0.000484\n",
            "-0.002473\n",
            "\n",
            "GradientBoosting Train_Accuracy : 0.9788444884325127\n",
            "GradientBoosting Valid_Accuracy : 0.9708065314200891\n",
            "0.001113\n",
            "0.000496\n",
            "\n"
          ],
          "name": "stdout"
        }
      ]
    },
    {
      "cell_type": "code",
      "metadata": {
        "id": "eFcLAg_1SI-o",
        "colab": {
          "base_uri": "https://localhost:8080/"
        },
        "outputId": "9627736b-7d28-40c9-80a2-f3c2a86d8d76"
      },
      "source": [
        "#6. itro_len\n",
        "train = pd.read_csv(filepath+'instagram_detection.csv')\n",
        "y_train = train['#fake']\n",
        "A_train = train.drop('#fake',axis=1)\n",
        "A_train = A_train.drop('#itro_len',axis=1)\n",
        "\n",
        "A_train,A_valid, y_train, y_valid = train_test_split(A_train,y_train, test_size=0.2, random_state=0, shuffle=True)\n",
        "\n",
        "print('X_train = ', A_train.shape)\n",
        "print('X_valid = ', A_valid.shape)\n",
        "print('y_train = ', y_train.shape)\n",
        "print('y_valid = ', y_valid.shape)"
      ],
      "execution_count": null,
      "outputs": [
        {
          "output_type": "stream",
          "text": [
            "X_train =  (8083, 15)\n",
            "X_valid =  (2021, 15)\n",
            "y_train =  (8083,)\n",
            "y_valid =  (2021,)\n"
          ],
          "name": "stdout"
        }
      ]
    },
    {
      "cell_type": "code",
      "metadata": {
        "id": "e5Dk3Qr84rQl",
        "colab": {
          "base_uri": "https://localhost:8080/"
        },
        "outputId": "4552d992-8d01-4fdf-a1c1-05aa6f7721cc"
      },
      "source": [
        "from sklearn.ensemble import RandomForestClassifier\n",
        "rf= RandomForestClassifier()\n",
        "rf.fit(A_train, y_train)\n",
        "train_score = rf.score(A_train, y_train)\n",
        "valid_score = rf.score(A_valid, y_valid)\n",
        "print('RandomForest Train_Accuracy : {}'.format(train_score))\n",
        "print('RandomForest Valid_Accuracy : {}'.format(valid_score))\n",
        "print('{:.6f}'.format(train_score - 1.000000))\n",
        "print('{:.6f}'.format(valid_score - 0.972290))\n",
        "print()\n",
        "\n",
        "import lightgbm as lgb   \n",
        "lgb_model = lgb.LGBMClassifier()\n",
        "lgb_model.fit(A_train, y_train)\n",
        "train_score =lgb_model.score(A_train,y_train)\n",
        "valid_score= lgb_model.score(A_valid,y_valid)\n",
        "print('LGBM Train_Accuracy : {}'.format(train_score))\n",
        "print('LGBM Valid_Accuracy : {}'.format(valid_score))\n",
        "print('{:.6f}'.format(train_score - 0.998876))\n",
        "print('{:.6f}'.format(valid_score - 0.972290))\n",
        "print()\n",
        "\n",
        "from sklearn.ensemble import GradientBoostingClassifier\n",
        "gb= GradientBoostingClassifier()\n",
        "gb.fit(A_train, y_train)\n",
        "train_score = gb.score(A_train, y_train)\n",
        "valid_score = gb.score(A_valid, y_valid)\n",
        "print('GradientBoosting Train_Accuracy : {}'.format(train_score))\n",
        "print('GradientBoosting Valid_Accuracy : {}'.format(valid_score))\n",
        "print('{:.6f}'.format(train_score - 0.977731))\n",
        "print('{:.6f}'.format(valid_score - 0.970311))\n",
        "print()"
      ],
      "execution_count": null,
      "outputs": [
        {
          "output_type": "stream",
          "text": [
            "RandomForest Train_Accuracy : 1.0\n",
            "RandomForest Valid_Accuracy : 0.9653636813458684\n",
            "0.000000\n",
            "-0.006926\n",
            "\n",
            "LGBM Train_Accuracy : 0.9964122231844612\n",
            "LGBM Valid_Accuracy : 0.9673428995546759\n",
            "-0.002464\n",
            "-0.004947\n",
            "\n",
            "GradientBoosting Train_Accuracy : 0.9790919213163429\n",
            "GradientBoosting Valid_Accuracy : 0.9633844631370608\n",
            "0.001361\n",
            "-0.006927\n",
            "\n"
          ],
          "name": "stdout"
        }
      ]
    },
    {
      "cell_type": "code",
      "metadata": {
        "id": "8ukw6rYASl-a",
        "colab": {
          "base_uri": "https://localhost:8080/"
        },
        "outputId": "5aef17b0-6a6f-4d26-f4b2-facf61437b15"
      },
      "source": [
        "#7. url\n",
        "train = pd.read_csv(filepath+'instagram_detection.csv')\n",
        "y_train = train['#fake']\n",
        "A_train = train.drop('#fake',axis=1)\n",
        "A_train = A_train.drop('#url',axis=1)\n",
        "\n",
        "A_train,A_valid, y_train, y_valid = train_test_split(A_train,y_train, test_size=0.2, random_state=0, shuffle=True)\n",
        "\n",
        "print('X_train = ', A_train.shape)\n",
        "print('X_valid = ', A_valid.shape)\n",
        "print('y_train = ', y_train.shape)\n",
        "print('y_valid = ', y_valid.shape)"
      ],
      "execution_count": null,
      "outputs": [
        {
          "output_type": "stream",
          "text": [
            "X_train =  (8083, 15)\n",
            "X_valid =  (2021, 15)\n",
            "y_train =  (8083,)\n",
            "y_valid =  (2021,)\n"
          ],
          "name": "stdout"
        }
      ]
    },
    {
      "cell_type": "code",
      "metadata": {
        "id": "SbRT_9FP4tpG",
        "colab": {
          "base_uri": "https://localhost:8080/"
        },
        "outputId": "a4bd2936-ae40-456e-9975-8f42b9ba1371"
      },
      "source": [
        "from sklearn.ensemble import RandomForestClassifier\n",
        "rf= RandomForestClassifier()\n",
        "rf.fit(A_train, y_train)\n",
        "train_score = rf.score(A_train, y_train)\n",
        "valid_score = rf.score(A_valid, y_valid)\n",
        "print('RandomForest Train_Accuracy : {}'.format(train_score))\n",
        "print('RandomForest Valid_Accuracy : {}'.format(valid_score))\n",
        "print('{:.6f}'.format(train_score - 1.000000))\n",
        "print('{:.6f}'.format(valid_score - 0.972290))\n",
        "print()\n",
        "\n",
        "import lightgbm as lgb   \n",
        "lgb_model = lgb.LGBMClassifier()\n",
        "lgb_model.fit(A_train, y_train)\n",
        "train_score =lgb_model.score(A_train,y_train)\n",
        "valid_score= lgb_model.score(A_valid,y_valid)\n",
        "print('LGBM Train_Accuracy : {}'.format(train_score))\n",
        "print('LGBM Valid_Accuracy : {}'.format(valid_score))\n",
        "print('{:.6f}'.format(train_score - 0.998876))\n",
        "print('{:.6f}'.format(valid_score - 0.972290))\n",
        "print()\n",
        "\n",
        "from sklearn.ensemble import GradientBoostingClassifier\n",
        "gb= GradientBoostingClassifier()\n",
        "gb.fit(A_train, y_train)\n",
        "train_score = gb.score(A_train, y_train)\n",
        "valid_score = gb.score(A_valid, y_valid)\n",
        "print('GradientBoosting Train_Accuracy : {}'.format(train_score))\n",
        "print('GradientBoosting Valid_Accuracy : {}'.format(valid_score))\n",
        "print('{:.6f}'.format(train_score - 0.977731))\n",
        "print('{:.6f}'.format(valid_score - 0.970311))\n",
        "print()"
      ],
      "execution_count": null,
      "outputs": [
        {
          "output_type": "stream",
          "text": [
            "RandomForest Train_Accuracy : 1.0\n",
            "RandomForest Valid_Accuracy : 0.9717961405244928\n",
            "0.000000\n",
            "-0.000494\n",
            "\n",
            "LGBM Train_Accuracy : 0.9952987752072251\n",
            "LGBM Valid_Accuracy : 0.9708065314200891\n",
            "-0.003577\n",
            "-0.001483\n",
            "\n",
            "GradientBoosting Train_Accuracy : 0.9729060992205865\n",
            "GradientBoosting Valid_Accuracy : 0.966848095002474\n",
            "-0.004825\n",
            "-0.003463\n",
            "\n"
          ],
          "name": "stdout"
        }
      ]
    },
    {
      "cell_type": "code",
      "metadata": {
        "id": "Zgxdby68S4ft",
        "colab": {
          "base_uri": "https://localhost:8080/"
        },
        "outputId": "1cdcac0e-7275-4e09-ff72-c13dece04001"
      },
      "source": [
        "#8. private\n",
        "train = pd.read_csv(filepath+'instagram_detection.csv')\n",
        "y_train = train['#fake']\n",
        "A_train = train.drop('#fake',axis=1)\n",
        "A_train = A_train.drop('#private',axis=1)\n",
        "\n",
        "A_train,A_valid, y_train, y_valid = train_test_split(A_train,y_train, test_size=0.2, random_state=0, shuffle=True)\n",
        "\n",
        "print('X_train = ', A_train.shape)\n",
        "print('X_valid = ', A_valid.shape)\n",
        "print('y_train = ', y_train.shape)\n",
        "print('y_valid = ', y_valid.shape)"
      ],
      "execution_count": null,
      "outputs": [
        {
          "output_type": "stream",
          "text": [
            "X_train =  (8083, 15)\n",
            "X_valid =  (2021, 15)\n",
            "y_train =  (8083,)\n",
            "y_valid =  (2021,)\n"
          ],
          "name": "stdout"
        }
      ]
    },
    {
      "cell_type": "code",
      "metadata": {
        "id": "QDZzAhzu6kfL",
        "colab": {
          "base_uri": "https://localhost:8080/"
        },
        "outputId": "cd3b0cc3-ee09-4817-8ce8-df4f41722da3"
      },
      "source": [
        "from sklearn.ensemble import RandomForestClassifier\n",
        "rf= RandomForestClassifier()\n",
        "rf.fit(A_train, y_train)\n",
        "train_score = rf.score(A_train, y_train)\n",
        "valid_score = rf.score(A_valid, y_valid)\n",
        "print('RandomForest Train_Accuracy : {}'.format(train_score))\n",
        "print('RandomForest Valid_Accuracy : {}'.format(valid_score))\n",
        "print('{:.6f}'.format(train_score - 1.000000))\n",
        "print('{:.6f}'.format(valid_score - 0.972290))\n",
        "print()\n",
        "\n",
        "import lightgbm as lgb   \n",
        "lgb_model = lgb.LGBMClassifier()\n",
        "lgb_model.fit(A_train, y_train)\n",
        "train_score =lgb_model.score(A_train,y_train)\n",
        "valid_score= lgb_model.score(A_valid,y_valid)\n",
        "print('LGBM Train_Accuracy : {}'.format(train_score))\n",
        "print('LGBM Valid_Accuracy : {}'.format(valid_score))\n",
        "print('{:.6f}'.format(train_score - 0.998876))\n",
        "print('{:.6f}'.format(valid_score - 0.972290))\n",
        "print()\n",
        "\n",
        "from sklearn.ensemble import GradientBoostingClassifier\n",
        "gb= GradientBoostingClassifier()\n",
        "gb.fit(A_train, y_train)\n",
        "train_score = gb.score(A_train, y_train)\n",
        "valid_score = gb.score(A_valid, y_valid)\n",
        "print('GradientBoosting Train_Accuracy : {}'.format(train_score))\n",
        "print('GradientBoosting Valid_Accuracy : {}'.format(valid_score))\n",
        "print('{:.6f}'.format(train_score - 0.977731))\n",
        "print('{:.6f}'.format(valid_score - 0.970311))\n",
        "print()"
      ],
      "execution_count": null,
      "outputs": [
        {
          "output_type": "stream",
          "text": [
            "RandomForest Train_Accuracy : 1.0\n",
            "RandomForest Valid_Accuracy : 0.9698169223156853\n",
            "0.000000\n",
            "-0.002473\n",
            "\n",
            "LGBM Train_Accuracy : 0.9974019547197822\n",
            "LGBM Valid_Accuracy : 0.9732805541810985\n",
            "-0.001474\n",
            "0.000991\n",
            "\n",
            "GradientBoosting Train_Accuracy : 0.9768650253618706\n",
            "GradientBoosting Valid_Accuracy : 0.9717961405244928\n",
            "-0.000866\n",
            "0.001485\n",
            "\n"
          ],
          "name": "stdout"
        }
      ]
    },
    {
      "cell_type": "code",
      "metadata": {
        "id": "siYRdA3rTMK-",
        "colab": {
          "base_uri": "https://localhost:8080/"
        },
        "outputId": "894b32eb-8853-4603-d6ab-cefa29cad6ce"
      },
      "source": [
        "#9. post\n",
        "train = pd.read_csv(filepath+'instagram_detection.csv')\n",
        "y_train = train['#fake']\n",
        "A_train = train.drop('#fake',axis=1)\n",
        "A_train = A_train.drop('#post',axis=1)\n",
        "\n",
        "A_train,A_valid, y_train, y_valid = train_test_split(A_train,y_train, test_size=0.2, random_state=0, shuffle=True)\n",
        "\n",
        "print('X_train = ', A_train.shape)\n",
        "print('X_valid = ', A_valid.shape)\n",
        "print('y_train = ', y_train.shape)\n",
        "print('y_valid = ', y_valid.shape)"
      ],
      "execution_count": null,
      "outputs": [
        {
          "output_type": "stream",
          "text": [
            "X_train =  (8083, 15)\n",
            "X_valid =  (2021, 15)\n",
            "y_train =  (8083,)\n",
            "y_valid =  (2021,)\n"
          ],
          "name": "stdout"
        }
      ]
    },
    {
      "cell_type": "code",
      "metadata": {
        "id": "BYM9_P-W6l2L",
        "colab": {
          "base_uri": "https://localhost:8080/"
        },
        "outputId": "d1439d55-4101-4987-f6fe-6db28012d122"
      },
      "source": [
        "from sklearn.ensemble import RandomForestClassifier\n",
        "rf= RandomForestClassifier()\n",
        "rf.fit(A_train, y_train)\n",
        "train_score = rf.score(A_train, y_train)\n",
        "valid_score = rf.score(A_valid, y_valid)\n",
        "print('RandomForest Train_Accuracy : {}'.format(train_score))\n",
        "print('RandomForest Valid_Accuracy : {}'.format(valid_score))\n",
        "print('{:.6f}'.format(train_score - 1.000000))\n",
        "print('{:.6f}'.format(valid_score - 0.972290))\n",
        "print()\n",
        "\n",
        "import lightgbm as lgb   \n",
        "lgb_model = lgb.LGBMClassifier()\n",
        "lgb_model.fit(A_train, y_train)\n",
        "train_score =lgb_model.score(A_train,y_train)\n",
        "valid_score= lgb_model.score(A_valid,y_valid)\n",
        "print('LGBM Train_Accuracy : {}'.format(train_score))\n",
        "print('LGBM Valid_Accuracy : {}'.format(valid_score))\n",
        "print('{:.6f}'.format(train_score - 0.998876))\n",
        "print('{:.6f}'.format(valid_score - 0.972290))\n",
        "print()\n",
        "\n",
        "from sklearn.ensemble import GradientBoostingClassifier\n",
        "gb= GradientBoostingClassifier()\n",
        "gb.fit(A_train, y_train)\n",
        "train_score = gb.score(A_train, y_train)\n",
        "valid_score = gb.score(A_valid, y_valid)\n",
        "print('GradientBoosting Train_Accuracy : {}'.format(train_score))\n",
        "print('GradientBoosting Valid_Accuracy : {}'.format(valid_score))\n",
        "print('{:.6f}'.format(train_score - 0.977731))\n",
        "print('{:.6f}'.format(valid_score - 0.970311))\n",
        "print()"
      ],
      "execution_count": null,
      "outputs": [
        {
          "output_type": "stream",
          "text": [
            "RandomForest Train_Accuracy : 1.0\n",
            "RandomForest Valid_Accuracy : 0.9732805541810985\n",
            "0.000000\n",
            "0.000991\n",
            "\n",
            "LGBM Train_Accuracy : 0.9959173574168007\n",
            "LGBM Valid_Accuracy : 0.9703117268678871\n",
            "-0.002959\n",
            "-0.001978\n",
            "\n",
            "GradientBoosting Train_Accuracy : 0.9784733391067673\n",
            "GradientBoosting Valid_Accuracy : 0.9717961405244928\n",
            "0.000742\n",
            "0.001485\n",
            "\n"
          ],
          "name": "stdout"
        }
      ]
    },
    {
      "cell_type": "code",
      "metadata": {
        "id": "V7z6o6qLThW8",
        "colab": {
          "base_uri": "https://localhost:8080/"
        },
        "outputId": "99328aa8-09c0-430a-94ab-934c5ccdb2d4"
      },
      "source": [
        "#10. follower_counts\n",
        "train = pd.read_csv(filepath+'instagram_detection.csv')\n",
        "y_train = train['#fake']\n",
        "A_train = train.drop('#fake',axis=1)\n",
        "A_train = A_train.drop('#follower_counts',axis=1)\n",
        "\n",
        "A_train,A_valid, y_train, y_valid = train_test_split(A_train,y_train, test_size=0.2, random_state=0, shuffle=True)\n",
        "\n",
        "print('X_train = ', A_train.shape)\n",
        "print('X_valid = ', A_valid.shape)\n",
        "print('y_train = ', y_train.shape)\n",
        "print('y_valid = ', y_valid.shape)"
      ],
      "execution_count": null,
      "outputs": [
        {
          "output_type": "stream",
          "text": [
            "X_train =  (8083, 15)\n",
            "X_valid =  (2021, 15)\n",
            "y_train =  (8083,)\n",
            "y_valid =  (2021,)\n"
          ],
          "name": "stdout"
        }
      ]
    },
    {
      "cell_type": "code",
      "metadata": {
        "id": "rG9h010N6nqb",
        "colab": {
          "base_uri": "https://localhost:8080/"
        },
        "outputId": "7006cfda-d610-4540-fca1-bdf05536a284"
      },
      "source": [
        "from sklearn.ensemble import RandomForestClassifier\n",
        "rf= RandomForestClassifier()\n",
        "rf.fit(A_train, y_train)\n",
        "train_score = rf.score(A_train, y_train)\n",
        "valid_score = rf.score(A_valid, y_valid)\n",
        "print('RandomForest Train_Accuracy : {}'.format(train_score))\n",
        "print('RandomForest Valid_Accuracy : {}'.format(valid_score))\n",
        "print('{:.6f}'.format(train_score - 1.000000))\n",
        "print('{:.6f}'.format(valid_score - 0.972290))\n",
        "print()\n",
        "\n",
        "import lightgbm as lgb   \n",
        "lgb_model = lgb.LGBMClassifier()\n",
        "lgb_model.fit(A_train, y_train)\n",
        "train_score =lgb_model.score(A_train,y_train)\n",
        "valid_score= lgb_model.score(A_valid,y_valid)\n",
        "print('LGBM Train_Accuracy : {}'.format(train_score))\n",
        "print('LGBM Valid_Accuracy : {}'.format(valid_score))\n",
        "print('{:.6f}'.format(train_score - 0.998876))\n",
        "print('{:.6f}'.format(valid_score - 0.972290))\n",
        "print()\n",
        "\n",
        "from sklearn.ensemble import GradientBoostingClassifier\n",
        "gb= GradientBoostingClassifier()\n",
        "gb.fit(A_train, y_train)\n",
        "train_score = gb.score(A_train, y_train)\n",
        "valid_score = gb.score(A_valid, y_valid)\n",
        "print('GradientBoosting Train_Accuracy : {}'.format(train_score))\n",
        "print('GradientBoosting Valid_Accuracy : {}'.format(valid_score))\n",
        "print('{:.6f}'.format(train_score - 0.977731))\n",
        "print('{:.6f}'.format(valid_score - 0.970311))\n",
        "print()"
      ],
      "execution_count": null,
      "outputs": [
        {
          "output_type": "stream",
          "text": [
            "RandomForest Train_Accuracy : 1.0\n",
            "RandomForest Valid_Accuracy : 0.9500247402276101\n",
            "0.000000\n",
            "-0.022265\n",
            "\n",
            "LGBM Train_Accuracy : 0.9808239515031548\n",
            "LGBM Valid_Accuracy : 0.9450766947055913\n",
            "-0.018052\n",
            "-0.027213\n",
            "\n",
            "GradientBoosting Train_Accuracy : 0.9513794383273537\n",
            "GradientBoosting Valid_Accuracy : 0.938149430974765\n",
            "-0.026352\n",
            "-0.032162\n",
            "\n"
          ],
          "name": "stdout"
        }
      ]
    },
    {
      "cell_type": "code",
      "metadata": {
        "id": "WYDxRc4nTy4U",
        "colab": {
          "base_uri": "https://localhost:8080/"
        },
        "outputId": "9b4a61d6-d44b-407c-e61e-a8068a95f432"
      },
      "source": [
        "#11.follows_counts\n",
        "train = pd.read_csv(filepath+'instagram_detection.csv')\n",
        "y_train = train['#fake']\n",
        "A_train = train.drop('#fake',axis=1)\n",
        "A_train = A_train.drop('#follows_counts',axis=1)\n",
        "\n",
        "A_train,A_valid, y_train, y_valid = train_test_split(A_train,y_train, test_size=0.2, random_state=0, shuffle=True)\n",
        "\n",
        "print('X_train = ', A_train.shape)\n",
        "print('X_valid = ', A_valid.shape)\n",
        "print('y_train = ', y_train.shape)\n",
        "print('y_valid = ', y_valid.shape)"
      ],
      "execution_count": null,
      "outputs": [
        {
          "output_type": "stream",
          "text": [
            "X_train =  (8083, 15)\n",
            "X_valid =  (2021, 15)\n",
            "y_train =  (8083,)\n",
            "y_valid =  (2021,)\n"
          ],
          "name": "stdout"
        }
      ]
    },
    {
      "cell_type": "code",
      "metadata": {
        "id": "VCKIBMik6pDL",
        "colab": {
          "base_uri": "https://localhost:8080/"
        },
        "outputId": "0adb3aad-fc46-4f32-e9e9-44b55325213f"
      },
      "source": [
        "from sklearn.ensemble import RandomForestClassifier\n",
        "rf= RandomForestClassifier()\n",
        "rf.fit(A_train, y_train)\n",
        "train_score = rf.score(A_train, y_train)\n",
        "valid_score = rf.score(A_valid, y_valid)\n",
        "print('RandomForest Train_Accuracy : {}'.format(train_score))\n",
        "print('RandomForest Valid_Accuracy : {}'.format(valid_score))\n",
        "print('{:.6f}'.format(train_score - 1.000000))\n",
        "print('{:.6f}'.format(valid_score - 0.972290))\n",
        "print()\n",
        "\n",
        "import lightgbm as lgb   \n",
        "lgb_model = lgb.LGBMClassifier()\n",
        "lgb_model.fit(A_train, y_train)\n",
        "train_score =lgb_model.score(A_train,y_train)\n",
        "valid_score= lgb_model.score(A_valid,y_valid)\n",
        "print('LGBM Train_Accuracy : {}'.format(train_score))\n",
        "print('LGBM Valid_Accuracy : {}'.format(valid_score))\n",
        "print('{:.6f}'.format(train_score - 0.998876))\n",
        "print('{:.6f}'.format(valid_score - 0.972290))\n",
        "print()\n",
        "\n",
        "from sklearn.ensemble import GradientBoostingClassifier\n",
        "gb= GradientBoostingClassifier()\n",
        "gb.fit(A_train, y_train)\n",
        "train_score = gb.score(A_train, y_train)\n",
        "valid_score = gb.score(A_valid, y_valid)\n",
        "print('GradientBoosting Train_Accuracy : {}'.format(train_score))\n",
        "print('GradientBoosting Valid_Accuracy : {}'.format(valid_score))\n",
        "print('{:.6f}'.format(train_score - 0.977731))\n",
        "print('{:.6f}'.format(valid_score - 0.970311))\n",
        "print()"
      ],
      "execution_count": null,
      "outputs": [
        {
          "output_type": "stream",
          "text": [
            "RandomForest Train_Accuracy : 1.0\n",
            "RandomForest Valid_Accuracy : 0.9490351311232064\n",
            "0.000000\n",
            "-0.023255\n",
            "\n",
            "LGBM Train_Accuracy : 0.9783496226648521\n",
            "LGBM Valid_Accuracy : 0.9505195447798119\n",
            "-0.020526\n",
            "-0.021770\n",
            "\n",
            "GradientBoosting Train_Accuracy : 0.9474205121860695\n",
            "GradientBoosting Valid_Accuracy : 0.9426026719445819\n",
            "-0.030310\n",
            "-0.027708\n",
            "\n"
          ],
          "name": "stdout"
        }
      ]
    },
    {
      "cell_type": "code",
      "metadata": {
        "id": "gOb0tVGxUHm6",
        "colab": {
          "base_uri": "https://localhost:8080/"
        },
        "outputId": "1454a52d-9e51-43f7-a8c8-72f6f52a7344"
      },
      "source": [
        "#12.highlight\n",
        "train = pd.read_csv(filepath+'instagram_detection.csv')\n",
        "y_train = train['#fake']\n",
        "A_train = train.drop('#fake',axis=1)\n",
        "A_train = A_train.drop('#highlight',axis=1)\n",
        "\n",
        "A_train,A_valid, y_train, y_valid = train_test_split(A_train,y_train, test_size=0.2, random_state=0, shuffle=True)\n",
        "\n",
        "print('X_train = ', A_train.shape)\n",
        "print('X_valid = ', A_valid.shape)\n",
        "print('y_train = ', y_train.shape)\n",
        "print('y_valid = ', y_valid.shape)"
      ],
      "execution_count": null,
      "outputs": [
        {
          "output_type": "stream",
          "text": [
            "X_train =  (8083, 15)\n",
            "X_valid =  (2021, 15)\n",
            "y_train =  (8083,)\n",
            "y_valid =  (2021,)\n"
          ],
          "name": "stdout"
        }
      ]
    },
    {
      "cell_type": "code",
      "metadata": {
        "id": "5i6smmw16qla",
        "colab": {
          "base_uri": "https://localhost:8080/"
        },
        "outputId": "b551cbff-dd08-4ef7-de5d-9a08142b8150"
      },
      "source": [
        "from sklearn.ensemble import RandomForestClassifier\n",
        "rf= RandomForestClassifier()\n",
        "rf.fit(A_train, y_train)\n",
        "train_score = rf.score(A_train, y_train)\n",
        "valid_score = rf.score(A_valid, y_valid)\n",
        "print('RandomForest Train_Accuracy : {}'.format(train_score))\n",
        "print('RandomForest Valid_Accuracy : {}'.format(valid_score))\n",
        "print('{:.6f}'.format(train_score - 1.000000))\n",
        "print('{:.6f}'.format(valid_score - 0.972290))\n",
        "print()\n",
        "\n",
        "import lightgbm as lgb   \n",
        "lgb_model = lgb.LGBMClassifier()\n",
        "lgb_model.fit(A_train, y_train)\n",
        "train_score =lgb_model.score(A_train,y_train)\n",
        "valid_score= lgb_model.score(A_valid,y_valid)\n",
        "print('LGBM Train_Accuracy : {}'.format(train_score))\n",
        "print('LGBM Valid_Accuracy : {}'.format(valid_score))\n",
        "print('{:.6f}'.format(train_score - 0.998876))\n",
        "print('{:.6f}'.format(valid_score - 0.972290))\n",
        "print()\n",
        "\n",
        "from sklearn.ensemble import GradientBoostingClassifier\n",
        "gb= GradientBoostingClassifier()\n",
        "gb.fit(A_train, y_train)\n",
        "train_score = gb.score(A_train, y_train)\n",
        "valid_score = gb.score(A_valid, y_valid)\n",
        "print('GradientBoosting Train_Accuracy : {}'.format(train_score))\n",
        "print('GradientBoosting Valid_Accuracy : {}'.format(valid_score))\n",
        "print('{:.6f}'.format(train_score - 0.977731))\n",
        "print('{:.6f}'.format(valid_score - 0.970311))\n",
        "print()"
      ],
      "execution_count": null,
      "outputs": [
        {
          "output_type": "stream",
          "text": [
            "RandomForest Train_Accuracy : 1.0\n",
            "RandomForest Valid_Accuracy : 0.966848095002474\n",
            "0.000000\n",
            "-0.005442\n",
            "\n",
            "LGBM Train_Accuracy : 0.9976493876036125\n",
            "LGBM Valid_Accuracy : 0.9688273132112816\n",
            "-0.001227\n",
            "-0.003463\n",
            "\n",
            "GradientBoosting Train_Accuracy : 0.974390696523568\n",
            "GradientBoosting Valid_Accuracy : 0.966848095002474\n",
            "-0.003340\n",
            "-0.003463\n",
            "\n"
          ],
          "name": "stdout"
        }
      ]
    },
    {
      "cell_type": "code",
      "metadata": {
        "id": "mGtuz0bvUarj",
        "colab": {
          "base_uri": "https://localhost:8080/"
        },
        "outputId": "1615ca20-c895-4c58-e073-7916bdf20b0d"
      },
      "source": [
        "#13.account_tag\n",
        "train = pd.read_csv(filepath+'instagram_detection.csv')\n",
        "y_train = train['#fake']\n",
        "A_train = train.drop('#fake',axis=1)\n",
        "A_train = A_train.drop('#account_tag',axis=1)\n",
        "\n",
        "A_train,A_valid, y_train, y_valid = train_test_split(A_train,y_train, test_size=0.2, random_state=0, shuffle=True)\n",
        "\n",
        "print('X_train = ', A_train.shape)\n",
        "print('X_valid = ', A_valid.shape)\n",
        "print('y_train = ', y_train.shape)\n",
        "print('y_valid = ', y_valid.shape)"
      ],
      "execution_count": null,
      "outputs": [
        {
          "output_type": "stream",
          "text": [
            "X_train =  (8083, 15)\n",
            "X_valid =  (2021, 15)\n",
            "y_train =  (8083,)\n",
            "y_valid =  (2021,)\n"
          ],
          "name": "stdout"
        }
      ]
    },
    {
      "cell_type": "code",
      "metadata": {
        "id": "LTh77LPl6r06",
        "colab": {
          "base_uri": "https://localhost:8080/"
        },
        "outputId": "2ca6fbc2-18c4-4788-dae4-fa76512ac412"
      },
      "source": [
        "from sklearn.ensemble import RandomForestClassifier\n",
        "rf= RandomForestClassifier()\n",
        "rf.fit(A_train, y_train)\n",
        "train_score = rf.score(A_train, y_train)\n",
        "valid_score = rf.score(A_valid, y_valid)\n",
        "print('RandomForest Train_Accuracy : {}'.format(train_score))\n",
        "print('RandomForest Valid_Accuracy : {}'.format(valid_score))\n",
        "print('{:.6f}'.format(train_score - 1.000000))\n",
        "print('{:.6f}'.format(valid_score - 0.972290))\n",
        "print()\n",
        "\n",
        "import lightgbm as lgb   \n",
        "lgb_model = lgb.LGBMClassifier()\n",
        "lgb_model.fit(A_train, y_train)\n",
        "train_score =lgb_model.score(A_train,y_train)\n",
        "valid_score= lgb_model.score(A_valid,y_valid)\n",
        "print('LGBM Train_Accuracy : {}'.format(train_score))\n",
        "print('LGBM Valid_Accuracy : {}'.format(valid_score))\n",
        "print('{:.6f}'.format(train_score - 0.998876))\n",
        "print('{:.6f}'.format(valid_score - 0.972290))\n",
        "print()\n",
        "\n",
        "from sklearn.ensemble import GradientBoostingClassifier\n",
        "gb= GradientBoostingClassifier()\n",
        "gb.fit(A_train, y_train)\n",
        "train_score = gb.score(A_train, y_train)\n",
        "valid_score = gb.score(A_valid, y_valid)\n",
        "print('GradientBoosting Train_Accuracy : {}'.format(train_score))\n",
        "print('GradientBoosting Valid_Accuracy : {}'.format(valid_score))\n",
        "print('{:.6f}'.format(train_score - 0.977731))\n",
        "print('{:.6f}'.format(valid_score - 0.970311))\n",
        "print()"
      ],
      "execution_count": null,
      "outputs": [
        {
          "output_type": "stream",
          "text": [
            "RandomForest Train_Accuracy : 1.0\n",
            "RandomForest Valid_Accuracy : 0.9688273132112816\n",
            "0.000000\n",
            "-0.003463\n",
            "\n",
            "LGBM Train_Accuracy : 0.9988865520227638\n",
            "LGBM Valid_Accuracy : 0.9693221177634834\n",
            "0.000011\n",
            "-0.002968\n",
            "\n",
            "GradientBoosting Train_Accuracy : 0.9768650253618706\n",
            "GradientBoosting Valid_Accuracy : 0.9708065314200891\n",
            "-0.000866\n",
            "0.000496\n",
            "\n"
          ],
          "name": "stdout"
        }
      ]
    },
    {
      "cell_type": "code",
      "metadata": {
        "id": "8894Rg7bUwPT",
        "colab": {
          "base_uri": "https://localhost:8080/"
        },
        "outputId": "dc36691d-c896-4394-ffb7-1098359e2cfe"
      },
      "source": [
        "#14.hash_tag \n",
        "train = pd.read_csv(filepath+'instagram_detection.csv')\n",
        "y_train = train['#fake']\n",
        "A_train = train.drop('#fake',axis=1)\n",
        "A_train = A_train.drop('#hash_tag',axis=1)\n",
        "\n",
        "A_train,A_valid, y_train, y_valid = train_test_split(A_train,y_train, test_size=0.2, random_state=0, shuffle=True)\n",
        "\n",
        "print('X_train = ', A_train.shape)\n",
        "print('X_valid = ', A_valid.shape)\n",
        "print('y_train = ', y_train.shape)\n",
        "print('y_valid = ', y_valid.shape)"
      ],
      "execution_count": null,
      "outputs": [
        {
          "output_type": "stream",
          "text": [
            "X_train =  (8083, 15)\n",
            "X_valid =  (2021, 15)\n",
            "y_train =  (8083,)\n",
            "y_valid =  (2021,)\n"
          ],
          "name": "stdout"
        }
      ]
    },
    {
      "cell_type": "code",
      "metadata": {
        "id": "reMCQr0n6th8",
        "colab": {
          "base_uri": "https://localhost:8080/"
        },
        "outputId": "d5c773c7-9d36-4328-c13b-03044bbac1a0"
      },
      "source": [
        "from sklearn.ensemble import RandomForestClassifier\n",
        "rf= RandomForestClassifier()\n",
        "rf.fit(A_train, y_train)\n",
        "train_score = rf.score(A_train, y_train)\n",
        "valid_score = rf.score(A_valid, y_valid)\n",
        "print('RandomForest Train_Accuracy : {}'.format(train_score))\n",
        "print('RandomForest Valid_Accuracy : {}'.format(valid_score))\n",
        "print('{:.6f}'.format(train_score - 1.000000))\n",
        "print('{:.6f}'.format(valid_score - 0.972290))\n",
        "print()\n",
        "\n",
        "import lightgbm as lgb   \n",
        "lgb_model = lgb.LGBMClassifier()\n",
        "lgb_model.fit(A_train, y_train)\n",
        "train_score =lgb_model.score(A_train,y_train)\n",
        "valid_score= lgb_model.score(A_valid,y_valid)\n",
        "print('LGBM Train_Accuracy : {}'.format(train_score))\n",
        "print('LGBM Valid_Accuracy : {}'.format(valid_score))\n",
        "print('{:.6f}'.format(train_score - 0.998876))\n",
        "print('{:.6f}'.format(valid_score - 0.972290))\n",
        "print()\n",
        "\n",
        "from sklearn.ensemble import GradientBoostingClassifier\n",
        "gb= GradientBoostingClassifier()\n",
        "gb.fit(A_train, y_train)\n",
        "train_score = gb.score(A_train, y_train)\n",
        "valid_score = gb.score(A_valid, y_valid)\n",
        "print('GradientBoosting Train_Accuracy : {}'.format(train_score))\n",
        "print('GradientBoosting Valid_Accuracy : {}'.format(valid_score))\n",
        "print('{:.6f}'.format(train_score - 0.977731))\n",
        "print('{:.6f}'.format(valid_score - 0.970311))\n",
        "print()"
      ],
      "execution_count": null,
      "outputs": [
        {
          "output_type": "stream",
          "text": [
            "RandomForest Train_Accuracy : 1.0\n",
            "RandomForest Valid_Accuracy : 0.9703117268678871\n",
            "0.000000\n",
            "-0.001978\n",
            "\n",
            "LGBM Train_Accuracy : 0.998144253371273\n",
            "LGBM Valid_Accuracy : 0.9737753587333003\n",
            "-0.000732\n",
            "0.001485\n",
            "\n",
            "GradientBoosting Train_Accuracy : 0.9773598911295311\n",
            "GradientBoosting Valid_Accuracy : 0.9703117268678871\n",
            "-0.000371\n",
            "0.000001\n",
            "\n"
          ],
          "name": "stdout"
        }
      ]
    },
    {
      "cell_type": "code",
      "metadata": {
        "id": "ySIY8YdGVEvO",
        "colab": {
          "base_uri": "https://localhost:8080/"
        },
        "outputId": "812f5d0a-23d4-4a03-a0e9-1e4b5af0fe12"
      },
      "source": [
        "#15.professional\n",
        "train = pd.read_csv(filepath+'instagram_detection.csv')\n",
        "y_train = train['#fake']\n",
        "A_train = train.drop('#fake',axis=1)\n",
        "A_train = A_train.drop('#professional',axis=1)\n",
        "\n",
        "A_train,A_valid, y_train, y_valid = train_test_split(A_train,y_train, test_size=0.2, random_state=0, shuffle=True)\n",
        "\n",
        "print('X_train = ', A_train.shape)\n",
        "print('X_valid = ', A_valid.shape)\n",
        "print('y_train = ', y_train.shape)\n",
        "print('y_valid = ', y_valid.shape)"
      ],
      "execution_count": null,
      "outputs": [
        {
          "output_type": "stream",
          "text": [
            "X_train =  (8083, 15)\n",
            "X_valid =  (2021, 15)\n",
            "y_train =  (8083,)\n",
            "y_valid =  (2021,)\n"
          ],
          "name": "stdout"
        }
      ]
    },
    {
      "cell_type": "code",
      "metadata": {
        "id": "RhlpQtqi6yFa",
        "colab": {
          "base_uri": "https://localhost:8080/"
        },
        "outputId": "9639e4a8-bc1c-491e-aea9-b820e70f364a"
      },
      "source": [
        "from sklearn.ensemble import RandomForestClassifier\n",
        "rf= RandomForestClassifier()\n",
        "rf.fit(A_train, y_train)\n",
        "train_score = rf.score(A_train, y_train)\n",
        "valid_score = rf.score(A_valid, y_valid)\n",
        "print('RandomForest Train_Accuracy : {}'.format(train_score))\n",
        "print('RandomForest Valid_Accuracy : {}'.format(valid_score))\n",
        "print('{:.6f}'.format(train_score - 1.000000))\n",
        "print('{:.6f}'.format(valid_score - 0.972290))\n",
        "print()\n",
        "\n",
        "import lightgbm as lgb   \n",
        "lgb_model = lgb.LGBMClassifier()\n",
        "lgb_model.fit(A_train, y_train)\n",
        "train_score =lgb_model.score(A_train,y_train)\n",
        "valid_score= lgb_model.score(A_valid,y_valid)\n",
        "print('LGBM Train_Accuracy : {}'.format(train_score))\n",
        "print('LGBM Valid_Accuracy : {}'.format(valid_score))\n",
        "print('{:.6f}'.format(train_score - 0.998876))\n",
        "print('{:.6f}'.format(valid_score - 0.972290))\n",
        "print()\n",
        "\n",
        "from sklearn.ensemble import GradientBoostingClassifier\n",
        "gb= GradientBoostingClassifier()\n",
        "gb.fit(A_train, y_train)\n",
        "train_score = gb.score(A_train, y_train)\n",
        "valid_score = gb.score(A_valid, y_valid)\n",
        "print('GradientBoosting Train_Accuracy : {}'.format(train_score))\n",
        "print('GradientBoosting Valid_Accuracy : {}'.format(valid_score))\n",
        "print('{:.6f}'.format(train_score - 0.977731))\n",
        "print('{:.6f}'.format(valid_score - 0.970311))\n",
        "print()"
      ],
      "execution_count": null,
      "outputs": [
        {
          "output_type": "stream",
          "text": [
            "RandomForest Train_Accuracy : 1.0\n",
            "RandomForest Valid_Accuracy : 0.9698169223156853\n",
            "0.000000\n",
            "-0.002473\n",
            "\n",
            "LGBM Train_Accuracy : 0.9982679698131882\n",
            "LGBM Valid_Accuracy : 0.9698169223156853\n",
            "-0.000608\n",
            "-0.002473\n",
            "\n",
            "GradientBoosting Train_Accuracy : 0.9779784733391068\n",
            "GradientBoosting Valid_Accuracy : 0.971301335972291\n",
            "0.000247\n",
            "0.000990\n",
            "\n"
          ],
          "name": "stdout"
        }
      ]
    },
    {
      "cell_type": "code",
      "metadata": {
        "id": "5kjHn60rjb1_"
      },
      "source": [
        ""
      ],
      "execution_count": null,
      "outputs": []
    }
  ]
}