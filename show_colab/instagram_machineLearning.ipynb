{
  "nbformat": 4,
  "nbformat_minor": 0,
  "metadata": {
    "colab": {
      "name": "instagram_machineLearning.ipynb",
      "provenance": [],
      "collapsed_sections": []
    },
    "kernelspec": {
      "name": "python3",
      "display_name": "Python 3"
    },
    "language_info": {
      "name": "python"
    }
  },
  "cells": [
    {
      "cell_type": "code",
      "metadata": {
        "colab": {
          "base_uri": "https://localhost:8080/"
        },
        "id": "uuwaquhq0J9r",
        "outputId": "abf5b30f-dfca-46c0-e18c-70863c5812cb"
      },
      "source": [
        "import numpy as np\n",
        "import pandas as pd\n",
        "import matplotlib.pyplot as plt\n",
        "import seaborn as sns\n",
        "import tensorflow as tf\n",
        "from google.colab import drive\n",
        "drive.mount('/content/gdrive', force_remount=True)\n",
        "filepath='/content/gdrive/My Drive/'\n",
        "train = pd.read_csv(filepath+'instagram_train.csv')\n",
        "print(train.shape)"
      ],
      "execution_count": null,
      "outputs": [
        {
          "output_type": "stream",
          "text": [
            "Mounted at /content/gdrive\n",
            "(10000, 17)\n"
          ],
          "name": "stdout"
        }
      ]
    },
    {
      "cell_type": "code",
      "metadata": {
        "colab": {
          "base_uri": "https://localhost:8080/",
          "height": 204
        },
        "id": "mt5YDT0q0QZg",
        "outputId": "f44dd977-a84c-419b-cf97-1d95afc42ad2"
      },
      "source": [
        "train.head()"
      ],
      "execution_count": null,
      "outputs": [
        {
          "output_type": "execute_result",
          "data": {
            "text/html": [
              "<div>\n",
              "<style scoped>\n",
              "    .dataframe tbody tr th:only-of-type {\n",
              "        vertical-align: middle;\n",
              "    }\n",
              "\n",
              "    .dataframe tbody tr th {\n",
              "        vertical-align: top;\n",
              "    }\n",
              "\n",
              "    .dataframe thead th {\n",
              "        text-align: right;\n",
              "    }\n",
              "</style>\n",
              "<table border=\"1\" class=\"dataframe\">\n",
              "  <thead>\n",
              "    <tr style=\"text-align: right;\">\n",
              "      <th></th>\n",
              "      <th>#profile_pic</th>\n",
              "      <th>#id_len</th>\n",
              "      <th>#num_in_id</th>\n",
              "      <th>#name_len</th>\n",
              "      <th>#num_in_name</th>\n",
              "      <th>#name==id</th>\n",
              "      <th>#itro_len</th>\n",
              "      <th>#url</th>\n",
              "      <th>#private</th>\n",
              "      <th>#post</th>\n",
              "      <th>#follower_counts</th>\n",
              "      <th>#follows_counts</th>\n",
              "      <th>#highlight</th>\n",
              "      <th>#account_tag</th>\n",
              "      <th>#hash_tag</th>\n",
              "      <th>#professional</th>\n",
              "      <th>#fake</th>\n",
              "    </tr>\n",
              "  </thead>\n",
              "  <tbody>\n",
              "    <tr>\n",
              "      <th>0</th>\n",
              "      <td>1</td>\n",
              "      <td>8</td>\n",
              "      <td>2</td>\n",
              "      <td>9</td>\n",
              "      <td>0</td>\n",
              "      <td>0</td>\n",
              "      <td>0</td>\n",
              "      <td>0</td>\n",
              "      <td>0</td>\n",
              "      <td>4</td>\n",
              "      <td>115</td>\n",
              "      <td>159</td>\n",
              "      <td>1</td>\n",
              "      <td>0</td>\n",
              "      <td>0</td>\n",
              "      <td>0</td>\n",
              "      <td>0</td>\n",
              "    </tr>\n",
              "    <tr>\n",
              "      <th>1</th>\n",
              "      <td>1</td>\n",
              "      <td>13</td>\n",
              "      <td>1</td>\n",
              "      <td>3</td>\n",
              "      <td>0</td>\n",
              "      <td>0</td>\n",
              "      <td>38</td>\n",
              "      <td>1</td>\n",
              "      <td>0</td>\n",
              "      <td>117</td>\n",
              "      <td>102</td>\n",
              "      <td>124</td>\n",
              "      <td>0</td>\n",
              "      <td>1</td>\n",
              "      <td>0</td>\n",
              "      <td>0</td>\n",
              "      <td>0</td>\n",
              "    </tr>\n",
              "    <tr>\n",
              "      <th>2</th>\n",
              "      <td>1</td>\n",
              "      <td>12</td>\n",
              "      <td>6</td>\n",
              "      <td>2</td>\n",
              "      <td>0</td>\n",
              "      <td>0</td>\n",
              "      <td>0</td>\n",
              "      <td>0</td>\n",
              "      <td>0</td>\n",
              "      <td>18</td>\n",
              "      <td>92</td>\n",
              "      <td>227</td>\n",
              "      <td>1</td>\n",
              "      <td>0</td>\n",
              "      <td>0</td>\n",
              "      <td>0</td>\n",
              "      <td>0</td>\n",
              "    </tr>\n",
              "    <tr>\n",
              "      <th>3</th>\n",
              "      <td>0</td>\n",
              "      <td>12</td>\n",
              "      <td>3</td>\n",
              "      <td>3</td>\n",
              "      <td>0</td>\n",
              "      <td>0</td>\n",
              "      <td>0</td>\n",
              "      <td>0</td>\n",
              "      <td>0</td>\n",
              "      <td>0</td>\n",
              "      <td>76</td>\n",
              "      <td>188</td>\n",
              "      <td>0</td>\n",
              "      <td>0</td>\n",
              "      <td>0</td>\n",
              "      <td>0</td>\n",
              "      <td>0</td>\n",
              "    </tr>\n",
              "    <tr>\n",
              "      <th>4</th>\n",
              "      <td>1</td>\n",
              "      <td>9</td>\n",
              "      <td>3</td>\n",
              "      <td>3</td>\n",
              "      <td>0</td>\n",
              "      <td>0</td>\n",
              "      <td>0</td>\n",
              "      <td>0</td>\n",
              "      <td>0</td>\n",
              "      <td>3</td>\n",
              "      <td>11</td>\n",
              "      <td>212</td>\n",
              "      <td>0</td>\n",
              "      <td>0</td>\n",
              "      <td>0</td>\n",
              "      <td>0</td>\n",
              "      <td>0</td>\n",
              "    </tr>\n",
              "  </tbody>\n",
              "</table>\n",
              "</div>"
            ],
            "text/plain": [
              "   #profile_pic  #id_len  #num_in_id  ...  #hash_tag  #professional  #fake\n",
              "0             1        8           2  ...          0              0      0\n",
              "1             1       13           1  ...          0              0      0\n",
              "2             1       12           6  ...          0              0      0\n",
              "3             0       12           3  ...          0              0      0\n",
              "4             1        9           3  ...          0              0      0\n",
              "\n",
              "[5 rows x 17 columns]"
            ]
          },
          "metadata": {
            "tags": []
          },
          "execution_count": 2
        }
      ]
    },
    {
      "cell_type": "code",
      "metadata": {
        "colab": {
          "base_uri": "https://localhost:8080/"
        },
        "id": "KddihHYU0Rse",
        "outputId": "08753d07-e511-49f0-cb58-8f41c5a8cbb1"
      },
      "source": [
        "train.info()  #어떤 속성으로 이루어져있는지, 결측치가 있는지 "
      ],
      "execution_count": null,
      "outputs": [
        {
          "output_type": "stream",
          "text": [
            "<class 'pandas.core.frame.DataFrame'>\n",
            "RangeIndex: 10000 entries, 0 to 9999\n",
            "Data columns (total 17 columns):\n",
            " #   Column            Non-Null Count  Dtype\n",
            "---  ------            --------------  -----\n",
            " 0   #profile_pic      10000 non-null  int64\n",
            " 1   #id_len           10000 non-null  int64\n",
            " 2   #num_in_id        10000 non-null  int64\n",
            " 3   #name_len         10000 non-null  int64\n",
            " 4   #num_in_name      10000 non-null  int64\n",
            " 5   #name==id         10000 non-null  int64\n",
            " 6   #itro_len         10000 non-null  int64\n",
            " 7   #url              10000 non-null  int64\n",
            " 8   #private          10000 non-null  int64\n",
            " 9   #post             10000 non-null  int64\n",
            " 10  #follower_counts  10000 non-null  int64\n",
            " 11  #follows_counts   10000 non-null  int64\n",
            " 12  #highlight        10000 non-null  int64\n",
            " 13  #account_tag      10000 non-null  int64\n",
            " 14  #hash_tag         10000 non-null  int64\n",
            " 15  #professional     10000 non-null  int64\n",
            " 16  #fake             10000 non-null  int64\n",
            "dtypes: int64(17)\n",
            "memory usage: 1.3 MB\n"
          ],
          "name": "stdout"
        }
      ]
    },
    {
      "cell_type": "code",
      "metadata": {
        "colab": {
          "base_uri": "https://localhost:8080/",
          "height": 376
        },
        "id": "OcVVTHx3GVJ1",
        "outputId": "90ee160c-ebda-427f-90ef-65de48e0ed96"
      },
      "source": [
        "#상관관계 분석\n",
        "data_corr = train.corr(method='pearson')\n",
        "axes = sns.heatmap(data_corr, vmin=-1, vmax=1, cmap='BrBG')\n",
        "axes.set_title('Correlation Heatmap Between Features')"
      ],
      "execution_count": null,
      "outputs": [
        {
          "output_type": "execute_result",
          "data": {
            "text/plain": [
              "Text(0.5, 1.0, 'Correlation Heatmap Between Features')"
            ]
          },
          "metadata": {
            "tags": []
          },
          "execution_count": 4
        },
        {
          "output_type": "display_data",
          "data": {
            "image/png": "[encoded data removed]",
            "text/plain": [
              "<Figure size 432x288 with 2 Axes>"
            ]
          },
          "metadata": {
            "tags": [],
            "needs_background": "light"
          }
        }
      ]
    },
    {
      "cell_type": "code",
      "metadata": {
        "id": "QMkh7mEkGW4Z"
      },
      "source": [
        "y_train = train['#fake']\n",
        "X_train = train.drop('#fake',axis=1)"
      ],
      "execution_count": null,
      "outputs": []
    },
    {
      "cell_type": "markdown",
      "metadata": {
        "id": "O0FinkEjQSUu"
      },
      "source": [
        "## **Train dataset 진짜/가짜 계정의 개수 비교 (각 5000개씩 있음)**"
      ]
    },
    {
      "cell_type": "code",
      "metadata": {
        "colab": {
          "base_uri": "https://localhost:8080/",
          "height": 349
        },
        "id": "lMAeuOyqJ3TV",
        "outputId": "14546375-1bce-4773-be26-0acf38d2f720"
      },
      "source": [
        "account_counts = sns.countplot(y_train)\n",
        "account_counts.set_title(\"Count plot for accounts\")"
      ],
      "execution_count": null,
      "outputs": [
        {
          "output_type": "stream",
          "text": [
            "/usr/local/lib/python3.7/dist-packages/seaborn/_decorators.py:43: FutureWarning: Pass the following variable as a keyword arg: x. From version 0.12, the only valid positional argument will be `data`, and passing other arguments without an explicit keyword will result in an error or misinterpretation.\n",
            "  FutureWarning\n"
          ],
          "name": "stderr"
        },
        {
          "output_type": "execute_result",
          "data": {
            "text/plain": [
              "Text(0.5, 1.0, 'Count plot for accounts')"
            ]
          },
          "metadata": {
            "tags": []
          },
          "execution_count": 6
        },
        {
          "output_type": "display_data",
          "data": {
            "image/png": "[encoded data removed]",
            "text/plain": [
              "<Figure size 432x288 with 1 Axes>"
            ]
          },
          "metadata": {
            "tags": [],
            "needs_background": "light"
          }
        }
      ]
    },
    {
      "cell_type": "code",
      "metadata": {
        "colab": {
          "base_uri": "https://localhost:8080/"
        },
        "id": "8nJ35G70_IbM",
        "outputId": "0fe0edb7-5288-4129-85d3-9c5d1a11dee4"
      },
      "source": [
        "# 진짜 계정과 가짜 계정이 총 몇 개씩 있는지 확인 (False = 진짜 계정 , True = 가짜 계정)\n",
        "unique, freq = np.unique(y_train, return_counts=True)\n",
        "for i, j in zip(unique, freq):\n",
        "  print('Label : ',i, ', Frequency : ', j)"
      ],
      "execution_count": null,
      "outputs": [
        {
          "output_type": "stream",
          "text": [
            "Label :  0 , Frequency :  5000\n",
            "Label :  1 , Frequency :  5000\n"
          ],
          "name": "stdout"
        }
      ]
    },
    {
      "cell_type": "code",
      "metadata": {
        "colab": {
          "base_uri": "https://localhost:8080/"
        },
        "id": "toe2cxytJ08W",
        "outputId": "a88f0c8c-6bba-4841-f0e0-fea4755089e9"
      },
      "source": [
        "# 학습-검증데이터 8:2비율로\n",
        "from sklearn.model_selection import train_test_split\n",
        "X_train,X_valid, y_train, y_valid = train_test_split(X_train,y_train, test_size=0.2, random_state=0, shuffle=True) #shuffle사용\n",
        "\n",
        "print('X_train = ', X_train.shape)\n",
        "print('X_valid = ', X_valid.shape)\n",
        "print('y_train = ', y_train.shape)\n",
        "print('y_valid = ', y_valid.shape)"
      ],
      "execution_count": null,
      "outputs": [
        {
          "output_type": "stream",
          "text": [
            "X_train =  (8000, 16)\n",
            "X_valid =  (2000, 16)\n",
            "y_train =  (8000,)\n",
            "y_valid =  (2000,)\n"
          ],
          "name": "stdout"
        }
      ]
    },
    {
      "cell_type": "code",
      "metadata": {
        "colab": {
          "base_uri": "https://localhost:8080/",
          "height": 349
        },
        "id": "mtiRPCaAQi5S",
        "outputId": "a6179f23-b9da-4dc6-9de5-9238a207d125"
      },
      "source": [
        "account_counts = sns.countplot(y_train)\n",
        "account_counts.set_title(\"Count plot for accounts in Train\")"
      ],
      "execution_count": null,
      "outputs": [
        {
          "output_type": "stream",
          "text": [
            "/usr/local/lib/python3.7/dist-packages/seaborn/_decorators.py:43: FutureWarning: Pass the following variable as a keyword arg: x. From version 0.12, the only valid positional argument will be `data`, and passing other arguments without an explicit keyword will result in an error or misinterpretation.\n",
            "  FutureWarning\n"
          ],
          "name": "stderr"
        },
        {
          "output_type": "execute_result",
          "data": {
            "text/plain": [
              "Text(0.5, 1.0, 'Count plot for accounts in Train')"
            ]
          },
          "metadata": {
            "tags": []
          },
          "execution_count": 9
        },
        {
          "output_type": "display_data",
          "data": {
            "image/png": "[encoded data removed]",
            "text/plain": [
              "<Figure size 432x288 with 1 Axes>"
            ]
          },
          "metadata": {
            "tags": [],
            "needs_background": "light"
          }
        }
      ]
    },
    {
      "cell_type": "code",
      "metadata": {
        "colab": {
          "base_uri": "https://localhost:8080/"
        },
        "id": "NoZoc6En_J22",
        "outputId": "93274228-8030-4bab-ef78-c4db8138ef09"
      },
      "source": [
        "# 진짜 계정과 가짜 계정이 총 몇 개씩 있는지 확인 (False = 진짜 계정 , True = 가짜 계정)\n",
        "unique, freq = np.unique(y_train, return_counts=True)\n",
        "for i, j in zip(unique, freq):\n",
        "  print('Label : ',i, ', Frequency : ', j)"
      ],
      "execution_count": null,
      "outputs": [
        {
          "output_type": "stream",
          "text": [
            "Label :  0 , Frequency :  4036\n",
            "Label :  1 , Frequency :  3964\n"
          ],
          "name": "stdout"
        }
      ]
    },
    {
      "cell_type": "code",
      "metadata": {
        "colab": {
          "base_uri": "https://localhost:8080/",
          "height": 349
        },
        "id": "ojCTd5ggQqZ4",
        "outputId": "90623f87-d1ce-4e38-edf7-4f32bcf3b6e5"
      },
      "source": [
        "account_counts = sns.countplot(y_valid)\n",
        "account_counts.set_title(\"Count plot for accounts in Valid\")"
      ],
      "execution_count": null,
      "outputs": [
        {
          "output_type": "stream",
          "text": [
            "/usr/local/lib/python3.7/dist-packages/seaborn/_decorators.py:43: FutureWarning: Pass the following variable as a keyword arg: x. From version 0.12, the only valid positional argument will be `data`, and passing other arguments without an explicit keyword will result in an error or misinterpretation.\n",
            "  FutureWarning\n"
          ],
          "name": "stderr"
        },
        {
          "output_type": "execute_result",
          "data": {
            "text/plain": [
              "Text(0.5, 1.0, 'Count plot for accounts in Valid')"
            ]
          },
          "metadata": {
            "tags": []
          },
          "execution_count": 11
        },
        {
          "output_type": "display_data",
          "data": {
            "image/png": "[encoded data removed]",
            "text/plain": [
              "<Figure size 432x288 with 1 Axes>"
            ]
          },
          "metadata": {
            "tags": [],
            "needs_background": "light"
          }
        }
      ]
    },
    {
      "cell_type": "code",
      "metadata": {
        "colab": {
          "base_uri": "https://localhost:8080/"
        },
        "id": "LK1sJRiJ_OsW",
        "outputId": "a711111c-10af-4d48-f0c2-0ce611d1a8a9"
      },
      "source": [
        "# 진짜 계정과 가짜 계정이 총 몇 개씩 있는지 확인 (False = 진짜 계정 , True = 가짜 계정)\n",
        "unique, freq = np.unique(y_valid, return_counts=True)\n",
        "for i, j in zip(unique, freq):\n",
        "  print('Label : ',i, ', Frequency : ', j)"
      ],
      "execution_count": null,
      "outputs": [
        {
          "output_type": "stream",
          "text": [
            "Label :  0 , Frequency :  964\n",
            "Label :  1 , Frequency :  1036\n"
          ],
          "name": "stdout"
        }
      ]
    },
    {
      "cell_type": "code",
      "metadata": {
        "colab": {
          "base_uri": "https://localhost:8080/"
        },
        "id": "QAqE4oBwGapY",
        "outputId": "ba539564-4684-4d6a-c8ea-f8c9eb358e63"
      },
      "source": [
        "from sklearn.ensemble import RandomForestClassifier\n",
        "rf= RandomForestClassifier()\n",
        "rf.fit(X_train, y_train)\n",
        "train_score = rf.score(X_train, y_train)\n",
        "valid_score = rf.score(X_valid, y_valid)\n",
        "print('RandomForest Train_Accuracy : {}'.format(train_score))\n",
        "print('RandomForest Valid_Accuracy : {}'.format(valid_score))\n",
        "print()\n",
        "\n",
        "from sklearn.ensemble import GradientBoostingClassifier\n",
        "gb= GradientBoostingClassifier()\n",
        "gb.fit(X_train, y_train)\n",
        "train_score = gb.score(X_train, y_train)\n",
        "valid_score = gb.score(X_valid, y_valid)\n",
        "print('GradientBoosting Train_Accuracy : {}'.format(train_score))\n",
        "print('GradientBoosting Valid_Accuracy : {}'.format(valid_score))\n",
        "print()\n",
        "\n",
        "import lightgbm as lgb\n",
        "lgb_model = lgb.LGBMClassifier()\n",
        "lgb_model.fit(X_train, y_train)\n",
        "train_score =lgb_model.score(X_train,y_train)\n",
        "valid_score= lgb_model.score(X_valid,y_valid)\n",
        "print('LGBM Train_Accuracy : {}'.format(train_score))\n",
        "print('LGBM Valid_Accuracy : {}'.format(valid_score))\n",
        "print()\n"
      ],
      "execution_count": null,
      "outputs": [
        {
          "output_type": "stream",
          "text": [
            "RandomForest Train_Accuracy : 1.0\n",
            "RandomForest Valid_Accuracy : 0.972\n",
            "\n",
            "GradientBoosting Train_Accuracy : 0.977375\n",
            "GradientBoosting Valid_Accuracy : 0.967\n",
            "\n",
            "LGBM Train_Accuracy : 0.9985\n",
            "LGBM Valid_Accuracy : 0.9735\n",
            "\n"
          ],
          "name": "stdout"
        }
      ]
    },
    {
      "cell_type": "code",
      "metadata": {
        "colab": {
          "base_uri": "https://localhost:8080/",
          "height": 310
        },
        "id": "7THxq4vUpDWV",
        "outputId": "1e381396-2570-4553-ad7f-acca68bb950c"
      },
      "source": [
        "from sklearn.ensemble import RandomForestClassifier\n",
        "from sklearn.metrics import confusion_matrix\n",
        "rf= RandomForestClassifier()\n",
        "rf.fit(X_train, y_train)\n",
        "pred = rf.predict(X_valid)\n",
        "cm = confusion_matrix(y_valid,pred)\n",
        "\n",
        "import seaborn as sns\n",
        "sns.heatmap(cm, annot=True, annot_kws={'size':20}, cmap=\"YlOrBr\")\n",
        "plt.xlabel(\"Predicted\", fontsize=20)\n",
        "plt.ylabel(\"Actual\",fontsize=20)\n",
        "#실제로는 fake 계정인데, real계정이라고 예상한 경우 34개\n",
        "#실제로는 real 계정인데, fake계정이라고 예상한 경우 25개"
      ],
      "execution_count": null,
      "outputs": [
        {
          "output_type": "execute_result",
          "data": {
            "text/plain": [
              "Text(33.0, 0.5, 'Actual')"
            ]
          },
          "metadata": {
            "tags": []
          },
          "execution_count": 14
        },
        {
          "output_type": "display_data",
          "data": {
            "image/png": "[encoded data removed]",
            "text/plain": [
              "<Figure size 432x288 with 2 Axes>"
            ]
          },
          "metadata": {
            "tags": [],
            "needs_background": "light"
          }
        }
      ]
    },
    {
      "cell_type": "code",
      "metadata": {
        "colab": {
          "base_uri": "https://localhost:8080/",
          "height": 310
        },
        "id": "zpp4fhFOpGZA",
        "outputId": "e98ce5de-3a7f-4d17-c874-8acfe455c1ad"
      },
      "source": [
        "from sklearn.ensemble import GradientBoostingClassifier\n",
        "gb= GradientBoostingClassifier()\n",
        "gb.fit(X_train, y_train)\n",
        "pred = gb.predict(X_valid)\n",
        "cm = confusion_matrix(y_valid,pred)\n",
        "sns.heatmap(cm, annot=True, annot_kws={'size':20}, cmap=\"YlOrBr\")\n",
        "plt.xlabel(\"Predicted\", fontsize=20)\n",
        "plt.ylabel(\"Actual\",fontsize=20)\n",
        "#실제로는 fake 계정인데, real계정이라고 예상한 경우 35개\n",
        "#실제로는 real 계정인데, fake계정이라고 예상한 경우 32개"
      ],
      "execution_count": null,
      "outputs": [
        {
          "output_type": "execute_result",
          "data": {
            "text/plain": [
              "Text(33.0, 0.5, 'Actual')"
            ]
          },
          "metadata": {
            "tags": []
          },
          "execution_count": 15
        },
        {
          "output_type": "display_data",
          "data": {
            "image/png": "[encoded data removed]",
            "text/plain": [
              "<Figure size 432x288 with 2 Axes>"
            ]
          },
          "metadata": {
            "tags": [],
            "needs_background": "light"
          }
        }
      ]
    },
    {
      "cell_type": "code",
      "metadata": {
        "colab": {
          "base_uri": "https://localhost:8080/",
          "height": 309
        },
        "id": "uxeSJUv6pGhM",
        "outputId": "f5ab9a10-c93d-4c61-981e-6fac58b34332"
      },
      "source": [
        "import lightgbm as lgb\n",
        "lgb_model = lgb.LGBMClassifier()\n",
        "lgb_model.fit(X_train, y_train)\n",
        "pred = lgb_model.predict(X_valid)\n",
        "cm = confusion_matrix(y_valid,pred)\n",
        "sns.heatmap(cm, annot=True, annot_kws={'size':20}, cmap=\"YlOrBr\")\n",
        "plt.xlabel(\"Predicted\", fontsize=20)\n",
        "plt.ylabel(\"Actual\",fontsize=20)\n",
        "#실제로는 fake 계정인데, real계정이라고 예상한 경우 29개\n",
        "#실제로는 real 계정인데, fake계정이라고 예상한 경우 24개"
      ],
      "execution_count": null,
      "outputs": [
        {
          "output_type": "execute_result",
          "data": {
            "text/plain": [
              "Text(33.0, 0.5, 'Actual')"
            ]
          },
          "metadata": {
            "tags": []
          },
          "execution_count": 16
        },
        {
          "output_type": "display_data",
          "data": {
            "image/png": "[encoded data removed]",
            "text/plain": [
              "<Figure size 432x288 with 2 Axes>"
            ]
          },
          "metadata": {
            "tags": [],
            "needs_background": "light"
          }
        }
      ]
    },
    {
      "cell_type": "markdown",
      "metadata": {
        "id": "Be2wLVGhG6cB"
      },
      "source": [
        "# 최대한 효율적인 방법 - RandomForest, LGBM, Gradient Boosting"
      ]
    },
    {
      "cell_type": "markdown",
      "metadata": {
        "id": "qxbTB9cVRcE9"
      },
      "source": [
        "## **TEST해보자**"
      ]
    },
    {
      "cell_type": "code",
      "metadata": {
        "colab": {
          "base_uri": "https://localhost:8080/"
        },
        "id": "JzbktBKLRigx",
        "outputId": "212b7bab-a2ab-4515-ead9-144e6ea1471a"
      },
      "source": [
        "test = pd.read_csv(filepath+'instagram_test.csv')\n",
        "print(test.shape)\n",
        "y_test = test['#fake']\n",
        "X_test = test.drop('#fake', axis=1)"
      ],
      "execution_count": null,
      "outputs": [
        {
          "output_type": "stream",
          "text": [
            "(100, 17)\n"
          ],
          "name": "stdout"
        }
      ]
    },
    {
      "cell_type": "markdown",
      "metadata": {
        "id": "iBfl9NWlVEJm"
      },
      "source": [
        "##Test용으로 100개의 계정 데이터를 넣어보자. 100개 중 몇 개를 맞출까?"
      ]
    },
    {
      "cell_type": "markdown",
      "metadata": {
        "id": "Nyydp7uZVOm8"
      },
      "source": [
        "###0과 1은 50개씩 들어있다."
      ]
    },
    {
      "cell_type": "code",
      "metadata": {
        "colab": {
          "base_uri": "https://localhost:8080/",
          "height": 368
        },
        "id": "m_n5L3exb7Y1",
        "outputId": "ec569b5d-c902-4922-d240-2ecaa81557f4"
      },
      "source": [
        "#test속 0과 1의 비율\n",
        "account_counts = sns.countplot(y_test)\n",
        "account_counts.set_title(\"Count plot for accounts\")"
      ],
      "execution_count": null,
      "outputs": [
        {
          "output_type": "stream",
          "text": [
            "/usr/local/lib/python3.7/dist-packages/seaborn/_decorators.py:43: FutureWarning: Pass the following variable as a keyword arg: x. From version 0.12, the only valid positional argument will be `data`, and passing other arguments without an explicit keyword will result in an error or misinterpretation.\n",
            "  FutureWarning\n"
          ],
          "name": "stderr"
        },
        {
          "output_type": "execute_result",
          "data": {
            "text/plain": [
              "Text(0.5, 1.0, 'Count plot for accounts')"
            ]
          },
          "metadata": {
            "tags": []
          },
          "execution_count": 15
        },
        {
          "output_type": "display_data",
          "data": {
            "image/png": "[encoded data removed]",
            "text/plain": [
              "<Figure size 432x288 with 1 Axes>"
            ]
          },
          "metadata": {
            "tags": [],
            "needs_background": "light"
          }
        }
      ]
    },
    {
      "cell_type": "code",
      "metadata": {
        "colab": {
          "base_uri": "https://localhost:8080/"
        },
        "id": "mFOmxIBTTa7u",
        "outputId": "8a5cde5e-8c82-4596-c3cb-b66e213eed0e"
      },
      "source": [
        "#RandomForest 테스트해보기\n",
        "from sklearn.metrics import accuracy_score\n",
        "pred = rf.predict(X_test)\n",
        "print(\"랜덤포레스트 이용해서 맞은 결과의 개수 : \", accuracy_score(y_test, pred)*100)"
      ],
      "execution_count": null,
      "outputs": [
        {
          "output_type": "stream",
          "text": [
            "랜덤포레스트 이용해서 맞은 결과의 개수 :  97.0\n"
          ],
          "name": "stdout"
        }
      ]
    },
    {
      "cell_type": "code",
      "metadata": {
        "colab": {
          "base_uri": "https://localhost:8080/"
        },
        "id": "QmpVXThdWWmu",
        "outputId": "bdca087a-2fda-49e6-b343-905a8343a84e"
      },
      "source": [
        "#Gradient_boosting 테스트해보기\n",
        "pred = lgb_model.predict(X_test)\n",
        "print(\"LGBM accuracy : \", accuracy_score(y_test, pred)*100)"
      ],
      "execution_count": null,
      "outputs": [
        {
          "output_type": "stream",
          "text": [
            "LGBM accuracy :  96.0\n"
          ],
          "name": "stdout"
        }
      ]
    },
    {
      "cell_type": "code",
      "metadata": {
        "colab": {
          "base_uri": "https://localhost:8080/"
        },
        "id": "ht-5SzKZWnXX",
        "outputId": "52768fb7-8418-432c-9c47-2bd3ebcce4bc"
      },
      "source": [
        "#Gradient_boosting 테스트해보기\n",
        "pred = gb.predict(X_test)\n",
        "print(\"GB accuracy : \", accuracy_score(y_test, pred)*100)"
      ],
      "execution_count": null,
      "outputs": [
        {
          "output_type": "stream",
          "text": [
            "GB accuracy :  96.0\n"
          ],
          "name": "stdout"
        }
      ]
    },
    {
      "cell_type": "markdown",
      "metadata": {
        "id": "sdrDay2gVYXz"
      },
      "source": [
        "##직접 하나씩 넣어볼까?"
      ]
    },
    {
      "cell_type": "markdown",
      "metadata": {
        "id": "vY_r0n0xVcye"
      },
      "source": [
        "### 먼저 가짜계정을 집어 넣어보자. 가짜 계정이라고 뜰까?"
      ]
    },
    {
      "cell_type": "code",
      "metadata": {
        "colab": {
          "base_uri": "https://localhost:8080/"
        },
        "id": "mTMZcjPjG1V0",
        "outputId": "049951dc-ffaa-44be-8bf5-9d26c614c31c"
      },
      "source": [
        "#가짜계정을 직접 넣어서 확인해보자\n",
        "#프로필사진, id길이, id속 숫자, 이름 길이, 이름 속 숫자, 이름==id, 소개글, url, 비공개유무, 게시물, 팔로워, 팔로잉, 하이라이트, 소개글 속 계정개수, 해쉬태그 개수, 프로페셔널계정유무 순으로 입력\n",
        "p=[[1,19,4,14,0,0,0,0,0,0,3,3,0,0,0,0]]  # 학습하지 않은 가짜 계정의 정보를 입력\n",
        "rf_y = rf.predict(p)\n",
        "if rf_y == 0:\n",
        "  print(\"랜덤포레스트 예상 : Real Account!\")\n",
        "elif rf_y==1:\n",
        "  print(\"랜덤포레스트 예상 : Fake Account...\")\n",
        "lgb_y=lgb_model.predict(p)\n",
        "if lgb_y == 0:\n",
        "  print(\"LightGBM 예상 : Real Account!\")\n",
        "elif lgb_y==1:\n",
        "  print(\"LightGBM 예상 : Fake Account...\")\n",
        "gb_y=gb.predict(p)\n",
        "if gb_y == 0:\n",
        "  print(\"Gradient Boosting 예상 : Real Account!\")\n",
        "elif gb_y==1:\n",
        "  print(\"Gradient Boosting 예상 : Fake Account...\")"
      ],
      "execution_count": null,
      "outputs": [
        {
          "output_type": "stream",
          "text": [
            "랜덤포레스트 예상 : Fake Account...\n",
            "LightGBM 예상 : Fake Account...\n",
            "Gradient Boosting 예상 : Fake Account...\n"
          ],
          "name": "stdout"
        }
      ]
    },
    {
      "cell_type": "markdown",
      "metadata": {
        "id": "lsRJMAxOVjL5"
      },
      "source": [
        "### 진짜 계정을 넣어보자. 진짜 계정이라고 뜰까?"
      ]
    },
    {
      "cell_type": "code",
      "metadata": {
        "colab": {
          "base_uri": "https://localhost:8080/"
        },
        "id": "b8njhGuwHKFL",
        "outputId": "56c76a98-ab9a-4f45-cfae-ff27b1dedc96"
      },
      "source": [
        "#진짜 계정을 직접 넣어서 돌려보자\n",
        "#프로필사진, id길이, id속 숫자, 이름 길이, 이름 속 숫자, 이름==id, 소개글, url, 비공개유무, 게시물, 팔로워, 팔로잉, 하이라이트, 소개글 속 계정개수, 해쉬태그 개수, 프로페셔널계정유무 순으로 입력\n",
        "x=[[0,9,0,3,0,0,0,0,1,4,265,350,0,0,0,0]]  # 학습하지 않은 진짜 계정의 정보를 입력\n",
        "\n",
        "rf_y = rf.predict(x)\n",
        "if rf_y == 0:\n",
        "  print(\"랜덤포레스트 예상 : Real Account!\")\n",
        "elif rf_y==1:\n",
        "  print(\"랜덤포레스트 예상 : Fake Account...\")\n",
        "lgb_y=lgb_model.predict(x)\n",
        "if lgb_y == 0:\n",
        "  print(\"LightGBM 예상 : Real Account!\")\n",
        "elif lgb_y==1:\n",
        "  print(\"LightGBM 예상 : Fake Account...\")\n",
        "gb_y=gb.predict(x)\n",
        "if gb_y == 0:\n",
        "  print(\"Gradient Boosting 예상 : Real Account!\")\n",
        "elif gb_y==1:\n",
        "  print(\"Gradient Boosting 예상 : Fake Account...\")"
      ],
      "execution_count": null,
      "outputs": [
        {
          "output_type": "stream",
          "text": [
            "랜덤포레스트 예상 : Real Account!\n",
            "LightGBM 예상 : Real Account!\n",
            "Gradient Boosting 예상 : Real Account!\n"
          ],
          "name": "stdout"
        }
      ]
    }
  ]
}