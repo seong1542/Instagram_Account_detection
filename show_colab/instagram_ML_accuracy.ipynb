{
  "nbformat": 4,
  "nbformat_minor": 0,
  "metadata": {
    "colab": {
      "name": "instagram_ML_accuracy.ipynb",
      "provenance": [],
      "collapsed_sections": []
    },
    "kernelspec": {
      "name": "python3",
      "display_name": "Python 3"
    },
    "language_info": {
      "name": "python"
    }
  },
  "cells": [
    {
      "cell_type": "markdown",
      "metadata": {
        "id": "2cYFOz3dCHTO"
      },
      "source": [
        "# 가장 정확도 높은 ML모델 찾기"
      ]
    },
    {
      "cell_type": "code",
      "metadata": {
        "colab": {
          "base_uri": "https://localhost:8080/"
        },
        "id": "d1v2_PMt_kwl",
        "outputId": "dd4991ce-bbfe-4bce-c6cc-885a2d9c6acc"
      },
      "source": [
        "import numpy as np\n",
        "import pandas as pd\n",
        "import matplotlib.pyplot as plt\n",
        "import seaborn as sns\n",
        "from sklearn.model_selection import train_test_split\n",
        "from google.colab import drive\n",
        "drive.mount('/content/gdrive', force_remount=True)\n",
        "filepath='/content/gdrive/My Drive/'\n",
        "train = pd.read_csv(filepath+'instagram_detection.csv')\n",
        "print(train.shape)"
      ],
      "execution_count": null,
      "outputs": [
        {
          "output_type": "stream",
          "text": [
            "Mounted at /content/gdrive\n",
            "(10104, 17)\n"
          ],
          "name": "stdout"
        }
      ]
    },
    {
      "cell_type": "code",
      "metadata": {
        "colab": {
          "base_uri": "https://localhost:8080/",
          "height": 204
        },
        "id": "5VEctAs__vh_",
        "outputId": "8860aaa5-a3ea-4a14-db50-2e3b0f22b8ce"
      },
      "source": [
        "train.head()"
      ],
      "execution_count": null,
      "outputs": [
        {
          "output_type": "execute_result",
          "data": {
            "text/html": [
              "<div>\n",
              "<style scoped>\n",
              "    .dataframe tbody tr th:only-of-type {\n",
              "        vertical-align: middle;\n",
              "    }\n",
              "\n",
              "    .dataframe tbody tr th {\n",
              "        vertical-align: top;\n",
              "    }\n",
              "\n",
              "    .dataframe thead th {\n",
              "        text-align: right;\n",
              "    }\n",
              "</style>\n",
              "<table border=\"1\" class=\"dataframe\">\n",
              "  <thead>\n",
              "    <tr style=\"text-align: right;\">\n",
              "      <th></th>\n",
              "      <th>#profile_pic</th>\n",
              "      <th>#id_len</th>\n",
              "      <th>#num_in_id</th>\n",
              "      <th>#name_len</th>\n",
              "      <th>#num_in_name</th>\n",
              "      <th>#name==id</th>\n",
              "      <th>#itro_len</th>\n",
              "      <th>#url</th>\n",
              "      <th>#private</th>\n",
              "      <th>#post</th>\n",
              "      <th>#follower_counts</th>\n",
              "      <th>#follows_counts</th>\n",
              "      <th>#highlight</th>\n",
              "      <th>#account_tag</th>\n",
              "      <th>#hash_tag</th>\n",
              "      <th>#professional</th>\n",
              "      <th>#fake</th>\n",
              "    </tr>\n",
              "  </thead>\n",
              "  <tbody>\n",
              "    <tr>\n",
              "      <th>0</th>\n",
              "      <td>1</td>\n",
              "      <td>11</td>\n",
              "      <td>0</td>\n",
              "      <td>31</td>\n",
              "      <td>0</td>\n",
              "      <td>0</td>\n",
              "      <td>117</td>\n",
              "      <td>1</td>\n",
              "      <td>0</td>\n",
              "      <td>123</td>\n",
              "      <td>288</td>\n",
              "      <td>85</td>\n",
              "      <td>1</td>\n",
              "      <td>0</td>\n",
              "      <td>0</td>\n",
              "      <td>1</td>\n",
              "      <td>0</td>\n",
              "    </tr>\n",
              "    <tr>\n",
              "      <th>1</th>\n",
              "      <td>1</td>\n",
              "      <td>11</td>\n",
              "      <td>0</td>\n",
              "      <td>5</td>\n",
              "      <td>0</td>\n",
              "      <td>0</td>\n",
              "      <td>91</td>\n",
              "      <td>1</td>\n",
              "      <td>0</td>\n",
              "      <td>2654</td>\n",
              "      <td>88000</td>\n",
              "      <td>541</td>\n",
              "      <td>1</td>\n",
              "      <td>1</td>\n",
              "      <td>0</td>\n",
              "      <td>1</td>\n",
              "      <td>0</td>\n",
              "    </tr>\n",
              "    <tr>\n",
              "      <th>2</th>\n",
              "      <td>1</td>\n",
              "      <td>8</td>\n",
              "      <td>3</td>\n",
              "      <td>22</td>\n",
              "      <td>3</td>\n",
              "      <td>0</td>\n",
              "      <td>103</td>\n",
              "      <td>1</td>\n",
              "      <td>0</td>\n",
              "      <td>4642</td>\n",
              "      <td>32000</td>\n",
              "      <td>275</td>\n",
              "      <td>1</td>\n",
              "      <td>0</td>\n",
              "      <td>3</td>\n",
              "      <td>0</td>\n",
              "      <td>0</td>\n",
              "    </tr>\n",
              "    <tr>\n",
              "      <th>3</th>\n",
              "      <td>1</td>\n",
              "      <td>10</td>\n",
              "      <td>2</td>\n",
              "      <td>3</td>\n",
              "      <td>0</td>\n",
              "      <td>0</td>\n",
              "      <td>55</td>\n",
              "      <td>1</td>\n",
              "      <td>0</td>\n",
              "      <td>305</td>\n",
              "      <td>653</td>\n",
              "      <td>1368</td>\n",
              "      <td>1</td>\n",
              "      <td>2</td>\n",
              "      <td>0</td>\n",
              "      <td>0</td>\n",
              "      <td>0</td>\n",
              "    </tr>\n",
              "    <tr>\n",
              "      <th>4</th>\n",
              "      <td>0</td>\n",
              "      <td>12</td>\n",
              "      <td>2</td>\n",
              "      <td>12</td>\n",
              "      <td>2</td>\n",
              "      <td>1</td>\n",
              "      <td>0</td>\n",
              "      <td>0</td>\n",
              "      <td>0</td>\n",
              "      <td>0</td>\n",
              "      <td>12</td>\n",
              "      <td>19</td>\n",
              "      <td>0</td>\n",
              "      <td>0</td>\n",
              "      <td>0</td>\n",
              "      <td>0</td>\n",
              "      <td>0</td>\n",
              "    </tr>\n",
              "  </tbody>\n",
              "</table>\n",
              "</div>"
            ],
            "text/plain": [
              "   #profile_pic  #id_len  #num_in_id  ...  #hash_tag  #professional  #fake\n",
              "0             1       11           0  ...          0              1      0\n",
              "1             1       11           0  ...          0              1      0\n",
              "2             1        8           3  ...          3              0      0\n",
              "3             1       10           2  ...          0              0      0\n",
              "4             0       12           2  ...          0              0      0\n",
              "\n",
              "[5 rows x 17 columns]"
            ]
          },
          "metadata": {
            "tags": []
          },
          "execution_count": 2
        }
      ]
    },
    {
      "cell_type": "code",
      "metadata": {
        "colab": {
          "base_uri": "https://localhost:8080/"
        },
        "id": "MdnwVs6m_v8f",
        "outputId": "0de76075-7611-47b3-a6ea-9028ccbe691d"
      },
      "source": [
        "train.info()"
      ],
      "execution_count": null,
      "outputs": [
        {
          "output_type": "stream",
          "text": [
            "<class 'pandas.core.frame.DataFrame'>\n",
            "RangeIndex: 10104 entries, 0 to 10103\n",
            "Data columns (total 17 columns):\n",
            " #   Column            Non-Null Count  Dtype\n",
            "---  ------            --------------  -----\n",
            " 0   #profile_pic      10104 non-null  int64\n",
            " 1   #id_len           10104 non-null  int64\n",
            " 2   #num_in_id        10104 non-null  int64\n",
            " 3   #name_len         10104 non-null  int64\n",
            " 4   #num_in_name      10104 non-null  int64\n",
            " 5   #name==id         10104 non-null  int64\n",
            " 6   #itro_len         10104 non-null  int64\n",
            " 7   #url              10104 non-null  int64\n",
            " 8   #private          10104 non-null  int64\n",
            " 9   #post             10104 non-null  int64\n",
            " 10  #follower_counts  10104 non-null  int64\n",
            " 11  #follows_counts   10104 non-null  int64\n",
            " 12  #highlight        10104 non-null  int64\n",
            " 13  #account_tag      10104 non-null  int64\n",
            " 14  #hash_tag         10104 non-null  int64\n",
            " 15  #professional     10104 non-null  int64\n",
            " 16  #fake             10104 non-null  int64\n",
            "dtypes: int64(17)\n",
            "memory usage: 1.3 MB\n"
          ],
          "name": "stdout"
        }
      ]
    },
    {
      "cell_type": "code",
      "metadata": {
        "colab": {
          "base_uri": "https://localhost:8080/"
        },
        "id": "foHtgdcfApgX",
        "outputId": "fdd1aa9d-0509-4dcc-e61c-1deb0c027dad"
      },
      "source": [
        "# 진짜 계정과 가짜 계정이 총 몇 개씩 있는지 확인 (False = 진짜 계정 , True = 가짜 계정)\n",
        "unique, freq = np.unique(train['#fake'], return_counts=True)\n",
        "for i, j in zip(unique, freq):\n",
        "  print('Label : ',i, ', Frequency : ', j)"
      ],
      "execution_count": null,
      "outputs": [
        {
          "output_type": "stream",
          "text": [
            "Label :  0 , Frequency :  5052\n",
            "Label :  1 , Frequency :  5052\n"
          ],
          "name": "stdout"
        }
      ]
    },
    {
      "cell_type": "code",
      "metadata": {
        "colab": {
          "base_uri": "https://localhost:8080/"
        },
        "id": "V2MhgebXAMii",
        "outputId": "3cff2ac1-c3a9-4cbf-ecd1-fbf172c9f89d"
      },
      "source": [
        "train.nunique() # 혹시 0과 1 만 들어있어야 할 곳에 다른 것이 들어 갔는지 확인"
      ],
      "execution_count": null,
      "outputs": [
        {
          "output_type": "execute_result",
          "data": {
            "text/plain": [
              "#profile_pic           2\n",
              "#id_len               31\n",
              "#num_in_id            15\n",
              "#name_len             39\n",
              "#num_in_name          15\n",
              "#name==id              3\n",
              "#itro_len            167\n",
              "#url                   2\n",
              "#private               2\n",
              "#post                747\n",
              "#follower_counts    1891\n",
              "#follows_counts     2836\n",
              "#highlight             2\n",
              "#account_tag          11\n",
              "#hash_tag             21\n",
              "#professional          2\n",
              "#fake                  2\n",
              "dtype: int64"
            ]
          },
          "metadata": {
            "tags": []
          },
          "execution_count": 5
        }
      ]
    },
    {
      "cell_type": "markdown",
      "metadata": {
        "id": "C5CKOd5s_0wW"
      },
      "source": [
        "# int형으로 놓고 실행하면?"
      ]
    },
    {
      "cell_type": "code",
      "metadata": {
        "colab": {
          "base_uri": "https://localhost:8080/",
          "height": 376
        },
        "id": "WKHYQkuw_4pN",
        "outputId": "3242363c-5464-413c-a198-061aadfd5b21"
      },
      "source": [
        "#모든 속성이 int형일 때 상관관계\n",
        "data_corr = train.corr(method='pearson')\n",
        "axes = sns.heatmap(data_corr, vmin=-1, vmax=1, cmap='BrBG')\n",
        "axes.set_title('Correlation Heatmap Between Features')"
      ],
      "execution_count": null,
      "outputs": [
        {
          "output_type": "execute_result",
          "data": {
            "text/plain": [
              "Text(0.5, 1.0, 'Correlation Heatmap Between Features')"
            ]
          },
          "metadata": {
            "tags": []
          },
          "execution_count": 6
        },
        {
          "output_type": "display_data",
          "data": {
            "image/png": "[encoded data removed]",
            "text/plain": [
              "<Figure size 432x288 with 2 Axes>"
            ]
          },
          "metadata": {
            "tags": [],
            "needs_background": "light"
          }
        }
      ]
    },
    {
      "cell_type": "code",
      "metadata": {
        "colab": {
          "base_uri": "https://localhost:8080/"
        },
        "id": "V_GCFz1W_-PI",
        "outputId": "28643815-78cb-458f-a192-33281655c2c4"
      },
      "source": [
        "y_train = train['#fake']\n",
        "X_train = train.drop('#fake',axis=1)\n",
        "X_train,X_valid, y_train, y_valid = train_test_split(X_train,y_train, test_size=0.2, random_state=0, shuffle=True)\n",
        "\n",
        "print('X_train = ', X_train.shape)\n",
        "print('X_valid = ', X_valid.shape)\n",
        "print('y_train = ', y_train.shape)\n",
        "print('y_valid = ', y_valid.shape)"
      ],
      "execution_count": null,
      "outputs": [
        {
          "output_type": "stream",
          "text": [
            "X_train =  (8083, 16)\n",
            "X_valid =  (2021, 16)\n",
            "y_train =  (8083,)\n",
            "y_valid =  (2021,)\n"
          ],
          "name": "stdout"
        }
      ]
    },
    {
      "cell_type": "code",
      "metadata": {
        "colab": {
          "base_uri": "https://localhost:8080/"
        },
        "id": "ICmysHlF__z4",
        "outputId": "0b75d87e-ad1f-4b8f-e14a-7dffb4379321"
      },
      "source": [
        "from sklearn.ensemble import RandomForestClassifier\n",
        "rf= RandomForestClassifier()\n",
        "rf.fit(X_train, y_train)\n",
        "train_score = rf.score(X_train, y_train)\n",
        "valid_score = rf.score(X_valid, y_valid)\n",
        "print('RandomForest Train_Accuracy : {}'.format(train_score))\n",
        "print('RandomForest Valid_Accuracy : {}'.format(valid_score))\n",
        "print()\n",
        "\n",
        "from sklearn.ensemble import GradientBoostingClassifier\n",
        "gb= GradientBoostingClassifier()\n",
        "gb.fit(X_train, y_train)\n",
        "train_score = gb.score(X_train, y_train)\n",
        "valid_score = gb.score(X_valid, y_valid)\n",
        "print('GradientBoosting Train_Accuracy : {}'.format(train_score))\n",
        "print('GradientBoosting Valid_Accuracy : {}'.format(valid_score))\n",
        "print()\n",
        "\n",
        "from sklearn.linear_model import LogisticRegression\n",
        "lg = LogisticRegression(penalty = 'l2',solver='newton-cg',random_state=0, max_iter=600)\n",
        "lg.fit(X_train,y_train)\n",
        "train_score = lg.score(X_train,y_train)\n",
        "valid_score = lg.score(X_valid,y_valid)\n",
        "print('Logistic Train_Accuracy : {}'.format(train_score))\n",
        "print('Logistic Valid_Accuracy : {}'.format(valid_score))\n",
        "print()\n",
        "\n",
        "import xgboost as xgb\n",
        "xgb_model = xgb.XGBClassifier()\n",
        "xgb_model.fit(X_train,y_train)\n",
        "train_score = xgb_model.score(X_train,y_train)\n",
        "valid_score = xgb_model.score(X_valid,y_valid)\n",
        "print('XGBoost Train_Accuracy : {}'.format(train_score))\n",
        "print('XGBoost Valid_Accuracy : {}'.format(valid_score))\n",
        "print()\n",
        "\n",
        "import lightgbm as lgb\n",
        "lgb_model = lgb.LGBMClassifier()\n",
        "lgb_model.fit(X_train, y_train)\n",
        "train_score =lgb_model.score(X_train,y_train)\n",
        "valid_score= lgb_model.score(X_valid,y_valid)\n",
        "print('LGBM Train_Accuracy : {}'.format(train_score))\n",
        "print('LGBM Valid_Accuracy : {}'.format(valid_score))\n",
        "print()\n",
        "\n",
        "from sklearn.tree import DecisionTreeClassifier\n",
        "dt = DecisionTreeClassifier()\n",
        "dt.fit(X_train,y_train)\n",
        "train_score = dt.score(X_train,y_train)\n",
        "valid_score=dt.score(X_valid,y_valid)\n",
        "print('DecisionTree Train_Accuracy : {}'.format(train_score))\n",
        "print('DecisionTree Valid_Accuracy : {}'.format(valid_score))"
      ],
      "execution_count": null,
      "outputs": [
        {
          "output_type": "stream",
          "text": [
            "RandomForest Train_Accuracy : 1.0\n",
            "RandomForest Valid_Accuracy : 0.9722909450766947\n",
            "\n",
            "GradientBoosting Train_Accuracy : 0.9777310404552765\n",
            "GradientBoosting Valid_Accuracy : 0.9703117268678871\n",
            "\n",
            "Logistic Train_Accuracy : 0.8693554373376222\n",
            "Logistic Valid_Accuracy : 0.8703612073231074\n",
            "\n",
            "XGBoost Train_Accuracy : 0.9764938760361253\n",
            "XGBoost Valid_Accuracy : 0.9703117268678871\n",
            "\n",
            "LGBM Train_Accuracy : 0.9978968204874428\n",
            "LGBM Valid_Accuracy : 0.9722909450766947\n",
            "\n",
            "DecisionTree Train_Accuracy : 1.0\n",
            "DecisionTree Valid_Accuracy : 0.9569520039584364\n"
          ],
          "name": "stdout"
        }
      ]
    },
    {
      "cell_type": "markdown",
      "metadata": {
        "id": "vEg__O2aAQX5"
      },
      "source": [
        "# 속성이 0과 1로만 이루어진 것들 Category/Bool 처리"
      ]
    },
    {
      "cell_type": "code",
      "metadata": {
        "colab": {
          "base_uri": "https://localhost:8080/"
        },
        "id": "7iv3KhS7AHoh",
        "outputId": "1f4bb877-5f19-444f-cf7f-358e66db0195"
      },
      "source": [
        "train = pd.read_csv(filepath+'instagram_detection.csv')\n",
        "print(train.shape)"
      ],
      "execution_count": null,
      "outputs": [
        {
          "output_type": "stream",
          "text": [
            "(10104, 17)\n"
          ],
          "name": "stdout"
        }
      ]
    },
    {
      "cell_type": "code",
      "metadata": {
        "id": "JhfsBYDFAXNS"
      },
      "source": [
        "# 프로필 유무, 이름과 아이디가 같은가, url 유무, 비공개 유무, 프로페셔널 계정 유무, 가짜계정 유무는 범주형으로 설정\n",
        "train['#profile_pic'] = train['#profile_pic'].astype('category')\n",
        "train['#name==id'] = train['#name==id'].astype('category')\n",
        "train['#url'] = train['#url'].astype('category')\n",
        "train['#private'] = train['#private'].astype('category')\n",
        "train['#professional'] = train['#professional'].astype('category')\n",
        "train['#fake'] = train['#fake'].astype('category')\n",
        "train['#highlight'] = train['#highlight'].astype('category')"
      ],
      "execution_count": null,
      "outputs": []
    },
    {
      "cell_type": "code",
      "metadata": {
        "colab": {
          "base_uri": "https://localhost:8080/"
        },
        "id": "NSLDf6CnAYz6",
        "outputId": "c5c6259b-ac30-42f9-a3b6-af0943966b08"
      },
      "source": [
        "train.info()"
      ],
      "execution_count": null,
      "outputs": [
        {
          "output_type": "stream",
          "text": [
            "<class 'pandas.core.frame.DataFrame'>\n",
            "RangeIndex: 10104 entries, 0 to 10103\n",
            "Data columns (total 17 columns):\n",
            " #   Column            Non-Null Count  Dtype   \n",
            "---  ------            --------------  -----   \n",
            " 0   #profile_pic      10104 non-null  category\n",
            " 1   #id_len           10104 non-null  int64   \n",
            " 2   #num_in_id        10104 non-null  int64   \n",
            " 3   #name_len         10104 non-null  int64   \n",
            " 4   #num_in_name      10104 non-null  int64   \n",
            " 5   #name==id         10104 non-null  category\n",
            " 6   #itro_len         10104 non-null  int64   \n",
            " 7   #url              10104 non-null  category\n",
            " 8   #private          10104 non-null  category\n",
            " 9   #post             10104 non-null  int64   \n",
            " 10  #follower_counts  10104 non-null  int64   \n",
            " 11  #follows_counts   10104 non-null  int64   \n",
            " 12  #highlight        10104 non-null  category\n",
            " 13  #account_tag      10104 non-null  int64   \n",
            " 14  #hash_tag         10104 non-null  int64   \n",
            " 15  #professional     10104 non-null  category\n",
            " 16  #fake             10104 non-null  category\n",
            "dtypes: category(7), int64(10)\n",
            "memory usage: 859.2 KB\n"
          ],
          "name": "stdout"
        }
      ]
    },
    {
      "cell_type": "code",
      "metadata": {
        "id": "4QmKsJRpAapN"
      },
      "source": [
        "# train 셋에 있는 fake는 y에 저장\n",
        "y_train = train['#fake']\n",
        "X_train = train.drop('#fake',axis=1)"
      ],
      "execution_count": null,
      "outputs": []
    },
    {
      "cell_type": "code",
      "metadata": {
        "colab": {
          "base_uri": "https://localhost:8080/",
          "height": 376
        },
        "id": "BrEPQZ4gAivl",
        "outputId": "3441056d-583f-40aa-e635-4d4a03736946"
      },
      "source": [
        "#카테고리처리 했을 때 상관관계\n",
        "data_corr = X_train.corr(method='pearson')\n",
        "axes = sns.heatmap(data_corr, vmin=-1, vmax=1, cmap='BrBG')\n",
        "axes.set_title('Correlation Heatmap Between Features')"
      ],
      "execution_count": null,
      "outputs": [
        {
          "output_type": "execute_result",
          "data": {
            "text/plain": [
              "Text(0.5, 1.0, 'Correlation Heatmap Between Features')"
            ]
          },
          "metadata": {
            "tags": []
          },
          "execution_count": 13
        },
        {
          "output_type": "display_data",
          "data": {
            "image/png": "[encoded data removed]",
            "text/plain": [
              "<Figure size 432x288 with 2 Axes>"
            ]
          },
          "metadata": {
            "tags": [],
            "needs_background": "light"
          }
        }
      ]
    },
    {
      "cell_type": "code",
      "metadata": {
        "colab": {
          "base_uri": "https://localhost:8080/"
        },
        "id": "zlsnFkyfAlky",
        "outputId": "e3e58421-e93e-429e-d2d3-7f1b43f0ba22"
      },
      "source": [
        "# train과 validation set은 8:2로 나눔\n",
        "\n",
        "X_train,X_valid, y_train, y_valid = train_test_split(X_train,y_train, test_size=0.2, random_state=0, shuffle=True)\n",
        "\n",
        "print('X_train = ', X_train.shape)\n",
        "print('X_valid = ', X_valid.shape)\n",
        "print('y_train = ', y_train.shape)\n",
        "print('y_valid = ', y_valid.shape)"
      ],
      "execution_count": null,
      "outputs": [
        {
          "output_type": "stream",
          "text": [
            "X_train =  (8083, 16)\n",
            "X_valid =  (2021, 16)\n",
            "y_train =  (8083,)\n",
            "y_valid =  (2021,)\n"
          ],
          "name": "stdout"
        }
      ]
    },
    {
      "cell_type": "code",
      "metadata": {
        "colab": {
          "base_uri": "https://localhost:8080/"
        },
        "id": "8OBu2VtvAr3x",
        "outputId": "5c6f4fd4-feb5-49b5-cedf-57f7e528f8e4"
      },
      "source": [
        "from sklearn.ensemble import RandomForestClassifier\n",
        "rf= RandomForestClassifier()\n",
        "rf.fit(X_train, y_train)\n",
        "train_score = rf.score(X_train, y_train)\n",
        "valid_score = rf.score(X_valid, y_valid)\n",
        "print('RandomForest Train_Accuracy : {}'.format(train_score))\n",
        "print('RandomForest Valid_Accuracy : {}'.format(valid_score))\n",
        "print()\n",
        "\n",
        "from sklearn.ensemble import GradientBoostingClassifier\n",
        "gb= GradientBoostingClassifier()\n",
        "gb.fit(X_train, y_train)\n",
        "train_score = gb.score(X_train, y_train)\n",
        "valid_score = gb.score(X_valid, y_valid)\n",
        "print('GradientBoosting Train_Accuracy : {}'.format(train_score))\n",
        "print('GradientBoosting Valid_Accuracy : {}'.format(valid_score))\n",
        "print()\n",
        "\n",
        "from sklearn.linear_model import LogisticRegression\n",
        "lg = LogisticRegression(penalty = 'l2',solver='newton-cg',random_state=0, max_iter=600)\n",
        "lg.fit(X_train,y_train)\n",
        "train_score = lg.score(X_train,y_train)\n",
        "valid_score = lg.score(X_valid,y_valid)\n",
        "print('Logistic Train_Accuracy : {}'.format(train_score))\n",
        "print('Logistic Valid_Accuracy : {}'.format(valid_score))\n",
        "print()\n",
        "from sklearn.tree import DecisionTreeClassifier\n",
        "dt = DecisionTreeClassifier()\n",
        "dt.fit(X_train,y_train)\n",
        "train_score = dt.score(X_train,y_train)\n",
        "valid_score=dt.score(X_valid,y_valid)\n",
        "print('DecisionTree Train_Accuracy : {}'.format(train_score))\n",
        "print('DecisionTree Valid_Accuracy : {}'.format(valid_score))"
      ],
      "execution_count": null,
      "outputs": [
        {
          "output_type": "stream",
          "text": [
            "RandomForest Train_Accuracy : 1.0\n",
            "RandomForest Valid_Accuracy : 0.9717961405244928\n",
            "\n",
            "GradientBoosting Train_Accuracy : 0.9777310404552765\n",
            "GradientBoosting Valid_Accuracy : 0.9703117268678871\n",
            "\n",
            "Logistic Train_Accuracy : 0.8693554373376222\n",
            "Logistic Valid_Accuracy : 0.8703612073231074\n",
            "\n",
            "DecisionTree Train_Accuracy : 1.0\n",
            "DecisionTree Valid_Accuracy : 0.9574468085106383\n"
          ],
          "name": "stdout"
        }
      ]
    },
    {
      "cell_type": "markdown",
      "metadata": {
        "id": "gP8FaXqtAzyh"
      },
      "source": [
        "XGBoost와 LGBM은 category 안된다, bool처리해서 실행해봄"
      ]
    },
    {
      "cell_type": "code",
      "metadata": {
        "id": "eAxWSM9OA5B4"
      },
      "source": [
        "#XGBoost 시도해보니, category는 안받아줌 -> bool으로 시도해봄.\n",
        "train['#profile_pic'] = train['#profile_pic'].astype(bool)\n",
        "train['#name==id'] = train['#name==id'].astype(bool)\n",
        "train['#url'] = train['#url'].astype(bool)\n",
        "train['#private'] = train['#private'].astype(bool)\n",
        "train['#professional'] = train['#professional'].astype(bool)\n",
        "train['#fake'] = train['#fake'].astype(bool)\n",
        "train['#highlight'] = train['#highlight'].astype(bool)"
      ],
      "execution_count": null,
      "outputs": []
    },
    {
      "cell_type": "code",
      "metadata": {
        "colab": {
          "base_uri": "https://localhost:8080/"
        },
        "id": "m_IBP3mNBBdk",
        "outputId": "c4554ac4-83c2-4ac7-d797-d22fdd45b027"
      },
      "source": [
        "train.info()"
      ],
      "execution_count": null,
      "outputs": [
        {
          "output_type": "stream",
          "text": [
            "<class 'pandas.core.frame.DataFrame'>\n",
            "RangeIndex: 10104 entries, 0 to 10103\n",
            "Data columns (total 17 columns):\n",
            " #   Column            Non-Null Count  Dtype\n",
            "---  ------            --------------  -----\n",
            " 0   #profile_pic      10104 non-null  bool \n",
            " 1   #id_len           10104 non-null  int64\n",
            " 2   #num_in_id        10104 non-null  int64\n",
            " 3   #name_len         10104 non-null  int64\n",
            " 4   #num_in_name      10104 non-null  int64\n",
            " 5   #name==id         10104 non-null  bool \n",
            " 6   #itro_len         10104 non-null  int64\n",
            " 7   #url              10104 non-null  bool \n",
            " 8   #private          10104 non-null  bool \n",
            " 9   #post             10104 non-null  int64\n",
            " 10  #follower_counts  10104 non-null  int64\n",
            " 11  #follows_counts   10104 non-null  int64\n",
            " 12  #highlight        10104 non-null  bool \n",
            " 13  #account_tag      10104 non-null  int64\n",
            " 14  #hash_tag         10104 non-null  int64\n",
            " 15  #professional     10104 non-null  bool \n",
            " 16  #fake             10104 non-null  bool \n",
            "dtypes: bool(7), int64(10)\n",
            "memory usage: 858.6 KB\n"
          ],
          "name": "stdout"
        }
      ]
    },
    {
      "cell_type": "code",
      "metadata": {
        "id": "AA07QK3ABFMm"
      },
      "source": [
        "y_train = train['#fake']\n",
        "X_train = train.drop('#fake',axis=1)"
      ],
      "execution_count": null,
      "outputs": []
    },
    {
      "cell_type": "code",
      "metadata": {
        "colab": {
          "base_uri": "https://localhost:8080/",
          "height": 376
        },
        "id": "Udgr991rA6wa",
        "outputId": "5eb148b0-f895-4bd7-85d8-548224070daa"
      },
      "source": [
        "#Bool처리 했을 때 상관관계\n",
        "data_corr = X_train.corr(method='pearson')\n",
        "axes = sns.heatmap(data_corr, vmin=-1, vmax=1, cmap='BrBG')\n",
        "axes.set_title('Correlation Heatmap Between Features')"
      ],
      "execution_count": null,
      "outputs": [
        {
          "output_type": "execute_result",
          "data": {
            "text/plain": [
              "Text(0.5, 1.0, 'Correlation Heatmap Between Features')"
            ]
          },
          "metadata": {
            "tags": []
          },
          "execution_count": 19
        },
        {
          "output_type": "display_data",
          "data": {
            "image/png": "[encoded data removed]",
            "text/plain": [
              "<Figure size 432x288 with 2 Axes>"
            ]
          },
          "metadata": {
            "tags": [],
            "needs_background": "light"
          }
        }
      ]
    },
    {
      "cell_type": "code",
      "metadata": {
        "colab": {
          "base_uri": "https://localhost:8080/"
        },
        "id": "SFNA4nQDA_s6",
        "outputId": "b1b90758-a124-4ccd-9606-30b0332db8fa"
      },
      "source": [
        "X_train,X_valid, y_train, y_valid = train_test_split(X_train,y_train, test_size=0.2, random_state=0, shuffle=True)\n",
        "\n",
        "print('X_train = ', X_train.shape)\n",
        "print('X_valid = ', X_valid.shape)\n",
        "print('y_train = ', y_train.shape)\n",
        "print('y_valid = ', y_valid.shape)"
      ],
      "execution_count": null,
      "outputs": [
        {
          "output_type": "stream",
          "text": [
            "X_train =  (8083, 16)\n",
            "X_valid =  (2021, 16)\n",
            "y_train =  (8083,)\n",
            "y_valid =  (2021,)\n"
          ],
          "name": "stdout"
        }
      ]
    },
    {
      "cell_type": "code",
      "metadata": {
        "colab": {
          "base_uri": "https://localhost:8080/"
        },
        "id": "Bo6Vjf75AzPL",
        "outputId": "837004f2-a9aa-4d46-ad27-4c998ee1775a"
      },
      "source": [
        "import xgboost as xgb\n",
        "xgb_model = xgb.XGBClassifier()\n",
        "xgb_model.fit(X_train,y_train)\n",
        "train_score = xgb_model.score(X_train,y_train)\n",
        "valid_score = xgb_model.score(X_valid,y_valid)\n",
        "print('XGBoost Train_Accuracy : {}'.format(train_score))\n",
        "print('XGBoost Valid_Accuracy : {}'.format(valid_score))\n",
        "print()\n",
        "\n",
        "import lightgbm as lgb\n",
        "lgb_model = lgb.LGBMClassifier()\n",
        "lgb_model.fit(X_train, y_train)\n",
        "train_score =lgb_model.score(X_train,y_train)\n",
        "valid_score= lgb_model.score(X_valid,y_valid)\n",
        "print('LGBM Train_Accuracy : {}'.format(train_score))\n",
        "print('LGBM Valid_Accuracy : {}'.format(valid_score))\n",
        "print()"
      ],
      "execution_count": null,
      "outputs": [
        {
          "output_type": "stream",
          "text": [
            "XGBoost Train_Accuracy : 0.9764938760361253\n",
            "XGBoost Valid_Accuracy : 0.9703117268678871\n",
            "\n",
            "LGBM Train_Accuracy : 0.9978968204874428\n",
            "LGBM Valid_Accuracy : 0.9722909450766947\n",
            "\n"
          ],
          "name": "stdout"
        }
      ]
    },
    {
      "cell_type": "markdown",
      "metadata": {
        "id": "GxBQlLqJBSE-"
      },
      "source": [
        "# fake부분만 Bool처리"
      ]
    },
    {
      "cell_type": "code",
      "metadata": {
        "colab": {
          "base_uri": "https://localhost:8080/"
        },
        "id": "YdXQX9opBLuW",
        "outputId": "776a76ab-6b0e-42c6-c50c-9f59355dfece"
      },
      "source": [
        "train = pd.read_csv(filepath+'instagram_detection.csv')\n",
        "print(train.shape)"
      ],
      "execution_count": null,
      "outputs": [
        {
          "output_type": "stream",
          "text": [
            "(10104, 17)\n"
          ],
          "name": "stdout"
        }
      ]
    },
    {
      "cell_type": "code",
      "metadata": {
        "id": "ud0Qjr5aBRHe"
      },
      "source": [
        "train['#fake'] = train['#fake'].astype('bool')"
      ],
      "execution_count": null,
      "outputs": []
    },
    {
      "cell_type": "code",
      "metadata": {
        "colab": {
          "base_uri": "https://localhost:8080/"
        },
        "id": "0LauRp6EBbNU",
        "outputId": "fd098072-476c-4c51-ab14-d4901769188e"
      },
      "source": [
        "train.info()"
      ],
      "execution_count": null,
      "outputs": [
        {
          "output_type": "stream",
          "text": [
            "<class 'pandas.core.frame.DataFrame'>\n",
            "RangeIndex: 10104 entries, 0 to 10103\n",
            "Data columns (total 17 columns):\n",
            " #   Column            Non-Null Count  Dtype\n",
            "---  ------            --------------  -----\n",
            " 0   #profile_pic      10104 non-null  int64\n",
            " 1   #id_len           10104 non-null  int64\n",
            " 2   #num_in_id        10104 non-null  int64\n",
            " 3   #name_len         10104 non-null  int64\n",
            " 4   #num_in_name      10104 non-null  int64\n",
            " 5   #name==id         10104 non-null  int64\n",
            " 6   #itro_len         10104 non-null  int64\n",
            " 7   #url              10104 non-null  int64\n",
            " 8   #private          10104 non-null  int64\n",
            " 9   #post             10104 non-null  int64\n",
            " 10  #follower_counts  10104 non-null  int64\n",
            " 11  #follows_counts   10104 non-null  int64\n",
            " 12  #highlight        10104 non-null  int64\n",
            " 13  #account_tag      10104 non-null  int64\n",
            " 14  #hash_tag         10104 non-null  int64\n",
            " 15  #professional     10104 non-null  int64\n",
            " 16  #fake             10104 non-null  bool \n",
            "dtypes: bool(1), int64(16)\n",
            "memory usage: 1.2 MB\n"
          ],
          "name": "stdout"
        }
      ]
    },
    {
      "cell_type": "code",
      "metadata": {
        "id": "04CAFRZwBbv3"
      },
      "source": [
        "y_train = train['#fake']\n",
        "X_train = train.drop('#fake',axis=1)"
      ],
      "execution_count": null,
      "outputs": []
    },
    {
      "cell_type": "code",
      "metadata": {
        "colab": {
          "base_uri": "https://localhost:8080/",
          "height": 376
        },
        "id": "rDlPGCv-BgAt",
        "outputId": "2990068e-5264-4675-c534-e1827bb64824"
      },
      "source": [
        "#fake 부분만 Bool처리 했을 때 상관관계\n",
        "data_corr = X_train.corr(method='pearson')\n",
        "axes = sns.heatmap(data_corr, vmin=-1, vmax=1, cmap='BrBG')\n",
        "axes.set_title('Correlation Heatmap Between Features')"
      ],
      "execution_count": null,
      "outputs": [
        {
          "output_type": "execute_result",
          "data": {
            "text/plain": [
              "Text(0.5, 1.0, 'Correlation Heatmap Between Features')"
            ]
          },
          "metadata": {
            "tags": []
          },
          "execution_count": 26
        },
        {
          "output_type": "display_data",
          "data": {
            "image/png": "[encoded data removed]",
            "text/plain": [
              "<Figure size 432x288 with 2 Axes>"
            ]
          },
          "metadata": {
            "tags": [],
            "needs_background": "light"
          }
        }
      ]
    },
    {
      "cell_type": "code",
      "metadata": {
        "colab": {
          "base_uri": "https://localhost:8080/"
        },
        "id": "H9t2m4YWBiEt",
        "outputId": "5c745030-7110-44f4-8215-19498f674ad9"
      },
      "source": [
        "X_train,X_valid, y_train, y_valid = train_test_split(X_train,y_train, test_size=0.2, random_state=0, shuffle=True)\n",
        "\n",
        "print('X_train = ', X_train.shape)\n",
        "print('X_valid = ', X_valid.shape)\n",
        "print('y_train = ', y_train.shape)\n",
        "print('y_valid = ', y_valid.shape)"
      ],
      "execution_count": null,
      "outputs": [
        {
          "output_type": "stream",
          "text": [
            "X_train =  (8083, 16)\n",
            "X_valid =  (2021, 16)\n",
            "y_train =  (8083,)\n",
            "y_valid =  (2021,)\n"
          ],
          "name": "stdout"
        }
      ]
    },
    {
      "cell_type": "code",
      "metadata": {
        "colab": {
          "base_uri": "https://localhost:8080/"
        },
        "id": "YaLC71xTBnFa",
        "outputId": "36f68877-d4a0-4583-d858-6ba6b201c4c8"
      },
      "source": [
        "from sklearn.ensemble import RandomForestClassifier\n",
        "rf= RandomForestClassifier()\n",
        "rf.fit(X_train, y_train)\n",
        "train_score = rf.score(X_train, y_train)\n",
        "valid_score = rf.score(X_valid, y_valid)\n",
        "print('RandomForest Train_Accuracy : {}'.format(train_score))\n",
        "print('RandomForest Valid_Accuracy : {}'.format(valid_score))\n",
        "print()\n",
        "\n",
        "from sklearn.ensemble import GradientBoostingClassifier\n",
        "gb= GradientBoostingClassifier()\n",
        "gb.fit(X_train, y_train)\n",
        "train_score = gb.score(X_train, y_train)\n",
        "valid_score = gb.score(X_valid, y_valid)\n",
        "print('GradientBoosting Train_Accuracy : {}'.format(train_score))\n",
        "print('GradientBoosting Valid_Accuracy : {}'.format(valid_score))\n",
        "print()\n",
        "\n",
        "from sklearn.linear_model import LogisticRegression\n",
        "lg = LogisticRegression(penalty = 'l2',solver='newton-cg',random_state=0, max_iter=600)\n",
        "lg.fit(X_train,y_train)\n",
        "train_score = lg.score(X_train,y_train)\n",
        "valid_score = lg.score(X_valid,y_valid)\n",
        "print('Logistic Train_Accuracy : {}'.format(train_score))\n",
        "print('Logistic Valid_Accuracy : {}'.format(valid_score))\n",
        "print()\n",
        "\n",
        "import xgboost as xgb\n",
        "xgb_model = xgb.XGBClassifier()\n",
        "xgb_model.fit(X_train,y_train)\n",
        "train_score = xgb_model.score(X_train,y_train)\n",
        "valid_score = xgb_model.score(X_valid,y_valid)\n",
        "print('XGBoost Train_Accuracy : {}'.format(train_score))\n",
        "print('XGBoost Valid_Accuracy : {}'.format(valid_score))\n",
        "print()\n",
        "\n",
        "import lightgbm as lgb\n",
        "lgb_model = lgb.LGBMClassifier()\n",
        "lgb_model.fit(X_train, y_train)\n",
        "train_score =lgb_model.score(X_train,y_train)\n",
        "valid_score= lgb_model.score(X_valid,y_valid)\n",
        "print('LGBM Train_Accuracy : {}'.format(train_score))\n",
        "print('LGBM Valid_Accuracy : {}'.format(valid_score))\n",
        "print()\n",
        "\n",
        "from sklearn.tree import DecisionTreeClassifier\n",
        "dt = DecisionTreeClassifier()\n",
        "dt.fit(X_train,y_train)\n",
        "train_score = dt.score(X_train,y_train)\n",
        "valid_score=dt.score(X_valid,y_valid)\n",
        "print('DecisionTree Train_Accuracy : {}'.format(train_score))\n",
        "print('DecisionTree Valid_Accuracy : {}'.format(valid_score))"
      ],
      "execution_count": null,
      "outputs": [
        {
          "output_type": "stream",
          "text": [
            "RandomForest Train_Accuracy : 1.0\n",
            "RandomForest Valid_Accuracy : 0.9688273132112816\n",
            "\n",
            "GradientBoosting Train_Accuracy : 0.9777310404552765\n",
            "GradientBoosting Valid_Accuracy : 0.9703117268678871\n",
            "\n",
            "Logistic Train_Accuracy : 0.8693554373376222\n",
            "Logistic Valid_Accuracy : 0.8703612073231074\n",
            "\n",
            "XGBoost Train_Accuracy : 0.9764938760361253\n",
            "XGBoost Valid_Accuracy : 0.9703117268678871\n",
            "\n",
            "LGBM Train_Accuracy : 0.9978968204874428\n",
            "LGBM Valid_Accuracy : 0.9722909450766947\n",
            "\n",
            "DecisionTree Train_Accuracy : 1.0\n",
            "DecisionTree Valid_Accuracy : 0.9584364176150421\n"
          ],
          "name": "stdout"
        }
      ]
    },
    {
      "cell_type": "markdown",
      "metadata": {
        "id": "UO34xzfsBv43"
      },
      "source": [
        "결론 : **int형으로만 이루어져있을 때 가장 정확도가 좋음**"
      ]
    },
    {
      "cell_type": "markdown",
      "metadata": {
        "id": "E9UzcX6vBpxT"
      },
      "source": [
        "# 정확도 높일 수 있을까? -Optuna사용해봄"
      ]
    },
    {
      "cell_type": "code",
      "metadata": {
        "colab": {
          "base_uri": "https://localhost:8080/"
        },
        "id": "TGHfZ4BxBnl-",
        "outputId": "373c6905-7853-42ae-9a29-3ff9c9bf2b03"
      },
      "source": [
        "!pip install optuna #옵튜나 설치"
      ],
      "execution_count": null,
      "outputs": [
        {
          "output_type": "stream",
          "text": [
            "Collecting optuna\n",
            "\u001b[?25l  Downloading https://files.pythonhosted.org/packages/2b/21/d13081805e1e1afc71f5bb743ece324c8bd576237c51b899ecb38a717502/optuna-2.7.0-py3-none-any.whl (293kB)\n",
            "\u001b[K     |████████████████████████████████| 296kB 24.7MB/s \n",
            "\u001b[?25hCollecting cliff\n",
            "\u001b[?25l  Downloading https://files.pythonhosted.org/packages/87/11/aea1cacbd4cf8262809c4d6f95dcb3f2802594de1f51c5bd454d69bf15c5/cliff-3.8.0-py3-none-any.whl (80kB)\n",
            "\u001b[K     |████████████████████████████████| 81kB 9.8MB/s \n",
            "\u001b[?25hRequirement already satisfied: packaging>=20.0 in /usr/local/lib/python3.7/dist-packages (from optuna) (20.9)\n",
            "Collecting colorlog\n",
            "  Downloading https://files.pythonhosted.org/packages/32/e6/e9ddc6fa1104fda718338b341e4b3dc31cd8039ab29e52fc73b508515361/colorlog-5.0.1-py2.py3-none-any.whl\n",
            "Collecting cmaes>=0.8.2\n",
            "  Downloading https://files.pythonhosted.org/packages/01/1f/43b01223a0366171f474320c6e966c39a11587287f098a5f09809b45e05f/cmaes-0.8.2-py3-none-any.whl\n",
            "Requirement already satisfied: sqlalchemy>=1.1.0 in /usr/local/lib/python3.7/dist-packages (from optuna) (1.4.15)\n",
            "Requirement already satisfied: tqdm in /usr/local/lib/python3.7/dist-packages (from optuna) (4.41.1)\n",
            "Collecting alembic\n",
            "\u001b[?25l  Downloading https://files.pythonhosted.org/packages/d5/80/ef186e599a57d0e4cb78fc76e0bfc2e6953fa9716b2a5cf2de0117ed8eb5/alembic-1.6.5-py2.py3-none-any.whl (164kB)\n",
            "\u001b[K     |████████████████████████████████| 174kB 47.5MB/s \n",
            "\u001b[?25hRequirement already satisfied: scipy!=1.4.0 in /usr/local/lib/python3.7/dist-packages (from optuna) (1.4.1)\n",
            "Requirement already satisfied: numpy in /usr/local/lib/python3.7/dist-packages (from optuna) (1.19.5)\n",
            "Collecting pbr!=2.1.0,>=2.0.0\n",
            "\u001b[?25l  Downloading https://files.pythonhosted.org/packages/18/e0/1d4702dd81121d04a477c272d47ee5b6bc970d1a0990b11befa275c55cf2/pbr-5.6.0-py2.py3-none-any.whl (111kB)\n",
            "\u001b[K     |████████████████████████████████| 112kB 52.3MB/s \n",
            "\u001b[?25hRequirement already satisfied: pyparsing>=2.1.0 in /usr/local/lib/python3.7/dist-packages (from cliff->optuna) (2.4.7)\n",
            "Requirement already satisfied: PyYAML>=3.12 in /usr/local/lib/python3.7/dist-packages (from cliff->optuna) (3.13)\n",
            "Collecting stevedore>=2.0.1\n",
            "\u001b[?25l  Downloading https://files.pythonhosted.org/packages/d4/49/b602307aeac3df3384ff1fcd05da9c0376c622a6c48bb5325f28ab165b57/stevedore-3.3.0-py3-none-any.whl (49kB)\n",
            "\u001b[K     |████████████████████████████████| 51kB 6.9MB/s \n",
            "\u001b[?25hCollecting cmd2>=1.0.0\n",
            "\u001b[?25l  Downloading https://files.pythonhosted.org/packages/15/8b/15061b32332bb35ea2a2f6263d0f616779d576e82739ec8e7fcf3c94abf5/cmd2-1.5.0-py3-none-any.whl (133kB)\n",
            "\u001b[K     |████████████████████████████████| 143kB 46.4MB/s \n",
            "\u001b[?25hRequirement already satisfied: PrettyTable>=0.7.2 in /usr/local/lib/python3.7/dist-packages (from cliff->optuna) (2.1.0)\n",
            "Requirement already satisfied: importlib-metadata; python_version < \"3.8\" in /usr/local/lib/python3.7/dist-packages (from sqlalchemy>=1.1.0->optuna) (4.0.1)\n",
            "Requirement already satisfied: greenlet!=0.4.17; python_version >= \"3\" in /usr/local/lib/python3.7/dist-packages (from sqlalchemy>=1.1.0->optuna) (1.1.0)\n",
            "Requirement already satisfied: python-dateutil in /usr/local/lib/python3.7/dist-packages (from alembic->optuna) (2.8.1)\n",
            "Collecting python-editor>=0.3\n",
            "  Downloading https://files.pythonhosted.org/packages/c6/d3/201fc3abe391bbae6606e6f1d598c15d367033332bd54352b12f35513717/python_editor-1.0.4-py3-none-any.whl\n",
            "Collecting Mako\n",
            "\u001b[?25l  Downloading https://files.pythonhosted.org/packages/f3/54/dbc07fbb20865d3b78fdb7cf7fa713e2cba4f87f71100074ef2dc9f9d1f7/Mako-1.1.4-py2.py3-none-any.whl (75kB)\n",
            "\u001b[K     |████████████████████████████████| 81kB 10.0MB/s \n",
            "\u001b[?25hRequirement already satisfied: wcwidth>=0.1.7 in /usr/local/lib/python3.7/dist-packages (from cmd2>=1.0.0->cliff->optuna) (0.2.5)\n",
            "Collecting pyperclip>=1.6\n",
            "  Downloading https://files.pythonhosted.org/packages/a7/2c/4c64579f847bd5d539803c8b909e54ba087a79d01bb3aba433a95879a6c5/pyperclip-1.8.2.tar.gz\n",
            "Collecting colorama>=0.3.7\n",
            "  Downloading https://files.pythonhosted.org/packages/44/98/5b86278fbbf250d239ae0ecb724f8572af1c91f4a11edf4d36a206189440/colorama-0.4.4-py2.py3-none-any.whl\n",
            "Requirement already satisfied: attrs>=16.3.0 in /usr/local/lib/python3.7/dist-packages (from cmd2>=1.0.0->cliff->optuna) (21.2.0)\n",
            "Requirement already satisfied: zipp>=0.5 in /usr/local/lib/python3.7/dist-packages (from importlib-metadata; python_version < \"3.8\"->sqlalchemy>=1.1.0->optuna) (3.4.1)\n",
            "Requirement already satisfied: typing-extensions>=3.6.4; python_version < \"3.8\" in /usr/local/lib/python3.7/dist-packages (from importlib-metadata; python_version < \"3.8\"->sqlalchemy>=1.1.0->optuna) (3.7.4.3)\n",
            "Requirement already satisfied: six>=1.5 in /usr/local/lib/python3.7/dist-packages (from python-dateutil->alembic->optuna) (1.15.0)\n",
            "Requirement already satisfied: MarkupSafe>=0.9.2 in /usr/local/lib/python3.7/dist-packages (from Mako->alembic->optuna) (2.0.1)\n",
            "Building wheels for collected packages: pyperclip\n",
            "  Building wheel for pyperclip (setup.py) ... \u001b[?25l\u001b[?25hdone\n",
            "  Created wheel for pyperclip: filename=pyperclip-1.8.2-cp37-none-any.whl size=11136 sha256=69ca730fccb1bc445c927293322b691312972418439acf6f6ee289452570fa09\n",
            "  Stored in directory: /root/.cache/pip/wheels/25/af/b8/3407109267803f4015e1ee2ff23be0c8c19ce4008665931ee1\n",
            "Successfully built pyperclip\n",
            "Installing collected packages: pbr, stevedore, pyperclip, colorama, cmd2, cliff, colorlog, cmaes, python-editor, Mako, alembic, optuna\n",
            "Successfully installed Mako-1.1.4 alembic-1.6.5 cliff-3.8.0 cmaes-0.8.2 cmd2-1.5.0 colorama-0.4.4 colorlog-5.0.1 optuna-2.7.0 pbr-5.6.0 pyperclip-1.8.2 python-editor-1.0.4 stevedore-3.3.0\n"
          ],
          "name": "stdout"
        }
      ]
    },
    {
      "cell_type": "code",
      "metadata": {
        "id": "pak5RS9jBxpo"
      },
      "source": [
        "import optuna\n",
        "from sklearn.metrics import log_loss\n",
        "categorical_features = ['#profile_pic','#name==id','#url','#private','#highlight','#professional']\n",
        "def objective(trial):\n",
        "  params = {'objective':'binary', \n",
        "            'n_estimators' : trial.suggest_categorical('n_estimators', [300,500,800,1000]),\n",
        "            'learning_rate' : trial.suggest_categorical('lerning_rate', [0.05,0.01,0.1]), \n",
        "            'max_depth' : trial.suggest_categorical('max_depth', [5,6,7,8]), \n",
        "            'max_features' : trial.suggest_categorical('max_features', [0.1,0.3,0.5,0.7]), \n",
        "            'min_samples_split' : trial.suggest_categorical('min_samples_split', [2,6]),\n",
        "            'min_samples_leaf' : trial.suggest_categorical('min_samples_leaf', [2,6])\n",
        "            }\n",
        "  lgb_train = lgb.Dataset(X_train,y_train, categorical_feature = categorical_features)\n",
        "  lgb_eval = lgb.Dataset(X_valid,y_valid,reference=lgb_train, categorical_feature = categorical_features)\n",
        "  model = lgb.train(params, lgb_train, valid_sets=[lgb_train, lgb_eval],verbose_eval=10, num_boost_round=1000, early_stopping_rounds=100)\n",
        "  y_pred_valid = model.predict(X_valid,num_iteration=model.best_iteration)\n",
        "  score = log_loss(y_valid,y_pred_valid)\n",
        "  return score"
      ],
      "execution_count": null,
      "outputs": []
    },
    {
      "cell_type": "code",
      "metadata": {
        "colab": {
          "base_uri": "https://localhost:8080/"
        },
        "id": "1qPVjdTtB0mw",
        "outputId": "e8b74f19-4e01-433a-bb40-bc771830c1ef"
      },
      "source": [
        "study=optuna.create_study(direction='minimize')\n",
        "study.optimize(objective,n_trials=40) #5회반복\n",
        "\n",
        "print('Best score : '+str(study.best_trial.value))"
      ],
      "execution_count": null,
      "outputs": [
        {
          "output_type": "stream",
          "text": [
            "\u001b[32m[I 2021-06-04 17:21:42,916]\u001b[0m A new study created in memory with name: no-name-b4953795-1877-4e22-9d33-2e491ad284ad\u001b[0m\n",
            "/usr/local/lib/python3.7/dist-packages/lightgbm/engine.py:118: UserWarning:\n",
            "\n",
            "Found `n_estimators` in params. Will use it instead of argument\n",
            "\n",
            "/usr/local/lib/python3.7/dist-packages/lightgbm/basic.py:1205: UserWarning:\n",
            "\n",
            "Using categorical_feature in Dataset.\n",
            "\n",
            "/usr/local/lib/python3.7/dist-packages/lightgbm/basic.py:762: UserWarning:\n",
            "\n",
            "categorical_feature in param dict is overridden.\n",
            "\n"
          ],
          "name": "stderr"
        },
        {
          "output_type": "stream",
          "text": [
            "Training until validation scores don't improve for 100 rounds.\n",
            "[10]\ttraining's binary_logloss: 0.411323\tvalid_1's binary_logloss: 0.413697\n",
            "[20]\ttraining's binary_logloss: 0.270566\tvalid_1's binary_logloss: 0.277387\n",
            "[30]\ttraining's binary_logloss: 0.193298\tvalid_1's binary_logloss: 0.204611\n",
            "[40]\ttraining's binary_logloss: 0.145922\tvalid_1's binary_logloss: 0.161338\n",
            "[50]\ttraining's binary_logloss: 0.116141\tvalid_1's binary_logloss: 0.135096\n",
            "[60]\ttraining's binary_logloss: 0.0963498\tvalid_1's binary_logloss: 0.118673\n",
            "[70]\ttraining's binary_logloss: 0.0816513\tvalid_1's binary_logloss: 0.106801\n",
            "[80]\ttraining's binary_logloss: 0.0710277\tvalid_1's binary_logloss: 0.0991108\n",
            "[90]\ttraining's binary_logloss: 0.0634895\tvalid_1's binary_logloss: 0.0944022\n",
            "[100]\ttraining's binary_logloss: 0.0574838\tvalid_1's binary_logloss: 0.0909468\n",
            "[110]\ttraining's binary_logloss: 0.052291\tvalid_1's binary_logloss: 0.0881219\n",
            "[120]\ttraining's binary_logloss: 0.0481254\tvalid_1's binary_logloss: 0.0868324\n",
            "[130]\ttraining's binary_logloss: 0.0448136\tvalid_1's binary_logloss: 0.0852678\n",
            "[140]\ttraining's binary_logloss: 0.0426374\tvalid_1's binary_logloss: 0.0843877\n",
            "[150]\ttraining's binary_logloss: 0.0395421\tvalid_1's binary_logloss: 0.0831745\n",
            "[160]\ttraining's binary_logloss: 0.0373895\tvalid_1's binary_logloss: 0.082264\n",
            "[170]\ttraining's binary_logloss: 0.0357445\tvalid_1's binary_logloss: 0.0817602\n",
            "[180]\ttraining's binary_logloss: 0.0336474\tvalid_1's binary_logloss: 0.0814583\n",
            "[190]\ttraining's binary_logloss: 0.0317092\tvalid_1's binary_logloss: 0.0811886\n",
            "[200]\ttraining's binary_logloss: 0.0298133\tvalid_1's binary_logloss: 0.0807668\n",
            "[210]\ttraining's binary_logloss: 0.0283265\tvalid_1's binary_logloss: 0.0804893\n",
            "[220]\ttraining's binary_logloss: 0.0267947\tvalid_1's binary_logloss: 0.0804896\n",
            "[230]\ttraining's binary_logloss: 0.0253559\tvalid_1's binary_logloss: 0.0802702\n",
            "[240]\ttraining's binary_logloss: 0.0238454\tvalid_1's binary_logloss: 0.0800036\n",
            "[250]\ttraining's binary_logloss: 0.0227992\tvalid_1's binary_logloss: 0.0799582\n",
            "[260]\ttraining's binary_logloss: 0.0216784\tvalid_1's binary_logloss: 0.0797223\n",
            "[270]\ttraining's binary_logloss: 0.0204874\tvalid_1's binary_logloss: 0.0798342\n",
            "[280]\ttraining's binary_logloss: 0.0195981\tvalid_1's binary_logloss: 0.0798478\n",
            "[290]\ttraining's binary_logloss: 0.0187997\tvalid_1's binary_logloss: 0.0796971\n",
            "[300]\ttraining's binary_logloss: 0.0177473\tvalid_1's binary_logloss: 0.0797611\n",
            "[310]\ttraining's binary_logloss: 0.0170115\tvalid_1's binary_logloss: 0.0796715\n",
            "[320]\ttraining's binary_logloss: 0.0160561\tvalid_1's binary_logloss: 0.0797479\n",
            "[330]\ttraining's binary_logloss: 0.0153693\tvalid_1's binary_logloss: 0.0800413\n",
            "[340]\ttraining's binary_logloss: 0.014486\tvalid_1's binary_logloss: 0.080195\n",
            "[350]\ttraining's binary_logloss: 0.0136539\tvalid_1's binary_logloss: 0.0802173\n",
            "[360]\ttraining's binary_logloss: 0.0129077\tvalid_1's binary_logloss: 0.0803597\n",
            "[370]\ttraining's binary_logloss: 0.0121212\tvalid_1's binary_logloss: 0.0805178\n",
            "[380]\ttraining's binary_logloss: 0.0113706\tvalid_1's binary_logloss: 0.0809432\n",
            "[390]\ttraining's binary_logloss: 0.0107657\tvalid_1's binary_logloss: 0.0812043\n",
            "[400]\ttraining's binary_logloss: 0.010227\tvalid_1's binary_logloss: 0.0818694\n",
            "[410]\ttraining's binary_logloss: 0.00954008\tvalid_1's binary_logloss: 0.0819276\n",
            "Early stopping, best iteration is:\n",
            "[314]\ttraining's binary_logloss: 0.0165187\tvalid_1's binary_logloss: 0.0795023\n"
          ],
          "name": "stdout"
        },
        {
          "output_type": "stream",
          "text": [
            "\u001b[32m[I 2021-06-04 17:21:44,087]\u001b[0m Trial 0 finished with value: 0.07950226739191199 and parameters: {'n_estimators': 1000, 'lerning_rate': 0.05, 'max_depth': 6, 'max_features': 0.3, 'min_samples_split': 6, 'min_samples_leaf': 6}. Best is trial 0 with value: 0.07950226739191199.\u001b[0m\n",
            "/usr/local/lib/python3.7/dist-packages/lightgbm/engine.py:118: UserWarning:\n",
            "\n",
            "Found `n_estimators` in params. Will use it instead of argument\n",
            "\n",
            "/usr/local/lib/python3.7/dist-packages/lightgbm/basic.py:1205: UserWarning:\n",
            "\n",
            "Using categorical_feature in Dataset.\n",
            "\n",
            "/usr/local/lib/python3.7/dist-packages/lightgbm/basic.py:762: UserWarning:\n",
            "\n",
            "categorical_feature in param dict is overridden.\n",
            "\n"
          ],
          "name": "stderr"
        },
        {
          "output_type": "stream",
          "text": [
            "Training until validation scores don't improve for 100 rounds.\n",
            "[10]\ttraining's binary_logloss: 0.619899\tvalid_1's binary_logloss: 0.619961\n",
            "[20]\ttraining's binary_logloss: 0.558859\tvalid_1's binary_logloss: 0.559194\n",
            "[30]\ttraining's binary_logloss: 0.506427\tvalid_1's binary_logloss: 0.507173\n",
            "[40]\ttraining's binary_logloss: 0.46106\tvalid_1's binary_logloss: 0.462145\n",
            "[50]\ttraining's binary_logloss: 0.421733\tvalid_1's binary_logloss: 0.423367\n",
            "[60]\ttraining's binary_logloss: 0.387189\tvalid_1's binary_logloss: 0.38948\n",
            "[70]\ttraining's binary_logloss: 0.35632\tvalid_1's binary_logloss: 0.359383\n",
            "[80]\ttraining's binary_logloss: 0.329062\tvalid_1's binary_logloss: 0.333138\n",
            "[90]\ttraining's binary_logloss: 0.305177\tvalid_1's binary_logloss: 0.309917\n",
            "[100]\ttraining's binary_logloss: 0.284077\tvalid_1's binary_logloss: 0.289415\n",
            "[110]\ttraining's binary_logloss: 0.265387\tvalid_1's binary_logloss: 0.27132\n",
            "[120]\ttraining's binary_logloss: 0.248668\tvalid_1's binary_logloss: 0.255336\n",
            "[130]\ttraining's binary_logloss: 0.233653\tvalid_1's binary_logloss: 0.2409\n",
            "[140]\ttraining's binary_logloss: 0.220095\tvalid_1's binary_logloss: 0.228055\n",
            "[150]\ttraining's binary_logloss: 0.207733\tvalid_1's binary_logloss: 0.216426\n",
            "[160]\ttraining's binary_logloss: 0.196535\tvalid_1's binary_logloss: 0.205786\n",
            "[170]\ttraining's binary_logloss: 0.186198\tvalid_1's binary_logloss: 0.195979\n",
            "[180]\ttraining's binary_logloss: 0.176873\tvalid_1's binary_logloss: 0.187166\n",
            "[190]\ttraining's binary_logloss: 0.168477\tvalid_1's binary_logloss: 0.179322\n",
            "[200]\ttraining's binary_logloss: 0.160883\tvalid_1's binary_logloss: 0.172242\n",
            "[210]\ttraining's binary_logloss: 0.153965\tvalid_1's binary_logloss: 0.165789\n",
            "[220]\ttraining's binary_logloss: 0.147541\tvalid_1's binary_logloss: 0.159924\n",
            "[230]\ttraining's binary_logloss: 0.141567\tvalid_1's binary_logloss: 0.154633\n",
            "[240]\ttraining's binary_logloss: 0.135998\tvalid_1's binary_logloss: 0.149679\n",
            "[250]\ttraining's binary_logloss: 0.130885\tvalid_1's binary_logloss: 0.144975\n",
            "[260]\ttraining's binary_logloss: 0.126016\tvalid_1's binary_logloss: 0.140607\n",
            "[270]\ttraining's binary_logloss: 0.121573\tvalid_1's binary_logloss: 0.136623\n",
            "[280]\ttraining's binary_logloss: 0.117518\tvalid_1's binary_logloss: 0.133005\n",
            "[290]\ttraining's binary_logloss: 0.113686\tvalid_1's binary_logloss: 0.129685\n",
            "[300]\ttraining's binary_logloss: 0.110175\tvalid_1's binary_logloss: 0.126679\n",
            "Did not meet early stopping. Best iteration is:\n",
            "[300]\ttraining's binary_logloss: 0.110175\tvalid_1's binary_logloss: 0.126679\n"
          ],
          "name": "stdout"
        },
        {
          "output_type": "stream",
          "text": [
            "\u001b[32m[I 2021-06-04 17:21:45,050]\u001b[0m Trial 1 finished with value: 0.12667932131355789 and parameters: {'n_estimators': 300, 'lerning_rate': 0.01, 'max_depth': 5, 'max_features': 0.7, 'min_samples_split': 2, 'min_samples_leaf': 2}. Best is trial 0 with value: 0.07950226739191199.\u001b[0m\n",
            "/usr/local/lib/python3.7/dist-packages/lightgbm/engine.py:118: UserWarning:\n",
            "\n",
            "Found `n_estimators` in params. Will use it instead of argument\n",
            "\n",
            "/usr/local/lib/python3.7/dist-packages/lightgbm/basic.py:1205: UserWarning:\n",
            "\n",
            "Using categorical_feature in Dataset.\n",
            "\n",
            "/usr/local/lib/python3.7/dist-packages/lightgbm/basic.py:762: UserWarning:\n",
            "\n",
            "categorical_feature in param dict is overridden.\n",
            "\n"
          ],
          "name": "stderr"
        },
        {
          "output_type": "stream",
          "text": [
            "Training until validation scores don't improve for 100 rounds.\n",
            "[10]\ttraining's binary_logloss: 0.411323\tvalid_1's binary_logloss: 0.413697\n",
            "[20]\ttraining's binary_logloss: 0.270566\tvalid_1's binary_logloss: 0.277387\n",
            "[30]\ttraining's binary_logloss: 0.193298\tvalid_1's binary_logloss: 0.204611\n",
            "[40]\ttraining's binary_logloss: 0.145922\tvalid_1's binary_logloss: 0.161338\n",
            "[50]\ttraining's binary_logloss: 0.116141\tvalid_1's binary_logloss: 0.135096\n",
            "[60]\ttraining's binary_logloss: 0.0963498\tvalid_1's binary_logloss: 0.118673\n",
            "[70]\ttraining's binary_logloss: 0.0816513\tvalid_1's binary_logloss: 0.106801\n",
            "[80]\ttraining's binary_logloss: 0.0710277\tvalid_1's binary_logloss: 0.0991108\n",
            "[90]\ttraining's binary_logloss: 0.0634895\tvalid_1's binary_logloss: 0.0944022\n",
            "[100]\ttraining's binary_logloss: 0.0574838\tvalid_1's binary_logloss: 0.0909468\n",
            "[110]\ttraining's binary_logloss: 0.052291\tvalid_1's binary_logloss: 0.0881219\n",
            "[120]\ttraining's binary_logloss: 0.0481254\tvalid_1's binary_logloss: 0.0868324\n",
            "[130]\ttraining's binary_logloss: 0.0448136\tvalid_1's binary_logloss: 0.0852678\n",
            "[140]\ttraining's binary_logloss: 0.0426374\tvalid_1's binary_logloss: 0.0843877\n",
            "[150]\ttraining's binary_logloss: 0.0395421\tvalid_1's binary_logloss: 0.0831745\n",
            "[160]\ttraining's binary_logloss: 0.0373895\tvalid_1's binary_logloss: 0.082264\n",
            "[170]\ttraining's binary_logloss: 0.0357445\tvalid_1's binary_logloss: 0.0817602\n",
            "[180]\ttraining's binary_logloss: 0.0336474\tvalid_1's binary_logloss: 0.0814583\n",
            "[190]\ttraining's binary_logloss: 0.0317092\tvalid_1's binary_logloss: 0.0811886\n",
            "[200]\ttraining's binary_logloss: 0.0298133\tvalid_1's binary_logloss: 0.0807668\n",
            "[210]\ttraining's binary_logloss: 0.0283265\tvalid_1's binary_logloss: 0.0804893\n",
            "[220]\ttraining's binary_logloss: 0.0267947\tvalid_1's binary_logloss: 0.0804896\n",
            "[230]\ttraining's binary_logloss: 0.0253559\tvalid_1's binary_logloss: 0.0802702\n",
            "[240]\ttraining's binary_logloss: 0.0238454\tvalid_1's binary_logloss: 0.0800036\n",
            "[250]\ttraining's binary_logloss: 0.0227992\tvalid_1's binary_logloss: 0.0799582\n",
            "[260]\ttraining's binary_logloss: 0.0216784\tvalid_1's binary_logloss: 0.0797223\n",
            "[270]\ttraining's binary_logloss: 0.0204874\tvalid_1's binary_logloss: 0.0798342\n",
            "[280]\ttraining's binary_logloss: 0.0195981\tvalid_1's binary_logloss: 0.0798478\n",
            "[290]\ttraining's binary_logloss: 0.0187997\tvalid_1's binary_logloss: 0.0796971\n",
            "[300]\ttraining's binary_logloss: 0.0177473\tvalid_1's binary_logloss: 0.0797611\n",
            "[310]\ttraining's binary_logloss: 0.0170115\tvalid_1's binary_logloss: 0.0796715\n",
            "[320]\ttraining's binary_logloss: 0.0160561\tvalid_1's binary_logloss: 0.0797479\n",
            "[330]\ttraining's binary_logloss: 0.0153693\tvalid_1's binary_logloss: 0.0800413\n",
            "[340]\ttraining's binary_logloss: 0.014486\tvalid_1's binary_logloss: 0.080195\n",
            "[350]\ttraining's binary_logloss: 0.0136539\tvalid_1's binary_logloss: 0.0802173\n",
            "[360]\ttraining's binary_logloss: 0.0129077\tvalid_1's binary_logloss: 0.0803597\n",
            "[370]\ttraining's binary_logloss: 0.0121212\tvalid_1's binary_logloss: 0.0805178\n",
            "[380]\ttraining's binary_logloss: 0.0113706\tvalid_1's binary_logloss: 0.0809432\n",
            "[390]\ttraining's binary_logloss: 0.0107657\tvalid_1's binary_logloss: 0.0812043\n",
            "[400]\ttraining's binary_logloss: 0.010227\tvalid_1's binary_logloss: 0.0818694\n",
            "[410]\ttraining's binary_logloss: 0.00954008\tvalid_1's binary_logloss: 0.0819276\n",
            "Early stopping, best iteration is:\n",
            "[314]\ttraining's binary_logloss: 0.0165187\tvalid_1's binary_logloss: 0.0795023\n"
          ],
          "name": "stdout"
        },
        {
          "output_type": "stream",
          "text": [
            "\u001b[32m[I 2021-06-04 17:21:46,206]\u001b[0m Trial 2 finished with value: 0.07950226739191199 and parameters: {'n_estimators': 1000, 'lerning_rate': 0.05, 'max_depth': 6, 'max_features': 0.7, 'min_samples_split': 2, 'min_samples_leaf': 6}. Best is trial 0 with value: 0.07950226739191199.\u001b[0m\n",
            "/usr/local/lib/python3.7/dist-packages/lightgbm/engine.py:118: UserWarning:\n",
            "\n",
            "Found `n_estimators` in params. Will use it instead of argument\n",
            "\n",
            "/usr/local/lib/python3.7/dist-packages/lightgbm/basic.py:1205: UserWarning:\n",
            "\n",
            "Using categorical_feature in Dataset.\n",
            "\n",
            "/usr/local/lib/python3.7/dist-packages/lightgbm/basic.py:762: UserWarning:\n",
            "\n",
            "categorical_feature in param dict is overridden.\n",
            "\n"
          ],
          "name": "stderr"
        },
        {
          "output_type": "stream",
          "text": [
            "Training until validation scores don't improve for 100 rounds.\n",
            "[10]\ttraining's binary_logloss: 0.616829\tvalid_1's binary_logloss: 0.616906\n",
            "[20]\ttraining's binary_logloss: 0.553327\tvalid_1's binary_logloss: 0.553572\n",
            "[30]\ttraining's binary_logloss: 0.499584\tvalid_1's binary_logloss: 0.500203\n",
            "[40]\ttraining's binary_logloss: 0.452701\tvalid_1's binary_logloss: 0.453814\n",
            "[50]\ttraining's binary_logloss: 0.411634\tvalid_1's binary_logloss: 0.413236\n",
            "[60]\ttraining's binary_logloss: 0.375426\tvalid_1's binary_logloss: 0.377978\n",
            "[70]\ttraining's binary_logloss: 0.343707\tvalid_1's binary_logloss: 0.347072\n",
            "[80]\ttraining's binary_logloss: 0.315787\tvalid_1's binary_logloss: 0.320113\n",
            "[90]\ttraining's binary_logloss: 0.291207\tvalid_1's binary_logloss: 0.296652\n",
            "[100]\ttraining's binary_logloss: 0.269098\tvalid_1's binary_logloss: 0.275817\n",
            "[110]\ttraining's binary_logloss: 0.249516\tvalid_1's binary_logloss: 0.257306\n",
            "[120]\ttraining's binary_logloss: 0.232055\tvalid_1's binary_logloss: 0.240907\n",
            "[130]\ttraining's binary_logloss: 0.216335\tvalid_1's binary_logloss: 0.226338\n",
            "[140]\ttraining's binary_logloss: 0.202252\tvalid_1's binary_logloss: 0.213252\n",
            "[150]\ttraining's binary_logloss: 0.189683\tvalid_1's binary_logloss: 0.201632\n",
            "[160]\ttraining's binary_logloss: 0.178031\tvalid_1's binary_logloss: 0.190725\n",
            "[170]\ttraining's binary_logloss: 0.167715\tvalid_1's binary_logloss: 0.181012\n",
            "[180]\ttraining's binary_logloss: 0.158241\tvalid_1's binary_logloss: 0.172132\n",
            "[190]\ttraining's binary_logloss: 0.149658\tvalid_1's binary_logloss: 0.16417\n",
            "[200]\ttraining's binary_logloss: 0.141847\tvalid_1's binary_logloss: 0.15696\n",
            "[210]\ttraining's binary_logloss: 0.134625\tvalid_1's binary_logloss: 0.150527\n",
            "[220]\ttraining's binary_logloss: 0.127839\tvalid_1's binary_logloss: 0.144864\n",
            "[230]\ttraining's binary_logloss: 0.121611\tvalid_1's binary_logloss: 0.139734\n",
            "[240]\ttraining's binary_logloss: 0.116027\tvalid_1's binary_logloss: 0.135208\n",
            "[250]\ttraining's binary_logloss: 0.111037\tvalid_1's binary_logloss: 0.131083\n",
            "[260]\ttraining's binary_logloss: 0.106348\tvalid_1's binary_logloss: 0.127107\n",
            "[270]\ttraining's binary_logloss: 0.102048\tvalid_1's binary_logloss: 0.123476\n",
            "[280]\ttraining's binary_logloss: 0.098023\tvalid_1's binary_logloss: 0.119964\n",
            "[290]\ttraining's binary_logloss: 0.0942825\tvalid_1's binary_logloss: 0.11689\n",
            "[300]\ttraining's binary_logloss: 0.0906829\tvalid_1's binary_logloss: 0.114076\n",
            "[310]\ttraining's binary_logloss: 0.0874779\tvalid_1's binary_logloss: 0.111554\n",
            "[320]\ttraining's binary_logloss: 0.084399\tvalid_1's binary_logloss: 0.109196\n",
            "[330]\ttraining's binary_logloss: 0.0814896\tvalid_1's binary_logloss: 0.10704\n",
            "[340]\ttraining's binary_logloss: 0.0787496\tvalid_1's binary_logloss: 0.104795\n",
            "[350]\ttraining's binary_logloss: 0.0761457\tvalid_1's binary_logloss: 0.102741\n",
            "[360]\ttraining's binary_logloss: 0.0737365\tvalid_1's binary_logloss: 0.101112\n",
            "[370]\ttraining's binary_logloss: 0.0715015\tvalid_1's binary_logloss: 0.0995443\n",
            "[380]\ttraining's binary_logloss: 0.0693821\tvalid_1's binary_logloss: 0.0980127\n",
            "[390]\ttraining's binary_logloss: 0.0672561\tvalid_1's binary_logloss: 0.096386\n",
            "[400]\ttraining's binary_logloss: 0.0653078\tvalid_1's binary_logloss: 0.0949951\n",
            "[410]\ttraining's binary_logloss: 0.0635105\tvalid_1's binary_logloss: 0.093761\n",
            "[420]\ttraining's binary_logloss: 0.0618205\tvalid_1's binary_logloss: 0.0926767\n",
            "[430]\ttraining's binary_logloss: 0.0601921\tvalid_1's binary_logloss: 0.09171\n",
            "[440]\ttraining's binary_logloss: 0.0586311\tvalid_1's binary_logloss: 0.0909011\n",
            "[450]\ttraining's binary_logloss: 0.0571734\tvalid_1's binary_logloss: 0.0900677\n",
            "[460]\ttraining's binary_logloss: 0.0558108\tvalid_1's binary_logloss: 0.0894581\n",
            "[470]\ttraining's binary_logloss: 0.0545099\tvalid_1's binary_logloss: 0.0889063\n",
            "[480]\ttraining's binary_logloss: 0.0532607\tvalid_1's binary_logloss: 0.0884247\n",
            "[490]\ttraining's binary_logloss: 0.0519976\tvalid_1's binary_logloss: 0.0878043\n",
            "[500]\ttraining's binary_logloss: 0.0508042\tvalid_1's binary_logloss: 0.087209\n",
            "Did not meet early stopping. Best iteration is:\n",
            "[500]\ttraining's binary_logloss: 0.0508042\tvalid_1's binary_logloss: 0.087209\n"
          ],
          "name": "stdout"
        },
        {
          "output_type": "stream",
          "text": [
            "\u001b[32m[I 2021-06-04 17:21:47,779]\u001b[0m Trial 3 finished with value: 0.08720901613612021 and parameters: {'n_estimators': 500, 'lerning_rate': 0.01, 'max_depth': 8, 'max_features': 0.7, 'min_samples_split': 6, 'min_samples_leaf': 6}. Best is trial 0 with value: 0.07950226739191199.\u001b[0m\n",
            "/usr/local/lib/python3.7/dist-packages/lightgbm/engine.py:118: UserWarning:\n",
            "\n",
            "Found `n_estimators` in params. Will use it instead of argument\n",
            "\n",
            "/usr/local/lib/python3.7/dist-packages/lightgbm/basic.py:1205: UserWarning:\n",
            "\n",
            "Using categorical_feature in Dataset.\n",
            "\n",
            "/usr/local/lib/python3.7/dist-packages/lightgbm/basic.py:762: UserWarning:\n",
            "\n",
            "categorical_feature in param dict is overridden.\n",
            "\n"
          ],
          "name": "stderr"
        },
        {
          "output_type": "stream",
          "text": [
            "Training until validation scores don't improve for 100 rounds.\n",
            "[10]\ttraining's binary_logloss: 0.616829\tvalid_1's binary_logloss: 0.616906\n",
            "[20]\ttraining's binary_logloss: 0.553327\tvalid_1's binary_logloss: 0.553572\n",
            "[30]\ttraining's binary_logloss: 0.499584\tvalid_1's binary_logloss: 0.500203\n",
            "[40]\ttraining's binary_logloss: 0.452701\tvalid_1's binary_logloss: 0.453814\n",
            "[50]\ttraining's binary_logloss: 0.411634\tvalid_1's binary_logloss: 0.413236\n",
            "[60]\ttraining's binary_logloss: 0.375426\tvalid_1's binary_logloss: 0.377978\n",
            "[70]\ttraining's binary_logloss: 0.343707\tvalid_1's binary_logloss: 0.347072\n",
            "[80]\ttraining's binary_logloss: 0.315787\tvalid_1's binary_logloss: 0.320113\n",
            "[90]\ttraining's binary_logloss: 0.291207\tvalid_1's binary_logloss: 0.296652\n",
            "[100]\ttraining's binary_logloss: 0.269098\tvalid_1's binary_logloss: 0.275817\n",
            "[110]\ttraining's binary_logloss: 0.249516\tvalid_1's binary_logloss: 0.257306\n",
            "[120]\ttraining's binary_logloss: 0.232055\tvalid_1's binary_logloss: 0.240907\n",
            "[130]\ttraining's binary_logloss: 0.216335\tvalid_1's binary_logloss: 0.226338\n",
            "[140]\ttraining's binary_logloss: 0.202252\tvalid_1's binary_logloss: 0.213252\n",
            "[150]\ttraining's binary_logloss: 0.189683\tvalid_1's binary_logloss: 0.201632\n",
            "[160]\ttraining's binary_logloss: 0.178031\tvalid_1's binary_logloss: 0.190725\n",
            "[170]\ttraining's binary_logloss: 0.167715\tvalid_1's binary_logloss: 0.181012\n",
            "[180]\ttraining's binary_logloss: 0.158241\tvalid_1's binary_logloss: 0.172132\n",
            "[190]\ttraining's binary_logloss: 0.149658\tvalid_1's binary_logloss: 0.16417\n",
            "[200]\ttraining's binary_logloss: 0.141847\tvalid_1's binary_logloss: 0.15696\n",
            "[210]\ttraining's binary_logloss: 0.134625\tvalid_1's binary_logloss: 0.150527\n",
            "[220]\ttraining's binary_logloss: 0.127839\tvalid_1's binary_logloss: 0.144864\n",
            "[230]\ttraining's binary_logloss: 0.121611\tvalid_1's binary_logloss: 0.139734\n",
            "[240]\ttraining's binary_logloss: 0.116027\tvalid_1's binary_logloss: 0.135208\n",
            "[250]\ttraining's binary_logloss: 0.111037\tvalid_1's binary_logloss: 0.131083\n",
            "[260]\ttraining's binary_logloss: 0.106348\tvalid_1's binary_logloss: 0.127107\n",
            "[270]\ttraining's binary_logloss: 0.102048\tvalid_1's binary_logloss: 0.123476\n",
            "[280]\ttraining's binary_logloss: 0.098023\tvalid_1's binary_logloss: 0.119964\n",
            "[290]\ttraining's binary_logloss: 0.0942825\tvalid_1's binary_logloss: 0.11689\n",
            "[300]\ttraining's binary_logloss: 0.0906829\tvalid_1's binary_logloss: 0.114076\n",
            "Did not meet early stopping. Best iteration is:\n",
            "[300]\ttraining's binary_logloss: 0.0906829\tvalid_1's binary_logloss: 0.114076\n"
          ],
          "name": "stdout"
        },
        {
          "output_type": "stream",
          "text": [
            "\u001b[32m[I 2021-06-04 17:21:48,711]\u001b[0m Trial 4 finished with value: 0.11407641550020031 and parameters: {'n_estimators': 300, 'lerning_rate': 0.01, 'max_depth': 8, 'max_features': 0.3, 'min_samples_split': 6, 'min_samples_leaf': 6}. Best is trial 0 with value: 0.07950226739191199.\u001b[0m\n",
            "/usr/local/lib/python3.7/dist-packages/lightgbm/engine.py:118: UserWarning:\n",
            "\n",
            "Found `n_estimators` in params. Will use it instead of argument\n",
            "\n",
            "/usr/local/lib/python3.7/dist-packages/lightgbm/basic.py:1205: UserWarning:\n",
            "\n",
            "Using categorical_feature in Dataset.\n",
            "\n",
            "/usr/local/lib/python3.7/dist-packages/lightgbm/basic.py:762: UserWarning:\n",
            "\n",
            "categorical_feature in param dict is overridden.\n",
            "\n"
          ],
          "name": "stderr"
        },
        {
          "output_type": "stream",
          "text": [
            "Training until validation scores don't improve for 100 rounds.\n",
            "[10]\ttraining's binary_logloss: 0.418997\tvalid_1's binary_logloss: 0.420731\n",
            "[20]\ttraining's binary_logloss: 0.282218\tvalid_1's binary_logloss: 0.287381\n",
            "[30]\ttraining's binary_logloss: 0.206188\tvalid_1's binary_logloss: 0.215322\n",
            "[40]\ttraining's binary_logloss: 0.160089\tvalid_1's binary_logloss: 0.171675\n",
            "[50]\ttraining's binary_logloss: 0.130013\tvalid_1's binary_logloss: 0.144479\n",
            "[60]\ttraining's binary_logloss: 0.109227\tvalid_1's binary_logloss: 0.125945\n",
            "[70]\ttraining's binary_logloss: 0.0940343\tvalid_1's binary_logloss: 0.113364\n",
            "[80]\ttraining's binary_logloss: 0.0828253\tvalid_1's binary_logloss: 0.104801\n",
            "[90]\ttraining's binary_logloss: 0.0744705\tvalid_1's binary_logloss: 0.0988442\n",
            "[100]\ttraining's binary_logloss: 0.0678946\tvalid_1's binary_logloss: 0.094721\n",
            "[110]\ttraining's binary_logloss: 0.0624988\tvalid_1's binary_logloss: 0.0913801\n",
            "[120]\ttraining's binary_logloss: 0.0585045\tvalid_1's binary_logloss: 0.089354\n",
            "[130]\ttraining's binary_logloss: 0.0550333\tvalid_1's binary_logloss: 0.0874419\n",
            "[140]\ttraining's binary_logloss: 0.0519388\tvalid_1's binary_logloss: 0.0858294\n",
            "[150]\ttraining's binary_logloss: 0.0492584\tvalid_1's binary_logloss: 0.0848701\n",
            "[160]\ttraining's binary_logloss: 0.0466821\tvalid_1's binary_logloss: 0.0838417\n",
            "[170]\ttraining's binary_logloss: 0.0445855\tvalid_1's binary_logloss: 0.0833475\n",
            "[180]\ttraining's binary_logloss: 0.0422962\tvalid_1's binary_logloss: 0.0824579\n",
            "[190]\ttraining's binary_logloss: 0.0404459\tvalid_1's binary_logloss: 0.0819334\n",
            "[200]\ttraining's binary_logloss: 0.0390711\tvalid_1's binary_logloss: 0.0813806\n",
            "[210]\ttraining's binary_logloss: 0.0373853\tvalid_1's binary_logloss: 0.080532\n",
            "[220]\ttraining's binary_logloss: 0.0360873\tvalid_1's binary_logloss: 0.0802617\n",
            "[230]\ttraining's binary_logloss: 0.0346456\tvalid_1's binary_logloss: 0.0801191\n",
            "[240]\ttraining's binary_logloss: 0.0336365\tvalid_1's binary_logloss: 0.0798566\n",
            "[250]\ttraining's binary_logloss: 0.0320279\tvalid_1's binary_logloss: 0.0792543\n",
            "[260]\ttraining's binary_logloss: 0.0309858\tvalid_1's binary_logloss: 0.0789378\n",
            "[270]\ttraining's binary_logloss: 0.0300017\tvalid_1's binary_logloss: 0.079113\n",
            "[280]\ttraining's binary_logloss: 0.0284746\tvalid_1's binary_logloss: 0.0786074\n",
            "[290]\ttraining's binary_logloss: 0.0276014\tvalid_1's binary_logloss: 0.0785746\n",
            "[300]\ttraining's binary_logloss: 0.026531\tvalid_1's binary_logloss: 0.0787535\n",
            "[310]\ttraining's binary_logloss: 0.0254982\tvalid_1's binary_logloss: 0.0786233\n",
            "[320]\ttraining's binary_logloss: 0.0244612\tvalid_1's binary_logloss: 0.0783247\n",
            "[330]\ttraining's binary_logloss: 0.0234639\tvalid_1's binary_logloss: 0.0782165\n",
            "[340]\ttraining's binary_logloss: 0.0224665\tvalid_1's binary_logloss: 0.078238\n",
            "[350]\ttraining's binary_logloss: 0.0214653\tvalid_1's binary_logloss: 0.078109\n",
            "[360]\ttraining's binary_logloss: 0.020878\tvalid_1's binary_logloss: 0.0783936\n",
            "[370]\ttraining's binary_logloss: 0.0201838\tvalid_1's binary_logloss: 0.07862\n",
            "[380]\ttraining's binary_logloss: 0.0193581\tvalid_1's binary_logloss: 0.0788847\n",
            "[390]\ttraining's binary_logloss: 0.0185383\tvalid_1's binary_logloss: 0.0789581\n",
            "[400]\ttraining's binary_logloss: 0.0180344\tvalid_1's binary_logloss: 0.0792781\n",
            "[410]\ttraining's binary_logloss: 0.017412\tvalid_1's binary_logloss: 0.0793388\n",
            "[420]\ttraining's binary_logloss: 0.0168615\tvalid_1's binary_logloss: 0.079478\n",
            "[430]\ttraining's binary_logloss: 0.0161291\tvalid_1's binary_logloss: 0.0792406\n"
          ],
          "name": "stdout"
        },
        {
          "output_type": "stream",
          "text": [
            "\u001b[32m[I 2021-06-04 17:21:49,922]\u001b[0m Trial 5 finished with value: 0.0780556546583138 and parameters: {'n_estimators': 500, 'lerning_rate': 0.05, 'max_depth': 5, 'max_features': 0.1, 'min_samples_split': 2, 'min_samples_leaf': 2}. Best is trial 5 with value: 0.0780556546583138.\u001b[0m\n"
          ],
          "name": "stderr"
        },
        {
          "output_type": "stream",
          "text": [
            "[440]\ttraining's binary_logloss: 0.0154738\tvalid_1's binary_logloss: 0.0791613\n",
            "Early stopping, best iteration is:\n",
            "[344]\ttraining's binary_logloss: 0.0220129\tvalid_1's binary_logloss: 0.0780557\n",
            "Training until validation scores don't improve for 100 rounds.\n",
            "[10]\ttraining's binary_logloss: 0.409698\tvalid_1's binary_logloss: 0.411253\n",
            "[20]\ttraining's binary_logloss: 0.267993\tvalid_1's binary_logloss: 0.274399\n",
            "[30]\ttraining's binary_logloss: 0.189238\tvalid_1's binary_logloss: 0.200589\n"
          ],
          "name": "stdout"
        },
        {
          "output_type": "stream",
          "text": [
            "/usr/local/lib/python3.7/dist-packages/lightgbm/engine.py:118: UserWarning:\n",
            "\n",
            "Found `n_estimators` in params. Will use it instead of argument\n",
            "\n",
            "/usr/local/lib/python3.7/dist-packages/lightgbm/basic.py:1205: UserWarning:\n",
            "\n",
            "Using categorical_feature in Dataset.\n",
            "\n",
            "/usr/local/lib/python3.7/dist-packages/lightgbm/basic.py:762: UserWarning:\n",
            "\n",
            "categorical_feature in param dict is overridden.\n",
            "\n"
          ],
          "name": "stderr"
        },
        {
          "output_type": "stream",
          "text": [
            "[40]\ttraining's binary_logloss: 0.141871\tvalid_1's binary_logloss: 0.156714\n",
            "[50]\ttraining's binary_logloss: 0.111377\tvalid_1's binary_logloss: 0.131017\n",
            "[60]\ttraining's binary_logloss: 0.0913246\tvalid_1's binary_logloss: 0.114705\n",
            "[70]\ttraining's binary_logloss: 0.0766883\tvalid_1's binary_logloss: 0.103426\n",
            "[80]\ttraining's binary_logloss: 0.0662109\tvalid_1's binary_logloss: 0.0955257\n",
            "[90]\ttraining's binary_logloss: 0.0579735\tvalid_1's binary_logloss: 0.0907321\n",
            "[100]\ttraining's binary_logloss: 0.0519366\tvalid_1's binary_logloss: 0.0873016\n",
            "[110]\ttraining's binary_logloss: 0.0467174\tvalid_1's binary_logloss: 0.084692\n",
            "[120]\ttraining's binary_logloss: 0.042823\tvalid_1's binary_logloss: 0.0825027\n",
            "[130]\ttraining's binary_logloss: 0.039263\tvalid_1's binary_logloss: 0.080728\n",
            "[140]\ttraining's binary_logloss: 0.0368088\tvalid_1's binary_logloss: 0.0795862\n",
            "[150]\ttraining's binary_logloss: 0.0341807\tvalid_1's binary_logloss: 0.0785089\n",
            "[160]\ttraining's binary_logloss: 0.031824\tvalid_1's binary_logloss: 0.0776682\n",
            "[170]\ttraining's binary_logloss: 0.0294623\tvalid_1's binary_logloss: 0.0773473\n",
            "[180]\ttraining's binary_logloss: 0.0277132\tvalid_1's binary_logloss: 0.0770717\n",
            "[190]\ttraining's binary_logloss: 0.0260938\tvalid_1's binary_logloss: 0.0768503\n",
            "[200]\ttraining's binary_logloss: 0.0243262\tvalid_1's binary_logloss: 0.0768429\n",
            "[210]\ttraining's binary_logloss: 0.0228748\tvalid_1's binary_logloss: 0.076908\n",
            "[220]\ttraining's binary_logloss: 0.021454\tvalid_1's binary_logloss: 0.0766721\n",
            "[230]\ttraining's binary_logloss: 0.0199342\tvalid_1's binary_logloss: 0.076072\n",
            "[240]\ttraining's binary_logloss: 0.0185507\tvalid_1's binary_logloss: 0.075876\n",
            "[250]\ttraining's binary_logloss: 0.0175056\tvalid_1's binary_logloss: 0.075725\n",
            "[260]\ttraining's binary_logloss: 0.0163431\tvalid_1's binary_logloss: 0.0753673\n",
            "[270]\ttraining's binary_logloss: 0.0151222\tvalid_1's binary_logloss: 0.0750839\n",
            "[280]\ttraining's binary_logloss: 0.0140374\tvalid_1's binary_logloss: 0.0746954\n",
            "[290]\ttraining's binary_logloss: 0.013094\tvalid_1's binary_logloss: 0.074504\n",
            "[300]\ttraining's binary_logloss: 0.0123084\tvalid_1's binary_logloss: 0.0747105\n",
            "[310]\ttraining's binary_logloss: 0.0114225\tvalid_1's binary_logloss: 0.0748976\n",
            "[320]\ttraining's binary_logloss: 0.0107359\tvalid_1's binary_logloss: 0.0751468\n",
            "[330]\ttraining's binary_logloss: 0.0101537\tvalid_1's binary_logloss: 0.0751449\n",
            "[340]\ttraining's binary_logloss: 0.00961056\tvalid_1's binary_logloss: 0.0755691\n",
            "[350]\ttraining's binary_logloss: 0.00917149\tvalid_1's binary_logloss: 0.0756973\n",
            "[360]\ttraining's binary_logloss: 0.00863189\tvalid_1's binary_logloss: 0.076131\n",
            "[370]\ttraining's binary_logloss: 0.00827119\tvalid_1's binary_logloss: 0.0763711\n"
          ],
          "name": "stdout"
        },
        {
          "output_type": "stream",
          "text": [
            "\u001b[32m[I 2021-06-04 17:21:51,039]\u001b[0m Trial 6 finished with value: 0.07448800223470399 and parameters: {'n_estimators': 500, 'lerning_rate': 0.05, 'max_depth': 7, 'max_features': 0.3, 'min_samples_split': 2, 'min_samples_leaf': 2}. Best is trial 6 with value: 0.07448800223470399.\u001b[0m\n"
          ],
          "name": "stderr"
        },
        {
          "output_type": "stream",
          "text": [
            "[380]\ttraining's binary_logloss: 0.00773575\tvalid_1's binary_logloss: 0.0768945\n",
            "Early stopping, best iteration is:\n",
            "[284]\ttraining's binary_logloss: 0.0136564\tvalid_1's binary_logloss: 0.074488\n",
            "Training until validation scores don't improve for 100 rounds.\n",
            "[10]\ttraining's binary_logloss: 0.279465\tvalid_1's binary_logloss: 0.283816\n",
            "[20]\ttraining's binary_logloss: 0.158591\tvalid_1's binary_logloss: 0.168818\n"
          ],
          "name": "stdout"
        },
        {
          "output_type": "stream",
          "text": [
            "/usr/local/lib/python3.7/dist-packages/lightgbm/engine.py:118: UserWarning:\n",
            "\n",
            "Found `n_estimators` in params. Will use it instead of argument\n",
            "\n",
            "/usr/local/lib/python3.7/dist-packages/lightgbm/basic.py:1205: UserWarning:\n",
            "\n",
            "Using categorical_feature in Dataset.\n",
            "\n",
            "/usr/local/lib/python3.7/dist-packages/lightgbm/basic.py:762: UserWarning:\n",
            "\n",
            "categorical_feature in param dict is overridden.\n",
            "\n"
          ],
          "name": "stderr"
        },
        {
          "output_type": "stream",
          "text": [
            "[30]\ttraining's binary_logloss: 0.109111\tvalid_1's binary_logloss: 0.124439\n",
            "[40]\ttraining's binary_logloss: 0.0824071\tvalid_1's binary_logloss: 0.103053\n",
            "[50]\ttraining's binary_logloss: 0.0673429\tvalid_1's binary_logloss: 0.0930575\n",
            "[60]\ttraining's binary_logloss: 0.057791\tvalid_1's binary_logloss: 0.087877\n",
            "[70]\ttraining's binary_logloss: 0.0515709\tvalid_1's binary_logloss: 0.0847377\n",
            "[80]\ttraining's binary_logloss: 0.0465893\tvalid_1's binary_logloss: 0.0827245\n",
            "[90]\ttraining's binary_logloss: 0.0416123\tvalid_1's binary_logloss: 0.0808693\n",
            "[100]\ttraining's binary_logloss: 0.0375096\tvalid_1's binary_logloss: 0.0799143\n",
            "[110]\ttraining's binary_logloss: 0.0348517\tvalid_1's binary_logloss: 0.0793419\n",
            "[120]\ttraining's binary_logloss: 0.0320054\tvalid_1's binary_logloss: 0.0794165\n",
            "[130]\ttraining's binary_logloss: 0.0292597\tvalid_1's binary_logloss: 0.0785738\n",
            "[140]\ttraining's binary_logloss: 0.0274899\tvalid_1's binary_logloss: 0.0786151\n",
            "[150]\ttraining's binary_logloss: 0.0256182\tvalid_1's binary_logloss: 0.0785106\n",
            "[160]\ttraining's binary_logloss: 0.0234417\tvalid_1's binary_logloss: 0.078432\n",
            "[170]\ttraining's binary_logloss: 0.0217006\tvalid_1's binary_logloss: 0.0783482\n",
            "[180]\ttraining's binary_logloss: 0.020285\tvalid_1's binary_logloss: 0.0783388\n",
            "[190]\ttraining's binary_logloss: 0.0187138\tvalid_1's binary_logloss: 0.078889\n",
            "[200]\ttraining's binary_logloss: 0.0174396\tvalid_1's binary_logloss: 0.0792065\n"
          ],
          "name": "stdout"
        },
        {
          "output_type": "stream",
          "text": [
            "\u001b[32m[I 2021-06-04 17:21:51,752]\u001b[0m Trial 7 finished with value: 0.07802451522981214 and parameters: {'n_estimators': 800, 'lerning_rate': 0.1, 'max_depth': 5, 'max_features': 0.1, 'min_samples_split': 6, 'min_samples_leaf': 6}. Best is trial 6 with value: 0.07448800223470399.\u001b[0m\n"
          ],
          "name": "stderr"
        },
        {
          "output_type": "stream",
          "text": [
            "[210]\ttraining's binary_logloss: 0.0163908\tvalid_1's binary_logloss: 0.0796502\n",
            "[220]\ttraining's binary_logloss: 0.0151897\tvalid_1's binary_logloss: 0.0801874\n",
            "[230]\ttraining's binary_logloss: 0.0143293\tvalid_1's binary_logloss: 0.0809027\n",
            "[240]\ttraining's binary_logloss: 0.0129818\tvalid_1's binary_logloss: 0.0814794\n",
            "[250]\ttraining's binary_logloss: 0.0117821\tvalid_1's binary_logloss: 0.0820287\n",
            "Early stopping, best iteration is:\n",
            "[156]\ttraining's binary_logloss: 0.0241121\tvalid_1's binary_logloss: 0.0780245\n",
            "Training until validation scores don't improve for 100 rounds.\n"
          ],
          "name": "stdout"
        },
        {
          "output_type": "stream",
          "text": [
            "/usr/local/lib/python3.7/dist-packages/lightgbm/engine.py:118: UserWarning:\n",
            "\n",
            "Found `n_estimators` in params. Will use it instead of argument\n",
            "\n",
            "/usr/local/lib/python3.7/dist-packages/lightgbm/basic.py:1205: UserWarning:\n",
            "\n",
            "Using categorical_feature in Dataset.\n",
            "\n",
            "/usr/local/lib/python3.7/dist-packages/lightgbm/basic.py:762: UserWarning:\n",
            "\n",
            "categorical_feature in param dict is overridden.\n",
            "\n"
          ],
          "name": "stderr"
        },
        {
          "output_type": "stream",
          "text": [
            "[10]\ttraining's binary_logloss: 0.279465\tvalid_1's binary_logloss: 0.283816\n",
            "[20]\ttraining's binary_logloss: 0.158591\tvalid_1's binary_logloss: 0.168818\n",
            "[30]\ttraining's binary_logloss: 0.109111\tvalid_1's binary_logloss: 0.124439\n",
            "[40]\ttraining's binary_logloss: 0.0824071\tvalid_1's binary_logloss: 0.103053\n",
            "[50]\ttraining's binary_logloss: 0.0673429\tvalid_1's binary_logloss: 0.0930575\n",
            "[60]\ttraining's binary_logloss: 0.057791\tvalid_1's binary_logloss: 0.087877\n",
            "[70]\ttraining's binary_logloss: 0.0515709\tvalid_1's binary_logloss: 0.0847377\n",
            "[80]\ttraining's binary_logloss: 0.0465893\tvalid_1's binary_logloss: 0.0827245\n",
            "[90]\ttraining's binary_logloss: 0.0416123\tvalid_1's binary_logloss: 0.0808693\n",
            "[100]\ttraining's binary_logloss: 0.0375096\tvalid_1's binary_logloss: 0.0799143\n",
            "[110]\ttraining's binary_logloss: 0.0348517\tvalid_1's binary_logloss: 0.0793419\n",
            "[120]\ttraining's binary_logloss: 0.0320054\tvalid_1's binary_logloss: 0.0794165\n",
            "[130]\ttraining's binary_logloss: 0.0292597\tvalid_1's binary_logloss: 0.0785738\n",
            "[140]\ttraining's binary_logloss: 0.0274899\tvalid_1's binary_logloss: 0.0786151\n",
            "[150]\ttraining's binary_logloss: 0.0256182\tvalid_1's binary_logloss: 0.0785106\n",
            "[160]\ttraining's binary_logloss: 0.0234417\tvalid_1's binary_logloss: 0.078432\n",
            "[170]\ttraining's binary_logloss: 0.0217006\tvalid_1's binary_logloss: 0.0783482\n",
            "[180]\ttraining's binary_logloss: 0.020285\tvalid_1's binary_logloss: 0.0783388\n",
            "[190]\ttraining's binary_logloss: 0.0187138\tvalid_1's binary_logloss: 0.078889\n",
            "[200]\ttraining's binary_logloss: 0.0174396\tvalid_1's binary_logloss: 0.0792065\n",
            "[210]\ttraining's binary_logloss: 0.0163908\tvalid_1's binary_logloss: 0.0796502\n",
            "[220]\ttraining's binary_logloss: 0.0151897\tvalid_1's binary_logloss: 0.0801874\n",
            "[230]\ttraining's binary_logloss: 0.0143293\tvalid_1's binary_logloss: 0.0809027\n",
            "[240]\ttraining's binary_logloss: 0.0129818\tvalid_1's binary_logloss: 0.0814794\n",
            "[250]\ttraining's binary_logloss: 0.0117821\tvalid_1's binary_logloss: 0.0820287\n",
            "Early stopping, best iteration is:\n",
            "[156]\ttraining's binary_logloss: 0.0241121\tvalid_1's binary_logloss: 0.0780245\n"
          ],
          "name": "stdout"
        },
        {
          "output_type": "stream",
          "text": [
            "\u001b[32m[I 2021-06-04 17:21:52,483]\u001b[0m Trial 8 finished with value: 0.07802451522981214 and parameters: {'n_estimators': 1000, 'lerning_rate': 0.1, 'max_depth': 5, 'max_features': 0.5, 'min_samples_split': 6, 'min_samples_leaf': 2}. Best is trial 6 with value: 0.07448800223470399.\u001b[0m\n",
            "/usr/local/lib/python3.7/dist-packages/lightgbm/engine.py:118: UserWarning:\n",
            "\n",
            "Found `n_estimators` in params. Will use it instead of argument\n",
            "\n",
            "/usr/local/lib/python3.7/dist-packages/lightgbm/basic.py:1205: UserWarning:\n",
            "\n",
            "Using categorical_feature in Dataset.\n",
            "\n",
            "/usr/local/lib/python3.7/dist-packages/lightgbm/basic.py:762: UserWarning:\n",
            "\n",
            "categorical_feature in param dict is overridden.\n",
            "\n"
          ],
          "name": "stderr"
        },
        {
          "output_type": "stream",
          "text": [
            "Training until validation scores don't improve for 100 rounds.\n",
            "[10]\ttraining's binary_logloss: 0.409698\tvalid_1's binary_logloss: 0.411253\n",
            "[20]\ttraining's binary_logloss: 0.267993\tvalid_1's binary_logloss: 0.274399\n",
            "[30]\ttraining's binary_logloss: 0.189238\tvalid_1's binary_logloss: 0.200589\n",
            "[40]\ttraining's binary_logloss: 0.141871\tvalid_1's binary_logloss: 0.156714\n",
            "[50]\ttraining's binary_logloss: 0.111377\tvalid_1's binary_logloss: 0.131017\n",
            "[60]\ttraining's binary_logloss: 0.0913246\tvalid_1's binary_logloss: 0.114705\n",
            "[70]\ttraining's binary_logloss: 0.0766883\tvalid_1's binary_logloss: 0.103426\n",
            "[80]\ttraining's binary_logloss: 0.0662109\tvalid_1's binary_logloss: 0.0955257\n",
            "[90]\ttraining's binary_logloss: 0.0579735\tvalid_1's binary_logloss: 0.0907321\n",
            "[100]\ttraining's binary_logloss: 0.0519366\tvalid_1's binary_logloss: 0.0873016\n",
            "[110]\ttraining's binary_logloss: 0.0467174\tvalid_1's binary_logloss: 0.084692\n",
            "[120]\ttraining's binary_logloss: 0.042823\tvalid_1's binary_logloss: 0.0825027\n",
            "[130]\ttraining's binary_logloss: 0.039263\tvalid_1's binary_logloss: 0.080728\n",
            "[140]\ttraining's binary_logloss: 0.0368088\tvalid_1's binary_logloss: 0.0795862\n",
            "[150]\ttraining's binary_logloss: 0.0341807\tvalid_1's binary_logloss: 0.0785089\n",
            "[160]\ttraining's binary_logloss: 0.031824\tvalid_1's binary_logloss: 0.0776682\n",
            "[170]\ttraining's binary_logloss: 0.0294623\tvalid_1's binary_logloss: 0.0773473\n",
            "[180]\ttraining's binary_logloss: 0.0277132\tvalid_1's binary_logloss: 0.0770717\n",
            "[190]\ttraining's binary_logloss: 0.0260938\tvalid_1's binary_logloss: 0.0768503\n",
            "[200]\ttraining's binary_logloss: 0.0243262\tvalid_1's binary_logloss: 0.0768429\n",
            "[210]\ttraining's binary_logloss: 0.0228748\tvalid_1's binary_logloss: 0.076908\n",
            "[220]\ttraining's binary_logloss: 0.021454\tvalid_1's binary_logloss: 0.0766721\n",
            "[230]\ttraining's binary_logloss: 0.0199342\tvalid_1's binary_logloss: 0.076072\n",
            "[240]\ttraining's binary_logloss: 0.0185507\tvalid_1's binary_logloss: 0.075876\n",
            "[250]\ttraining's binary_logloss: 0.0175056\tvalid_1's binary_logloss: 0.075725\n",
            "[260]\ttraining's binary_logloss: 0.0163431\tvalid_1's binary_logloss: 0.0753673\n",
            "[270]\ttraining's binary_logloss: 0.0151222\tvalid_1's binary_logloss: 0.0750839\n",
            "[280]\ttraining's binary_logloss: 0.0140374\tvalid_1's binary_logloss: 0.0746954\n",
            "[290]\ttraining's binary_logloss: 0.013094\tvalid_1's binary_logloss: 0.074504\n",
            "[300]\ttraining's binary_logloss: 0.0123084\tvalid_1's binary_logloss: 0.0747105\n",
            "[310]\ttraining's binary_logloss: 0.0114225\tvalid_1's binary_logloss: 0.0748976\n",
            "[320]\ttraining's binary_logloss: 0.0107359\tvalid_1's binary_logloss: 0.0751468\n",
            "[330]\ttraining's binary_logloss: 0.0101537\tvalid_1's binary_logloss: 0.0751449\n",
            "[340]\ttraining's binary_logloss: 0.00961056\tvalid_1's binary_logloss: 0.0755691\n",
            "[350]\ttraining's binary_logloss: 0.00917149\tvalid_1's binary_logloss: 0.0756973\n",
            "[360]\ttraining's binary_logloss: 0.00863189\tvalid_1's binary_logloss: 0.076131\n",
            "[370]\ttraining's binary_logloss: 0.00827119\tvalid_1's binary_logloss: 0.0763711\n",
            "[380]\ttraining's binary_logloss: 0.00773575\tvalid_1's binary_logloss: 0.0768945\n",
            "Early stopping, best iteration is:\n",
            "[284]\ttraining's binary_logloss: 0.0136564\tvalid_1's binary_logloss: 0.074488\n"
          ],
          "name": "stdout"
        },
        {
          "output_type": "stream",
          "text": [
            "\u001b[32m[I 2021-06-04 17:21:53,593]\u001b[0m Trial 9 finished with value: 0.07448800223470399 and parameters: {'n_estimators': 1000, 'lerning_rate': 0.05, 'max_depth': 7, 'max_features': 0.1, 'min_samples_split': 2, 'min_samples_leaf': 2}. Best is trial 6 with value: 0.07448800223470399.\u001b[0m\n",
            "/usr/local/lib/python3.7/dist-packages/lightgbm/engine.py:118: UserWarning:\n",
            "\n",
            "Found `n_estimators` in params. Will use it instead of argument\n",
            "\n",
            "/usr/local/lib/python3.7/dist-packages/lightgbm/basic.py:1205: UserWarning:\n",
            "\n",
            "Using categorical_feature in Dataset.\n",
            "\n",
            "/usr/local/lib/python3.7/dist-packages/lightgbm/basic.py:762: UserWarning:\n",
            "\n",
            "categorical_feature in param dict is overridden.\n",
            "\n"
          ],
          "name": "stderr"
        },
        {
          "output_type": "stream",
          "text": [
            "Training until validation scores don't improve for 100 rounds.\n",
            "[10]\ttraining's binary_logloss: 0.409698\tvalid_1's binary_logloss: 0.411253\n",
            "[20]\ttraining's binary_logloss: 0.267993\tvalid_1's binary_logloss: 0.274399\n",
            "[30]\ttraining's binary_logloss: 0.189238\tvalid_1's binary_logloss: 0.200589\n",
            "[40]\ttraining's binary_logloss: 0.141871\tvalid_1's binary_logloss: 0.156714\n",
            "[50]\ttraining's binary_logloss: 0.111377\tvalid_1's binary_logloss: 0.131017\n",
            "[60]\ttraining's binary_logloss: 0.0913246\tvalid_1's binary_logloss: 0.114705\n",
            "[70]\ttraining's binary_logloss: 0.0766883\tvalid_1's binary_logloss: 0.103426\n",
            "[80]\ttraining's binary_logloss: 0.0662109\tvalid_1's binary_logloss: 0.0955257\n",
            "[90]\ttraining's binary_logloss: 0.0579735\tvalid_1's binary_logloss: 0.0907321\n",
            "[100]\ttraining's binary_logloss: 0.0519366\tvalid_1's binary_logloss: 0.0873016\n",
            "[110]\ttraining's binary_logloss: 0.0467174\tvalid_1's binary_logloss: 0.084692\n",
            "[120]\ttraining's binary_logloss: 0.042823\tvalid_1's binary_logloss: 0.0825027\n",
            "[130]\ttraining's binary_logloss: 0.039263\tvalid_1's binary_logloss: 0.080728\n",
            "[140]\ttraining's binary_logloss: 0.0368088\tvalid_1's binary_logloss: 0.0795862\n",
            "[150]\ttraining's binary_logloss: 0.0341807\tvalid_1's binary_logloss: 0.0785089\n",
            "[160]\ttraining's binary_logloss: 0.031824\tvalid_1's binary_logloss: 0.0776682\n",
            "[170]\ttraining's binary_logloss: 0.0294623\tvalid_1's binary_logloss: 0.0773473\n",
            "[180]\ttraining's binary_logloss: 0.0277132\tvalid_1's binary_logloss: 0.0770717\n",
            "[190]\ttraining's binary_logloss: 0.0260938\tvalid_1's binary_logloss: 0.0768503\n",
            "[200]\ttraining's binary_logloss: 0.0243262\tvalid_1's binary_logloss: 0.0768429\n",
            "[210]\ttraining's binary_logloss: 0.0228748\tvalid_1's binary_logloss: 0.076908\n",
            "[220]\ttraining's binary_logloss: 0.021454\tvalid_1's binary_logloss: 0.0766721\n",
            "[230]\ttraining's binary_logloss: 0.0199342\tvalid_1's binary_logloss: 0.076072\n",
            "[240]\ttraining's binary_logloss: 0.0185507\tvalid_1's binary_logloss: 0.075876\n",
            "[250]\ttraining's binary_logloss: 0.0175056\tvalid_1's binary_logloss: 0.075725\n",
            "[260]\ttraining's binary_logloss: 0.0163431\tvalid_1's binary_logloss: 0.0753673\n",
            "[270]\ttraining's binary_logloss: 0.0151222\tvalid_1's binary_logloss: 0.0750839\n",
            "[280]\ttraining's binary_logloss: 0.0140374\tvalid_1's binary_logloss: 0.0746954\n",
            "[290]\ttraining's binary_logloss: 0.013094\tvalid_1's binary_logloss: 0.074504\n",
            "[300]\ttraining's binary_logloss: 0.0123084\tvalid_1's binary_logloss: 0.0747105\n",
            "[310]\ttraining's binary_logloss: 0.0114225\tvalid_1's binary_logloss: 0.0748976\n",
            "[320]\ttraining's binary_logloss: 0.0107359\tvalid_1's binary_logloss: 0.0751468\n",
            "[330]\ttraining's binary_logloss: 0.0101537\tvalid_1's binary_logloss: 0.0751449\n",
            "[340]\ttraining's binary_logloss: 0.00961056\tvalid_1's binary_logloss: 0.0755691\n",
            "[350]\ttraining's binary_logloss: 0.00917149\tvalid_1's binary_logloss: 0.0756973\n",
            "[360]\ttraining's binary_logloss: 0.00863189\tvalid_1's binary_logloss: 0.076131\n",
            "[370]\ttraining's binary_logloss: 0.00827119\tvalid_1's binary_logloss: 0.0763711\n",
            "[380]\ttraining's binary_logloss: 0.00773575\tvalid_1's binary_logloss: 0.0768945\n",
            "Early stopping, best iteration is:\n",
            "[284]\ttraining's binary_logloss: 0.0136564\tvalid_1's binary_logloss: 0.074488\n"
          ],
          "name": "stdout"
        },
        {
          "output_type": "stream",
          "text": [
            "\u001b[32m[I 2021-06-04 17:21:54,707]\u001b[0m Trial 10 finished with value: 0.07448800223470399 and parameters: {'n_estimators': 500, 'lerning_rate': 0.05, 'max_depth': 7, 'max_features': 0.3, 'min_samples_split': 2, 'min_samples_leaf': 2}. Best is trial 6 with value: 0.07448800223470399.\u001b[0m\n",
            "/usr/local/lib/python3.7/dist-packages/lightgbm/engine.py:118: UserWarning:\n",
            "\n",
            "Found `n_estimators` in params. Will use it instead of argument\n",
            "\n",
            "/usr/local/lib/python3.7/dist-packages/lightgbm/basic.py:1205: UserWarning:\n",
            "\n",
            "Using categorical_feature in Dataset.\n",
            "\n",
            "/usr/local/lib/python3.7/dist-packages/lightgbm/basic.py:762: UserWarning:\n",
            "\n",
            "categorical_feature in param dict is overridden.\n",
            "\n"
          ],
          "name": "stderr"
        },
        {
          "output_type": "stream",
          "text": [
            "Training until validation scores don't improve for 100 rounds.\n",
            "[10]\ttraining's binary_logloss: 0.409698\tvalid_1's binary_logloss: 0.411253\n",
            "[20]\ttraining's binary_logloss: 0.267993\tvalid_1's binary_logloss: 0.274399\n",
            "[30]\ttraining's binary_logloss: 0.189238\tvalid_1's binary_logloss: 0.200589\n",
            "[40]\ttraining's binary_logloss: 0.141871\tvalid_1's binary_logloss: 0.156714\n",
            "[50]\ttraining's binary_logloss: 0.111377\tvalid_1's binary_logloss: 0.131017\n",
            "[60]\ttraining's binary_logloss: 0.0913246\tvalid_1's binary_logloss: 0.114705\n",
            "[70]\ttraining's binary_logloss: 0.0766883\tvalid_1's binary_logloss: 0.103426\n",
            "[80]\ttraining's binary_logloss: 0.0662109\tvalid_1's binary_logloss: 0.0955257\n",
            "[90]\ttraining's binary_logloss: 0.0579735\tvalid_1's binary_logloss: 0.0907321\n",
            "[100]\ttraining's binary_logloss: 0.0519366\tvalid_1's binary_logloss: 0.0873016\n",
            "[110]\ttraining's binary_logloss: 0.0467174\tvalid_1's binary_logloss: 0.084692\n",
            "[120]\ttraining's binary_logloss: 0.042823\tvalid_1's binary_logloss: 0.0825027\n",
            "[130]\ttraining's binary_logloss: 0.039263\tvalid_1's binary_logloss: 0.080728\n",
            "[140]\ttraining's binary_logloss: 0.0368088\tvalid_1's binary_logloss: 0.0795862\n",
            "[150]\ttraining's binary_logloss: 0.0341807\tvalid_1's binary_logloss: 0.0785089\n",
            "[160]\ttraining's binary_logloss: 0.031824\tvalid_1's binary_logloss: 0.0776682\n",
            "[170]\ttraining's binary_logloss: 0.0294623\tvalid_1's binary_logloss: 0.0773473\n",
            "[180]\ttraining's binary_logloss: 0.0277132\tvalid_1's binary_logloss: 0.0770717\n",
            "[190]\ttraining's binary_logloss: 0.0260938\tvalid_1's binary_logloss: 0.0768503\n",
            "[200]\ttraining's binary_logloss: 0.0243262\tvalid_1's binary_logloss: 0.0768429\n",
            "[210]\ttraining's binary_logloss: 0.0228748\tvalid_1's binary_logloss: 0.076908\n",
            "[220]\ttraining's binary_logloss: 0.021454\tvalid_1's binary_logloss: 0.0766721\n",
            "[230]\ttraining's binary_logloss: 0.0199342\tvalid_1's binary_logloss: 0.076072\n",
            "[240]\ttraining's binary_logloss: 0.0185507\tvalid_1's binary_logloss: 0.075876\n",
            "[250]\ttraining's binary_logloss: 0.0175056\tvalid_1's binary_logloss: 0.075725\n",
            "[260]\ttraining's binary_logloss: 0.0163431\tvalid_1's binary_logloss: 0.0753673\n",
            "[270]\ttraining's binary_logloss: 0.0151222\tvalid_1's binary_logloss: 0.0750839\n",
            "[280]\ttraining's binary_logloss: 0.0140374\tvalid_1's binary_logloss: 0.0746954\n",
            "[290]\ttraining's binary_logloss: 0.013094\tvalid_1's binary_logloss: 0.074504\n",
            "[300]\ttraining's binary_logloss: 0.0123084\tvalid_1's binary_logloss: 0.0747105\n",
            "[310]\ttraining's binary_logloss: 0.0114225\tvalid_1's binary_logloss: 0.0748976\n",
            "[320]\ttraining's binary_logloss: 0.0107359\tvalid_1's binary_logloss: 0.0751468\n",
            "[330]\ttraining's binary_logloss: 0.0101537\tvalid_1's binary_logloss: 0.0751449\n",
            "[340]\ttraining's binary_logloss: 0.00961056\tvalid_1's binary_logloss: 0.0755691\n",
            "[350]\ttraining's binary_logloss: 0.00917149\tvalid_1's binary_logloss: 0.0756973\n",
            "[360]\ttraining's binary_logloss: 0.00863189\tvalid_1's binary_logloss: 0.076131\n",
            "[370]\ttraining's binary_logloss: 0.00827119\tvalid_1's binary_logloss: 0.0763711\n",
            "[380]\ttraining's binary_logloss: 0.00773575\tvalid_1's binary_logloss: 0.0768945\n",
            "Early stopping, best iteration is:\n",
            "[284]\ttraining's binary_logloss: 0.0136564\tvalid_1's binary_logloss: 0.074488\n"
          ],
          "name": "stdout"
        },
        {
          "output_type": "stream",
          "text": [
            "\u001b[32m[I 2021-06-04 17:21:55,828]\u001b[0m Trial 11 finished with value: 0.07448800223470399 and parameters: {'n_estimators': 500, 'lerning_rate': 0.05, 'max_depth': 7, 'max_features': 0.1, 'min_samples_split': 2, 'min_samples_leaf': 2}. Best is trial 6 with value: 0.07448800223470399.\u001b[0m\n",
            "/usr/local/lib/python3.7/dist-packages/lightgbm/engine.py:118: UserWarning:\n",
            "\n",
            "Found `n_estimators` in params. Will use it instead of argument\n",
            "\n",
            "/usr/local/lib/python3.7/dist-packages/lightgbm/basic.py:1205: UserWarning:\n",
            "\n",
            "Using categorical_feature in Dataset.\n",
            "\n",
            "/usr/local/lib/python3.7/dist-packages/lightgbm/basic.py:762: UserWarning:\n",
            "\n",
            "categorical_feature in param dict is overridden.\n",
            "\n"
          ],
          "name": "stderr"
        },
        {
          "output_type": "stream",
          "text": [
            "Training until validation scores don't improve for 100 rounds.\n",
            "[10]\ttraining's binary_logloss: 0.409698\tvalid_1's binary_logloss: 0.411253\n",
            "[20]\ttraining's binary_logloss: 0.267993\tvalid_1's binary_logloss: 0.274399\n",
            "[30]\ttraining's binary_logloss: 0.189238\tvalid_1's binary_logloss: 0.200589\n",
            "[40]\ttraining's binary_logloss: 0.141871\tvalid_1's binary_logloss: 0.156714\n",
            "[50]\ttraining's binary_logloss: 0.111377\tvalid_1's binary_logloss: 0.131017\n",
            "[60]\ttraining's binary_logloss: 0.0913246\tvalid_1's binary_logloss: 0.114705\n",
            "[70]\ttraining's binary_logloss: 0.0766883\tvalid_1's binary_logloss: 0.103426\n",
            "[80]\ttraining's binary_logloss: 0.0662109\tvalid_1's binary_logloss: 0.0955257\n",
            "[90]\ttraining's binary_logloss: 0.0579735\tvalid_1's binary_logloss: 0.0907321\n",
            "[100]\ttraining's binary_logloss: 0.0519366\tvalid_1's binary_logloss: 0.0873016\n",
            "[110]\ttraining's binary_logloss: 0.0467174\tvalid_1's binary_logloss: 0.084692\n",
            "[120]\ttraining's binary_logloss: 0.042823\tvalid_1's binary_logloss: 0.0825027\n",
            "[130]\ttraining's binary_logloss: 0.039263\tvalid_1's binary_logloss: 0.080728\n",
            "[140]\ttraining's binary_logloss: 0.0368088\tvalid_1's binary_logloss: 0.0795862\n",
            "[150]\ttraining's binary_logloss: 0.0341807\tvalid_1's binary_logloss: 0.0785089\n",
            "[160]\ttraining's binary_logloss: 0.031824\tvalid_1's binary_logloss: 0.0776682\n",
            "[170]\ttraining's binary_logloss: 0.0294623\tvalid_1's binary_logloss: 0.0773473\n",
            "[180]\ttraining's binary_logloss: 0.0277132\tvalid_1's binary_logloss: 0.0770717\n",
            "[190]\ttraining's binary_logloss: 0.0260938\tvalid_1's binary_logloss: 0.0768503\n",
            "[200]\ttraining's binary_logloss: 0.0243262\tvalid_1's binary_logloss: 0.0768429\n",
            "[210]\ttraining's binary_logloss: 0.0228748\tvalid_1's binary_logloss: 0.076908\n",
            "[220]\ttraining's binary_logloss: 0.021454\tvalid_1's binary_logloss: 0.0766721\n",
            "[230]\ttraining's binary_logloss: 0.0199342\tvalid_1's binary_logloss: 0.076072\n",
            "[240]\ttraining's binary_logloss: 0.0185507\tvalid_1's binary_logloss: 0.075876\n",
            "[250]\ttraining's binary_logloss: 0.0175056\tvalid_1's binary_logloss: 0.075725\n",
            "[260]\ttraining's binary_logloss: 0.0163431\tvalid_1's binary_logloss: 0.0753673\n",
            "[270]\ttraining's binary_logloss: 0.0151222\tvalid_1's binary_logloss: 0.0750839\n",
            "[280]\ttraining's binary_logloss: 0.0140374\tvalid_1's binary_logloss: 0.0746954\n",
            "[290]\ttraining's binary_logloss: 0.013094\tvalid_1's binary_logloss: 0.074504\n",
            "[300]\ttraining's binary_logloss: 0.0123084\tvalid_1's binary_logloss: 0.0747105\n",
            "[310]\ttraining's binary_logloss: 0.0114225\tvalid_1's binary_logloss: 0.0748976\n",
            "[320]\ttraining's binary_logloss: 0.0107359\tvalid_1's binary_logloss: 0.0751468\n",
            "[330]\ttraining's binary_logloss: 0.0101537\tvalid_1's binary_logloss: 0.0751449\n",
            "[340]\ttraining's binary_logloss: 0.00961056\tvalid_1's binary_logloss: 0.0755691\n",
            "[350]\ttraining's binary_logloss: 0.00917149\tvalid_1's binary_logloss: 0.0756973\n",
            "[360]\ttraining's binary_logloss: 0.00863189\tvalid_1's binary_logloss: 0.076131\n",
            "[370]\ttraining's binary_logloss: 0.00827119\tvalid_1's binary_logloss: 0.0763711\n",
            "[380]\ttraining's binary_logloss: 0.00773575\tvalid_1's binary_logloss: 0.0768945\n",
            "Early stopping, best iteration is:\n",
            "[284]\ttraining's binary_logloss: 0.0136564\tvalid_1's binary_logloss: 0.074488\n"
          ],
          "name": "stdout"
        },
        {
          "output_type": "stream",
          "text": [
            "\u001b[32m[I 2021-06-04 17:21:56,949]\u001b[0m Trial 12 finished with value: 0.07448800223470399 and parameters: {'n_estimators': 800, 'lerning_rate': 0.05, 'max_depth': 7, 'max_features': 0.5, 'min_samples_split': 2, 'min_samples_leaf': 2}. Best is trial 6 with value: 0.07448800223470399.\u001b[0m\n",
            "/usr/local/lib/python3.7/dist-packages/lightgbm/engine.py:118: UserWarning:\n",
            "\n",
            "Found `n_estimators` in params. Will use it instead of argument\n",
            "\n",
            "/usr/local/lib/python3.7/dist-packages/lightgbm/basic.py:1205: UserWarning:\n",
            "\n",
            "Using categorical_feature in Dataset.\n",
            "\n",
            "/usr/local/lib/python3.7/dist-packages/lightgbm/basic.py:762: UserWarning:\n",
            "\n",
            "categorical_feature in param dict is overridden.\n",
            "\n"
          ],
          "name": "stderr"
        },
        {
          "output_type": "stream",
          "text": [
            "Training until validation scores don't improve for 100 rounds.\n",
            "[10]\ttraining's binary_logloss: 0.409698\tvalid_1's binary_logloss: 0.411253\n",
            "[20]\ttraining's binary_logloss: 0.267993\tvalid_1's binary_logloss: 0.274399\n",
            "[30]\ttraining's binary_logloss: 0.189238\tvalid_1's binary_logloss: 0.200589\n",
            "[40]\ttraining's binary_logloss: 0.141871\tvalid_1's binary_logloss: 0.156714\n",
            "[50]\ttraining's binary_logloss: 0.111377\tvalid_1's binary_logloss: 0.131017\n",
            "[60]\ttraining's binary_logloss: 0.0913246\tvalid_1's binary_logloss: 0.114705\n",
            "[70]\ttraining's binary_logloss: 0.0766883\tvalid_1's binary_logloss: 0.103426\n",
            "[80]\ttraining's binary_logloss: 0.0662109\tvalid_1's binary_logloss: 0.0955257\n",
            "[90]\ttraining's binary_logloss: 0.0579735\tvalid_1's binary_logloss: 0.0907321\n",
            "[100]\ttraining's binary_logloss: 0.0519366\tvalid_1's binary_logloss: 0.0873016\n",
            "[110]\ttraining's binary_logloss: 0.0467174\tvalid_1's binary_logloss: 0.084692\n",
            "[120]\ttraining's binary_logloss: 0.042823\tvalid_1's binary_logloss: 0.0825027\n",
            "[130]\ttraining's binary_logloss: 0.039263\tvalid_1's binary_logloss: 0.080728\n",
            "[140]\ttraining's binary_logloss: 0.0368088\tvalid_1's binary_logloss: 0.0795862\n",
            "[150]\ttraining's binary_logloss: 0.0341807\tvalid_1's binary_logloss: 0.0785089\n",
            "[160]\ttraining's binary_logloss: 0.031824\tvalid_1's binary_logloss: 0.0776682\n",
            "[170]\ttraining's binary_logloss: 0.0294623\tvalid_1's binary_logloss: 0.0773473\n",
            "[180]\ttraining's binary_logloss: 0.0277132\tvalid_1's binary_logloss: 0.0770717\n",
            "[190]\ttraining's binary_logloss: 0.0260938\tvalid_1's binary_logloss: 0.0768503\n",
            "[200]\ttraining's binary_logloss: 0.0243262\tvalid_1's binary_logloss: 0.0768429\n",
            "[210]\ttraining's binary_logloss: 0.0228748\tvalid_1's binary_logloss: 0.076908\n",
            "[220]\ttraining's binary_logloss: 0.021454\tvalid_1's binary_logloss: 0.0766721\n",
            "[230]\ttraining's binary_logloss: 0.0199342\tvalid_1's binary_logloss: 0.076072\n",
            "[240]\ttraining's binary_logloss: 0.0185507\tvalid_1's binary_logloss: 0.075876\n",
            "[250]\ttraining's binary_logloss: 0.0175056\tvalid_1's binary_logloss: 0.075725\n",
            "[260]\ttraining's binary_logloss: 0.0163431\tvalid_1's binary_logloss: 0.0753673\n",
            "[270]\ttraining's binary_logloss: 0.0151222\tvalid_1's binary_logloss: 0.0750839\n",
            "[280]\ttraining's binary_logloss: 0.0140374\tvalid_1's binary_logloss: 0.0746954\n",
            "[290]\ttraining's binary_logloss: 0.013094\tvalid_1's binary_logloss: 0.074504\n",
            "[300]\ttraining's binary_logloss: 0.0123084\tvalid_1's binary_logloss: 0.0747105\n",
            "[310]\ttraining's binary_logloss: 0.0114225\tvalid_1's binary_logloss: 0.0748976\n",
            "[320]\ttraining's binary_logloss: 0.0107359\tvalid_1's binary_logloss: 0.0751468\n",
            "[330]\ttraining's binary_logloss: 0.0101537\tvalid_1's binary_logloss: 0.0751449\n",
            "[340]\ttraining's binary_logloss: 0.00961056\tvalid_1's binary_logloss: 0.0755691\n",
            "[350]\ttraining's binary_logloss: 0.00917149\tvalid_1's binary_logloss: 0.0756973\n",
            "[360]\ttraining's binary_logloss: 0.00863189\tvalid_1's binary_logloss: 0.076131\n",
            "[370]\ttraining's binary_logloss: 0.00827119\tvalid_1's binary_logloss: 0.0763711\n",
            "[380]\ttraining's binary_logloss: 0.00773575\tvalid_1's binary_logloss: 0.0768945\n",
            "Early stopping, best iteration is:\n",
            "[284]\ttraining's binary_logloss: 0.0136564\tvalid_1's binary_logloss: 0.074488\n"
          ],
          "name": "stdout"
        },
        {
          "output_type": "stream",
          "text": [
            "\u001b[32m[I 2021-06-04 17:21:58,068]\u001b[0m Trial 13 finished with value: 0.07448800223470399 and parameters: {'n_estimators': 1000, 'lerning_rate': 0.05, 'max_depth': 7, 'max_features': 0.3, 'min_samples_split': 2, 'min_samples_leaf': 2}. Best is trial 6 with value: 0.07448800223470399.\u001b[0m\n",
            "/usr/local/lib/python3.7/dist-packages/lightgbm/engine.py:118: UserWarning:\n",
            "\n",
            "Found `n_estimators` in params. Will use it instead of argument\n",
            "\n",
            "/usr/local/lib/python3.7/dist-packages/lightgbm/basic.py:1205: UserWarning:\n",
            "\n",
            "Using categorical_feature in Dataset.\n",
            "\n",
            "/usr/local/lib/python3.7/dist-packages/lightgbm/basic.py:762: UserWarning:\n",
            "\n",
            "categorical_feature in param dict is overridden.\n",
            "\n"
          ],
          "name": "stderr"
        },
        {
          "output_type": "stream",
          "text": [
            "Training until validation scores don't improve for 100 rounds.\n",
            "[10]\ttraining's binary_logloss: 0.409698\tvalid_1's binary_logloss: 0.411253\n",
            "[20]\ttraining's binary_logloss: 0.267993\tvalid_1's binary_logloss: 0.274399\n",
            "[30]\ttraining's binary_logloss: 0.189238\tvalid_1's binary_logloss: 0.200589\n",
            "[40]\ttraining's binary_logloss: 0.141871\tvalid_1's binary_logloss: 0.156714\n",
            "[50]\ttraining's binary_logloss: 0.111377\tvalid_1's binary_logloss: 0.131017\n",
            "[60]\ttraining's binary_logloss: 0.0913246\tvalid_1's binary_logloss: 0.114705\n",
            "[70]\ttraining's binary_logloss: 0.0766883\tvalid_1's binary_logloss: 0.103426\n",
            "[80]\ttraining's binary_logloss: 0.0662109\tvalid_1's binary_logloss: 0.0955257\n",
            "[90]\ttraining's binary_logloss: 0.0579735\tvalid_1's binary_logloss: 0.0907321\n",
            "[100]\ttraining's binary_logloss: 0.0519366\tvalid_1's binary_logloss: 0.0873016\n",
            "[110]\ttraining's binary_logloss: 0.0467174\tvalid_1's binary_logloss: 0.084692\n",
            "[120]\ttraining's binary_logloss: 0.042823\tvalid_1's binary_logloss: 0.0825027\n",
            "[130]\ttraining's binary_logloss: 0.039263\tvalid_1's binary_logloss: 0.080728\n",
            "[140]\ttraining's binary_logloss: 0.0368088\tvalid_1's binary_logloss: 0.0795862\n",
            "[150]\ttraining's binary_logloss: 0.0341807\tvalid_1's binary_logloss: 0.0785089\n",
            "[160]\ttraining's binary_logloss: 0.031824\tvalid_1's binary_logloss: 0.0776682\n",
            "[170]\ttraining's binary_logloss: 0.0294623\tvalid_1's binary_logloss: 0.0773473\n",
            "[180]\ttraining's binary_logloss: 0.0277132\tvalid_1's binary_logloss: 0.0770717\n",
            "[190]\ttraining's binary_logloss: 0.0260938\tvalid_1's binary_logloss: 0.0768503\n",
            "[200]\ttraining's binary_logloss: 0.0243262\tvalid_1's binary_logloss: 0.0768429\n",
            "[210]\ttraining's binary_logloss: 0.0228748\tvalid_1's binary_logloss: 0.076908\n",
            "[220]\ttraining's binary_logloss: 0.021454\tvalid_1's binary_logloss: 0.0766721\n",
            "[230]\ttraining's binary_logloss: 0.0199342\tvalid_1's binary_logloss: 0.076072\n",
            "[240]\ttraining's binary_logloss: 0.0185507\tvalid_1's binary_logloss: 0.075876\n",
            "[250]\ttraining's binary_logloss: 0.0175056\tvalid_1's binary_logloss: 0.075725\n",
            "[260]\ttraining's binary_logloss: 0.0163431\tvalid_1's binary_logloss: 0.0753673\n",
            "[270]\ttraining's binary_logloss: 0.0151222\tvalid_1's binary_logloss: 0.0750839\n",
            "[280]\ttraining's binary_logloss: 0.0140374\tvalid_1's binary_logloss: 0.0746954\n",
            "[290]\ttraining's binary_logloss: 0.013094\tvalid_1's binary_logloss: 0.074504\n",
            "[300]\ttraining's binary_logloss: 0.0123084\tvalid_1's binary_logloss: 0.0747105\n",
            "[310]\ttraining's binary_logloss: 0.0114225\tvalid_1's binary_logloss: 0.0748976\n",
            "[320]\ttraining's binary_logloss: 0.0107359\tvalid_1's binary_logloss: 0.0751468\n",
            "[330]\ttraining's binary_logloss: 0.0101537\tvalid_1's binary_logloss: 0.0751449\n"
          ],
          "name": "stdout"
        },
        {
          "output_type": "stream",
          "text": [
            "\u001b[32m[I 2021-06-04 17:21:59,170]\u001b[0m Trial 14 finished with value: 0.07448800223470399 and parameters: {'n_estimators': 500, 'lerning_rate': 0.05, 'max_depth': 7, 'max_features': 0.1, 'min_samples_split': 2, 'min_samples_leaf': 2}. Best is trial 6 with value: 0.07448800223470399.\u001b[0m\n"
          ],
          "name": "stderr"
        },
        {
          "output_type": "stream",
          "text": [
            "[340]\ttraining's binary_logloss: 0.00961056\tvalid_1's binary_logloss: 0.0755691\n",
            "[350]\ttraining's binary_logloss: 0.00917149\tvalid_1's binary_logloss: 0.0756973\n",
            "[360]\ttraining's binary_logloss: 0.00863189\tvalid_1's binary_logloss: 0.076131\n",
            "[370]\ttraining's binary_logloss: 0.00827119\tvalid_1's binary_logloss: 0.0763711\n",
            "[380]\ttraining's binary_logloss: 0.00773575\tvalid_1's binary_logloss: 0.0768945\n",
            "Early stopping, best iteration is:\n",
            "[284]\ttraining's binary_logloss: 0.0136564\tvalid_1's binary_logloss: 0.074488\n"
          ],
          "name": "stdout"
        },
        {
          "output_type": "stream",
          "text": [
            "/usr/local/lib/python3.7/dist-packages/lightgbm/engine.py:118: UserWarning:\n",
            "\n",
            "Found `n_estimators` in params. Will use it instead of argument\n",
            "\n",
            "/usr/local/lib/python3.7/dist-packages/lightgbm/basic.py:1205: UserWarning:\n",
            "\n",
            "Using categorical_feature in Dataset.\n",
            "\n",
            "/usr/local/lib/python3.7/dist-packages/lightgbm/basic.py:762: UserWarning:\n",
            "\n",
            "categorical_feature in param dict is overridden.\n",
            "\n"
          ],
          "name": "stderr"
        },
        {
          "output_type": "stream",
          "text": [
            "Training until validation scores don't improve for 100 rounds.\n",
            "[10]\ttraining's binary_logloss: 0.265484\tvalid_1's binary_logloss: 0.270788\n",
            "[20]\ttraining's binary_logloss: 0.141454\tvalid_1's binary_logloss: 0.155841\n",
            "[30]\ttraining's binary_logloss: 0.0913956\tvalid_1's binary_logloss: 0.114023\n",
            "[40]\ttraining's binary_logloss: 0.0659753\tvalid_1's binary_logloss: 0.0951342\n",
            "[50]\ttraining's binary_logloss: 0.0518051\tvalid_1's binary_logloss: 0.0872426\n",
            "[60]\ttraining's binary_logloss: 0.0420666\tvalid_1's binary_logloss: 0.0829783\n",
            "[70]\ttraining's binary_logloss: 0.0349382\tvalid_1's binary_logloss: 0.079769\n",
            "[80]\ttraining's binary_logloss: 0.0304187\tvalid_1's binary_logloss: 0.0783453\n",
            "[90]\ttraining's binary_logloss: 0.0268742\tvalid_1's binary_logloss: 0.0784974\n",
            "[100]\ttraining's binary_logloss: 0.0234778\tvalid_1's binary_logloss: 0.0787675\n",
            "[110]\ttraining's binary_logloss: 0.019951\tvalid_1's binary_logloss: 0.0779364\n",
            "[120]\ttraining's binary_logloss: 0.0172662\tvalid_1's binary_logloss: 0.0786049\n",
            "[130]\ttraining's binary_logloss: 0.0149412\tvalid_1's binary_logloss: 0.0781018\n",
            "[140]\ttraining's binary_logloss: 0.013256\tvalid_1's binary_logloss: 0.0786329\n",
            "[150]\ttraining's binary_logloss: 0.0116296\tvalid_1's binary_logloss: 0.079005\n",
            "[160]\ttraining's binary_logloss: 0.0101228\tvalid_1's binary_logloss: 0.0792184\n"
          ],
          "name": "stdout"
        },
        {
          "output_type": "stream",
          "text": [
            "\u001b[32m[I 2021-06-04 17:21:59,790]\u001b[0m Trial 15 finished with value: 0.07793637174609908 and parameters: {'n_estimators': 1000, 'lerning_rate': 0.1, 'max_depth': 7, 'max_features': 0.1, 'min_samples_split': 2, 'min_samples_leaf': 2}. Best is trial 6 with value: 0.07448800223470399.\u001b[0m\n"
          ],
          "name": "stderr"
        },
        {
          "output_type": "stream",
          "text": [
            "[170]\ttraining's binary_logloss: 0.00909075\tvalid_1's binary_logloss: 0.0803631\n",
            "[180]\ttraining's binary_logloss: 0.00801235\tvalid_1's binary_logloss: 0.0808345\n",
            "[190]\ttraining's binary_logloss: 0.00711092\tvalid_1's binary_logloss: 0.0812948\n",
            "[200]\ttraining's binary_logloss: 0.00615468\tvalid_1's binary_logloss: 0.0822679\n",
            "[210]\ttraining's binary_logloss: 0.00527397\tvalid_1's binary_logloss: 0.0829521\n",
            "Early stopping, best iteration is:\n",
            "[110]\ttraining's binary_logloss: 0.019951\tvalid_1's binary_logloss: 0.0779364\n",
            "Training until validation scores don't improve for 100 rounds.\n",
            "[10]\ttraining's binary_logloss: 0.409698\tvalid_1's binary_logloss: 0.411253\n"
          ],
          "name": "stdout"
        },
        {
          "output_type": "stream",
          "text": [
            "/usr/local/lib/python3.7/dist-packages/lightgbm/engine.py:118: UserWarning:\n",
            "\n",
            "Found `n_estimators` in params. Will use it instead of argument\n",
            "\n",
            "/usr/local/lib/python3.7/dist-packages/lightgbm/basic.py:1205: UserWarning:\n",
            "\n",
            "Using categorical_feature in Dataset.\n",
            "\n",
            "/usr/local/lib/python3.7/dist-packages/lightgbm/basic.py:762: UserWarning:\n",
            "\n",
            "categorical_feature in param dict is overridden.\n",
            "\n"
          ],
          "name": "stderr"
        },
        {
          "output_type": "stream",
          "text": [
            "[20]\ttraining's binary_logloss: 0.267993\tvalid_1's binary_logloss: 0.274399\n",
            "[30]\ttraining's binary_logloss: 0.189238\tvalid_1's binary_logloss: 0.200589\n",
            "[40]\ttraining's binary_logloss: 0.141871\tvalid_1's binary_logloss: 0.156714\n",
            "[50]\ttraining's binary_logloss: 0.111377\tvalid_1's binary_logloss: 0.131017\n",
            "[60]\ttraining's binary_logloss: 0.0913246\tvalid_1's binary_logloss: 0.114705\n",
            "[70]\ttraining's binary_logloss: 0.0766883\tvalid_1's binary_logloss: 0.103426\n",
            "[80]\ttraining's binary_logloss: 0.0662109\tvalid_1's binary_logloss: 0.0955257\n",
            "[90]\ttraining's binary_logloss: 0.0579735\tvalid_1's binary_logloss: 0.0907321\n",
            "[100]\ttraining's binary_logloss: 0.0519366\tvalid_1's binary_logloss: 0.0873016\n",
            "[110]\ttraining's binary_logloss: 0.0467174\tvalid_1's binary_logloss: 0.084692\n",
            "[120]\ttraining's binary_logloss: 0.042823\tvalid_1's binary_logloss: 0.0825027\n",
            "[130]\ttraining's binary_logloss: 0.039263\tvalid_1's binary_logloss: 0.080728\n",
            "[140]\ttraining's binary_logloss: 0.0368088\tvalid_1's binary_logloss: 0.0795862\n",
            "[150]\ttraining's binary_logloss: 0.0341807\tvalid_1's binary_logloss: 0.0785089\n",
            "[160]\ttraining's binary_logloss: 0.031824\tvalid_1's binary_logloss: 0.0776682\n",
            "[170]\ttraining's binary_logloss: 0.0294623\tvalid_1's binary_logloss: 0.0773473\n",
            "[180]\ttraining's binary_logloss: 0.0277132\tvalid_1's binary_logloss: 0.0770717\n",
            "[190]\ttraining's binary_logloss: 0.0260938\tvalid_1's binary_logloss: 0.0768503\n",
            "[200]\ttraining's binary_logloss: 0.0243262\tvalid_1's binary_logloss: 0.0768429\n",
            "[210]\ttraining's binary_logloss: 0.0228748\tvalid_1's binary_logloss: 0.076908\n",
            "[220]\ttraining's binary_logloss: 0.021454\tvalid_1's binary_logloss: 0.0766721\n",
            "[230]\ttraining's binary_logloss: 0.0199342\tvalid_1's binary_logloss: 0.076072\n",
            "[240]\ttraining's binary_logloss: 0.0185507\tvalid_1's binary_logloss: 0.075876\n",
            "[250]\ttraining's binary_logloss: 0.0175056\tvalid_1's binary_logloss: 0.075725\n"
          ],
          "name": "stdout"
        },
        {
          "output_type": "stream",
          "text": [
            "\u001b[32m[I 2021-06-04 17:22:00,695]\u001b[0m Trial 16 finished with value: 0.07471050854077584 and parameters: {'n_estimators': 300, 'lerning_rate': 0.05, 'max_depth': 7, 'max_features': 0.3, 'min_samples_split': 2, 'min_samples_leaf': 2}. Best is trial 6 with value: 0.07448800223470399.\u001b[0m\n"
          ],
          "name": "stderr"
        },
        {
          "output_type": "stream",
          "text": [
            "[260]\ttraining's binary_logloss: 0.0163431\tvalid_1's binary_logloss: 0.0753673\n",
            "[270]\ttraining's binary_logloss: 0.0151222\tvalid_1's binary_logloss: 0.0750839\n",
            "[280]\ttraining's binary_logloss: 0.0140374\tvalid_1's binary_logloss: 0.0746954\n",
            "[290]\ttraining's binary_logloss: 0.013094\tvalid_1's binary_logloss: 0.074504\n",
            "[300]\ttraining's binary_logloss: 0.0123084\tvalid_1's binary_logloss: 0.0747105\n",
            "Did not meet early stopping. Best iteration is:\n",
            "[300]\ttraining's binary_logloss: 0.0123084\tvalid_1's binary_logloss: 0.0747105\n"
          ],
          "name": "stdout"
        },
        {
          "output_type": "stream",
          "text": [
            "/usr/local/lib/python3.7/dist-packages/lightgbm/engine.py:118: UserWarning:\n",
            "\n",
            "Found `n_estimators` in params. Will use it instead of argument\n",
            "\n",
            "/usr/local/lib/python3.7/dist-packages/lightgbm/basic.py:1205: UserWarning:\n",
            "\n",
            "Using categorical_feature in Dataset.\n",
            "\n",
            "/usr/local/lib/python3.7/dist-packages/lightgbm/basic.py:762: UserWarning:\n",
            "\n",
            "categorical_feature in param dict is overridden.\n",
            "\n"
          ],
          "name": "stderr"
        },
        {
          "output_type": "stream",
          "text": [
            "Training until validation scores don't improve for 100 rounds.\n",
            "[10]\ttraining's binary_logloss: 0.409698\tvalid_1's binary_logloss: 0.411253\n",
            "[20]\ttraining's binary_logloss: 0.267993\tvalid_1's binary_logloss: 0.274399\n",
            "[30]\ttraining's binary_logloss: 0.189238\tvalid_1's binary_logloss: 0.200589\n",
            "[40]\ttraining's binary_logloss: 0.141871\tvalid_1's binary_logloss: 0.156714\n",
            "[50]\ttraining's binary_logloss: 0.111377\tvalid_1's binary_logloss: 0.131017\n",
            "[60]\ttraining's binary_logloss: 0.0913246\tvalid_1's binary_logloss: 0.114705\n",
            "[70]\ttraining's binary_logloss: 0.0766883\tvalid_1's binary_logloss: 0.103426\n",
            "[80]\ttraining's binary_logloss: 0.0662109\tvalid_1's binary_logloss: 0.0955257\n",
            "[90]\ttraining's binary_logloss: 0.0579735\tvalid_1's binary_logloss: 0.0907321\n",
            "[100]\ttraining's binary_logloss: 0.0519366\tvalid_1's binary_logloss: 0.0873016\n",
            "[110]\ttraining's binary_logloss: 0.0467174\tvalid_1's binary_logloss: 0.084692\n",
            "[120]\ttraining's binary_logloss: 0.042823\tvalid_1's binary_logloss: 0.0825027\n",
            "[130]\ttraining's binary_logloss: 0.039263\tvalid_1's binary_logloss: 0.080728\n",
            "[140]\ttraining's binary_logloss: 0.0368088\tvalid_1's binary_logloss: 0.0795862\n",
            "[150]\ttraining's binary_logloss: 0.0341807\tvalid_1's binary_logloss: 0.0785089\n",
            "[160]\ttraining's binary_logloss: 0.031824\tvalid_1's binary_logloss: 0.0776682\n",
            "[170]\ttraining's binary_logloss: 0.0294623\tvalid_1's binary_logloss: 0.0773473\n",
            "[180]\ttraining's binary_logloss: 0.0277132\tvalid_1's binary_logloss: 0.0770717\n",
            "[190]\ttraining's binary_logloss: 0.0260938\tvalid_1's binary_logloss: 0.0768503\n",
            "[200]\ttraining's binary_logloss: 0.0243262\tvalid_1's binary_logloss: 0.0768429\n",
            "[210]\ttraining's binary_logloss: 0.0228748\tvalid_1's binary_logloss: 0.076908\n",
            "[220]\ttraining's binary_logloss: 0.021454\tvalid_1's binary_logloss: 0.0766721\n",
            "[230]\ttraining's binary_logloss: 0.0199342\tvalid_1's binary_logloss: 0.076072\n",
            "[240]\ttraining's binary_logloss: 0.0185507\tvalid_1's binary_logloss: 0.075876\n",
            "[250]\ttraining's binary_logloss: 0.0175056\tvalid_1's binary_logloss: 0.075725\n",
            "[260]\ttraining's binary_logloss: 0.0163431\tvalid_1's binary_logloss: 0.0753673\n",
            "[270]\ttraining's binary_logloss: 0.0151222\tvalid_1's binary_logloss: 0.0750839\n",
            "[280]\ttraining's binary_logloss: 0.0140374\tvalid_1's binary_logloss: 0.0746954\n",
            "[290]\ttraining's binary_logloss: 0.013094\tvalid_1's binary_logloss: 0.074504\n",
            "[300]\ttraining's binary_logloss: 0.0123084\tvalid_1's binary_logloss: 0.0747105\n",
            "[310]\ttraining's binary_logloss: 0.0114225\tvalid_1's binary_logloss: 0.0748976\n",
            "[320]\ttraining's binary_logloss: 0.0107359\tvalid_1's binary_logloss: 0.0751468\n",
            "[330]\ttraining's binary_logloss: 0.0101537\tvalid_1's binary_logloss: 0.0751449\n"
          ],
          "name": "stdout"
        },
        {
          "output_type": "stream",
          "text": [
            "\u001b[32m[I 2021-06-04 17:22:01,794]\u001b[0m Trial 17 finished with value: 0.07448800223470399 and parameters: {'n_estimators': 800, 'lerning_rate': 0.05, 'max_depth': 7, 'max_features': 0.5, 'min_samples_split': 2, 'min_samples_leaf': 2}. Best is trial 6 with value: 0.07448800223470399.\u001b[0m\n"
          ],
          "name": "stderr"
        },
        {
          "output_type": "stream",
          "text": [
            "[340]\ttraining's binary_logloss: 0.00961056\tvalid_1's binary_logloss: 0.0755691\n",
            "[350]\ttraining's binary_logloss: 0.00917149\tvalid_1's binary_logloss: 0.0756973\n",
            "[360]\ttraining's binary_logloss: 0.00863189\tvalid_1's binary_logloss: 0.076131\n",
            "[370]\ttraining's binary_logloss: 0.00827119\tvalid_1's binary_logloss: 0.0763711\n",
            "[380]\ttraining's binary_logloss: 0.00773575\tvalid_1's binary_logloss: 0.0768945\n",
            "Early stopping, best iteration is:\n",
            "[284]\ttraining's binary_logloss: 0.0136564\tvalid_1's binary_logloss: 0.074488\n"
          ],
          "name": "stdout"
        },
        {
          "output_type": "stream",
          "text": [
            "/usr/local/lib/python3.7/dist-packages/lightgbm/engine.py:118: UserWarning:\n",
            "\n",
            "Found `n_estimators` in params. Will use it instead of argument\n",
            "\n",
            "/usr/local/lib/python3.7/dist-packages/lightgbm/basic.py:1205: UserWarning:\n",
            "\n",
            "Using categorical_feature in Dataset.\n",
            "\n",
            "/usr/local/lib/python3.7/dist-packages/lightgbm/basic.py:762: UserWarning:\n",
            "\n",
            "categorical_feature in param dict is overridden.\n",
            "\n"
          ],
          "name": "stderr"
        },
        {
          "output_type": "stream",
          "text": [
            "Training until validation scores don't improve for 100 rounds.\n",
            "[10]\ttraining's binary_logloss: 0.409857\tvalid_1's binary_logloss: 0.411575\n",
            "[20]\ttraining's binary_logloss: 0.267202\tvalid_1's binary_logloss: 0.273658\n",
            "[30]\ttraining's binary_logloss: 0.188147\tvalid_1's binary_logloss: 0.199805\n",
            "[40]\ttraining's binary_logloss: 0.140546\tvalid_1's binary_logloss: 0.156187\n",
            "[50]\ttraining's binary_logloss: 0.110349\tvalid_1's binary_logloss: 0.130895\n",
            "[60]\ttraining's binary_logloss: 0.0902005\tvalid_1's binary_logloss: 0.114351\n",
            "[70]\ttraining's binary_logloss: 0.0755908\tvalid_1's binary_logloss: 0.102603\n",
            "[80]\ttraining's binary_logloss: 0.0646585\tvalid_1's binary_logloss: 0.0947769\n",
            "[90]\ttraining's binary_logloss: 0.0565063\tvalid_1's binary_logloss: 0.0899954\n",
            "[100]\ttraining's binary_logloss: 0.0502482\tvalid_1's binary_logloss: 0.0871729\n",
            "[110]\ttraining's binary_logloss: 0.0449098\tvalid_1's binary_logloss: 0.0846616\n",
            "[120]\ttraining's binary_logloss: 0.0409557\tvalid_1's binary_logloss: 0.0829291\n",
            "[130]\ttraining's binary_logloss: 0.0373761\tvalid_1's binary_logloss: 0.0816816\n",
            "[140]\ttraining's binary_logloss: 0.034035\tvalid_1's binary_logloss: 0.0804962\n",
            "[150]\ttraining's binary_logloss: 0.0311156\tvalid_1's binary_logloss: 0.0796231\n",
            "[160]\ttraining's binary_logloss: 0.028688\tvalid_1's binary_logloss: 0.0790155\n",
            "[170]\ttraining's binary_logloss: 0.026794\tvalid_1's binary_logloss: 0.0784011\n",
            "[180]\ttraining's binary_logloss: 0.0248347\tvalid_1's binary_logloss: 0.0780895\n",
            "[190]\ttraining's binary_logloss: 0.0227093\tvalid_1's binary_logloss: 0.0775361\n",
            "[200]\ttraining's binary_logloss: 0.020774\tvalid_1's binary_logloss: 0.0768253\n",
            "[210]\ttraining's binary_logloss: 0.0193763\tvalid_1's binary_logloss: 0.0769856\n",
            "[220]\ttraining's binary_logloss: 0.0178966\tvalid_1's binary_logloss: 0.0769537\n",
            "[230]\ttraining's binary_logloss: 0.0166873\tvalid_1's binary_logloss: 0.0769032\n",
            "[240]\ttraining's binary_logloss: 0.0155855\tvalid_1's binary_logloss: 0.0769729\n",
            "[250]\ttraining's binary_logloss: 0.0146673\tvalid_1's binary_logloss: 0.077249\n",
            "[260]\ttraining's binary_logloss: 0.0137546\tvalid_1's binary_logloss: 0.0774029\n",
            "[270]\ttraining's binary_logloss: 0.0127554\tvalid_1's binary_logloss: 0.0772952\n",
            "[280]\ttraining's binary_logloss: 0.0118789\tvalid_1's binary_logloss: 0.0772718\n",
            "[290]\ttraining's binary_logloss: 0.0110396\tvalid_1's binary_logloss: 0.0776678\n",
            "[300]\ttraining's binary_logloss: 0.0102129\tvalid_1's binary_logloss: 0.0778492\n",
            "Early stopping, best iteration is:\n",
            "[200]\ttraining's binary_logloss: 0.020774\tvalid_1's binary_logloss: 0.0768253\n"
          ],
          "name": "stdout"
        },
        {
          "output_type": "stream",
          "text": [
            "\u001b[32m[I 2021-06-04 17:22:02,706]\u001b[0m Trial 18 finished with value: 0.07682527594288036 and parameters: {'n_estimators': 800, 'lerning_rate': 0.05, 'max_depth': 8, 'max_features': 0.5, 'min_samples_split': 2, 'min_samples_leaf': 2}. Best is trial 6 with value: 0.07448800223470399.\u001b[0m\n",
            "/usr/local/lib/python3.7/dist-packages/lightgbm/engine.py:118: UserWarning:\n",
            "\n",
            "Found `n_estimators` in params. Will use it instead of argument\n",
            "\n",
            "/usr/local/lib/python3.7/dist-packages/lightgbm/basic.py:1205: UserWarning:\n",
            "\n",
            "Using categorical_feature in Dataset.\n",
            "\n",
            "/usr/local/lib/python3.7/dist-packages/lightgbm/basic.py:762: UserWarning:\n",
            "\n",
            "categorical_feature in param dict is overridden.\n",
            "\n"
          ],
          "name": "stderr"
        },
        {
          "output_type": "stream",
          "text": [
            "Training until validation scores don't improve for 100 rounds.\n",
            "[10]\ttraining's binary_logloss: 0.411323\tvalid_1's binary_logloss: 0.413697\n",
            "[20]\ttraining's binary_logloss: 0.270566\tvalid_1's binary_logloss: 0.277387\n",
            "[30]\ttraining's binary_logloss: 0.193298\tvalid_1's binary_logloss: 0.204611\n",
            "[40]\ttraining's binary_logloss: 0.145922\tvalid_1's binary_logloss: 0.161338\n",
            "[50]\ttraining's binary_logloss: 0.116141\tvalid_1's binary_logloss: 0.135096\n",
            "[60]\ttraining's binary_logloss: 0.0963498\tvalid_1's binary_logloss: 0.118673\n",
            "[70]\ttraining's binary_logloss: 0.0816513\tvalid_1's binary_logloss: 0.106801\n",
            "[80]\ttraining's binary_logloss: 0.0710277\tvalid_1's binary_logloss: 0.0991108\n",
            "[90]\ttraining's binary_logloss: 0.0634895\tvalid_1's binary_logloss: 0.0944022\n",
            "[100]\ttraining's binary_logloss: 0.0574838\tvalid_1's binary_logloss: 0.0909468\n",
            "[110]\ttraining's binary_logloss: 0.052291\tvalid_1's binary_logloss: 0.0881219\n",
            "[120]\ttraining's binary_logloss: 0.0481254\tvalid_1's binary_logloss: 0.0868324\n",
            "[130]\ttraining's binary_logloss: 0.0448136\tvalid_1's binary_logloss: 0.0852678\n",
            "[140]\ttraining's binary_logloss: 0.0426374\tvalid_1's binary_logloss: 0.0843877\n",
            "[150]\ttraining's binary_logloss: 0.0395421\tvalid_1's binary_logloss: 0.0831745\n",
            "[160]\ttraining's binary_logloss: 0.0373895\tvalid_1's binary_logloss: 0.082264\n",
            "[170]\ttraining's binary_logloss: 0.0357445\tvalid_1's binary_logloss: 0.0817602\n",
            "[180]\ttraining's binary_logloss: 0.0336474\tvalid_1's binary_logloss: 0.0814583\n",
            "[190]\ttraining's binary_logloss: 0.0317092\tvalid_1's binary_logloss: 0.0811886\n",
            "[200]\ttraining's binary_logloss: 0.0298133\tvalid_1's binary_logloss: 0.0807668\n",
            "[210]\ttraining's binary_logloss: 0.0283265\tvalid_1's binary_logloss: 0.0804893\n",
            "[220]\ttraining's binary_logloss: 0.0267947\tvalid_1's binary_logloss: 0.0804896\n",
            "[230]\ttraining's binary_logloss: 0.0253559\tvalid_1's binary_logloss: 0.0802702\n",
            "[240]\ttraining's binary_logloss: 0.0238454\tvalid_1's binary_logloss: 0.0800036\n",
            "[250]\ttraining's binary_logloss: 0.0227992\tvalid_1's binary_logloss: 0.0799582\n",
            "[260]\ttraining's binary_logloss: 0.0216784\tvalid_1's binary_logloss: 0.0797223\n",
            "[270]\ttraining's binary_logloss: 0.0204874\tvalid_1's binary_logloss: 0.0798342\n",
            "[280]\ttraining's binary_logloss: 0.0195981\tvalid_1's binary_logloss: 0.0798478\n",
            "[290]\ttraining's binary_logloss: 0.0187997\tvalid_1's binary_logloss: 0.0796971\n",
            "[300]\ttraining's binary_logloss: 0.0177473\tvalid_1's binary_logloss: 0.0797611\n",
            "[310]\ttraining's binary_logloss: 0.0170115\tvalid_1's binary_logloss: 0.0796715\n",
            "[320]\ttraining's binary_logloss: 0.0160561\tvalid_1's binary_logloss: 0.0797479\n",
            "[330]\ttraining's binary_logloss: 0.0153693\tvalid_1's binary_logloss: 0.0800413\n",
            "[340]\ttraining's binary_logloss: 0.014486\tvalid_1's binary_logloss: 0.080195\n",
            "[350]\ttraining's binary_logloss: 0.0136539\tvalid_1's binary_logloss: 0.0802173\n",
            "[360]\ttraining's binary_logloss: 0.0129077\tvalid_1's binary_logloss: 0.0803597\n",
            "[370]\ttraining's binary_logloss: 0.0121212\tvalid_1's binary_logloss: 0.0805178\n",
            "[380]\ttraining's binary_logloss: 0.0113706\tvalid_1's binary_logloss: 0.0809432\n",
            "[390]\ttraining's binary_logloss: 0.0107657\tvalid_1's binary_logloss: 0.0812043\n",
            "[400]\ttraining's binary_logloss: 0.010227\tvalid_1's binary_logloss: 0.0818694\n",
            "[410]\ttraining's binary_logloss: 0.00954008\tvalid_1's binary_logloss: 0.0819276\n",
            "Early stopping, best iteration is:\n",
            "[314]\ttraining's binary_logloss: 0.0165187\tvalid_1's binary_logloss: 0.0795023\n"
          ],
          "name": "stdout"
        },
        {
          "output_type": "stream",
          "text": [
            "\u001b[32m[I 2021-06-04 17:22:03,859]\u001b[0m Trial 19 finished with value: 0.07950226739191199 and parameters: {'n_estimators': 1000, 'lerning_rate': 0.05, 'max_depth': 6, 'max_features': 0.1, 'min_samples_split': 2, 'min_samples_leaf': 2}. Best is trial 6 with value: 0.07448800223470399.\u001b[0m\n",
            "/usr/local/lib/python3.7/dist-packages/lightgbm/engine.py:118: UserWarning:\n",
            "\n",
            "Found `n_estimators` in params. Will use it instead of argument\n",
            "\n",
            "/usr/local/lib/python3.7/dist-packages/lightgbm/basic.py:1205: UserWarning:\n",
            "\n",
            "Using categorical_feature in Dataset.\n",
            "\n",
            "/usr/local/lib/python3.7/dist-packages/lightgbm/basic.py:762: UserWarning:\n",
            "\n",
            "categorical_feature in param dict is overridden.\n",
            "\n"
          ],
          "name": "stderr"
        },
        {
          "output_type": "stream",
          "text": [
            "Training until validation scores don't improve for 100 rounds.\n",
            "[10]\ttraining's binary_logloss: 0.265484\tvalid_1's binary_logloss: 0.270788\n",
            "[20]\ttraining's binary_logloss: 0.141454\tvalid_1's binary_logloss: 0.155841\n",
            "[30]\ttraining's binary_logloss: 0.0913956\tvalid_1's binary_logloss: 0.114023\n",
            "[40]\ttraining's binary_logloss: 0.0659753\tvalid_1's binary_logloss: 0.0951342\n",
            "[50]\ttraining's binary_logloss: 0.0518051\tvalid_1's binary_logloss: 0.0872426\n",
            "[60]\ttraining's binary_logloss: 0.0420666\tvalid_1's binary_logloss: 0.0829783\n",
            "[70]\ttraining's binary_logloss: 0.0349382\tvalid_1's binary_logloss: 0.079769\n",
            "[80]\ttraining's binary_logloss: 0.0304187\tvalid_1's binary_logloss: 0.0783453\n",
            "[90]\ttraining's binary_logloss: 0.0268742\tvalid_1's binary_logloss: 0.0784974\n",
            "[100]\ttraining's binary_logloss: 0.0234778\tvalid_1's binary_logloss: 0.0787675\n",
            "[110]\ttraining's binary_logloss: 0.019951\tvalid_1's binary_logloss: 0.0779364\n",
            "[120]\ttraining's binary_logloss: 0.0172662\tvalid_1's binary_logloss: 0.0786049\n",
            "[130]\ttraining's binary_logloss: 0.0149412\tvalid_1's binary_logloss: 0.0781018\n",
            "[140]\ttraining's binary_logloss: 0.013256\tvalid_1's binary_logloss: 0.0786329\n",
            "[150]\ttraining's binary_logloss: 0.0116296\tvalid_1's binary_logloss: 0.079005\n",
            "[160]\ttraining's binary_logloss: 0.0101228\tvalid_1's binary_logloss: 0.0792184\n"
          ],
          "name": "stdout"
        },
        {
          "output_type": "stream",
          "text": [
            "\u001b[32m[I 2021-06-04 17:22:04,473]\u001b[0m Trial 20 finished with value: 0.07793637174609908 and parameters: {'n_estimators': 800, 'lerning_rate': 0.1, 'max_depth': 7, 'max_features': 0.5, 'min_samples_split': 2, 'min_samples_leaf': 2}. Best is trial 6 with value: 0.07448800223470399.\u001b[0m\n"
          ],
          "name": "stderr"
        },
        {
          "output_type": "stream",
          "text": [
            "[170]\ttraining's binary_logloss: 0.00909075\tvalid_1's binary_logloss: 0.0803631\n",
            "[180]\ttraining's binary_logloss: 0.00801235\tvalid_1's binary_logloss: 0.0808345\n",
            "[190]\ttraining's binary_logloss: 0.00711092\tvalid_1's binary_logloss: 0.0812948\n",
            "[200]\ttraining's binary_logloss: 0.00615468\tvalid_1's binary_logloss: 0.0822679\n",
            "[210]\ttraining's binary_logloss: 0.00527397\tvalid_1's binary_logloss: 0.0829521\n",
            "Early stopping, best iteration is:\n",
            "[110]\ttraining's binary_logloss: 0.019951\tvalid_1's binary_logloss: 0.0779364\n",
            "Training until validation scores don't improve for 100 rounds.\n",
            "[10]\ttraining's binary_logloss: 0.409698\tvalid_1's binary_logloss: 0.411253\n"
          ],
          "name": "stdout"
        },
        {
          "output_type": "stream",
          "text": [
            "/usr/local/lib/python3.7/dist-packages/lightgbm/engine.py:118: UserWarning:\n",
            "\n",
            "Found `n_estimators` in params. Will use it instead of argument\n",
            "\n",
            "/usr/local/lib/python3.7/dist-packages/lightgbm/basic.py:1205: UserWarning:\n",
            "\n",
            "Using categorical_feature in Dataset.\n",
            "\n",
            "/usr/local/lib/python3.7/dist-packages/lightgbm/basic.py:762: UserWarning:\n",
            "\n",
            "categorical_feature in param dict is overridden.\n",
            "\n"
          ],
          "name": "stderr"
        },
        {
          "output_type": "stream",
          "text": [
            "[20]\ttraining's binary_logloss: 0.267993\tvalid_1's binary_logloss: 0.274399\n",
            "[30]\ttraining's binary_logloss: 0.189238\tvalid_1's binary_logloss: 0.200589\n",
            "[40]\ttraining's binary_logloss: 0.141871\tvalid_1's binary_logloss: 0.156714\n",
            "[50]\ttraining's binary_logloss: 0.111377\tvalid_1's binary_logloss: 0.131017\n",
            "[60]\ttraining's binary_logloss: 0.0913246\tvalid_1's binary_logloss: 0.114705\n",
            "[70]\ttraining's binary_logloss: 0.0766883\tvalid_1's binary_logloss: 0.103426\n",
            "[80]\ttraining's binary_logloss: 0.0662109\tvalid_1's binary_logloss: 0.0955257\n",
            "[90]\ttraining's binary_logloss: 0.0579735\tvalid_1's binary_logloss: 0.0907321\n",
            "[100]\ttraining's binary_logloss: 0.0519366\tvalid_1's binary_logloss: 0.0873016\n",
            "[110]\ttraining's binary_logloss: 0.0467174\tvalid_1's binary_logloss: 0.084692\n",
            "[120]\ttraining's binary_logloss: 0.042823\tvalid_1's binary_logloss: 0.0825027\n",
            "[130]\ttraining's binary_logloss: 0.039263\tvalid_1's binary_logloss: 0.080728\n",
            "[140]\ttraining's binary_logloss: 0.0368088\tvalid_1's binary_logloss: 0.0795862\n",
            "[150]\ttraining's binary_logloss: 0.0341807\tvalid_1's binary_logloss: 0.0785089\n",
            "[160]\ttraining's binary_logloss: 0.031824\tvalid_1's binary_logloss: 0.0776682\n",
            "[170]\ttraining's binary_logloss: 0.0294623\tvalid_1's binary_logloss: 0.0773473\n",
            "[180]\ttraining's binary_logloss: 0.0277132\tvalid_1's binary_logloss: 0.0770717\n",
            "[190]\ttraining's binary_logloss: 0.0260938\tvalid_1's binary_logloss: 0.0768503\n",
            "[200]\ttraining's binary_logloss: 0.0243262\tvalid_1's binary_logloss: 0.0768429\n",
            "[210]\ttraining's binary_logloss: 0.0228748\tvalid_1's binary_logloss: 0.076908\n",
            "[220]\ttraining's binary_logloss: 0.021454\tvalid_1's binary_logloss: 0.0766721\n",
            "[230]\ttraining's binary_logloss: 0.0199342\tvalid_1's binary_logloss: 0.076072\n",
            "[240]\ttraining's binary_logloss: 0.0185507\tvalid_1's binary_logloss: 0.075876\n",
            "[250]\ttraining's binary_logloss: 0.0175056\tvalid_1's binary_logloss: 0.075725\n",
            "[260]\ttraining's binary_logloss: 0.0163431\tvalid_1's binary_logloss: 0.0753673\n",
            "[270]\ttraining's binary_logloss: 0.0151222\tvalid_1's binary_logloss: 0.0750839\n",
            "[280]\ttraining's binary_logloss: 0.0140374\tvalid_1's binary_logloss: 0.0746954\n",
            "[290]\ttraining's binary_logloss: 0.013094\tvalid_1's binary_logloss: 0.074504\n",
            "[300]\ttraining's binary_logloss: 0.0123084\tvalid_1's binary_logloss: 0.0747105\n",
            "[310]\ttraining's binary_logloss: 0.0114225\tvalid_1's binary_logloss: 0.0748976\n",
            "[320]\ttraining's binary_logloss: 0.0107359\tvalid_1's binary_logloss: 0.0751468\n",
            "[330]\ttraining's binary_logloss: 0.0101537\tvalid_1's binary_logloss: 0.0751449\n",
            "[340]\ttraining's binary_logloss: 0.00961056\tvalid_1's binary_logloss: 0.0755691\n"
          ],
          "name": "stdout"
        },
        {
          "output_type": "stream",
          "text": [
            "\u001b[32m[I 2021-06-04 17:22:05,596]\u001b[0m Trial 21 finished with value: 0.07448800223470399 and parameters: {'n_estimators': 500, 'lerning_rate': 0.05, 'max_depth': 7, 'max_features': 0.5, 'min_samples_split': 2, 'min_samples_leaf': 2}. Best is trial 6 with value: 0.07448800223470399.\u001b[0m\n"
          ],
          "name": "stderr"
        },
        {
          "output_type": "stream",
          "text": [
            "[350]\ttraining's binary_logloss: 0.00917149\tvalid_1's binary_logloss: 0.0756973\n",
            "[360]\ttraining's binary_logloss: 0.00863189\tvalid_1's binary_logloss: 0.076131\n",
            "[370]\ttraining's binary_logloss: 0.00827119\tvalid_1's binary_logloss: 0.0763711\n",
            "[380]\ttraining's binary_logloss: 0.00773575\tvalid_1's binary_logloss: 0.0768945\n",
            "Early stopping, best iteration is:\n",
            "[284]\ttraining's binary_logloss: 0.0136564\tvalid_1's binary_logloss: 0.074488\n",
            "Training until validation scores don't improve for 100 rounds.\n"
          ],
          "name": "stdout"
        },
        {
          "output_type": "stream",
          "text": [
            "/usr/local/lib/python3.7/dist-packages/lightgbm/engine.py:118: UserWarning:\n",
            "\n",
            "Found `n_estimators` in params. Will use it instead of argument\n",
            "\n",
            "/usr/local/lib/python3.7/dist-packages/lightgbm/basic.py:1205: UserWarning:\n",
            "\n",
            "Using categorical_feature in Dataset.\n",
            "\n",
            "/usr/local/lib/python3.7/dist-packages/lightgbm/basic.py:762: UserWarning:\n",
            "\n",
            "categorical_feature in param dict is overridden.\n",
            "\n"
          ],
          "name": "stderr"
        },
        {
          "output_type": "stream",
          "text": [
            "[10]\ttraining's binary_logloss: 0.409698\tvalid_1's binary_logloss: 0.411253\n",
            "[20]\ttraining's binary_logloss: 0.267993\tvalid_1's binary_logloss: 0.274399\n",
            "[30]\ttraining's binary_logloss: 0.189238\tvalid_1's binary_logloss: 0.200589\n",
            "[40]\ttraining's binary_logloss: 0.141871\tvalid_1's binary_logloss: 0.156714\n",
            "[50]\ttraining's binary_logloss: 0.111377\tvalid_1's binary_logloss: 0.131017\n",
            "[60]\ttraining's binary_logloss: 0.0913246\tvalid_1's binary_logloss: 0.114705\n",
            "[70]\ttraining's binary_logloss: 0.0766883\tvalid_1's binary_logloss: 0.103426\n",
            "[80]\ttraining's binary_logloss: 0.0662109\tvalid_1's binary_logloss: 0.0955257\n",
            "[90]\ttraining's binary_logloss: 0.0579735\tvalid_1's binary_logloss: 0.0907321\n",
            "[100]\ttraining's binary_logloss: 0.0519366\tvalid_1's binary_logloss: 0.0873016\n",
            "[110]\ttraining's binary_logloss: 0.0467174\tvalid_1's binary_logloss: 0.084692\n",
            "[120]\ttraining's binary_logloss: 0.042823\tvalid_1's binary_logloss: 0.0825027\n",
            "[130]\ttraining's binary_logloss: 0.039263\tvalid_1's binary_logloss: 0.080728\n",
            "[140]\ttraining's binary_logloss: 0.0368088\tvalid_1's binary_logloss: 0.0795862\n",
            "[150]\ttraining's binary_logloss: 0.0341807\tvalid_1's binary_logloss: 0.0785089\n",
            "[160]\ttraining's binary_logloss: 0.031824\tvalid_1's binary_logloss: 0.0776682\n",
            "[170]\ttraining's binary_logloss: 0.0294623\tvalid_1's binary_logloss: 0.0773473\n",
            "[180]\ttraining's binary_logloss: 0.0277132\tvalid_1's binary_logloss: 0.0770717\n",
            "[190]\ttraining's binary_logloss: 0.0260938\tvalid_1's binary_logloss: 0.0768503\n",
            "[200]\ttraining's binary_logloss: 0.0243262\tvalid_1's binary_logloss: 0.0768429\n",
            "[210]\ttraining's binary_logloss: 0.0228748\tvalid_1's binary_logloss: 0.076908\n",
            "[220]\ttraining's binary_logloss: 0.021454\tvalid_1's binary_logloss: 0.0766721\n",
            "[230]\ttraining's binary_logloss: 0.0199342\tvalid_1's binary_logloss: 0.076072\n",
            "[240]\ttraining's binary_logloss: 0.0185507\tvalid_1's binary_logloss: 0.075876\n",
            "[250]\ttraining's binary_logloss: 0.0175056\tvalid_1's binary_logloss: 0.075725\n",
            "[260]\ttraining's binary_logloss: 0.0163431\tvalid_1's binary_logloss: 0.0753673\n",
            "[270]\ttraining's binary_logloss: 0.0151222\tvalid_1's binary_logloss: 0.0750839\n",
            "[280]\ttraining's binary_logloss: 0.0140374\tvalid_1's binary_logloss: 0.0746954\n",
            "[290]\ttraining's binary_logloss: 0.013094\tvalid_1's binary_logloss: 0.074504\n",
            "[300]\ttraining's binary_logloss: 0.0123084\tvalid_1's binary_logloss: 0.0747105\n",
            "[310]\ttraining's binary_logloss: 0.0114225\tvalid_1's binary_logloss: 0.0748976\n",
            "[320]\ttraining's binary_logloss: 0.0107359\tvalid_1's binary_logloss: 0.0751468\n",
            "[330]\ttraining's binary_logloss: 0.0101537\tvalid_1's binary_logloss: 0.0751449\n"
          ],
          "name": "stdout"
        },
        {
          "output_type": "stream",
          "text": [
            "\u001b[32m[I 2021-06-04 17:22:06,716]\u001b[0m Trial 22 finished with value: 0.07448800223470399 and parameters: {'n_estimators': 500, 'lerning_rate': 0.05, 'max_depth': 7, 'max_features': 0.5, 'min_samples_split': 2, 'min_samples_leaf': 2}. Best is trial 6 with value: 0.07448800223470399.\u001b[0m\n"
          ],
          "name": "stderr"
        },
        {
          "output_type": "stream",
          "text": [
            "[340]\ttraining's binary_logloss: 0.00961056\tvalid_1's binary_logloss: 0.0755691\n",
            "[350]\ttraining's binary_logloss: 0.00917149\tvalid_1's binary_logloss: 0.0756973\n",
            "[360]\ttraining's binary_logloss: 0.00863189\tvalid_1's binary_logloss: 0.076131\n",
            "[370]\ttraining's binary_logloss: 0.00827119\tvalid_1's binary_logloss: 0.0763711\n",
            "[380]\ttraining's binary_logloss: 0.00773575\tvalid_1's binary_logloss: 0.0768945\n",
            "Early stopping, best iteration is:\n",
            "[284]\ttraining's binary_logloss: 0.0136564\tvalid_1's binary_logloss: 0.074488\n"
          ],
          "name": "stdout"
        },
        {
          "output_type": "stream",
          "text": [
            "/usr/local/lib/python3.7/dist-packages/lightgbm/engine.py:118: UserWarning:\n",
            "\n",
            "Found `n_estimators` in params. Will use it instead of argument\n",
            "\n",
            "/usr/local/lib/python3.7/dist-packages/lightgbm/basic.py:1205: UserWarning:\n",
            "\n",
            "Using categorical_feature in Dataset.\n",
            "\n",
            "/usr/local/lib/python3.7/dist-packages/lightgbm/basic.py:762: UserWarning:\n",
            "\n",
            "categorical_feature in param dict is overridden.\n",
            "\n"
          ],
          "name": "stderr"
        },
        {
          "output_type": "stream",
          "text": [
            "Training until validation scores don't improve for 100 rounds.\n",
            "[10]\ttraining's binary_logloss: 0.409698\tvalid_1's binary_logloss: 0.411253\n",
            "[20]\ttraining's binary_logloss: 0.267993\tvalid_1's binary_logloss: 0.274399\n",
            "[30]\ttraining's binary_logloss: 0.189238\tvalid_1's binary_logloss: 0.200589\n",
            "[40]\ttraining's binary_logloss: 0.141871\tvalid_1's binary_logloss: 0.156714\n",
            "[50]\ttraining's binary_logloss: 0.111377\tvalid_1's binary_logloss: 0.131017\n",
            "[60]\ttraining's binary_logloss: 0.0913246\tvalid_1's binary_logloss: 0.114705\n",
            "[70]\ttraining's binary_logloss: 0.0766883\tvalid_1's binary_logloss: 0.103426\n",
            "[80]\ttraining's binary_logloss: 0.0662109\tvalid_1's binary_logloss: 0.0955257\n",
            "[90]\ttraining's binary_logloss: 0.0579735\tvalid_1's binary_logloss: 0.0907321\n",
            "[100]\ttraining's binary_logloss: 0.0519366\tvalid_1's binary_logloss: 0.0873016\n",
            "[110]\ttraining's binary_logloss: 0.0467174\tvalid_1's binary_logloss: 0.084692\n",
            "[120]\ttraining's binary_logloss: 0.042823\tvalid_1's binary_logloss: 0.0825027\n",
            "[130]\ttraining's binary_logloss: 0.039263\tvalid_1's binary_logloss: 0.080728\n",
            "[140]\ttraining's binary_logloss: 0.0368088\tvalid_1's binary_logloss: 0.0795862\n",
            "[150]\ttraining's binary_logloss: 0.0341807\tvalid_1's binary_logloss: 0.0785089\n",
            "[160]\ttraining's binary_logloss: 0.031824\tvalid_1's binary_logloss: 0.0776682\n",
            "[170]\ttraining's binary_logloss: 0.0294623\tvalid_1's binary_logloss: 0.0773473\n",
            "[180]\ttraining's binary_logloss: 0.0277132\tvalid_1's binary_logloss: 0.0770717\n",
            "[190]\ttraining's binary_logloss: 0.0260938\tvalid_1's binary_logloss: 0.0768503\n",
            "[200]\ttraining's binary_logloss: 0.0243262\tvalid_1's binary_logloss: 0.0768429\n",
            "[210]\ttraining's binary_logloss: 0.0228748\tvalid_1's binary_logloss: 0.076908\n",
            "[220]\ttraining's binary_logloss: 0.021454\tvalid_1's binary_logloss: 0.0766721\n",
            "[230]\ttraining's binary_logloss: 0.0199342\tvalid_1's binary_logloss: 0.076072\n",
            "[240]\ttraining's binary_logloss: 0.0185507\tvalid_1's binary_logloss: 0.075876\n",
            "[250]\ttraining's binary_logloss: 0.0175056\tvalid_1's binary_logloss: 0.075725\n",
            "[260]\ttraining's binary_logloss: 0.0163431\tvalid_1's binary_logloss: 0.0753673\n",
            "[270]\ttraining's binary_logloss: 0.0151222\tvalid_1's binary_logloss: 0.0750839\n",
            "[280]\ttraining's binary_logloss: 0.0140374\tvalid_1's binary_logloss: 0.0746954\n",
            "[290]\ttraining's binary_logloss: 0.013094\tvalid_1's binary_logloss: 0.074504\n",
            "[300]\ttraining's binary_logloss: 0.0123084\tvalid_1's binary_logloss: 0.0747105\n",
            "[310]\ttraining's binary_logloss: 0.0114225\tvalid_1's binary_logloss: 0.0748976\n",
            "[320]\ttraining's binary_logloss: 0.0107359\tvalid_1's binary_logloss: 0.0751468\n",
            "[330]\ttraining's binary_logloss: 0.0101537\tvalid_1's binary_logloss: 0.0751449\n",
            "[340]\ttraining's binary_logloss: 0.00961056\tvalid_1's binary_logloss: 0.0755691\n",
            "[350]\ttraining's binary_logloss: 0.00917149\tvalid_1's binary_logloss: 0.0756973\n",
            "[360]\ttraining's binary_logloss: 0.00863189\tvalid_1's binary_logloss: 0.076131\n",
            "[370]\ttraining's binary_logloss: 0.00827119\tvalid_1's binary_logloss: 0.0763711\n",
            "[380]\ttraining's binary_logloss: 0.00773575\tvalid_1's binary_logloss: 0.0768945\n",
            "Early stopping, best iteration is:\n",
            "[284]\ttraining's binary_logloss: 0.0136564\tvalid_1's binary_logloss: 0.074488\n"
          ],
          "name": "stdout"
        },
        {
          "output_type": "stream",
          "text": [
            "\u001b[32m[I 2021-06-04 17:22:07,856]\u001b[0m Trial 23 finished with value: 0.07448800223470399 and parameters: {'n_estimators': 500, 'lerning_rate': 0.05, 'max_depth': 7, 'max_features': 0.1, 'min_samples_split': 2, 'min_samples_leaf': 2}. Best is trial 6 with value: 0.07448800223470399.\u001b[0m\n",
            "/usr/local/lib/python3.7/dist-packages/lightgbm/engine.py:118: UserWarning:\n",
            "\n",
            "Found `n_estimators` in params. Will use it instead of argument\n",
            "\n",
            "/usr/local/lib/python3.7/dist-packages/lightgbm/basic.py:1205: UserWarning:\n",
            "\n",
            "Using categorical_feature in Dataset.\n",
            "\n",
            "/usr/local/lib/python3.7/dist-packages/lightgbm/basic.py:762: UserWarning:\n",
            "\n",
            "categorical_feature in param dict is overridden.\n",
            "\n"
          ],
          "name": "stderr"
        },
        {
          "output_type": "stream",
          "text": [
            "Training until validation scores don't improve for 100 rounds.\n",
            "[10]\ttraining's binary_logloss: 0.409698\tvalid_1's binary_logloss: 0.411253\n",
            "[20]\ttraining's binary_logloss: 0.267993\tvalid_1's binary_logloss: 0.274399\n",
            "[30]\ttraining's binary_logloss: 0.189238\tvalid_1's binary_logloss: 0.200589\n",
            "[40]\ttraining's binary_logloss: 0.141871\tvalid_1's binary_logloss: 0.156714\n",
            "[50]\ttraining's binary_logloss: 0.111377\tvalid_1's binary_logloss: 0.131017\n",
            "[60]\ttraining's binary_logloss: 0.0913246\tvalid_1's binary_logloss: 0.114705\n",
            "[70]\ttraining's binary_logloss: 0.0766883\tvalid_1's binary_logloss: 0.103426\n",
            "[80]\ttraining's binary_logloss: 0.0662109\tvalid_1's binary_logloss: 0.0955257\n",
            "[90]\ttraining's binary_logloss: 0.0579735\tvalid_1's binary_logloss: 0.0907321\n",
            "[100]\ttraining's binary_logloss: 0.0519366\tvalid_1's binary_logloss: 0.0873016\n",
            "[110]\ttraining's binary_logloss: 0.0467174\tvalid_1's binary_logloss: 0.084692\n",
            "[120]\ttraining's binary_logloss: 0.042823\tvalid_1's binary_logloss: 0.0825027\n",
            "[130]\ttraining's binary_logloss: 0.039263\tvalid_1's binary_logloss: 0.080728\n",
            "[140]\ttraining's binary_logloss: 0.0368088\tvalid_1's binary_logloss: 0.0795862\n",
            "[150]\ttraining's binary_logloss: 0.0341807\tvalid_1's binary_logloss: 0.0785089\n",
            "[160]\ttraining's binary_logloss: 0.031824\tvalid_1's binary_logloss: 0.0776682\n",
            "[170]\ttraining's binary_logloss: 0.0294623\tvalid_1's binary_logloss: 0.0773473\n",
            "[180]\ttraining's binary_logloss: 0.0277132\tvalid_1's binary_logloss: 0.0770717\n",
            "[190]\ttraining's binary_logloss: 0.0260938\tvalid_1's binary_logloss: 0.0768503\n",
            "[200]\ttraining's binary_logloss: 0.0243262\tvalid_1's binary_logloss: 0.0768429\n",
            "[210]\ttraining's binary_logloss: 0.0228748\tvalid_1's binary_logloss: 0.076908\n",
            "[220]\ttraining's binary_logloss: 0.021454\tvalid_1's binary_logloss: 0.0766721\n",
            "[230]\ttraining's binary_logloss: 0.0199342\tvalid_1's binary_logloss: 0.076072\n",
            "[240]\ttraining's binary_logloss: 0.0185507\tvalid_1's binary_logloss: 0.075876\n",
            "[250]\ttraining's binary_logloss: 0.0175056\tvalid_1's binary_logloss: 0.075725\n",
            "[260]\ttraining's binary_logloss: 0.0163431\tvalid_1's binary_logloss: 0.0753673\n",
            "[270]\ttraining's binary_logloss: 0.0151222\tvalid_1's binary_logloss: 0.0750839\n",
            "[280]\ttraining's binary_logloss: 0.0140374\tvalid_1's binary_logloss: 0.0746954\n",
            "[290]\ttraining's binary_logloss: 0.013094\tvalid_1's binary_logloss: 0.074504\n",
            "[300]\ttraining's binary_logloss: 0.0123084\tvalid_1's binary_logloss: 0.0747105\n",
            "[310]\ttraining's binary_logloss: 0.0114225\tvalid_1's binary_logloss: 0.0748976\n",
            "[320]\ttraining's binary_logloss: 0.0107359\tvalid_1's binary_logloss: 0.0751468\n",
            "[330]\ttraining's binary_logloss: 0.0101537\tvalid_1's binary_logloss: 0.0751449\n"
          ],
          "name": "stdout"
        },
        {
          "output_type": "stream",
          "text": [
            "\u001b[32m[I 2021-06-04 17:22:08,960]\u001b[0m Trial 24 finished with value: 0.07448800223470399 and parameters: {'n_estimators': 800, 'lerning_rate': 0.05, 'max_depth': 7, 'max_features': 0.5, 'min_samples_split': 2, 'min_samples_leaf': 2}. Best is trial 6 with value: 0.07448800223470399.\u001b[0m\n"
          ],
          "name": "stderr"
        },
        {
          "output_type": "stream",
          "text": [
            "[340]\ttraining's binary_logloss: 0.00961056\tvalid_1's binary_logloss: 0.0755691\n",
            "[350]\ttraining's binary_logloss: 0.00917149\tvalid_1's binary_logloss: 0.0756973\n",
            "[360]\ttraining's binary_logloss: 0.00863189\tvalid_1's binary_logloss: 0.076131\n",
            "[370]\ttraining's binary_logloss: 0.00827119\tvalid_1's binary_logloss: 0.0763711\n",
            "[380]\ttraining's binary_logloss: 0.00773575\tvalid_1's binary_logloss: 0.0768945\n",
            "Early stopping, best iteration is:\n",
            "[284]\ttraining's binary_logloss: 0.0136564\tvalid_1's binary_logloss: 0.074488\n"
          ],
          "name": "stdout"
        },
        {
          "output_type": "stream",
          "text": [
            "/usr/local/lib/python3.7/dist-packages/lightgbm/engine.py:118: UserWarning:\n",
            "\n",
            "Found `n_estimators` in params. Will use it instead of argument\n",
            "\n",
            "/usr/local/lib/python3.7/dist-packages/lightgbm/basic.py:1205: UserWarning:\n",
            "\n",
            "Using categorical_feature in Dataset.\n",
            "\n",
            "/usr/local/lib/python3.7/dist-packages/lightgbm/basic.py:762: UserWarning:\n",
            "\n",
            "categorical_feature in param dict is overridden.\n",
            "\n"
          ],
          "name": "stderr"
        },
        {
          "output_type": "stream",
          "text": [
            "Training until validation scores don't improve for 100 rounds.\n",
            "[10]\ttraining's binary_logloss: 0.617153\tvalid_1's binary_logloss: 0.617242\n",
            "[20]\ttraining's binary_logloss: 0.553972\tvalid_1's binary_logloss: 0.554072\n",
            "[30]\ttraining's binary_logloss: 0.500474\tvalid_1's binary_logloss: 0.500795\n",
            "[40]\ttraining's binary_logloss: 0.453758\tvalid_1's binary_logloss: 0.454518\n",
            "[50]\ttraining's binary_logloss: 0.412333\tvalid_1's binary_logloss: 0.413831\n",
            "[60]\ttraining's binary_logloss: 0.376057\tvalid_1's binary_logloss: 0.378553\n",
            "[70]\ttraining's binary_logloss: 0.344534\tvalid_1's binary_logloss: 0.347978\n",
            "[80]\ttraining's binary_logloss: 0.316671\tvalid_1's binary_logloss: 0.321011\n",
            "[90]\ttraining's binary_logloss: 0.292122\tvalid_1's binary_logloss: 0.297588\n",
            "[100]\ttraining's binary_logloss: 0.270129\tvalid_1's binary_logloss: 0.276866\n",
            "[110]\ttraining's binary_logloss: 0.25063\tvalid_1's binary_logloss: 0.2583\n",
            "[120]\ttraining's binary_logloss: 0.233145\tvalid_1's binary_logloss: 0.241869\n",
            "[130]\ttraining's binary_logloss: 0.217582\tvalid_1's binary_logloss: 0.227239\n",
            "[140]\ttraining's binary_logloss: 0.20359\tvalid_1's binary_logloss: 0.214207\n",
            "[150]\ttraining's binary_logloss: 0.190863\tvalid_1's binary_logloss: 0.202545\n",
            "[160]\ttraining's binary_logloss: 0.179237\tvalid_1's binary_logloss: 0.191814\n",
            "[170]\ttraining's binary_logloss: 0.168811\tvalid_1's binary_logloss: 0.181962\n",
            "[180]\ttraining's binary_logloss: 0.159422\tvalid_1's binary_logloss: 0.173081\n",
            "[190]\ttraining's binary_logloss: 0.15085\tvalid_1's binary_logloss: 0.165157\n",
            "[200]\ttraining's binary_logloss: 0.143121\tvalid_1's binary_logloss: 0.158015\n",
            "[210]\ttraining's binary_logloss: 0.1358\tvalid_1's binary_logloss: 0.15154\n",
            "[220]\ttraining's binary_logloss: 0.12902\tvalid_1's binary_logloss: 0.145871\n",
            "[230]\ttraining's binary_logloss: 0.122776\tvalid_1's binary_logloss: 0.140757\n",
            "[240]\ttraining's binary_logloss: 0.117185\tvalid_1's binary_logloss: 0.136169\n",
            "[250]\ttraining's binary_logloss: 0.112119\tvalid_1's binary_logloss: 0.131949\n",
            "[260]\ttraining's binary_logloss: 0.107469\tvalid_1's binary_logloss: 0.128116\n",
            "[270]\ttraining's binary_logloss: 0.103213\tvalid_1's binary_logloss: 0.1246\n",
            "[280]\ttraining's binary_logloss: 0.0992351\tvalid_1's binary_logloss: 0.121302\n",
            "[290]\ttraining's binary_logloss: 0.0952946\tvalid_1's binary_logloss: 0.118206\n",
            "[300]\ttraining's binary_logloss: 0.091742\tvalid_1's binary_logloss: 0.115256\n",
            "[310]\ttraining's binary_logloss: 0.0884151\tvalid_1's binary_logloss: 0.112647\n",
            "[320]\ttraining's binary_logloss: 0.0853472\tvalid_1's binary_logloss: 0.110188\n",
            "[330]\ttraining's binary_logloss: 0.0825442\tvalid_1's binary_logloss: 0.107992\n",
            "[340]\ttraining's binary_logloss: 0.0798766\tvalid_1's binary_logloss: 0.105971\n",
            "[350]\ttraining's binary_logloss: 0.0774121\tvalid_1's binary_logloss: 0.10404\n",
            "[360]\ttraining's binary_logloss: 0.0750978\tvalid_1's binary_logloss: 0.102237\n",
            "[370]\ttraining's binary_logloss: 0.0729044\tvalid_1's binary_logloss: 0.100645\n",
            "[380]\ttraining's binary_logloss: 0.0706852\tvalid_1's binary_logloss: 0.0989826\n",
            "[390]\ttraining's binary_logloss: 0.0686055\tvalid_1's binary_logloss: 0.0975003\n",
            "[400]\ttraining's binary_logloss: 0.0666136\tvalid_1's binary_logloss: 0.0961084\n",
            "[410]\ttraining's binary_logloss: 0.0648006\tvalid_1's binary_logloss: 0.0949209\n",
            "[420]\ttraining's binary_logloss: 0.0630678\tvalid_1's binary_logloss: 0.0938229\n",
            "[430]\ttraining's binary_logloss: 0.0613963\tvalid_1's binary_logloss: 0.0928306\n",
            "[440]\ttraining's binary_logloss: 0.0598742\tvalid_1's binary_logloss: 0.0918384\n",
            "[450]\ttraining's binary_logloss: 0.0584271\tvalid_1's binary_logloss: 0.0909909\n",
            "[460]\ttraining's binary_logloss: 0.0571237\tvalid_1's binary_logloss: 0.0903084\n",
            "[470]\ttraining's binary_logloss: 0.0558672\tvalid_1's binary_logloss: 0.0896661\n",
            "[480]\ttraining's binary_logloss: 0.0546622\tvalid_1's binary_logloss: 0.0891082\n",
            "[490]\ttraining's binary_logloss: 0.0534624\tvalid_1's binary_logloss: 0.0884549\n",
            "[500]\ttraining's binary_logloss: 0.052371\tvalid_1's binary_logloss: 0.0879262\n",
            "Did not meet early stopping. Best iteration is:\n",
            "[500]\ttraining's binary_logloss: 0.052371\tvalid_1's binary_logloss: 0.0879262\n"
          ],
          "name": "stdout"
        },
        {
          "output_type": "stream",
          "text": [
            "\u001b[32m[I 2021-06-04 17:22:10,544]\u001b[0m Trial 25 finished with value: 0.08792617917978822 and parameters: {'n_estimators': 500, 'lerning_rate': 0.01, 'max_depth': 7, 'max_features': 0.5, 'min_samples_split': 2, 'min_samples_leaf': 2}. Best is trial 6 with value: 0.07448800223470399.\u001b[0m\n",
            "/usr/local/lib/python3.7/dist-packages/lightgbm/engine.py:118: UserWarning:\n",
            "\n",
            "Found `n_estimators` in params. Will use it instead of argument\n",
            "\n",
            "/usr/local/lib/python3.7/dist-packages/lightgbm/basic.py:1205: UserWarning:\n",
            "\n",
            "Using categorical_feature in Dataset.\n",
            "\n",
            "/usr/local/lib/python3.7/dist-packages/lightgbm/basic.py:762: UserWarning:\n",
            "\n",
            "categorical_feature in param dict is overridden.\n",
            "\n"
          ],
          "name": "stderr"
        },
        {
          "output_type": "stream",
          "text": [
            "Training until validation scores don't improve for 100 rounds.\n",
            "[10]\ttraining's binary_logloss: 0.409698\tvalid_1's binary_logloss: 0.411253\n",
            "[20]\ttraining's binary_logloss: 0.267993\tvalid_1's binary_logloss: 0.274399\n",
            "[30]\ttraining's binary_logloss: 0.189238\tvalid_1's binary_logloss: 0.200589\n",
            "[40]\ttraining's binary_logloss: 0.141871\tvalid_1's binary_logloss: 0.156714\n",
            "[50]\ttraining's binary_logloss: 0.111377\tvalid_1's binary_logloss: 0.131017\n",
            "[60]\ttraining's binary_logloss: 0.0913246\tvalid_1's binary_logloss: 0.114705\n",
            "[70]\ttraining's binary_logloss: 0.0766883\tvalid_1's binary_logloss: 0.103426\n",
            "[80]\ttraining's binary_logloss: 0.0662109\tvalid_1's binary_logloss: 0.0955257\n",
            "[90]\ttraining's binary_logloss: 0.0579735\tvalid_1's binary_logloss: 0.0907321\n",
            "[100]\ttraining's binary_logloss: 0.0519366\tvalid_1's binary_logloss: 0.0873016\n",
            "[110]\ttraining's binary_logloss: 0.0467174\tvalid_1's binary_logloss: 0.084692\n",
            "[120]\ttraining's binary_logloss: 0.042823\tvalid_1's binary_logloss: 0.0825027\n",
            "[130]\ttraining's binary_logloss: 0.039263\tvalid_1's binary_logloss: 0.080728\n",
            "[140]\ttraining's binary_logloss: 0.0368088\tvalid_1's binary_logloss: 0.0795862\n",
            "[150]\ttraining's binary_logloss: 0.0341807\tvalid_1's binary_logloss: 0.0785089\n",
            "[160]\ttraining's binary_logloss: 0.031824\tvalid_1's binary_logloss: 0.0776682\n",
            "[170]\ttraining's binary_logloss: 0.0294623\tvalid_1's binary_logloss: 0.0773473\n",
            "[180]\ttraining's binary_logloss: 0.0277132\tvalid_1's binary_logloss: 0.0770717\n",
            "[190]\ttraining's binary_logloss: 0.0260938\tvalid_1's binary_logloss: 0.0768503\n",
            "[200]\ttraining's binary_logloss: 0.0243262\tvalid_1's binary_logloss: 0.0768429\n",
            "[210]\ttraining's binary_logloss: 0.0228748\tvalid_1's binary_logloss: 0.076908\n",
            "[220]\ttraining's binary_logloss: 0.021454\tvalid_1's binary_logloss: 0.0766721\n",
            "[230]\ttraining's binary_logloss: 0.0199342\tvalid_1's binary_logloss: 0.076072\n",
            "[240]\ttraining's binary_logloss: 0.0185507\tvalid_1's binary_logloss: 0.075876\n",
            "[250]\ttraining's binary_logloss: 0.0175056\tvalid_1's binary_logloss: 0.075725\n",
            "[260]\ttraining's binary_logloss: 0.0163431\tvalid_1's binary_logloss: 0.0753673\n",
            "[270]\ttraining's binary_logloss: 0.0151222\tvalid_1's binary_logloss: 0.0750839\n",
            "[280]\ttraining's binary_logloss: 0.0140374\tvalid_1's binary_logloss: 0.0746954\n",
            "[290]\ttraining's binary_logloss: 0.013094\tvalid_1's binary_logloss: 0.074504\n",
            "[300]\ttraining's binary_logloss: 0.0123084\tvalid_1's binary_logloss: 0.0747105\n",
            "[310]\ttraining's binary_logloss: 0.0114225\tvalid_1's binary_logloss: 0.0748976\n",
            "[320]\ttraining's binary_logloss: 0.0107359\tvalid_1's binary_logloss: 0.0751468\n",
            "[330]\ttraining's binary_logloss: 0.0101537\tvalid_1's binary_logloss: 0.0751449\n",
            "[340]\ttraining's binary_logloss: 0.00961056\tvalid_1's binary_logloss: 0.0755691\n",
            "[350]\ttraining's binary_logloss: 0.00917149\tvalid_1's binary_logloss: 0.0756973\n",
            "[360]\ttraining's binary_logloss: 0.00863189\tvalid_1's binary_logloss: 0.076131\n",
            "[370]\ttraining's binary_logloss: 0.00827119\tvalid_1's binary_logloss: 0.0763711\n",
            "[380]\ttraining's binary_logloss: 0.00773575\tvalid_1's binary_logloss: 0.0768945\n",
            "Early stopping, best iteration is:\n",
            "[284]\ttraining's binary_logloss: 0.0136564\tvalid_1's binary_logloss: 0.074488\n"
          ],
          "name": "stdout"
        },
        {
          "output_type": "stream",
          "text": [
            "\u001b[32m[I 2021-06-04 17:22:11,683]\u001b[0m Trial 26 finished with value: 0.07448800223470399 and parameters: {'n_estimators': 800, 'lerning_rate': 0.05, 'max_depth': 7, 'max_features': 0.3, 'min_samples_split': 2, 'min_samples_leaf': 2}. Best is trial 6 with value: 0.07448800223470399.\u001b[0m\n",
            "/usr/local/lib/python3.7/dist-packages/lightgbm/engine.py:118: UserWarning:\n",
            "\n",
            "Found `n_estimators` in params. Will use it instead of argument\n",
            "\n",
            "/usr/local/lib/python3.7/dist-packages/lightgbm/basic.py:1205: UserWarning:\n",
            "\n",
            "Using categorical_feature in Dataset.\n",
            "\n",
            "/usr/local/lib/python3.7/dist-packages/lightgbm/basic.py:762: UserWarning:\n",
            "\n",
            "categorical_feature in param dict is overridden.\n",
            "\n"
          ],
          "name": "stderr"
        },
        {
          "output_type": "stream",
          "text": [
            "Training until validation scores don't improve for 100 rounds.\n",
            "[10]\ttraining's binary_logloss: 0.409698\tvalid_1's binary_logloss: 0.411253\n",
            "[20]\ttraining's binary_logloss: 0.267993\tvalid_1's binary_logloss: 0.274399\n",
            "[30]\ttraining's binary_logloss: 0.189238\tvalid_1's binary_logloss: 0.200589\n",
            "[40]\ttraining's binary_logloss: 0.141871\tvalid_1's binary_logloss: 0.156714\n",
            "[50]\ttraining's binary_logloss: 0.111377\tvalid_1's binary_logloss: 0.131017\n",
            "[60]\ttraining's binary_logloss: 0.0913246\tvalid_1's binary_logloss: 0.114705\n",
            "[70]\ttraining's binary_logloss: 0.0766883\tvalid_1's binary_logloss: 0.103426\n",
            "[80]\ttraining's binary_logloss: 0.0662109\tvalid_1's binary_logloss: 0.0955257\n",
            "[90]\ttraining's binary_logloss: 0.0579735\tvalid_1's binary_logloss: 0.0907321\n",
            "[100]\ttraining's binary_logloss: 0.0519366\tvalid_1's binary_logloss: 0.0873016\n",
            "[110]\ttraining's binary_logloss: 0.0467174\tvalid_1's binary_logloss: 0.084692\n",
            "[120]\ttraining's binary_logloss: 0.042823\tvalid_1's binary_logloss: 0.0825027\n",
            "[130]\ttraining's binary_logloss: 0.039263\tvalid_1's binary_logloss: 0.080728\n",
            "[140]\ttraining's binary_logloss: 0.0368088\tvalid_1's binary_logloss: 0.0795862\n",
            "[150]\ttraining's binary_logloss: 0.0341807\tvalid_1's binary_logloss: 0.0785089\n",
            "[160]\ttraining's binary_logloss: 0.031824\tvalid_1's binary_logloss: 0.0776682\n",
            "[170]\ttraining's binary_logloss: 0.0294623\tvalid_1's binary_logloss: 0.0773473\n",
            "[180]\ttraining's binary_logloss: 0.0277132\tvalid_1's binary_logloss: 0.0770717\n",
            "[190]\ttraining's binary_logloss: 0.0260938\tvalid_1's binary_logloss: 0.0768503\n",
            "[200]\ttraining's binary_logloss: 0.0243262\tvalid_1's binary_logloss: 0.0768429\n",
            "[210]\ttraining's binary_logloss: 0.0228748\tvalid_1's binary_logloss: 0.076908\n",
            "[220]\ttraining's binary_logloss: 0.021454\tvalid_1's binary_logloss: 0.0766721\n",
            "[230]\ttraining's binary_logloss: 0.0199342\tvalid_1's binary_logloss: 0.076072\n",
            "[240]\ttraining's binary_logloss: 0.0185507\tvalid_1's binary_logloss: 0.075876\n",
            "[250]\ttraining's binary_logloss: 0.0175056\tvalid_1's binary_logloss: 0.075725\n",
            "[260]\ttraining's binary_logloss: 0.0163431\tvalid_1's binary_logloss: 0.0753673\n",
            "[270]\ttraining's binary_logloss: 0.0151222\tvalid_1's binary_logloss: 0.0750839\n",
            "[280]\ttraining's binary_logloss: 0.0140374\tvalid_1's binary_logloss: 0.0746954\n",
            "[290]\ttraining's binary_logloss: 0.013094\tvalid_1's binary_logloss: 0.074504\n",
            "[300]\ttraining's binary_logloss: 0.0123084\tvalid_1's binary_logloss: 0.0747105\n",
            "[310]\ttraining's binary_logloss: 0.0114225\tvalid_1's binary_logloss: 0.0748976\n",
            "[320]\ttraining's binary_logloss: 0.0107359\tvalid_1's binary_logloss: 0.0751468\n",
            "[330]\ttraining's binary_logloss: 0.0101537\tvalid_1's binary_logloss: 0.0751449\n",
            "[340]\ttraining's binary_logloss: 0.00961056\tvalid_1's binary_logloss: 0.0755691\n",
            "[350]\ttraining's binary_logloss: 0.00917149\tvalid_1's binary_logloss: 0.0756973\n",
            "[360]\ttraining's binary_logloss: 0.00863189\tvalid_1's binary_logloss: 0.076131\n",
            "[370]\ttraining's binary_logloss: 0.00827119\tvalid_1's binary_logloss: 0.0763711\n",
            "[380]\ttraining's binary_logloss: 0.00773575\tvalid_1's binary_logloss: 0.0768945\n",
            "Early stopping, best iteration is:\n",
            "[284]\ttraining's binary_logloss: 0.0136564\tvalid_1's binary_logloss: 0.074488\n"
          ],
          "name": "stdout"
        },
        {
          "output_type": "stream",
          "text": [
            "\u001b[32m[I 2021-06-04 17:22:12,801]\u001b[0m Trial 27 finished with value: 0.07448800223470399 and parameters: {'n_estimators': 800, 'lerning_rate': 0.05, 'max_depth': 7, 'max_features': 0.3, 'min_samples_split': 2, 'min_samples_leaf': 2}. Best is trial 6 with value: 0.07448800223470399.\u001b[0m\n",
            "/usr/local/lib/python3.7/dist-packages/lightgbm/engine.py:118: UserWarning:\n",
            "\n",
            "Found `n_estimators` in params. Will use it instead of argument\n",
            "\n",
            "/usr/local/lib/python3.7/dist-packages/lightgbm/basic.py:1205: UserWarning:\n",
            "\n",
            "Using categorical_feature in Dataset.\n",
            "\n",
            "/usr/local/lib/python3.7/dist-packages/lightgbm/basic.py:762: UserWarning:\n",
            "\n",
            "categorical_feature in param dict is overridden.\n",
            "\n"
          ],
          "name": "stderr"
        },
        {
          "output_type": "stream",
          "text": [
            "Training until validation scores don't improve for 100 rounds.\n",
            "[10]\ttraining's binary_logloss: 0.409698\tvalid_1's binary_logloss: 0.411253\n",
            "[20]\ttraining's binary_logloss: 0.267993\tvalid_1's binary_logloss: 0.274399\n",
            "[30]\ttraining's binary_logloss: 0.189238\tvalid_1's binary_logloss: 0.200589\n",
            "[40]\ttraining's binary_logloss: 0.141871\tvalid_1's binary_logloss: 0.156714\n",
            "[50]\ttraining's binary_logloss: 0.111377\tvalid_1's binary_logloss: 0.131017\n",
            "[60]\ttraining's binary_logloss: 0.0913246\tvalid_1's binary_logloss: 0.114705\n",
            "[70]\ttraining's binary_logloss: 0.0766883\tvalid_1's binary_logloss: 0.103426\n",
            "[80]\ttraining's binary_logloss: 0.0662109\tvalid_1's binary_logloss: 0.0955257\n",
            "[90]\ttraining's binary_logloss: 0.0579735\tvalid_1's binary_logloss: 0.0907321\n",
            "[100]\ttraining's binary_logloss: 0.0519366\tvalid_1's binary_logloss: 0.0873016\n",
            "[110]\ttraining's binary_logloss: 0.0467174\tvalid_1's binary_logloss: 0.084692\n",
            "[120]\ttraining's binary_logloss: 0.042823\tvalid_1's binary_logloss: 0.0825027\n",
            "[130]\ttraining's binary_logloss: 0.039263\tvalid_1's binary_logloss: 0.080728\n",
            "[140]\ttraining's binary_logloss: 0.0368088\tvalid_1's binary_logloss: 0.0795862\n",
            "[150]\ttraining's binary_logloss: 0.0341807\tvalid_1's binary_logloss: 0.0785089\n",
            "[160]\ttraining's binary_logloss: 0.031824\tvalid_1's binary_logloss: 0.0776682\n",
            "[170]\ttraining's binary_logloss: 0.0294623\tvalid_1's binary_logloss: 0.0773473\n",
            "[180]\ttraining's binary_logloss: 0.0277132\tvalid_1's binary_logloss: 0.0770717\n",
            "[190]\ttraining's binary_logloss: 0.0260938\tvalid_1's binary_logloss: 0.0768503\n",
            "[200]\ttraining's binary_logloss: 0.0243262\tvalid_1's binary_logloss: 0.0768429\n",
            "[210]\ttraining's binary_logloss: 0.0228748\tvalid_1's binary_logloss: 0.076908\n",
            "[220]\ttraining's binary_logloss: 0.021454\tvalid_1's binary_logloss: 0.0766721\n",
            "[230]\ttraining's binary_logloss: 0.0199342\tvalid_1's binary_logloss: 0.076072\n",
            "[240]\ttraining's binary_logloss: 0.0185507\tvalid_1's binary_logloss: 0.075876\n",
            "[250]\ttraining's binary_logloss: 0.0175056\tvalid_1's binary_logloss: 0.075725\n",
            "[260]\ttraining's binary_logloss: 0.0163431\tvalid_1's binary_logloss: 0.0753673\n",
            "[270]\ttraining's binary_logloss: 0.0151222\tvalid_1's binary_logloss: 0.0750839\n",
            "[280]\ttraining's binary_logloss: 0.0140374\tvalid_1's binary_logloss: 0.0746954\n",
            "[290]\ttraining's binary_logloss: 0.013094\tvalid_1's binary_logloss: 0.074504\n",
            "[300]\ttraining's binary_logloss: 0.0123084\tvalid_1's binary_logloss: 0.0747105\n",
            "[310]\ttraining's binary_logloss: 0.0114225\tvalid_1's binary_logloss: 0.0748976\n",
            "[320]\ttraining's binary_logloss: 0.0107359\tvalid_1's binary_logloss: 0.0751468\n",
            "[330]\ttraining's binary_logloss: 0.0101537\tvalid_1's binary_logloss: 0.0751449\n",
            "[340]\ttraining's binary_logloss: 0.00961056\tvalid_1's binary_logloss: 0.0755691\n",
            "[350]\ttraining's binary_logloss: 0.00917149\tvalid_1's binary_logloss: 0.0756973\n",
            "[360]\ttraining's binary_logloss: 0.00863189\tvalid_1's binary_logloss: 0.076131\n",
            "[370]\ttraining's binary_logloss: 0.00827119\tvalid_1's binary_logloss: 0.0763711\n",
            "[380]\ttraining's binary_logloss: 0.00773575\tvalid_1's binary_logloss: 0.0768945\n",
            "Early stopping, best iteration is:\n",
            "[284]\ttraining's binary_logloss: 0.0136564\tvalid_1's binary_logloss: 0.074488\n"
          ],
          "name": "stdout"
        },
        {
          "output_type": "stream",
          "text": [
            "\u001b[32m[I 2021-06-04 17:22:13,931]\u001b[0m Trial 28 finished with value: 0.07448800223470399 and parameters: {'n_estimators': 1000, 'lerning_rate': 0.05, 'max_depth': 7, 'max_features': 0.3, 'min_samples_split': 2, 'min_samples_leaf': 2}. Best is trial 6 with value: 0.07448800223470399.\u001b[0m\n",
            "/usr/local/lib/python3.7/dist-packages/lightgbm/engine.py:118: UserWarning:\n",
            "\n",
            "Found `n_estimators` in params. Will use it instead of argument\n",
            "\n",
            "/usr/local/lib/python3.7/dist-packages/lightgbm/basic.py:1205: UserWarning:\n",
            "\n",
            "Using categorical_feature in Dataset.\n",
            "\n",
            "/usr/local/lib/python3.7/dist-packages/lightgbm/basic.py:762: UserWarning:\n",
            "\n",
            "categorical_feature in param dict is overridden.\n",
            "\n"
          ],
          "name": "stderr"
        },
        {
          "output_type": "stream",
          "text": [
            "Training until validation scores don't improve for 100 rounds.\n",
            "[10]\ttraining's binary_logloss: 0.411323\tvalid_1's binary_logloss: 0.413697\n",
            "[20]\ttraining's binary_logloss: 0.270566\tvalid_1's binary_logloss: 0.277387\n",
            "[30]\ttraining's binary_logloss: 0.193298\tvalid_1's binary_logloss: 0.204611\n",
            "[40]\ttraining's binary_logloss: 0.145922\tvalid_1's binary_logloss: 0.161338\n",
            "[50]\ttraining's binary_logloss: 0.116141\tvalid_1's binary_logloss: 0.135096\n",
            "[60]\ttraining's binary_logloss: 0.0963498\tvalid_1's binary_logloss: 0.118673\n",
            "[70]\ttraining's binary_logloss: 0.0816513\tvalid_1's binary_logloss: 0.106801\n",
            "[80]\ttraining's binary_logloss: 0.0710277\tvalid_1's binary_logloss: 0.0991108\n",
            "[90]\ttraining's binary_logloss: 0.0634895\tvalid_1's binary_logloss: 0.0944022\n",
            "[100]\ttraining's binary_logloss: 0.0574838\tvalid_1's binary_logloss: 0.0909468\n",
            "[110]\ttraining's binary_logloss: 0.052291\tvalid_1's binary_logloss: 0.0881219\n",
            "[120]\ttraining's binary_logloss: 0.0481254\tvalid_1's binary_logloss: 0.0868324\n",
            "[130]\ttraining's binary_logloss: 0.0448136\tvalid_1's binary_logloss: 0.0852678\n",
            "[140]\ttraining's binary_logloss: 0.0426374\tvalid_1's binary_logloss: 0.0843877\n",
            "[150]\ttraining's binary_logloss: 0.0395421\tvalid_1's binary_logloss: 0.0831745\n",
            "[160]\ttraining's binary_logloss: 0.0373895\tvalid_1's binary_logloss: 0.082264\n",
            "[170]\ttraining's binary_logloss: 0.0357445\tvalid_1's binary_logloss: 0.0817602\n",
            "[180]\ttraining's binary_logloss: 0.0336474\tvalid_1's binary_logloss: 0.0814583\n",
            "[190]\ttraining's binary_logloss: 0.0317092\tvalid_1's binary_logloss: 0.0811886\n",
            "[200]\ttraining's binary_logloss: 0.0298133\tvalid_1's binary_logloss: 0.0807668\n",
            "[210]\ttraining's binary_logloss: 0.0283265\tvalid_1's binary_logloss: 0.0804893\n",
            "[220]\ttraining's binary_logloss: 0.0267947\tvalid_1's binary_logloss: 0.0804896\n",
            "[230]\ttraining's binary_logloss: 0.0253559\tvalid_1's binary_logloss: 0.0802702\n",
            "[240]\ttraining's binary_logloss: 0.0238454\tvalid_1's binary_logloss: 0.0800036\n",
            "[250]\ttraining's binary_logloss: 0.0227992\tvalid_1's binary_logloss: 0.0799582\n",
            "[260]\ttraining's binary_logloss: 0.0216784\tvalid_1's binary_logloss: 0.0797223\n",
            "[270]\ttraining's binary_logloss: 0.0204874\tvalid_1's binary_logloss: 0.0798342\n",
            "[280]\ttraining's binary_logloss: 0.0195981\tvalid_1's binary_logloss: 0.0798478\n",
            "[290]\ttraining's binary_logloss: 0.0187997\tvalid_1's binary_logloss: 0.0796971\n",
            "[300]\ttraining's binary_logloss: 0.0177473\tvalid_1's binary_logloss: 0.0797611\n",
            "[310]\ttraining's binary_logloss: 0.0170115\tvalid_1's binary_logloss: 0.0796715\n",
            "[320]\ttraining's binary_logloss: 0.0160561\tvalid_1's binary_logloss: 0.0797479\n",
            "[330]\ttraining's binary_logloss: 0.0153693\tvalid_1's binary_logloss: 0.0800413\n",
            "[340]\ttraining's binary_logloss: 0.014486\tvalid_1's binary_logloss: 0.080195\n",
            "[350]\ttraining's binary_logloss: 0.0136539\tvalid_1's binary_logloss: 0.0802173\n",
            "[360]\ttraining's binary_logloss: 0.0129077\tvalid_1's binary_logloss: 0.0803597\n",
            "[370]\ttraining's binary_logloss: 0.0121212\tvalid_1's binary_logloss: 0.0805178\n",
            "[380]\ttraining's binary_logloss: 0.0113706\tvalid_1's binary_logloss: 0.0809432\n",
            "[390]\ttraining's binary_logloss: 0.0107657\tvalid_1's binary_logloss: 0.0812043\n",
            "[400]\ttraining's binary_logloss: 0.010227\tvalid_1's binary_logloss: 0.0818694\n",
            "[410]\ttraining's binary_logloss: 0.00954008\tvalid_1's binary_logloss: 0.0819276\n",
            "Early stopping, best iteration is:\n",
            "[314]\ttraining's binary_logloss: 0.0165187\tvalid_1's binary_logloss: 0.0795023\n"
          ],
          "name": "stdout"
        },
        {
          "output_type": "stream",
          "text": [
            "\u001b[32m[I 2021-06-04 17:22:15,092]\u001b[0m Trial 29 finished with value: 0.07950226739191199 and parameters: {'n_estimators': 800, 'lerning_rate': 0.05, 'max_depth': 6, 'max_features': 0.1, 'min_samples_split': 6, 'min_samples_leaf': 6}. Best is trial 6 with value: 0.07448800223470399.\u001b[0m\n",
            "/usr/local/lib/python3.7/dist-packages/lightgbm/engine.py:118: UserWarning:\n",
            "\n",
            "Found `n_estimators` in params. Will use it instead of argument\n",
            "\n",
            "/usr/local/lib/python3.7/dist-packages/lightgbm/basic.py:1205: UserWarning:\n",
            "\n",
            "Using categorical_feature in Dataset.\n",
            "\n",
            "/usr/local/lib/python3.7/dist-packages/lightgbm/basic.py:762: UserWarning:\n",
            "\n",
            "categorical_feature in param dict is overridden.\n",
            "\n"
          ],
          "name": "stderr"
        },
        {
          "output_type": "stream",
          "text": [
            "Training until validation scores don't improve for 100 rounds.\n",
            "[10]\ttraining's binary_logloss: 0.409857\tvalid_1's binary_logloss: 0.411575\n",
            "[20]\ttraining's binary_logloss: 0.267202\tvalid_1's binary_logloss: 0.273658\n",
            "[30]\ttraining's binary_logloss: 0.188147\tvalid_1's binary_logloss: 0.199805\n",
            "[40]\ttraining's binary_logloss: 0.140546\tvalid_1's binary_logloss: 0.156187\n",
            "[50]\ttraining's binary_logloss: 0.110349\tvalid_1's binary_logloss: 0.130895\n",
            "[60]\ttraining's binary_logloss: 0.0902005\tvalid_1's binary_logloss: 0.114351\n",
            "[70]\ttraining's binary_logloss: 0.0755908\tvalid_1's binary_logloss: 0.102603\n",
            "[80]\ttraining's binary_logloss: 0.0646585\tvalid_1's binary_logloss: 0.0947769\n",
            "[90]\ttraining's binary_logloss: 0.0565063\tvalid_1's binary_logloss: 0.0899954\n",
            "[100]\ttraining's binary_logloss: 0.0502482\tvalid_1's binary_logloss: 0.0871729\n",
            "[110]\ttraining's binary_logloss: 0.0449098\tvalid_1's binary_logloss: 0.0846616\n",
            "[120]\ttraining's binary_logloss: 0.0409557\tvalid_1's binary_logloss: 0.0829291\n",
            "[130]\ttraining's binary_logloss: 0.0373761\tvalid_1's binary_logloss: 0.0816816\n",
            "[140]\ttraining's binary_logloss: 0.034035\tvalid_1's binary_logloss: 0.0804962\n",
            "[150]\ttraining's binary_logloss: 0.0311156\tvalid_1's binary_logloss: 0.0796231\n",
            "[160]\ttraining's binary_logloss: 0.028688\tvalid_1's binary_logloss: 0.0790155\n",
            "[170]\ttraining's binary_logloss: 0.026794\tvalid_1's binary_logloss: 0.0784011\n",
            "[180]\ttraining's binary_logloss: 0.0248347\tvalid_1's binary_logloss: 0.0780895\n",
            "[190]\ttraining's binary_logloss: 0.0227093\tvalid_1's binary_logloss: 0.0775361\n",
            "[200]\ttraining's binary_logloss: 0.020774\tvalid_1's binary_logloss: 0.0768253\n",
            "[210]\ttraining's binary_logloss: 0.0193763\tvalid_1's binary_logloss: 0.0769856\n",
            "[220]\ttraining's binary_logloss: 0.0178966\tvalid_1's binary_logloss: 0.0769537\n",
            "[230]\ttraining's binary_logloss: 0.0166873\tvalid_1's binary_logloss: 0.0769032\n",
            "[240]\ttraining's binary_logloss: 0.0155855\tvalid_1's binary_logloss: 0.0769729\n",
            "[250]\ttraining's binary_logloss: 0.0146673\tvalid_1's binary_logloss: 0.077249\n",
            "[260]\ttraining's binary_logloss: 0.0137546\tvalid_1's binary_logloss: 0.0774029\n",
            "[270]\ttraining's binary_logloss: 0.0127554\tvalid_1's binary_logloss: 0.0772952\n",
            "[280]\ttraining's binary_logloss: 0.0118789\tvalid_1's binary_logloss: 0.0772718\n",
            "[290]\ttraining's binary_logloss: 0.0110396\tvalid_1's binary_logloss: 0.0776678\n",
            "[300]\ttraining's binary_logloss: 0.0102129\tvalid_1's binary_logloss: 0.0778492\n",
            "Early stopping, best iteration is:\n",
            "[200]\ttraining's binary_logloss: 0.020774\tvalid_1's binary_logloss: 0.0768253\n"
          ],
          "name": "stdout"
        },
        {
          "output_type": "stream",
          "text": [
            "\u001b[32m[I 2021-06-04 17:22:16,000]\u001b[0m Trial 30 finished with value: 0.07682527594288036 and parameters: {'n_estimators': 500, 'lerning_rate': 0.05, 'max_depth': 8, 'max_features': 0.5, 'min_samples_split': 2, 'min_samples_leaf': 2}. Best is trial 6 with value: 0.07448800223470399.\u001b[0m\n",
            "/usr/local/lib/python3.7/dist-packages/lightgbm/engine.py:118: UserWarning:\n",
            "\n",
            "Found `n_estimators` in params. Will use it instead of argument\n",
            "\n",
            "/usr/local/lib/python3.7/dist-packages/lightgbm/basic.py:1205: UserWarning:\n",
            "\n",
            "Using categorical_feature in Dataset.\n",
            "\n",
            "/usr/local/lib/python3.7/dist-packages/lightgbm/basic.py:762: UserWarning:\n",
            "\n",
            "categorical_feature in param dict is overridden.\n",
            "\n"
          ],
          "name": "stderr"
        },
        {
          "output_type": "stream",
          "text": [
            "Training until validation scores don't improve for 100 rounds.\n",
            "[10]\ttraining's binary_logloss: 0.409698\tvalid_1's binary_logloss: 0.411253\n",
            "[20]\ttraining's binary_logloss: 0.267993\tvalid_1's binary_logloss: 0.274399\n",
            "[30]\ttraining's binary_logloss: 0.189238\tvalid_1's binary_logloss: 0.200589\n",
            "[40]\ttraining's binary_logloss: 0.141871\tvalid_1's binary_logloss: 0.156714\n",
            "[50]\ttraining's binary_logloss: 0.111377\tvalid_1's binary_logloss: 0.131017\n",
            "[60]\ttraining's binary_logloss: 0.0913246\tvalid_1's binary_logloss: 0.114705\n",
            "[70]\ttraining's binary_logloss: 0.0766883\tvalid_1's binary_logloss: 0.103426\n",
            "[80]\ttraining's binary_logloss: 0.0662109\tvalid_1's binary_logloss: 0.0955257\n",
            "[90]\ttraining's binary_logloss: 0.0579735\tvalid_1's binary_logloss: 0.0907321\n",
            "[100]\ttraining's binary_logloss: 0.0519366\tvalid_1's binary_logloss: 0.0873016\n",
            "[110]\ttraining's binary_logloss: 0.0467174\tvalid_1's binary_logloss: 0.084692\n",
            "[120]\ttraining's binary_logloss: 0.042823\tvalid_1's binary_logloss: 0.0825027\n",
            "[130]\ttraining's binary_logloss: 0.039263\tvalid_1's binary_logloss: 0.080728\n",
            "[140]\ttraining's binary_logloss: 0.0368088\tvalid_1's binary_logloss: 0.0795862\n",
            "[150]\ttraining's binary_logloss: 0.0341807\tvalid_1's binary_logloss: 0.0785089\n",
            "[160]\ttraining's binary_logloss: 0.031824\tvalid_1's binary_logloss: 0.0776682\n",
            "[170]\ttraining's binary_logloss: 0.0294623\tvalid_1's binary_logloss: 0.0773473\n",
            "[180]\ttraining's binary_logloss: 0.0277132\tvalid_1's binary_logloss: 0.0770717\n",
            "[190]\ttraining's binary_logloss: 0.0260938\tvalid_1's binary_logloss: 0.0768503\n",
            "[200]\ttraining's binary_logloss: 0.0243262\tvalid_1's binary_logloss: 0.0768429\n",
            "[210]\ttraining's binary_logloss: 0.0228748\tvalid_1's binary_logloss: 0.076908\n",
            "[220]\ttraining's binary_logloss: 0.021454\tvalid_1's binary_logloss: 0.0766721\n",
            "[230]\ttraining's binary_logloss: 0.0199342\tvalid_1's binary_logloss: 0.076072\n",
            "[240]\ttraining's binary_logloss: 0.0185507\tvalid_1's binary_logloss: 0.075876\n",
            "[250]\ttraining's binary_logloss: 0.0175056\tvalid_1's binary_logloss: 0.075725\n",
            "[260]\ttraining's binary_logloss: 0.0163431\tvalid_1's binary_logloss: 0.0753673\n",
            "[270]\ttraining's binary_logloss: 0.0151222\tvalid_1's binary_logloss: 0.0750839\n",
            "[280]\ttraining's binary_logloss: 0.0140374\tvalid_1's binary_logloss: 0.0746954\n",
            "[290]\ttraining's binary_logloss: 0.013094\tvalid_1's binary_logloss: 0.074504\n",
            "[300]\ttraining's binary_logloss: 0.0123084\tvalid_1's binary_logloss: 0.0747105\n",
            "[310]\ttraining's binary_logloss: 0.0114225\tvalid_1's binary_logloss: 0.0748976\n",
            "[320]\ttraining's binary_logloss: 0.0107359\tvalid_1's binary_logloss: 0.0751468\n",
            "[330]\ttraining's binary_logloss: 0.0101537\tvalid_1's binary_logloss: 0.0751449\n",
            "[340]\ttraining's binary_logloss: 0.00961056\tvalid_1's binary_logloss: 0.0755691\n",
            "[350]\ttraining's binary_logloss: 0.00917149\tvalid_1's binary_logloss: 0.0756973\n",
            "[360]\ttraining's binary_logloss: 0.00863189\tvalid_1's binary_logloss: 0.076131\n",
            "[370]\ttraining's binary_logloss: 0.00827119\tvalid_1's binary_logloss: 0.0763711\n",
            "[380]\ttraining's binary_logloss: 0.00773575\tvalid_1's binary_logloss: 0.0768945\n",
            "Early stopping, best iteration is:\n",
            "[284]\ttraining's binary_logloss: 0.0136564\tvalid_1's binary_logloss: 0.074488\n"
          ],
          "name": "stdout"
        },
        {
          "output_type": "stream",
          "text": [
            "\u001b[32m[I 2021-06-04 17:22:17,121]\u001b[0m Trial 31 finished with value: 0.07448800223470399 and parameters: {'n_estimators': 1000, 'lerning_rate': 0.05, 'max_depth': 7, 'max_features': 0.3, 'min_samples_split': 2, 'min_samples_leaf': 2}. Best is trial 6 with value: 0.07448800223470399.\u001b[0m\n",
            "/usr/local/lib/python3.7/dist-packages/lightgbm/engine.py:118: UserWarning:\n",
            "\n",
            "Found `n_estimators` in params. Will use it instead of argument\n",
            "\n",
            "/usr/local/lib/python3.7/dist-packages/lightgbm/basic.py:1205: UserWarning:\n",
            "\n",
            "Using categorical_feature in Dataset.\n",
            "\n",
            "/usr/local/lib/python3.7/dist-packages/lightgbm/basic.py:762: UserWarning:\n",
            "\n",
            "categorical_feature in param dict is overridden.\n",
            "\n"
          ],
          "name": "stderr"
        },
        {
          "output_type": "stream",
          "text": [
            "Training until validation scores don't improve for 100 rounds.\n",
            "[10]\ttraining's binary_logloss: 0.409698\tvalid_1's binary_logloss: 0.411253\n",
            "[20]\ttraining's binary_logloss: 0.267993\tvalid_1's binary_logloss: 0.274399\n",
            "[30]\ttraining's binary_logloss: 0.189238\tvalid_1's binary_logloss: 0.200589\n",
            "[40]\ttraining's binary_logloss: 0.141871\tvalid_1's binary_logloss: 0.156714\n",
            "[50]\ttraining's binary_logloss: 0.111377\tvalid_1's binary_logloss: 0.131017\n",
            "[60]\ttraining's binary_logloss: 0.0913246\tvalid_1's binary_logloss: 0.114705\n",
            "[70]\ttraining's binary_logloss: 0.0766883\tvalid_1's binary_logloss: 0.103426\n",
            "[80]\ttraining's binary_logloss: 0.0662109\tvalid_1's binary_logloss: 0.0955257\n",
            "[90]\ttraining's binary_logloss: 0.0579735\tvalid_1's binary_logloss: 0.0907321\n",
            "[100]\ttraining's binary_logloss: 0.0519366\tvalid_1's binary_logloss: 0.0873016\n",
            "[110]\ttraining's binary_logloss: 0.0467174\tvalid_1's binary_logloss: 0.084692\n",
            "[120]\ttraining's binary_logloss: 0.042823\tvalid_1's binary_logloss: 0.0825027\n",
            "[130]\ttraining's binary_logloss: 0.039263\tvalid_1's binary_logloss: 0.080728\n",
            "[140]\ttraining's binary_logloss: 0.0368088\tvalid_1's binary_logloss: 0.0795862\n",
            "[150]\ttraining's binary_logloss: 0.0341807\tvalid_1's binary_logloss: 0.0785089\n",
            "[160]\ttraining's binary_logloss: 0.031824\tvalid_1's binary_logloss: 0.0776682\n",
            "[170]\ttraining's binary_logloss: 0.0294623\tvalid_1's binary_logloss: 0.0773473\n",
            "[180]\ttraining's binary_logloss: 0.0277132\tvalid_1's binary_logloss: 0.0770717\n",
            "[190]\ttraining's binary_logloss: 0.0260938\tvalid_1's binary_logloss: 0.0768503\n",
            "[200]\ttraining's binary_logloss: 0.0243262\tvalid_1's binary_logloss: 0.0768429\n",
            "[210]\ttraining's binary_logloss: 0.0228748\tvalid_1's binary_logloss: 0.076908\n",
            "[220]\ttraining's binary_logloss: 0.021454\tvalid_1's binary_logloss: 0.0766721\n",
            "[230]\ttraining's binary_logloss: 0.0199342\tvalid_1's binary_logloss: 0.076072\n",
            "[240]\ttraining's binary_logloss: 0.0185507\tvalid_1's binary_logloss: 0.075876\n",
            "[250]\ttraining's binary_logloss: 0.0175056\tvalid_1's binary_logloss: 0.075725\n",
            "[260]\ttraining's binary_logloss: 0.0163431\tvalid_1's binary_logloss: 0.0753673\n",
            "[270]\ttraining's binary_logloss: 0.0151222\tvalid_1's binary_logloss: 0.0750839\n",
            "[280]\ttraining's binary_logloss: 0.0140374\tvalid_1's binary_logloss: 0.0746954\n",
            "[290]\ttraining's binary_logloss: 0.013094\tvalid_1's binary_logloss: 0.074504\n",
            "[300]\ttraining's binary_logloss: 0.0123084\tvalid_1's binary_logloss: 0.0747105\n",
            "[310]\ttraining's binary_logloss: 0.0114225\tvalid_1's binary_logloss: 0.0748976\n",
            "[320]\ttraining's binary_logloss: 0.0107359\tvalid_1's binary_logloss: 0.0751468\n",
            "[330]\ttraining's binary_logloss: 0.0101537\tvalid_1's binary_logloss: 0.0751449\n",
            "[340]\ttraining's binary_logloss: 0.00961056\tvalid_1's binary_logloss: 0.0755691\n",
            "[350]\ttraining's binary_logloss: 0.00917149\tvalid_1's binary_logloss: 0.0756973\n",
            "[360]\ttraining's binary_logloss: 0.00863189\tvalid_1's binary_logloss: 0.076131\n",
            "[370]\ttraining's binary_logloss: 0.00827119\tvalid_1's binary_logloss: 0.0763711\n",
            "[380]\ttraining's binary_logloss: 0.00773575\tvalid_1's binary_logloss: 0.0768945\n",
            "Early stopping, best iteration is:\n",
            "[284]\ttraining's binary_logloss: 0.0136564\tvalid_1's binary_logloss: 0.074488\n"
          ],
          "name": "stdout"
        },
        {
          "output_type": "stream",
          "text": [
            "\u001b[32m[I 2021-06-04 17:22:18,249]\u001b[0m Trial 32 finished with value: 0.07448800223470399 and parameters: {'n_estimators': 1000, 'lerning_rate': 0.05, 'max_depth': 7, 'max_features': 0.3, 'min_samples_split': 2, 'min_samples_leaf': 2}. Best is trial 6 with value: 0.07448800223470399.\u001b[0m\n",
            "/usr/local/lib/python3.7/dist-packages/lightgbm/engine.py:118: UserWarning:\n",
            "\n",
            "Found `n_estimators` in params. Will use it instead of argument\n",
            "\n",
            "/usr/local/lib/python3.7/dist-packages/lightgbm/basic.py:1205: UserWarning:\n",
            "\n",
            "Using categorical_feature in Dataset.\n",
            "\n",
            "/usr/local/lib/python3.7/dist-packages/lightgbm/basic.py:762: UserWarning:\n",
            "\n",
            "categorical_feature in param dict is overridden.\n",
            "\n"
          ],
          "name": "stderr"
        },
        {
          "output_type": "stream",
          "text": [
            "Training until validation scores don't improve for 100 rounds.\n",
            "[10]\ttraining's binary_logloss: 0.409698\tvalid_1's binary_logloss: 0.411253\n",
            "[20]\ttraining's binary_logloss: 0.267993\tvalid_1's binary_logloss: 0.274399\n",
            "[30]\ttraining's binary_logloss: 0.189238\tvalid_1's binary_logloss: 0.200589\n",
            "[40]\ttraining's binary_logloss: 0.141871\tvalid_1's binary_logloss: 0.156714\n",
            "[50]\ttraining's binary_logloss: 0.111377\tvalid_1's binary_logloss: 0.131017\n",
            "[60]\ttraining's binary_logloss: 0.0913246\tvalid_1's binary_logloss: 0.114705\n",
            "[70]\ttraining's binary_logloss: 0.0766883\tvalid_1's binary_logloss: 0.103426\n",
            "[80]\ttraining's binary_logloss: 0.0662109\tvalid_1's binary_logloss: 0.0955257\n",
            "[90]\ttraining's binary_logloss: 0.0579735\tvalid_1's binary_logloss: 0.0907321\n",
            "[100]\ttraining's binary_logloss: 0.0519366\tvalid_1's binary_logloss: 0.0873016\n",
            "[110]\ttraining's binary_logloss: 0.0467174\tvalid_1's binary_logloss: 0.084692\n",
            "[120]\ttraining's binary_logloss: 0.042823\tvalid_1's binary_logloss: 0.0825027\n",
            "[130]\ttraining's binary_logloss: 0.039263\tvalid_1's binary_logloss: 0.080728\n",
            "[140]\ttraining's binary_logloss: 0.0368088\tvalid_1's binary_logloss: 0.0795862\n",
            "[150]\ttraining's binary_logloss: 0.0341807\tvalid_1's binary_logloss: 0.0785089\n",
            "[160]\ttraining's binary_logloss: 0.031824\tvalid_1's binary_logloss: 0.0776682\n",
            "[170]\ttraining's binary_logloss: 0.0294623\tvalid_1's binary_logloss: 0.0773473\n",
            "[180]\ttraining's binary_logloss: 0.0277132\tvalid_1's binary_logloss: 0.0770717\n",
            "[190]\ttraining's binary_logloss: 0.0260938\tvalid_1's binary_logloss: 0.0768503\n",
            "[200]\ttraining's binary_logloss: 0.0243262\tvalid_1's binary_logloss: 0.0768429\n",
            "[210]\ttraining's binary_logloss: 0.0228748\tvalid_1's binary_logloss: 0.076908\n",
            "[220]\ttraining's binary_logloss: 0.021454\tvalid_1's binary_logloss: 0.0766721\n",
            "[230]\ttraining's binary_logloss: 0.0199342\tvalid_1's binary_logloss: 0.076072\n",
            "[240]\ttraining's binary_logloss: 0.0185507\tvalid_1's binary_logloss: 0.075876\n",
            "[250]\ttraining's binary_logloss: 0.0175056\tvalid_1's binary_logloss: 0.075725\n",
            "[260]\ttraining's binary_logloss: 0.0163431\tvalid_1's binary_logloss: 0.0753673\n",
            "[270]\ttraining's binary_logloss: 0.0151222\tvalid_1's binary_logloss: 0.0750839\n",
            "[280]\ttraining's binary_logloss: 0.0140374\tvalid_1's binary_logloss: 0.0746954\n",
            "[290]\ttraining's binary_logloss: 0.013094\tvalid_1's binary_logloss: 0.074504\n",
            "[300]\ttraining's binary_logloss: 0.0123084\tvalid_1's binary_logloss: 0.0747105\n",
            "[310]\ttraining's binary_logloss: 0.0114225\tvalid_1's binary_logloss: 0.0748976\n",
            "[320]\ttraining's binary_logloss: 0.0107359\tvalid_1's binary_logloss: 0.0751468\n",
            "[330]\ttraining's binary_logloss: 0.0101537\tvalid_1's binary_logloss: 0.0751449\n",
            "[340]\ttraining's binary_logloss: 0.00961056\tvalid_1's binary_logloss: 0.0755691\n",
            "[350]\ttraining's binary_logloss: 0.00917149\tvalid_1's binary_logloss: 0.0756973\n",
            "[360]\ttraining's binary_logloss: 0.00863189\tvalid_1's binary_logloss: 0.076131\n",
            "[370]\ttraining's binary_logloss: 0.00827119\tvalid_1's binary_logloss: 0.0763711\n",
            "[380]\ttraining's binary_logloss: 0.00773575\tvalid_1's binary_logloss: 0.0768945\n",
            "Early stopping, best iteration is:\n",
            "[284]\ttraining's binary_logloss: 0.0136564\tvalid_1's binary_logloss: 0.074488\n"
          ],
          "name": "stdout"
        },
        {
          "output_type": "stream",
          "text": [
            "\u001b[32m[I 2021-06-04 17:22:19,374]\u001b[0m Trial 33 finished with value: 0.07448800223470399 and parameters: {'n_estimators': 1000, 'lerning_rate': 0.05, 'max_depth': 7, 'max_features': 0.3, 'min_samples_split': 2, 'min_samples_leaf': 2}. Best is trial 6 with value: 0.07448800223470399.\u001b[0m\n",
            "/usr/local/lib/python3.7/dist-packages/lightgbm/engine.py:118: UserWarning:\n",
            "\n",
            "Found `n_estimators` in params. Will use it instead of argument\n",
            "\n",
            "/usr/local/lib/python3.7/dist-packages/lightgbm/basic.py:1205: UserWarning:\n",
            "\n",
            "Using categorical_feature in Dataset.\n",
            "\n",
            "/usr/local/lib/python3.7/dist-packages/lightgbm/basic.py:762: UserWarning:\n",
            "\n",
            "categorical_feature in param dict is overridden.\n",
            "\n"
          ],
          "name": "stderr"
        },
        {
          "output_type": "stream",
          "text": [
            "Training until validation scores don't improve for 100 rounds.\n",
            "[10]\ttraining's binary_logloss: 0.617848\tvalid_1's binary_logloss: 0.617834\n",
            "[20]\ttraining's binary_logloss: 0.555177\tvalid_1's binary_logloss: 0.555213\n",
            "[30]\ttraining's binary_logloss: 0.501767\tvalid_1's binary_logloss: 0.502403\n",
            "[40]\ttraining's binary_logloss: 0.454661\tvalid_1's binary_logloss: 0.456004\n",
            "[50]\ttraining's binary_logloss: 0.413735\tvalid_1's binary_logloss: 0.415899\n",
            "[60]\ttraining's binary_logloss: 0.377307\tvalid_1's binary_logloss: 0.380527\n",
            "[70]\ttraining's binary_logloss: 0.345854\tvalid_1's binary_logloss: 0.350154\n",
            "[80]\ttraining's binary_logloss: 0.318367\tvalid_1's binary_logloss: 0.323523\n",
            "[90]\ttraining's binary_logloss: 0.294017\tvalid_1's binary_logloss: 0.300007\n",
            "[100]\ttraining's binary_logloss: 0.27242\tvalid_1's binary_logloss: 0.279468\n",
            "[110]\ttraining's binary_logloss: 0.253428\tvalid_1's binary_logloss: 0.261446\n",
            "[120]\ttraining's binary_logloss: 0.236265\tvalid_1's binary_logloss: 0.245336\n",
            "[130]\ttraining's binary_logloss: 0.220995\tvalid_1's binary_logloss: 0.230881\n",
            "[140]\ttraining's binary_logloss: 0.207188\tvalid_1's binary_logloss: 0.217918\n",
            "[150]\ttraining's binary_logloss: 0.194823\tvalid_1's binary_logloss: 0.206173\n",
            "[160]\ttraining's binary_logloss: 0.183526\tvalid_1's binary_logloss: 0.195194\n",
            "[170]\ttraining's binary_logloss: 0.17309\tvalid_1's binary_logloss: 0.185572\n",
            "[180]\ttraining's binary_logloss: 0.163597\tvalid_1's binary_logloss: 0.176918\n",
            "[190]\ttraining's binary_logloss: 0.155048\tvalid_1's binary_logloss: 0.169166\n",
            "[200]\ttraining's binary_logloss: 0.147263\tvalid_1's binary_logloss: 0.162004\n",
            "[210]\ttraining's binary_logloss: 0.140087\tvalid_1's binary_logloss: 0.155651\n",
            "[220]\ttraining's binary_logloss: 0.133527\tvalid_1's binary_logloss: 0.149921\n",
            "[230]\ttraining's binary_logloss: 0.127651\tvalid_1's binary_logloss: 0.144816\n",
            "[240]\ttraining's binary_logloss: 0.122297\tvalid_1's binary_logloss: 0.140111\n",
            "[250]\ttraining's binary_logloss: 0.117402\tvalid_1's binary_logloss: 0.1359\n",
            "[260]\ttraining's binary_logloss: 0.1128\tvalid_1's binary_logloss: 0.131948\n",
            "[270]\ttraining's binary_logloss: 0.10855\tvalid_1's binary_logloss: 0.128286\n",
            "[280]\ttraining's binary_logloss: 0.104566\tvalid_1's binary_logloss: 0.124987\n",
            "[290]\ttraining's binary_logloss: 0.100786\tvalid_1's binary_logloss: 0.121837\n",
            "[300]\ttraining's binary_logloss: 0.0970646\tvalid_1's binary_logloss: 0.118757\n",
            "[310]\ttraining's binary_logloss: 0.0936695\tvalid_1's binary_logloss: 0.116065\n",
            "[320]\ttraining's binary_logloss: 0.0905541\tvalid_1's binary_logloss: 0.113528\n",
            "[330]\ttraining's binary_logloss: 0.0876132\tvalid_1's binary_logloss: 0.111078\n",
            "[340]\ttraining's binary_logloss: 0.084901\tvalid_1's binary_logloss: 0.108783\n",
            "[350]\ttraining's binary_logloss: 0.082339\tvalid_1's binary_logloss: 0.106787\n",
            "[360]\ttraining's binary_logloss: 0.0800401\tvalid_1's binary_logloss: 0.10501\n",
            "[370]\ttraining's binary_logloss: 0.0778272\tvalid_1's binary_logloss: 0.103485\n",
            "[380]\ttraining's binary_logloss: 0.075685\tvalid_1's binary_logloss: 0.101972\n",
            "[390]\ttraining's binary_logloss: 0.0736688\tvalid_1's binary_logloss: 0.10061\n",
            "[400]\ttraining's binary_logloss: 0.0718154\tvalid_1's binary_logloss: 0.0993651\n",
            "[410]\ttraining's binary_logloss: 0.0700499\tvalid_1's binary_logloss: 0.0981693\n",
            "[420]\ttraining's binary_logloss: 0.0683251\tvalid_1's binary_logloss: 0.0969166\n",
            "[430]\ttraining's binary_logloss: 0.0666994\tvalid_1's binary_logloss: 0.0957476\n",
            "[440]\ttraining's binary_logloss: 0.0651431\tvalid_1's binary_logloss: 0.094747\n",
            "[450]\ttraining's binary_logloss: 0.0636823\tvalid_1's binary_logloss: 0.0938482\n",
            "[460]\ttraining's binary_logloss: 0.0623043\tvalid_1's binary_logloss: 0.0929549\n",
            "[470]\ttraining's binary_logloss: 0.0609269\tvalid_1's binary_logloss: 0.0921352\n",
            "[480]\ttraining's binary_logloss: 0.0596567\tvalid_1's binary_logloss: 0.0913567\n",
            "[490]\ttraining's binary_logloss: 0.0584531\tvalid_1's binary_logloss: 0.0906946\n",
            "[500]\ttraining's binary_logloss: 0.0572684\tvalid_1's binary_logloss: 0.0899927\n",
            "[510]\ttraining's binary_logloss: 0.0561601\tvalid_1's binary_logloss: 0.0893721\n",
            "[520]\ttraining's binary_logloss: 0.0550947\tvalid_1's binary_logloss: 0.0888334\n",
            "[530]\ttraining's binary_logloss: 0.0541142\tvalid_1's binary_logloss: 0.0883302\n",
            "[540]\ttraining's binary_logloss: 0.0530774\tvalid_1's binary_logloss: 0.0877062\n",
            "[550]\ttraining's binary_logloss: 0.0521799\tvalid_1's binary_logloss: 0.0872001\n",
            "[560]\ttraining's binary_logloss: 0.0512876\tvalid_1's binary_logloss: 0.0868028\n",
            "[570]\ttraining's binary_logloss: 0.0505157\tvalid_1's binary_logloss: 0.0864811\n",
            "[580]\ttraining's binary_logloss: 0.0497305\tvalid_1's binary_logloss: 0.0861918\n",
            "[590]\ttraining's binary_logloss: 0.0488972\tvalid_1's binary_logloss: 0.0859246\n",
            "[600]\ttraining's binary_logloss: 0.0481029\tvalid_1's binary_logloss: 0.0856393\n",
            "[610]\ttraining's binary_logloss: 0.04735\tvalid_1's binary_logloss: 0.0853351\n",
            "[620]\ttraining's binary_logloss: 0.0466496\tvalid_1's binary_logloss: 0.0850365\n",
            "[630]\ttraining's binary_logloss: 0.0461169\tvalid_1's binary_logloss: 0.084799\n",
            "[640]\ttraining's binary_logloss: 0.0454277\tvalid_1's binary_logloss: 0.0845254\n",
            "[650]\ttraining's binary_logloss: 0.0447483\tvalid_1's binary_logloss: 0.0842802\n",
            "[660]\ttraining's binary_logloss: 0.0441367\tvalid_1's binary_logloss: 0.0839661\n",
            "[670]\ttraining's binary_logloss: 0.0435133\tvalid_1's binary_logloss: 0.083736\n",
            "[680]\ttraining's binary_logloss: 0.0428965\tvalid_1's binary_logloss: 0.0834871\n",
            "[690]\ttraining's binary_logloss: 0.0423026\tvalid_1's binary_logloss: 0.0833537\n",
            "[700]\ttraining's binary_logloss: 0.0416894\tvalid_1's binary_logloss: 0.0832293\n",
            "[710]\ttraining's binary_logloss: 0.0411536\tvalid_1's binary_logloss: 0.0830116\n",
            "[720]\ttraining's binary_logloss: 0.0406442\tvalid_1's binary_logloss: 0.0828203\n",
            "[730]\ttraining's binary_logloss: 0.0401445\tvalid_1's binary_logloss: 0.0826793\n",
            "[740]\ttraining's binary_logloss: 0.0396974\tvalid_1's binary_logloss: 0.0825504\n",
            "[750]\ttraining's binary_logloss: 0.039244\tvalid_1's binary_logloss: 0.0824148\n",
            "[760]\ttraining's binary_logloss: 0.0388535\tvalid_1's binary_logloss: 0.0822747\n",
            "[770]\ttraining's binary_logloss: 0.0383703\tvalid_1's binary_logloss: 0.0820241\n",
            "[780]\ttraining's binary_logloss: 0.0379412\tvalid_1's binary_logloss: 0.0818509\n",
            "[790]\ttraining's binary_logloss: 0.0375338\tvalid_1's binary_logloss: 0.0817184\n",
            "[800]\ttraining's binary_logloss: 0.0370631\tvalid_1's binary_logloss: 0.0815084\n",
            "[810]\ttraining's binary_logloss: 0.0366447\tvalid_1's binary_logloss: 0.0813572\n",
            "[820]\ttraining's binary_logloss: 0.0362299\tvalid_1's binary_logloss: 0.0812292\n",
            "[830]\ttraining's binary_logloss: 0.0358595\tvalid_1's binary_logloss: 0.0810954\n",
            "[840]\ttraining's binary_logloss: 0.0354633\tvalid_1's binary_logloss: 0.0810318\n",
            "[850]\ttraining's binary_logloss: 0.0350862\tvalid_1's binary_logloss: 0.0809788\n",
            "[860]\ttraining's binary_logloss: 0.0346676\tvalid_1's binary_logloss: 0.0808422\n",
            "[870]\ttraining's binary_logloss: 0.0342978\tvalid_1's binary_logloss: 0.0808089\n",
            "[880]\ttraining's binary_logloss: 0.0339623\tvalid_1's binary_logloss: 0.0807611\n",
            "[890]\ttraining's binary_logloss: 0.0336524\tvalid_1's binary_logloss: 0.0807088\n",
            "[900]\ttraining's binary_logloss: 0.0333501\tvalid_1's binary_logloss: 0.08066\n",
            "[910]\ttraining's binary_logloss: 0.033016\tvalid_1's binary_logloss: 0.0806163\n",
            "[920]\ttraining's binary_logloss: 0.0326965\tvalid_1's binary_logloss: 0.0805704\n",
            "[930]\ttraining's binary_logloss: 0.0324204\tvalid_1's binary_logloss: 0.0805882\n",
            "[940]\ttraining's binary_logloss: 0.0321134\tvalid_1's binary_logloss: 0.0804759\n",
            "[950]\ttraining's binary_logloss: 0.0317954\tvalid_1's binary_logloss: 0.0803413\n",
            "[960]\ttraining's binary_logloss: 0.031502\tvalid_1's binary_logloss: 0.0802586\n",
            "[970]\ttraining's binary_logloss: 0.0311234\tvalid_1's binary_logloss: 0.0801949\n",
            "[980]\ttraining's binary_logloss: 0.0308139\tvalid_1's binary_logloss: 0.0801139\n",
            "[990]\ttraining's binary_logloss: 0.0304908\tvalid_1's binary_logloss: 0.080049\n",
            "[1000]\ttraining's binary_logloss: 0.0301435\tvalid_1's binary_logloss: 0.0800331\n",
            "Did not meet early stopping. Best iteration is:\n",
            "[1000]\ttraining's binary_logloss: 0.0301435\tvalid_1's binary_logloss: 0.0800331\n"
          ],
          "name": "stdout"
        },
        {
          "output_type": "stream",
          "text": [
            "\u001b[32m[I 2021-06-04 17:22:22,397]\u001b[0m Trial 34 finished with value: 0.08003309645280211 and parameters: {'n_estimators': 1000, 'lerning_rate': 0.01, 'max_depth': 6, 'max_features': 0.7, 'min_samples_split': 2, 'min_samples_leaf': 2}. Best is trial 6 with value: 0.07448800223470399.\u001b[0m\n",
            "/usr/local/lib/python3.7/dist-packages/lightgbm/engine.py:118: UserWarning:\n",
            "\n",
            "Found `n_estimators` in params. Will use it instead of argument\n",
            "\n",
            "/usr/local/lib/python3.7/dist-packages/lightgbm/basic.py:1205: UserWarning:\n",
            "\n",
            "Using categorical_feature in Dataset.\n",
            "\n",
            "/usr/local/lib/python3.7/dist-packages/lightgbm/basic.py:762: UserWarning:\n",
            "\n",
            "categorical_feature in param dict is overridden.\n",
            "\n"
          ],
          "name": "stderr"
        },
        {
          "output_type": "stream",
          "text": [
            "Training until validation scores don't improve for 100 rounds.\n",
            "[10]\ttraining's binary_logloss: 0.409698\tvalid_1's binary_logloss: 0.411253\n",
            "[20]\ttraining's binary_logloss: 0.267993\tvalid_1's binary_logloss: 0.274399\n",
            "[30]\ttraining's binary_logloss: 0.189238\tvalid_1's binary_logloss: 0.200589\n",
            "[40]\ttraining's binary_logloss: 0.141871\tvalid_1's binary_logloss: 0.156714\n",
            "[50]\ttraining's binary_logloss: 0.111377\tvalid_1's binary_logloss: 0.131017\n",
            "[60]\ttraining's binary_logloss: 0.0913246\tvalid_1's binary_logloss: 0.114705\n",
            "[70]\ttraining's binary_logloss: 0.0766883\tvalid_1's binary_logloss: 0.103426\n",
            "[80]\ttraining's binary_logloss: 0.0662109\tvalid_1's binary_logloss: 0.0955257\n",
            "[90]\ttraining's binary_logloss: 0.0579735\tvalid_1's binary_logloss: 0.0907321\n",
            "[100]\ttraining's binary_logloss: 0.0519366\tvalid_1's binary_logloss: 0.0873016\n",
            "[110]\ttraining's binary_logloss: 0.0467174\tvalid_1's binary_logloss: 0.084692\n",
            "[120]\ttraining's binary_logloss: 0.042823\tvalid_1's binary_logloss: 0.0825027\n",
            "[130]\ttraining's binary_logloss: 0.039263\tvalid_1's binary_logloss: 0.080728\n",
            "[140]\ttraining's binary_logloss: 0.0368088\tvalid_1's binary_logloss: 0.0795862\n",
            "[150]\ttraining's binary_logloss: 0.0341807\tvalid_1's binary_logloss: 0.0785089\n",
            "[160]\ttraining's binary_logloss: 0.031824\tvalid_1's binary_logloss: 0.0776682\n",
            "[170]\ttraining's binary_logloss: 0.0294623\tvalid_1's binary_logloss: 0.0773473\n",
            "[180]\ttraining's binary_logloss: 0.0277132\tvalid_1's binary_logloss: 0.0770717\n",
            "[190]\ttraining's binary_logloss: 0.0260938\tvalid_1's binary_logloss: 0.0768503\n",
            "[200]\ttraining's binary_logloss: 0.0243262\tvalid_1's binary_logloss: 0.0768429\n",
            "[210]\ttraining's binary_logloss: 0.0228748\tvalid_1's binary_logloss: 0.076908\n",
            "[220]\ttraining's binary_logloss: 0.021454\tvalid_1's binary_logloss: 0.0766721\n",
            "[230]\ttraining's binary_logloss: 0.0199342\tvalid_1's binary_logloss: 0.076072\n",
            "[240]\ttraining's binary_logloss: 0.0185507\tvalid_1's binary_logloss: 0.075876\n",
            "[250]\ttraining's binary_logloss: 0.0175056\tvalid_1's binary_logloss: 0.075725\n",
            "[260]\ttraining's binary_logloss: 0.0163431\tvalid_1's binary_logloss: 0.0753673\n",
            "[270]\ttraining's binary_logloss: 0.0151222\tvalid_1's binary_logloss: 0.0750839\n",
            "[280]\ttraining's binary_logloss: 0.0140374\tvalid_1's binary_logloss: 0.0746954\n",
            "[290]\ttraining's binary_logloss: 0.013094\tvalid_1's binary_logloss: 0.074504\n",
            "[300]\ttraining's binary_logloss: 0.0123084\tvalid_1's binary_logloss: 0.0747105\n",
            "[310]\ttraining's binary_logloss: 0.0114225\tvalid_1's binary_logloss: 0.0748976\n",
            "[320]\ttraining's binary_logloss: 0.0107359\tvalid_1's binary_logloss: 0.0751468\n",
            "[330]\ttraining's binary_logloss: 0.0101537\tvalid_1's binary_logloss: 0.0751449\n"
          ],
          "name": "stdout"
        },
        {
          "output_type": "stream",
          "text": [
            "\u001b[32m[I 2021-06-04 17:22:23,494]\u001b[0m Trial 35 finished with value: 0.07448800223470399 and parameters: {'n_estimators': 800, 'lerning_rate': 0.05, 'max_depth': 7, 'max_features': 0.5, 'min_samples_split': 2, 'min_samples_leaf': 6}. Best is trial 6 with value: 0.07448800223470399.\u001b[0m\n"
          ],
          "name": "stderr"
        },
        {
          "output_type": "stream",
          "text": [
            "[340]\ttraining's binary_logloss: 0.00961056\tvalid_1's binary_logloss: 0.0755691\n",
            "[350]\ttraining's binary_logloss: 0.00917149\tvalid_1's binary_logloss: 0.0756973\n",
            "[360]\ttraining's binary_logloss: 0.00863189\tvalid_1's binary_logloss: 0.076131\n",
            "[370]\ttraining's binary_logloss: 0.00827119\tvalid_1's binary_logloss: 0.0763711\n",
            "[380]\ttraining's binary_logloss: 0.00773575\tvalid_1's binary_logloss: 0.0768945\n",
            "Early stopping, best iteration is:\n",
            "[284]\ttraining's binary_logloss: 0.0136564\tvalid_1's binary_logloss: 0.074488\n"
          ],
          "name": "stdout"
        },
        {
          "output_type": "stream",
          "text": [
            "/usr/local/lib/python3.7/dist-packages/lightgbm/engine.py:118: UserWarning:\n",
            "\n",
            "Found `n_estimators` in params. Will use it instead of argument\n",
            "\n",
            "/usr/local/lib/python3.7/dist-packages/lightgbm/basic.py:1205: UserWarning:\n",
            "\n",
            "Using categorical_feature in Dataset.\n",
            "\n",
            "/usr/local/lib/python3.7/dist-packages/lightgbm/basic.py:762: UserWarning:\n",
            "\n",
            "categorical_feature in param dict is overridden.\n",
            "\n"
          ],
          "name": "stderr"
        },
        {
          "output_type": "stream",
          "text": [
            "Training until validation scores don't improve for 100 rounds.\n",
            "[10]\ttraining's binary_logloss: 0.617153\tvalid_1's binary_logloss: 0.617242\n",
            "[20]\ttraining's binary_logloss: 0.553972\tvalid_1's binary_logloss: 0.554072\n",
            "[30]\ttraining's binary_logloss: 0.500474\tvalid_1's binary_logloss: 0.500795\n",
            "[40]\ttraining's binary_logloss: 0.453758\tvalid_1's binary_logloss: 0.454518\n",
            "[50]\ttraining's binary_logloss: 0.412333\tvalid_1's binary_logloss: 0.413831\n",
            "[60]\ttraining's binary_logloss: 0.376057\tvalid_1's binary_logloss: 0.378553\n",
            "[70]\ttraining's binary_logloss: 0.344534\tvalid_1's binary_logloss: 0.347978\n",
            "[80]\ttraining's binary_logloss: 0.316671\tvalid_1's binary_logloss: 0.321011\n",
            "[90]\ttraining's binary_logloss: 0.292122\tvalid_1's binary_logloss: 0.297588\n",
            "[100]\ttraining's binary_logloss: 0.270129\tvalid_1's binary_logloss: 0.276866\n",
            "[110]\ttraining's binary_logloss: 0.25063\tvalid_1's binary_logloss: 0.2583\n",
            "[120]\ttraining's binary_logloss: 0.233145\tvalid_1's binary_logloss: 0.241869\n",
            "[130]\ttraining's binary_logloss: 0.217582\tvalid_1's binary_logloss: 0.227239\n",
            "[140]\ttraining's binary_logloss: 0.20359\tvalid_1's binary_logloss: 0.214207\n",
            "[150]\ttraining's binary_logloss: 0.190863\tvalid_1's binary_logloss: 0.202545\n",
            "[160]\ttraining's binary_logloss: 0.179237\tvalid_1's binary_logloss: 0.191814\n",
            "[170]\ttraining's binary_logloss: 0.168811\tvalid_1's binary_logloss: 0.181962\n",
            "[180]\ttraining's binary_logloss: 0.159422\tvalid_1's binary_logloss: 0.173081\n",
            "[190]\ttraining's binary_logloss: 0.15085\tvalid_1's binary_logloss: 0.165157\n",
            "[200]\ttraining's binary_logloss: 0.143121\tvalid_1's binary_logloss: 0.158015\n",
            "[210]\ttraining's binary_logloss: 0.1358\tvalid_1's binary_logloss: 0.15154\n",
            "[220]\ttraining's binary_logloss: 0.12902\tvalid_1's binary_logloss: 0.145871\n",
            "[230]\ttraining's binary_logloss: 0.122776\tvalid_1's binary_logloss: 0.140757\n",
            "[240]\ttraining's binary_logloss: 0.117185\tvalid_1's binary_logloss: 0.136169\n",
            "[250]\ttraining's binary_logloss: 0.112119\tvalid_1's binary_logloss: 0.131949\n",
            "[260]\ttraining's binary_logloss: 0.107469\tvalid_1's binary_logloss: 0.128116\n",
            "[270]\ttraining's binary_logloss: 0.103213\tvalid_1's binary_logloss: 0.1246\n",
            "[280]\ttraining's binary_logloss: 0.0992351\tvalid_1's binary_logloss: 0.121302\n",
            "[290]\ttraining's binary_logloss: 0.0952946\tvalid_1's binary_logloss: 0.118206\n",
            "[300]\ttraining's binary_logloss: 0.091742\tvalid_1's binary_logloss: 0.115256\n",
            "[310]\ttraining's binary_logloss: 0.0884151\tvalid_1's binary_logloss: 0.112647\n",
            "[320]\ttraining's binary_logloss: 0.0853472\tvalid_1's binary_logloss: 0.110188\n",
            "[330]\ttraining's binary_logloss: 0.0825442\tvalid_1's binary_logloss: 0.107992\n",
            "[340]\ttraining's binary_logloss: 0.0798766\tvalid_1's binary_logloss: 0.105971\n",
            "[350]\ttraining's binary_logloss: 0.0774121\tvalid_1's binary_logloss: 0.10404\n",
            "[360]\ttraining's binary_logloss: 0.0750978\tvalid_1's binary_logloss: 0.102237\n",
            "[370]\ttraining's binary_logloss: 0.0729044\tvalid_1's binary_logloss: 0.100645\n",
            "[380]\ttraining's binary_logloss: 0.0706852\tvalid_1's binary_logloss: 0.0989826\n",
            "[390]\ttraining's binary_logloss: 0.0686055\tvalid_1's binary_logloss: 0.0975003\n",
            "[400]\ttraining's binary_logloss: 0.0666136\tvalid_1's binary_logloss: 0.0961084\n",
            "[410]\ttraining's binary_logloss: 0.0648006\tvalid_1's binary_logloss: 0.0949209\n",
            "[420]\ttraining's binary_logloss: 0.0630678\tvalid_1's binary_logloss: 0.0938229\n",
            "[430]\ttraining's binary_logloss: 0.0613963\tvalid_1's binary_logloss: 0.0928306\n",
            "[440]\ttraining's binary_logloss: 0.0598742\tvalid_1's binary_logloss: 0.0918384\n",
            "[450]\ttraining's binary_logloss: 0.0584271\tvalid_1's binary_logloss: 0.0909909\n",
            "[460]\ttraining's binary_logloss: 0.0571237\tvalid_1's binary_logloss: 0.0903084\n",
            "[470]\ttraining's binary_logloss: 0.0558672\tvalid_1's binary_logloss: 0.0896661\n",
            "[480]\ttraining's binary_logloss: 0.0546622\tvalid_1's binary_logloss: 0.0891082\n",
            "[490]\ttraining's binary_logloss: 0.0534624\tvalid_1's binary_logloss: 0.0884549\n",
            "[500]\ttraining's binary_logloss: 0.052371\tvalid_1's binary_logloss: 0.0879262\n",
            "[510]\ttraining's binary_logloss: 0.0512305\tvalid_1's binary_logloss: 0.0873029\n",
            "[520]\ttraining's binary_logloss: 0.0500921\tvalid_1's binary_logloss: 0.0866459\n",
            "[530]\ttraining's binary_logloss: 0.0489953\tvalid_1's binary_logloss: 0.0861172\n",
            "[540]\ttraining's binary_logloss: 0.0480274\tvalid_1's binary_logloss: 0.0856091\n",
            "[550]\ttraining's binary_logloss: 0.0470739\tvalid_1's binary_logloss: 0.0851961\n",
            "[560]\ttraining's binary_logloss: 0.0461981\tvalid_1's binary_logloss: 0.0848568\n",
            "[570]\ttraining's binary_logloss: 0.0453258\tvalid_1's binary_logloss: 0.0844424\n",
            "[580]\ttraining's binary_logloss: 0.0445785\tvalid_1's binary_logloss: 0.0841558\n",
            "[590]\ttraining's binary_logloss: 0.0437912\tvalid_1's binary_logloss: 0.0837451\n",
            "[600]\ttraining's binary_logloss: 0.0429977\tvalid_1's binary_logloss: 0.0833245\n",
            "[610]\ttraining's binary_logloss: 0.0423383\tvalid_1's binary_logloss: 0.0830653\n",
            "[620]\ttraining's binary_logloss: 0.0416943\tvalid_1's binary_logloss: 0.0828252\n",
            "[630]\ttraining's binary_logloss: 0.0411112\tvalid_1's binary_logloss: 0.0826112\n",
            "[640]\ttraining's binary_logloss: 0.0404996\tvalid_1's binary_logloss: 0.0823514\n",
            "[650]\ttraining's binary_logloss: 0.0399608\tvalid_1's binary_logloss: 0.0821396\n",
            "[660]\ttraining's binary_logloss: 0.0394182\tvalid_1's binary_logloss: 0.0819092\n",
            "[670]\ttraining's binary_logloss: 0.0387728\tvalid_1's binary_logloss: 0.0816031\n",
            "[680]\ttraining's binary_logloss: 0.0381204\tvalid_1's binary_logloss: 0.0813734\n",
            "[690]\ttraining's binary_logloss: 0.0375476\tvalid_1's binary_logloss: 0.0811192\n",
            "[700]\ttraining's binary_logloss: 0.0369502\tvalid_1's binary_logloss: 0.0807832\n",
            "[710]\ttraining's binary_logloss: 0.0364607\tvalid_1's binary_logloss: 0.0806399\n",
            "[720]\ttraining's binary_logloss: 0.0359018\tvalid_1's binary_logloss: 0.0803642\n",
            "[730]\ttraining's binary_logloss: 0.0353604\tvalid_1's binary_logloss: 0.080217\n",
            "[740]\ttraining's binary_logloss: 0.0348739\tvalid_1's binary_logloss: 0.0800685\n",
            "[750]\ttraining's binary_logloss: 0.0344242\tvalid_1's binary_logloss: 0.0798166\n",
            "[760]\ttraining's binary_logloss: 0.033886\tvalid_1's binary_logloss: 0.079665\n",
            "[770]\ttraining's binary_logloss: 0.0334127\tvalid_1's binary_logloss: 0.0794546\n",
            "[780]\ttraining's binary_logloss: 0.0328687\tvalid_1's binary_logloss: 0.0792562\n",
            "[790]\ttraining's binary_logloss: 0.0323697\tvalid_1's binary_logloss: 0.0790752\n",
            "[800]\ttraining's binary_logloss: 0.0319211\tvalid_1's binary_logloss: 0.0790237\n",
            "[810]\ttraining's binary_logloss: 0.0315763\tvalid_1's binary_logloss: 0.0789586\n",
            "[820]\ttraining's binary_logloss: 0.031154\tvalid_1's binary_logloss: 0.0788872\n",
            "[830]\ttraining's binary_logloss: 0.0307493\tvalid_1's binary_logloss: 0.0788924\n",
            "[840]\ttraining's binary_logloss: 0.0303604\tvalid_1's binary_logloss: 0.0788396\n",
            "[850]\ttraining's binary_logloss: 0.029936\tvalid_1's binary_logloss: 0.0788043\n",
            "[860]\ttraining's binary_logloss: 0.0294882\tvalid_1's binary_logloss: 0.0787345\n",
            "[870]\ttraining's binary_logloss: 0.0291422\tvalid_1's binary_logloss: 0.0787308\n",
            "[880]\ttraining's binary_logloss: 0.0287778\tvalid_1's binary_logloss: 0.078652\n",
            "[890]\ttraining's binary_logloss: 0.0284114\tvalid_1's binary_logloss: 0.0786247\n",
            "[900]\ttraining's binary_logloss: 0.0280485\tvalid_1's binary_logloss: 0.0785717\n",
            "[910]\ttraining's binary_logloss: 0.0276639\tvalid_1's binary_logloss: 0.0784588\n",
            "[920]\ttraining's binary_logloss: 0.0272729\tvalid_1's binary_logloss: 0.0783882\n",
            "[930]\ttraining's binary_logloss: 0.0269433\tvalid_1's binary_logloss: 0.078323\n",
            "[940]\ttraining's binary_logloss: 0.0265305\tvalid_1's binary_logloss: 0.078232\n",
            "[950]\ttraining's binary_logloss: 0.0261794\tvalid_1's binary_logloss: 0.0781705\n",
            "[960]\ttraining's binary_logloss: 0.0258209\tvalid_1's binary_logloss: 0.078117\n",
            "[970]\ttraining's binary_logloss: 0.0255034\tvalid_1's binary_logloss: 0.0781121\n",
            "[980]\ttraining's binary_logloss: 0.0251428\tvalid_1's binary_logloss: 0.0782094\n",
            "[990]\ttraining's binary_logloss: 0.0247246\tvalid_1's binary_logloss: 0.0781393\n",
            "[1000]\ttraining's binary_logloss: 0.0243357\tvalid_1's binary_logloss: 0.0781384\n",
            "Did not meet early stopping. Best iteration is:\n",
            "[1000]\ttraining's binary_logloss: 0.0243357\tvalid_1's binary_logloss: 0.0781384\n"
          ],
          "name": "stdout"
        },
        {
          "output_type": "stream",
          "text": [
            "\u001b[32m[I 2021-06-04 17:22:26,595]\u001b[0m Trial 36 finished with value: 0.07813837721205635 and parameters: {'n_estimators': 1000, 'lerning_rate': 0.01, 'max_depth': 7, 'max_features': 0.3, 'min_samples_split': 2, 'min_samples_leaf': 2}. Best is trial 6 with value: 0.07448800223470399.\u001b[0m\n",
            "/usr/local/lib/python3.7/dist-packages/lightgbm/engine.py:118: UserWarning:\n",
            "\n",
            "Found `n_estimators` in params. Will use it instead of argument\n",
            "\n",
            "/usr/local/lib/python3.7/dist-packages/lightgbm/basic.py:1205: UserWarning:\n",
            "\n",
            "Using categorical_feature in Dataset.\n",
            "\n",
            "/usr/local/lib/python3.7/dist-packages/lightgbm/basic.py:762: UserWarning:\n",
            "\n",
            "categorical_feature in param dict is overridden.\n",
            "\n"
          ],
          "name": "stderr"
        },
        {
          "output_type": "stream",
          "text": [
            "Training until validation scores don't improve for 100 rounds.\n",
            "[10]\ttraining's binary_logloss: 0.418997\tvalid_1's binary_logloss: 0.420731\n",
            "[20]\ttraining's binary_logloss: 0.282218\tvalid_1's binary_logloss: 0.287381\n",
            "[30]\ttraining's binary_logloss: 0.206188\tvalid_1's binary_logloss: 0.215322\n",
            "[40]\ttraining's binary_logloss: 0.160089\tvalid_1's binary_logloss: 0.171675\n",
            "[50]\ttraining's binary_logloss: 0.130013\tvalid_1's binary_logloss: 0.144479\n",
            "[60]\ttraining's binary_logloss: 0.109227\tvalid_1's binary_logloss: 0.125945\n",
            "[70]\ttraining's binary_logloss: 0.0940343\tvalid_1's binary_logloss: 0.113364\n",
            "[80]\ttraining's binary_logloss: 0.0828253\tvalid_1's binary_logloss: 0.104801\n",
            "[90]\ttraining's binary_logloss: 0.0744705\tvalid_1's binary_logloss: 0.0988442\n",
            "[100]\ttraining's binary_logloss: 0.0678946\tvalid_1's binary_logloss: 0.094721\n",
            "[110]\ttraining's binary_logloss: 0.0624988\tvalid_1's binary_logloss: 0.0913801\n",
            "[120]\ttraining's binary_logloss: 0.0585045\tvalid_1's binary_logloss: 0.089354\n",
            "[130]\ttraining's binary_logloss: 0.0550333\tvalid_1's binary_logloss: 0.0874419\n",
            "[140]\ttraining's binary_logloss: 0.0519388\tvalid_1's binary_logloss: 0.0858294\n",
            "[150]\ttraining's binary_logloss: 0.0492584\tvalid_1's binary_logloss: 0.0848701\n",
            "[160]\ttraining's binary_logloss: 0.0466821\tvalid_1's binary_logloss: 0.0838417\n",
            "[170]\ttraining's binary_logloss: 0.0445855\tvalid_1's binary_logloss: 0.0833475\n",
            "[180]\ttraining's binary_logloss: 0.0422962\tvalid_1's binary_logloss: 0.0824579\n",
            "[190]\ttraining's binary_logloss: 0.0404459\tvalid_1's binary_logloss: 0.0819334\n",
            "[200]\ttraining's binary_logloss: 0.0390711\tvalid_1's binary_logloss: 0.0813806\n",
            "[210]\ttraining's binary_logloss: 0.0373853\tvalid_1's binary_logloss: 0.080532\n",
            "[220]\ttraining's binary_logloss: 0.0360873\tvalid_1's binary_logloss: 0.0802617\n",
            "[230]\ttraining's binary_logloss: 0.0346456\tvalid_1's binary_logloss: 0.0801191\n",
            "[240]\ttraining's binary_logloss: 0.0336365\tvalid_1's binary_logloss: 0.0798566\n"
          ],
          "name": "stdout"
        },
        {
          "output_type": "stream",
          "text": [
            "\u001b[32m[I 2021-06-04 17:22:27,462]\u001b[0m Trial 37 finished with value: 0.07875347850283167 and parameters: {'n_estimators': 300, 'lerning_rate': 0.05, 'max_depth': 5, 'max_features': 0.7, 'min_samples_split': 6, 'min_samples_leaf': 2}. Best is trial 6 with value: 0.07448800223470399.\u001b[0m\n"
          ],
          "name": "stderr"
        },
        {
          "output_type": "stream",
          "text": [
            "[250]\ttraining's binary_logloss: 0.0320279\tvalid_1's binary_logloss: 0.0792543\n",
            "[260]\ttraining's binary_logloss: 0.0309858\tvalid_1's binary_logloss: 0.0789378\n",
            "[270]\ttraining's binary_logloss: 0.0300017\tvalid_1's binary_logloss: 0.079113\n",
            "[280]\ttraining's binary_logloss: 0.0284746\tvalid_1's binary_logloss: 0.0786074\n",
            "[290]\ttraining's binary_logloss: 0.0276014\tvalid_1's binary_logloss: 0.0785746\n",
            "[300]\ttraining's binary_logloss: 0.026531\tvalid_1's binary_logloss: 0.0787535\n",
            "Did not meet early stopping. Best iteration is:\n",
            "[300]\ttraining's binary_logloss: 0.026531\tvalid_1's binary_logloss: 0.0787535\n"
          ],
          "name": "stdout"
        },
        {
          "output_type": "stream",
          "text": [
            "/usr/local/lib/python3.7/dist-packages/lightgbm/engine.py:118: UserWarning:\n",
            "\n",
            "Found `n_estimators` in params. Will use it instead of argument\n",
            "\n",
            "/usr/local/lib/python3.7/dist-packages/lightgbm/basic.py:1205: UserWarning:\n",
            "\n",
            "Using categorical_feature in Dataset.\n",
            "\n",
            "/usr/local/lib/python3.7/dist-packages/lightgbm/basic.py:762: UserWarning:\n",
            "\n",
            "categorical_feature in param dict is overridden.\n",
            "\n"
          ],
          "name": "stderr"
        },
        {
          "output_type": "stream",
          "text": [
            "Training until validation scores don't improve for 100 rounds.\n",
            "[10]\ttraining's binary_logloss: 0.409857\tvalid_1's binary_logloss: 0.411575\n",
            "[20]\ttraining's binary_logloss: 0.267202\tvalid_1's binary_logloss: 0.273658\n",
            "[30]\ttraining's binary_logloss: 0.188147\tvalid_1's binary_logloss: 0.199805\n",
            "[40]\ttraining's binary_logloss: 0.140546\tvalid_1's binary_logloss: 0.156187\n",
            "[50]\ttraining's binary_logloss: 0.110349\tvalid_1's binary_logloss: 0.130895\n",
            "[60]\ttraining's binary_logloss: 0.0902005\tvalid_1's binary_logloss: 0.114351\n",
            "[70]\ttraining's binary_logloss: 0.0755908\tvalid_1's binary_logloss: 0.102603\n",
            "[80]\ttraining's binary_logloss: 0.0646585\tvalid_1's binary_logloss: 0.0947769\n",
            "[90]\ttraining's binary_logloss: 0.0565063\tvalid_1's binary_logloss: 0.0899954\n",
            "[100]\ttraining's binary_logloss: 0.0502482\tvalid_1's binary_logloss: 0.0871729\n",
            "[110]\ttraining's binary_logloss: 0.0449098\tvalid_1's binary_logloss: 0.0846616\n",
            "[120]\ttraining's binary_logloss: 0.0409557\tvalid_1's binary_logloss: 0.0829291\n",
            "[130]\ttraining's binary_logloss: 0.0373761\tvalid_1's binary_logloss: 0.0816816\n",
            "[140]\ttraining's binary_logloss: 0.034035\tvalid_1's binary_logloss: 0.0804962\n",
            "[150]\ttraining's binary_logloss: 0.0311156\tvalid_1's binary_logloss: 0.0796231\n",
            "[160]\ttraining's binary_logloss: 0.028688\tvalid_1's binary_logloss: 0.0790155\n",
            "[170]\ttraining's binary_logloss: 0.026794\tvalid_1's binary_logloss: 0.0784011\n",
            "[180]\ttraining's binary_logloss: 0.0248347\tvalid_1's binary_logloss: 0.0780895\n",
            "[190]\ttraining's binary_logloss: 0.0227093\tvalid_1's binary_logloss: 0.0775361\n",
            "[200]\ttraining's binary_logloss: 0.020774\tvalid_1's binary_logloss: 0.0768253\n",
            "[210]\ttraining's binary_logloss: 0.0193763\tvalid_1's binary_logloss: 0.0769856\n",
            "[220]\ttraining's binary_logloss: 0.0178966\tvalid_1's binary_logloss: 0.0769537\n",
            "[230]\ttraining's binary_logloss: 0.0166873\tvalid_1's binary_logloss: 0.0769032\n",
            "[240]\ttraining's binary_logloss: 0.0155855\tvalid_1's binary_logloss: 0.0769729\n",
            "[250]\ttraining's binary_logloss: 0.0146673\tvalid_1's binary_logloss: 0.077249\n",
            "[260]\ttraining's binary_logloss: 0.0137546\tvalid_1's binary_logloss: 0.0774029\n",
            "[270]\ttraining's binary_logloss: 0.0127554\tvalid_1's binary_logloss: 0.0772952\n",
            "[280]\ttraining's binary_logloss: 0.0118789\tvalid_1's binary_logloss: 0.0772718\n",
            "[290]\ttraining's binary_logloss: 0.0110396\tvalid_1's binary_logloss: 0.0776678\n",
            "[300]\ttraining's binary_logloss: 0.0102129\tvalid_1's binary_logloss: 0.0778492\n",
            "Early stopping, best iteration is:\n",
            "[200]\ttraining's binary_logloss: 0.020774\tvalid_1's binary_logloss: 0.0768253\n"
          ],
          "name": "stdout"
        },
        {
          "output_type": "stream",
          "text": [
            "\u001b[32m[I 2021-06-04 17:22:28,370]\u001b[0m Trial 38 finished with value: 0.07682527594288036 and parameters: {'n_estimators': 1000, 'lerning_rate': 0.05, 'max_depth': 8, 'max_features': 0.3, 'min_samples_split': 2, 'min_samples_leaf': 6}. Best is trial 6 with value: 0.07448800223470399.\u001b[0m\n",
            "/usr/local/lib/python3.7/dist-packages/lightgbm/engine.py:118: UserWarning:\n",
            "\n",
            "Found `n_estimators` in params. Will use it instead of argument\n",
            "\n",
            "/usr/local/lib/python3.7/dist-packages/lightgbm/basic.py:1205: UserWarning:\n",
            "\n",
            "Using categorical_feature in Dataset.\n",
            "\n",
            "/usr/local/lib/python3.7/dist-packages/lightgbm/basic.py:762: UserWarning:\n",
            "\n",
            "categorical_feature in param dict is overridden.\n",
            "\n"
          ],
          "name": "stderr"
        },
        {
          "output_type": "stream",
          "text": [
            "Training until validation scores don't improve for 100 rounds.\n",
            "[10]\ttraining's binary_logloss: 0.265484\tvalid_1's binary_logloss: 0.270788\n",
            "[20]\ttraining's binary_logloss: 0.141454\tvalid_1's binary_logloss: 0.155841\n",
            "[30]\ttraining's binary_logloss: 0.0913956\tvalid_1's binary_logloss: 0.114023\n",
            "[40]\ttraining's binary_logloss: 0.0659753\tvalid_1's binary_logloss: 0.0951342\n",
            "[50]\ttraining's binary_logloss: 0.0518051\tvalid_1's binary_logloss: 0.0872426\n",
            "[60]\ttraining's binary_logloss: 0.0420666\tvalid_1's binary_logloss: 0.0829783\n",
            "[70]\ttraining's binary_logloss: 0.0349382\tvalid_1's binary_logloss: 0.079769\n",
            "[80]\ttraining's binary_logloss: 0.0304187\tvalid_1's binary_logloss: 0.0783453\n",
            "[90]\ttraining's binary_logloss: 0.0268742\tvalid_1's binary_logloss: 0.0784974\n",
            "[100]\ttraining's binary_logloss: 0.0234778\tvalid_1's binary_logloss: 0.0787675\n",
            "[110]\ttraining's binary_logloss: 0.019951\tvalid_1's binary_logloss: 0.0779364\n",
            "[120]\ttraining's binary_logloss: 0.0172662\tvalid_1's binary_logloss: 0.0786049\n",
            "[130]\ttraining's binary_logloss: 0.0149412\tvalid_1's binary_logloss: 0.0781018\n",
            "[140]\ttraining's binary_logloss: 0.013256\tvalid_1's binary_logloss: 0.0786329\n",
            "[150]\ttraining's binary_logloss: 0.0116296\tvalid_1's binary_logloss: 0.079005\n"
          ],
          "name": "stdout"
        },
        {
          "output_type": "stream",
          "text": [
            "\u001b[32m[I 2021-06-04 17:22:28,995]\u001b[0m Trial 39 finished with value: 0.07793637174609908 and parameters: {'n_estimators': 500, 'lerning_rate': 0.1, 'max_depth': 7, 'max_features': 0.1, 'min_samples_split': 2, 'min_samples_leaf': 2}. Best is trial 6 with value: 0.07448800223470399.\u001b[0m\n"
          ],
          "name": "stderr"
        },
        {
          "output_type": "stream",
          "text": [
            "[160]\ttraining's binary_logloss: 0.0101228\tvalid_1's binary_logloss: 0.0792184\n",
            "[170]\ttraining's binary_logloss: 0.00909075\tvalid_1's binary_logloss: 0.0803631\n",
            "[180]\ttraining's binary_logloss: 0.00801235\tvalid_1's binary_logloss: 0.0808345\n",
            "[190]\ttraining's binary_logloss: 0.00711092\tvalid_1's binary_logloss: 0.0812948\n",
            "[200]\ttraining's binary_logloss: 0.00615468\tvalid_1's binary_logloss: 0.0822679\n",
            "[210]\ttraining's binary_logloss: 0.00527397\tvalid_1's binary_logloss: 0.0829521\n",
            "Early stopping, best iteration is:\n",
            "[110]\ttraining's binary_logloss: 0.019951\tvalid_1's binary_logloss: 0.0779364\n",
            "Best score : 0.07448800223470399\n"
          ],
          "name": "stdout"
        }
      ]
    },
    {
      "cell_type": "code",
      "metadata": {
        "colab": {
          "base_uri": "https://localhost:8080/"
        },
        "id": "ujstfPlaB2MR",
        "outputId": "bfe42836-4dc3-4e5c-9796-4d6fd990fdd2"
      },
      "source": [
        "study.best_params"
      ],
      "execution_count": null,
      "outputs": [
        {
          "output_type": "execute_result",
          "data": {
            "text/plain": [
              "{'lerning_rate': 0.05,\n",
              " 'max_depth': 7,\n",
              " 'max_features': 0.3,\n",
              " 'min_samples_leaf': 2,\n",
              " 'min_samples_split': 2,\n",
              " 'n_estimators': 500}"
            ]
          },
          "metadata": {
            "tags": []
          },
          "execution_count": 32
        }
      ]
    },
    {
      "cell_type": "code",
      "metadata": {
        "colab": {
          "base_uri": "https://localhost:8080/"
        },
        "id": "BaWZU2xSB30S",
        "outputId": "c18b4e8b-499c-47d6-bb77-c2f152dcbee1"
      },
      "source": [
        "import lightgbm as lgb\n",
        "lgb_model = lgb.LGBMClassifier(**study.best_params)\n",
        "lgb_model.fit(X_train, y_train)\n",
        "train_score =lgb_model.score(X_train,y_train)\n",
        "valid_score= lgb_model.score(X_valid,y_valid)\n",
        "print('LGBM Train_Accuracy : {}'.format(train_score))\n",
        "print('LGBM Valid_Accuracy : {}'.format(valid_score))"
      ],
      "execution_count": null,
      "outputs": [
        {
          "output_type": "stream",
          "text": [
            "LGBM Train_Accuracy : 1.0\n",
            "LGBM Valid_Accuracy : 0.971301335972291\n"
          ],
          "name": "stdout"
        }
      ]
    },
    {
      "cell_type": "markdown",
      "metadata": {
        "id": "SZq_TGclEDIc"
      },
      "source": [
        "**결론 : 정확도 올리기 위한 optuna작업은 무의미**"
      ]
    },
    {
      "cell_type": "code",
      "metadata": {
        "id": "fX3REmxVB5Da"
      },
      "source": [
        ""
      ],
      "execution_count": null,
      "outputs": []
    }
  ]
}