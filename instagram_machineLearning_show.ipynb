{
  "nbformat": 4,
  "nbformat_minor": 0,
  "metadata": {
    "colab": {
      "name": "instagram_machineLearning.ipynb",
      "provenance": [],
      "collapsed_sections": [],
      "authorship_tag": "ABX9TyOFWM8YN/K2WzNfG79iczZA",
      "include_colab_link": true
    },
    "kernelspec": {
      "name": "python3",
      "display_name": "Python 3"
    },
    "language_info": {
      "name": "python"
    }
  },
  "cells": [
    {
      "cell_type": "markdown",
      "metadata": {
        "id": "view-in-github",
        "colab_type": "text"
      },
      "source": [
        "<a href=\"https://colab.research.google.com/github/seong1542/Instagram_Account_detection/blob/master/instagram_machineLearning_show.ipynb\" target=\"_parent\"><img src=\"https://colab.research.google.com/assets/colab-badge.svg\" alt=\"Open In Colab\"/></a>"
      ]
    },
    {
      "cell_type": "code",
      "metadata": {
        "colab": {
          "base_uri": "https://localhost:8080/"
        },
        "id": "uuwaquhq0J9r",
        "outputId": "16b15a65-eb8e-41cc-bc92-93983afbd2ec"
      },
      "source": [
        "import numpy as np\n",
        "import pandas as pd\n",
        "import matplotlib.pyplot as plt\n",
        "import seaborn as sns\n",
        "import tensorflow as tf\n",
        "from google.colab import drive\n",
        "drive.mount('/content/gdrive', force_remount=True)\n",
        "filepath='/content/gdrive/My Drive/'\n",
        "train = pd.read_csv(filepath+'instagram_train.csv')\n",
        "print(train.shape)"
      ],
      "execution_count": 31,
      "outputs": [
        {
          "output_type": "stream",
          "text": [
            "Mounted at /content/gdrive\n",
            "(10000, 17)\n"
          ],
          "name": "stdout"
        }
      ]
    },
    {
      "cell_type": "code",
      "metadata": {
        "colab": {
          "base_uri": "https://localhost:8080/",
          "height": 204
        },
        "id": "mt5YDT0q0QZg",
        "outputId": "cfadca13-6327-47bb-8464-5daf963f4039"
      },
      "source": [
        "train.head()"
      ],
      "execution_count": 32,
      "outputs": [
        {
          "output_type": "execute_result",
          "data": {
            "text/html": [
              "<div>\n",
              "<style scoped>\n",
              "    .dataframe tbody tr th:only-of-type {\n",
              "        vertical-align: middle;\n",
              "    }\n",
              "\n",
              "    .dataframe tbody tr th {\n",
              "        vertical-align: top;\n",
              "    }\n",
              "\n",
              "    .dataframe thead th {\n",
              "        text-align: right;\n",
              "    }\n",
              "</style>\n",
              "<table border=\"1\" class=\"dataframe\">\n",
              "  <thead>\n",
              "    <tr style=\"text-align: right;\">\n",
              "      <th></th>\n",
              "      <th>#profile_pic</th>\n",
              "      <th>#id_len</th>\n",
              "      <th>#num_in_id</th>\n",
              "      <th>#name_len</th>\n",
              "      <th>#num_in_name</th>\n",
              "      <th>#name==id</th>\n",
              "      <th>#itro_len</th>\n",
              "      <th>#url</th>\n",
              "      <th>#private</th>\n",
              "      <th>#post</th>\n",
              "      <th>#follower_counts</th>\n",
              "      <th>#follows_counts</th>\n",
              "      <th>#highlight</th>\n",
              "      <th>#account_tag</th>\n",
              "      <th>#hash_tag</th>\n",
              "      <th>#professional</th>\n",
              "      <th>#fake</th>\n",
              "    </tr>\n",
              "  </thead>\n",
              "  <tbody>\n",
              "    <tr>\n",
              "      <th>0</th>\n",
              "      <td>1</td>\n",
              "      <td>8</td>\n",
              "      <td>2</td>\n",
              "      <td>9</td>\n",
              "      <td>0</td>\n",
              "      <td>0</td>\n",
              "      <td>0</td>\n",
              "      <td>0</td>\n",
              "      <td>0</td>\n",
              "      <td>4</td>\n",
              "      <td>115</td>\n",
              "      <td>159</td>\n",
              "      <td>1</td>\n",
              "      <td>0</td>\n",
              "      <td>0</td>\n",
              "      <td>0</td>\n",
              "      <td>0</td>\n",
              "    </tr>\n",
              "    <tr>\n",
              "      <th>1</th>\n",
              "      <td>0</td>\n",
              "      <td>8</td>\n",
              "      <td>0</td>\n",
              "      <td>3</td>\n",
              "      <td>0</td>\n",
              "      <td>0</td>\n",
              "      <td>0</td>\n",
              "      <td>0</td>\n",
              "      <td>0</td>\n",
              "      <td>0</td>\n",
              "      <td>79</td>\n",
              "      <td>113</td>\n",
              "      <td>0</td>\n",
              "      <td>0</td>\n",
              "      <td>0</td>\n",
              "      <td>0</td>\n",
              "      <td>0</td>\n",
              "    </tr>\n",
              "    <tr>\n",
              "      <th>2</th>\n",
              "      <td>0</td>\n",
              "      <td>10</td>\n",
              "      <td>0</td>\n",
              "      <td>3</td>\n",
              "      <td>0</td>\n",
              "      <td>0</td>\n",
              "      <td>0</td>\n",
              "      <td>0</td>\n",
              "      <td>0</td>\n",
              "      <td>0</td>\n",
              "      <td>26</td>\n",
              "      <td>26</td>\n",
              "      <td>0</td>\n",
              "      <td>0</td>\n",
              "      <td>0</td>\n",
              "      <td>0</td>\n",
              "      <td>0</td>\n",
              "    </tr>\n",
              "    <tr>\n",
              "      <th>3</th>\n",
              "      <td>0</td>\n",
              "      <td>7</td>\n",
              "      <td>2</td>\n",
              "      <td>2</td>\n",
              "      <td>0</td>\n",
              "      <td>0</td>\n",
              "      <td>0</td>\n",
              "      <td>0</td>\n",
              "      <td>0</td>\n",
              "      <td>1</td>\n",
              "      <td>115</td>\n",
              "      <td>113</td>\n",
              "      <td>0</td>\n",
              "      <td>0</td>\n",
              "      <td>0</td>\n",
              "      <td>0</td>\n",
              "      <td>0</td>\n",
              "    </tr>\n",
              "    <tr>\n",
              "      <th>4</th>\n",
              "      <td>1</td>\n",
              "      <td>13</td>\n",
              "      <td>1</td>\n",
              "      <td>3</td>\n",
              "      <td>0</td>\n",
              "      <td>0</td>\n",
              "      <td>38</td>\n",
              "      <td>1</td>\n",
              "      <td>0</td>\n",
              "      <td>117</td>\n",
              "      <td>102</td>\n",
              "      <td>124</td>\n",
              "      <td>0</td>\n",
              "      <td>1</td>\n",
              "      <td>0</td>\n",
              "      <td>0</td>\n",
              "      <td>0</td>\n",
              "    </tr>\n",
              "  </tbody>\n",
              "</table>\n",
              "</div>"
            ],
            "text/plain": [
              "   #profile_pic  #id_len  #num_in_id  ...  #hash_tag  #professional  #fake\n",
              "0             1        8           2  ...          0              0      0\n",
              "1             0        8           0  ...          0              0      0\n",
              "2             0       10           0  ...          0              0      0\n",
              "3             0        7           2  ...          0              0      0\n",
              "4             1       13           1  ...          0              0      0\n",
              "\n",
              "[5 rows x 17 columns]"
            ]
          },
          "metadata": {
            "tags": []
          },
          "execution_count": 32
        }
      ]
    },
    {
      "cell_type": "code",
      "metadata": {
        "colab": {
          "base_uri": "https://localhost:8080/"
        },
        "id": "KddihHYU0Rse",
        "outputId": "7156efdc-6787-4414-f049-ab3472558957"
      },
      "source": [
        "train.info()  #어떤 속성으로 이루어져있는지, 결측치가 있는지 "
      ],
      "execution_count": 33,
      "outputs": [
        {
          "output_type": "stream",
          "text": [
            "<class 'pandas.core.frame.DataFrame'>\n",
            "RangeIndex: 10000 entries, 0 to 9999\n",
            "Data columns (total 17 columns):\n",
            " #   Column            Non-Null Count  Dtype\n",
            "---  ------            --------------  -----\n",
            " 0   #profile_pic      10000 non-null  int64\n",
            " 1   #id_len           10000 non-null  int64\n",
            " 2   #num_in_id        10000 non-null  int64\n",
            " 3   #name_len         10000 non-null  int64\n",
            " 4   #num_in_name      10000 non-null  int64\n",
            " 5   #name==id         10000 non-null  int64\n",
            " 6   #itro_len         10000 non-null  int64\n",
            " 7   #url              10000 non-null  int64\n",
            " 8   #private          10000 non-null  int64\n",
            " 9   #post             10000 non-null  int64\n",
            " 10  #follower_counts  10000 non-null  int64\n",
            " 11  #follows_counts   10000 non-null  int64\n",
            " 12  #highlight        10000 non-null  int64\n",
            " 13  #account_tag      10000 non-null  int64\n",
            " 14  #hash_tag         10000 non-null  int64\n",
            " 15  #professional     10000 non-null  int64\n",
            " 16  #fake             10000 non-null  int64\n",
            "dtypes: int64(17)\n",
            "memory usage: 1.3 MB\n"
          ],
          "name": "stdout"
        }
      ]
    },
    {
      "cell_type": "code",
      "metadata": {
        "colab": {
          "base_uri": "https://localhost:8080/",
          "height": 376
        },
        "id": "OcVVTHx3GVJ1",
        "outputId": "45b2bbcc-17ba-4084-b12c-fffc3f581647"
      },
      "source": [
        "#상관관계 분석\n",
        "data_corr = train.corr(method='pearson')\n",
        "axes = sns.heatmap(data_corr, vmin=-1, vmax=1, cmap='BrBG')\n",
        "axes.set_title('Correlation Heatmap Between Features')"
      ],
      "execution_count": 34,
      "outputs": [
        {
          "output_type": "execute_result",
          "data": {
            "text/plain": [
              "Text(0.5, 1.0, 'Correlation Heatmap Between Features')"
            ]
          },
          "metadata": {
            "tags": []
          },
          "execution_count": 34
        },
        {
          "output_type": "display_data",
          "data": {
            "image/png": "[encoded data removed]",
            "text/plain": [
              "<Figure size 432x288 with 2 Axes>"
            ]
          },
          "metadata": {
            "tags": [],
            "needs_background": "light"
          }
        }
      ]
    },
    {
      "cell_type": "code",
      "metadata": {
        "id": "QMkh7mEkGW4Z"
      },
      "source": [
        "y_train = train['#fake']\n",
        "X_train = train.drop('#fake',axis=1)"
      ],
      "execution_count": 35,
      "outputs": []
    },
    {
      "cell_type": "markdown",
      "metadata": {
        "id": "O0FinkEjQSUu"
      },
      "source": [
        "## **Train dataset 진짜/가짜 계정의 개수 비교 (각 5000개씩 있음)**"
      ]
    },
    {
      "cell_type": "code",
      "metadata": {
        "colab": {
          "base_uri": "https://localhost:8080/",
          "height": 369
        },
        "id": "lMAeuOyqJ3TV",
        "outputId": "01f35ed2-8a9c-43cc-e525-2440b9ade8b7"
      },
      "source": [
        "account_counts = sns.countplot(y_train)\n",
        "account_counts.set_title(\"Count plot for accounts\")"
      ],
      "execution_count": 36,
      "outputs": [
        {
          "output_type": "stream",
          "text": [
            "/usr/local/lib/python3.7/dist-packages/seaborn/_decorators.py:43: FutureWarning: Pass the following variable as a keyword arg: x. From version 0.12, the only valid positional argument will be `data`, and passing other arguments without an explicit keyword will result in an error or misinterpretation.\n",
            "  FutureWarning\n"
          ],
          "name": "stderr"
        },
        {
          "output_type": "execute_result",
          "data": {
            "text/plain": [
              "Text(0.5, 1.0, 'Count plot for accounts')"
            ]
          },
          "metadata": {
            "tags": []
          },
          "execution_count": 36
        },
        {
          "output_type": "display_data",
          "data": {
            "image/png": "[encoded data removed]",
            "text/plain": [
              "<Figure size 432x288 with 1 Axes>"
            ]
          },
          "metadata": {
            "tags": [],
            "needs_background": "light"
          }
        }
      ]
    },
    {
      "cell_type": "code",
      "metadata": {
        "colab": {
          "base_uri": "https://localhost:8080/"
        },
        "id": "toe2cxytJ08W",
        "outputId": "b9dd95a1-be32-4e3e-e6c2-5822c2375157"
      },
      "source": [
        "# 학습-검증데이터 8:2비율로\n",
        "from sklearn.model_selection import train_test_split\n",
        "X_train,X_valid, y_train, y_valid = train_test_split(X_train,y_train, test_size=0.2, random_state=0, shuffle=True)\n",
        "\n",
        "print('X_train = ', X_train.shape)\n",
        "print('X_valid = ', X_valid.shape)\n",
        "print('y_train = ', y_train.shape)\n",
        "print('y_valid = ', y_valid.shape)"
      ],
      "execution_count": 37,
      "outputs": [
        {
          "output_type": "stream",
          "text": [
            "X_train =  (8000, 16)\n",
            "X_valid =  (2000, 16)\n",
            "y_train =  (8000,)\n",
            "y_valid =  (2000,)\n"
          ],
          "name": "stdout"
        }
      ]
    },
    {
      "cell_type": "code",
      "metadata": {
        "colab": {
          "base_uri": "https://localhost:8080/",
          "height": 369
        },
        "id": "mtiRPCaAQi5S",
        "outputId": "512e9a1a-e2d8-4e31-c29d-600b8e097cd4"
      },
      "source": [
        "account_counts = sns.countplot(y_train)\n",
        "account_counts.set_title(\"Count plot for accounts in Train\")"
      ],
      "execution_count": 38,
      "outputs": [
        {
          "output_type": "stream",
          "text": [
            "/usr/local/lib/python3.7/dist-packages/seaborn/_decorators.py:43: FutureWarning: Pass the following variable as a keyword arg: x. From version 0.12, the only valid positional argument will be `data`, and passing other arguments without an explicit keyword will result in an error or misinterpretation.\n",
            "  FutureWarning\n"
          ],
          "name": "stderr"
        },
        {
          "output_type": "execute_result",
          "data": {
            "text/plain": [
              "Text(0.5, 1.0, 'Count plot for accounts in Train')"
            ]
          },
          "metadata": {
            "tags": []
          },
          "execution_count": 38
        },
        {
          "output_type": "display_data",
          "data": {
            "image/png": "[encoded data removed]",
            "text/plain": [
              "<Figure size 432x288 with 1 Axes>"
            ]
          },
          "metadata": {
            "tags": [],
            "needs_background": "light"
          }
        }
      ]
    },
    {
      "cell_type": "code",
      "metadata": {
        "colab": {
          "base_uri": "https://localhost:8080/",
          "height": 369
        },
        "id": "ojCTd5ggQqZ4",
        "outputId": "f8ea34a5-ad30-4caa-abe8-8f7d25bd473f"
      },
      "source": [
        "account_counts = sns.countplot(y_valid)\n",
        "account_counts.set_title(\"Count plot for accounts in Valid\")"
      ],
      "execution_count": 39,
      "outputs": [
        {
          "output_type": "stream",
          "text": [
            "/usr/local/lib/python3.7/dist-packages/seaborn/_decorators.py:43: FutureWarning: Pass the following variable as a keyword arg: x. From version 0.12, the only valid positional argument will be `data`, and passing other arguments without an explicit keyword will result in an error or misinterpretation.\n",
            "  FutureWarning\n"
          ],
          "name": "stderr"
        },
        {
          "output_type": "execute_result",
          "data": {
            "text/plain": [
              "Text(0.5, 1.0, 'Count plot for accounts in Valid')"
            ]
          },
          "metadata": {
            "tags": []
          },
          "execution_count": 39
        },
        {
          "output_type": "display_data",
          "data": {
            "image/png": "[encoded data removed]",
            "text/plain": [
              "<Figure size 432x288 with 1 Axes>"
            ]
          },
          "metadata": {
            "tags": [],
            "needs_background": "light"
          }
        }
      ]
    },
    {
      "cell_type": "code",
      "metadata": {
        "colab": {
          "base_uri": "https://localhost:8080/"
        },
        "id": "QAqE4oBwGapY",
        "outputId": "41784c88-8333-419e-a68e-fa9723ec6f97"
      },
      "source": [
        "from sklearn.ensemble import RandomForestClassifier\n",
        "rf= RandomForestClassifier()\n",
        "rf.fit(X_train, y_train)\n",
        "train_score = rf.score(X_train, y_train)\n",
        "valid_score = rf.score(X_valid, y_valid)\n",
        "print('RandomForest Train_Accuracy : {}'.format(train_score))\n",
        "print('RandomForest Valid_Accuracy : {}'.format(valid_score))\n",
        "print()\n",
        "\n",
        "from sklearn.ensemble import GradientBoostingClassifier\n",
        "gb= GradientBoostingClassifier()\n",
        "gb.fit(X_train, y_train)\n",
        "train_score = gb.score(X_train, y_train)\n",
        "valid_score = gb.score(X_valid, y_valid)\n",
        "print('GradientBoosting Train_Accuracy : {}'.format(train_score))\n",
        "print('GradientBoosting Valid_Accuracy : {}'.format(valid_score))\n",
        "print()\n",
        "\n",
        "from sklearn.linear_model import LogisticRegression\n",
        "lg = LogisticRegression(penalty = 'l2',solver='newton-cg',random_state=0, max_iter=600)\n",
        "lg.fit(X_train,y_train)\n",
        "train_score = lg.score(X_train,y_train)\n",
        "valid_score = lg.score(X_valid,y_valid)\n",
        "print('Logistic Train_Accuracy : {}'.format(train_score))\n",
        "print('Logistic Valid_Accuracy : {}'.format(valid_score))\n",
        "print()\n",
        "\n",
        "import xgboost as xgb\n",
        "xgb_model = xgb.XGBClassifier()\n",
        "xgb_model.fit(X_train,y_train)\n",
        "train_score = xgb_model.score(X_train,y_train)\n",
        "valid_score = xgb_model.score(X_valid,y_valid)\n",
        "print('XGBoost Train_Accuracy : {}'.format(train_score))\n",
        "print('XGBoost Valid_Accuracy : {}'.format(valid_score))\n",
        "print()\n",
        "\n",
        "import lightgbm as lgb\n",
        "lgb_model = lgb.LGBMClassifier()\n",
        "lgb_model.fit(X_train, y_train)\n",
        "train_score =lgb_model.score(X_train,y_train)\n",
        "valid_score= lgb_model.score(X_valid,y_valid)\n",
        "print('LGBM Train_Accuracy : {}'.format(train_score))\n",
        "print('LGBM Valid_Accuracy : {}'.format(valid_score))\n",
        "print()\n",
        "\n",
        "from sklearn.tree import DecisionTreeClassifier\n",
        "dt = DecisionTreeClassifier()\n",
        "dt.fit(X_train,y_train)\n",
        "train_score = dt.score(X_train,y_train)\n",
        "valid_score=dt.score(X_valid,y_valid)\n",
        "print('DecisionTree Train_Accuracy : {}'.format(train_score))\n",
        "print('DecisionTree Valid_Accuracy : {}'.format(valid_score))"
      ],
      "execution_count": 40,
      "outputs": [
        {
          "output_type": "stream",
          "text": [
            "RandomForest Train_Accuracy : 1.0\n",
            "RandomForest Valid_Accuracy : 0.9705\n",
            "\n",
            "GradientBoosting Train_Accuracy : 0.978\n",
            "GradientBoosting Valid_Accuracy : 0.966\n",
            "\n",
            "Logistic Train_Accuracy : 0.876\n",
            "Logistic Valid_Accuracy : 0.8725\n",
            "\n",
            "XGBoost Train_Accuracy : 0.976875\n",
            "XGBoost Valid_Accuracy : 0.967\n",
            "\n",
            "LGBM Train_Accuracy : 0.998875\n",
            "LGBM Valid_Accuracy : 0.973\n",
            "\n",
            "DecisionTree Train_Accuracy : 1.0\n",
            "DecisionTree Valid_Accuracy : 0.953\n"
          ],
          "name": "stdout"
        }
      ]
    },
    {
      "cell_type": "markdown",
      "metadata": {
        "id": "Be2wLVGhG6cB"
      },
      "source": [
        "# 최대한 효율적인 방법 - RandomForest, GradientBoosting, LGBM"
      ]
    },
    {
      "cell_type": "markdown",
      "metadata": {
        "id": "qxbTB9cVRcE9"
      },
      "source": [
        "## **TEST해보자**"
      ]
    },
    {
      "cell_type": "code",
      "metadata": {
        "colab": {
          "base_uri": "https://localhost:8080/"
        },
        "id": "JzbktBKLRigx",
        "outputId": "2c073908-b790-460d-bf02-2eb56d1be23e"
      },
      "source": [
        "test = pd.read_csv(filepath+'instagram_test.csv')\n",
        "print(test.shape)\n",
        "y_test = test['#fake']\n",
        "X_test = test.drop('#fake', axis=1)"
      ],
      "execution_count": 41,
      "outputs": [
        {
          "output_type": "stream",
          "text": [
            "(100, 17)\n"
          ],
          "name": "stdout"
        }
      ]
    },
    {
      "cell_type": "code",
      "metadata": {
        "colab": {
          "base_uri": "https://localhost:8080/"
        },
        "id": "mFOmxIBTTa7u",
        "outputId": "4a5b9e63-e4d9-4e12-e275-be6c30880641"
      },
      "source": [
        "#RandomForest 테스트해보기\n",
        "from sklearn.metrics import accuracy_score\n",
        "pred = rf.predict(X_test)\n",
        "print(\"RandomForest accuracy : \", accuracy_score(y_test, pred))"
      ],
      "execution_count": 46,
      "outputs": [
        {
          "output_type": "stream",
          "text": [
            "RandomForest accuracy :  0.97\n"
          ],
          "name": "stdout"
        }
      ]
    },
    {
      "cell_type": "code",
      "metadata": {
        "colab": {
          "base_uri": "https://localhost:8080/"
        },
        "id": "QmpVXThdWWmu",
        "outputId": "738e58d8-6720-4505-eae6-815aa1795659"
      },
      "source": [
        "#Gradient_boosting 테스트해보기\n",
        "pred = lgb_model.predict(X_test)\n",
        "print(\"LGBM accuracy : \", accuracy_score(y_test, pred))"
      ],
      "execution_count": 49,
      "outputs": [
        {
          "output_type": "stream",
          "text": [
            "LGBM accuracy :  0.97\n"
          ],
          "name": "stdout"
        }
      ]
    },
    {
      "cell_type": "code",
      "metadata": {
        "colab": {
          "base_uri": "https://localhost:8080/"
        },
        "id": "ht-5SzKZWnXX",
        "outputId": "5cbbac25-e599-4bbf-b5de-41e8b4855d37"
      },
      "source": [
        "#Gradient_boosting 테스트해보기\n",
        "pred = gb.predict(X_test)\n",
        "print(\"Gradient Boosting accuracy : \", accuracy_score(y_test, pred))"
      ],
      "execution_count": 50,
      "outputs": [
        {
          "output_type": "stream",
          "text": [
            "Gradient Boosting accuracy :  0.96\n"
          ],
          "name": "stdout"
        }
      ]
    },
    {
      "cell_type": "code",
      "metadata": {
        "colab": {
          "base_uri": "https://localhost:8080/"
        },
        "id": "mTMZcjPjG1V0",
        "outputId": "61d263db-e7e1-4ccb-db15-8483fcf55fa0"
      },
      "source": [
        "#가짜계정인가?\n",
        "#프로필사진, id길이, id속 숫자, 이름 길이, 이름 속 숫자, 이름==id, 소개글, url, 비공개유무, 게시물, 팔로워, 팔로잉, 하이라이트, 소개글 속 계정개수, 해쉬태그 개수, 프로페셔널계정유무 순으로 입력\n",
        "p=[[1,19,4,14,0,0,0,0,0,0,3,3,0,0,0,0]]  # 학습하지 않은 가짜 계정의 정보를 입력\n",
        "rf_y = rf.predict(p)\n",
        "lgb_y=lgb_model.predict(p)\n",
        "gb_y=gb.predict(p)\n",
        "print(rf_y)\n",
        "print(lgb_y)\n",
        "print(gb_y)    #0 = 진짜계정, 1 = 가짜계정"
      ],
      "execution_count": null,
      "outputs": [
        {
          "output_type": "stream",
          "text": [
            "[1]\n",
            "[1]\n",
            "[1]\n"
          ],
          "name": "stdout"
        }
      ]
    },
    {
      "cell_type": "code",
      "metadata": {
        "colab": {
          "base_uri": "https://localhost:8080/"
        },
        "id": "b8njhGuwHKFL",
        "outputId": "54fedf9f-b9c9-4df5-c230-9caba97f87dd"
      },
      "source": [
        "#가짜계정인가?\n",
        "#프로필사진, id길이, id속 숫자, 이름 길이, 이름 속 숫자, 이름==id, 소개글, url, 비공개유무, 게시물, 팔로워, 팔로잉, 하이라이트, 소개글 속 계정개수, 해쉬태그 개수, 프로페셔널계정유무 순으로 입력\n",
        "x=[[0,9,0,3,0,0,0,0,1,4,265,350,0,0,0,0]]  # 학습하지 않은 진짜 계정의 정보를 입력\n",
        "rf_y = rf.predict(x)\n",
        "lgb_y=lgb_model.predict(x)\n",
        "gb_y=gb.predict(x)\n",
        "print(rf_y)\n",
        "print(lgb_y)\n",
        "print(gb_y)    #0 = 진짜계정, 1 = 가짜계정"
      ],
      "execution_count": null,
      "outputs": [
        {
          "output_type": "stream",
          "text": [
            "[0]\n",
            "[0]\n",
            "[0]\n"
          ],
          "name": "stdout"
        }
      ]
    },
    {
      "cell_type": "code",
      "metadata": {
        "id": "K2dhglKEHMdB"
      },
      "source": [
        ""
      ],
      "execution_count": null,
      "outputs": []
    }
  ]
}