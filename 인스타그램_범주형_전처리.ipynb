{
  "nbformat": 4,
  "nbformat_minor": 0,
  "metadata": {
    "colab": {
      "name": "인스타그램_범주형_전처리.ipynb",
      "provenance": [],
      "collapsed_sections": [],
      "authorship_tag": "ABX9TyOPWhxuc97aGoBiSjmy3xnS",
      "include_colab_link": true
    },
    "kernelspec": {
      "name": "python3",
      "display_name": "Python 3"
    },
    "language_info": {
      "name": "python"
    }
  },
  "cells": [
    {
      "cell_type": "markdown",
      "metadata": {
        "id": "view-in-github",
        "colab_type": "text"
      },
      "source": [
        "<a href=\"https://colab.research.google.com/github/seong1542/Instagram_Account_detection/blob/master/%EC%9D%B8%EC%8A%A4%ED%83%80%EA%B7%B8%EB%9E%A8_%EB%B2%94%EC%A3%BC%ED%98%95_%EC%A0%84%EC%B2%98%EB%A6%AC.ipynb\" target=\"_parent\"><img src=\"https://colab.research.google.com/assets/colab-badge.svg\" alt=\"Open In Colab\"/></a>"
      ]
    },
    {
      "cell_type": "code",
      "metadata": {
        "colab": {
          "base_uri": "https://localhost:8080/"
        },
        "id": "KoUMcTb0sSmd",
        "outputId": "10c38bec-ced0-49cd-fbec-68a5fec6c96d"
      },
      "source": [
        "import numpy as np\n",
        "import pandas as pd\n",
        "import matplotlib.pyplot as plt\n",
        "import seaborn as sns\n",
        "from google.colab import drive\n",
        "drive.mount('/content/gdrive', force_remount=True)"
      ],
      "execution_count": 61,
      "outputs": [
        {
          "output_type": "stream",
          "text": [
            "Mounted at /content/gdrive\n"
          ],
          "name": "stdout"
        }
      ]
    },
    {
      "cell_type": "code",
      "metadata": {
        "id": "5XPoFs6fsWQB"
      },
      "source": [
        "filepath='/content/gdrive/My Drive/'"
      ],
      "execution_count": 62,
      "outputs": []
    },
    {
      "cell_type": "code",
      "metadata": {
        "colab": {
          "base_uri": "https://localhost:8080/"
        },
        "id": "mTLfLDLcsgUL",
        "outputId": "56ca236a-4a14-4215-b080-5565d02eb6ee"
      },
      "source": [
        "train = pd.read_csv(filepath+'instagram_detection.csv')\n",
        "print(train.shape)"
      ],
      "execution_count": 63,
      "outputs": [
        {
          "output_type": "stream",
          "text": [
            "(10104, 17)\n"
          ],
          "name": "stdout"
        }
      ]
    },
    {
      "cell_type": "code",
      "metadata": {
        "colab": {
          "base_uri": "https://localhost:8080/",
          "height": 204
        },
        "id": "ikhb7DNysnW3",
        "outputId": "cb55349e-e47f-4203-8bd2-88da54216e75"
      },
      "source": [
        "train.head()"
      ],
      "execution_count": 64,
      "outputs": [
        {
          "output_type": "execute_result",
          "data": {
            "text/html": [
              "<div>\n",
              "<style scoped>\n",
              "    .dataframe tbody tr th:only-of-type {\n",
              "        vertical-align: middle;\n",
              "    }\n",
              "\n",
              "    .dataframe tbody tr th {\n",
              "        vertical-align: top;\n",
              "    }\n",
              "\n",
              "    .dataframe thead th {\n",
              "        text-align: right;\n",
              "    }\n",
              "</style>\n",
              "<table border=\"1\" class=\"dataframe\">\n",
              "  <thead>\n",
              "    <tr style=\"text-align: right;\">\n",
              "      <th></th>\n",
              "      <th>#profile_pic</th>\n",
              "      <th>#id_len</th>\n",
              "      <th>#num_in_id</th>\n",
              "      <th>#name_len</th>\n",
              "      <th>#num_in_name</th>\n",
              "      <th>#name==id</th>\n",
              "      <th>#itro_len</th>\n",
              "      <th>#url</th>\n",
              "      <th>#private</th>\n",
              "      <th>#post</th>\n",
              "      <th>#follower_counts</th>\n",
              "      <th>#follows_counts</th>\n",
              "      <th>#highlight</th>\n",
              "      <th>#account_tag</th>\n",
              "      <th>#hash_tag</th>\n",
              "      <th>#professional</th>\n",
              "      <th>#fake</th>\n",
              "    </tr>\n",
              "  </thead>\n",
              "  <tbody>\n",
              "    <tr>\n",
              "      <th>0</th>\n",
              "      <td>1</td>\n",
              "      <td>11</td>\n",
              "      <td>0</td>\n",
              "      <td>31</td>\n",
              "      <td>0</td>\n",
              "      <td>0</td>\n",
              "      <td>117</td>\n",
              "      <td>1</td>\n",
              "      <td>0</td>\n",
              "      <td>123</td>\n",
              "      <td>288</td>\n",
              "      <td>85</td>\n",
              "      <td>1</td>\n",
              "      <td>0</td>\n",
              "      <td>0</td>\n",
              "      <td>1</td>\n",
              "      <td>0</td>\n",
              "    </tr>\n",
              "    <tr>\n",
              "      <th>1</th>\n",
              "      <td>1</td>\n",
              "      <td>11</td>\n",
              "      <td>0</td>\n",
              "      <td>5</td>\n",
              "      <td>0</td>\n",
              "      <td>0</td>\n",
              "      <td>91</td>\n",
              "      <td>1</td>\n",
              "      <td>0</td>\n",
              "      <td>2654</td>\n",
              "      <td>88000</td>\n",
              "      <td>541</td>\n",
              "      <td>1</td>\n",
              "      <td>1</td>\n",
              "      <td>0</td>\n",
              "      <td>1</td>\n",
              "      <td>0</td>\n",
              "    </tr>\n",
              "    <tr>\n",
              "      <th>2</th>\n",
              "      <td>1</td>\n",
              "      <td>8</td>\n",
              "      <td>3</td>\n",
              "      <td>22</td>\n",
              "      <td>3</td>\n",
              "      <td>0</td>\n",
              "      <td>103</td>\n",
              "      <td>1</td>\n",
              "      <td>0</td>\n",
              "      <td>4642</td>\n",
              "      <td>32000</td>\n",
              "      <td>275</td>\n",
              "      <td>1</td>\n",
              "      <td>0</td>\n",
              "      <td>3</td>\n",
              "      <td>0</td>\n",
              "      <td>0</td>\n",
              "    </tr>\n",
              "    <tr>\n",
              "      <th>3</th>\n",
              "      <td>1</td>\n",
              "      <td>10</td>\n",
              "      <td>2</td>\n",
              "      <td>3</td>\n",
              "      <td>0</td>\n",
              "      <td>0</td>\n",
              "      <td>55</td>\n",
              "      <td>1</td>\n",
              "      <td>0</td>\n",
              "      <td>305</td>\n",
              "      <td>653</td>\n",
              "      <td>1368</td>\n",
              "      <td>1</td>\n",
              "      <td>2</td>\n",
              "      <td>0</td>\n",
              "      <td>0</td>\n",
              "      <td>0</td>\n",
              "    </tr>\n",
              "    <tr>\n",
              "      <th>4</th>\n",
              "      <td>0</td>\n",
              "      <td>12</td>\n",
              "      <td>2</td>\n",
              "      <td>12</td>\n",
              "      <td>2</td>\n",
              "      <td>1</td>\n",
              "      <td>0</td>\n",
              "      <td>0</td>\n",
              "      <td>0</td>\n",
              "      <td>0</td>\n",
              "      <td>12</td>\n",
              "      <td>19</td>\n",
              "      <td>0</td>\n",
              "      <td>0</td>\n",
              "      <td>0</td>\n",
              "      <td>0</td>\n",
              "      <td>0</td>\n",
              "    </tr>\n",
              "  </tbody>\n",
              "</table>\n",
              "</div>"
            ],
            "text/plain": [
              "   #profile_pic  #id_len  #num_in_id  ...  #hash_tag  #professional  #fake\n",
              "0             1       11           0  ...          0              1      0\n",
              "1             1       11           0  ...          0              1      0\n",
              "2             1        8           3  ...          3              0      0\n",
              "3             1       10           2  ...          0              0      0\n",
              "4             0       12           2  ...          0              0      0\n",
              "\n",
              "[5 rows x 17 columns]"
            ]
          },
          "metadata": {
            "tags": []
          },
          "execution_count": 64
        }
      ]
    },
    {
      "cell_type": "code",
      "metadata": {
        "colab": {
          "base_uri": "https://localhost:8080/"
        },
        "id": "vdEjb1Hbso3k",
        "outputId": "1b2b035e-39f8-4f02-c680-64ff32fe9a33"
      },
      "source": [
        "train.info()"
      ],
      "execution_count": 65,
      "outputs": [
        {
          "output_type": "stream",
          "text": [
            "<class 'pandas.core.frame.DataFrame'>\n",
            "RangeIndex: 10104 entries, 0 to 10103\n",
            "Data columns (total 17 columns):\n",
            " #   Column            Non-Null Count  Dtype\n",
            "---  ------            --------------  -----\n",
            " 0   #profile_pic      10104 non-null  int64\n",
            " 1   #id_len           10104 non-null  int64\n",
            " 2   #num_in_id        10104 non-null  int64\n",
            " 3   #name_len         10104 non-null  int64\n",
            " 4   #num_in_name      10104 non-null  int64\n",
            " 5   #name==id         10104 non-null  int64\n",
            " 6   #itro_len         10104 non-null  int64\n",
            " 7   #url              10104 non-null  int64\n",
            " 8   #private          10104 non-null  int64\n",
            " 9   #post             10104 non-null  int64\n",
            " 10  #follower_counts  10104 non-null  int64\n",
            " 11  #follows_counts   10104 non-null  int64\n",
            " 12  #highlight        10104 non-null  int64\n",
            " 13  #account_tag      10104 non-null  int64\n",
            " 14  #hash_tag         10104 non-null  int64\n",
            " 15  #professional     10104 non-null  int64\n",
            " 16  #fake             10104 non-null  int64\n",
            "dtypes: int64(17)\n",
            "memory usage: 1.3 MB\n"
          ],
          "name": "stdout"
        }
      ]
    },
    {
      "cell_type": "code",
      "metadata": {
        "id": "QgSIzHOQt9GL"
      },
      "source": [
        "# 프로필 유무, 이름과 아이디가 같은가, url 유무, 비공개 유무, 프로페셔널 계정 유무, 가짜계정 유무는 범주형으로 설정\n",
        "train['#profile_pic'] = train['#profile_pic'].astype('category')\n",
        "train['#name==id'] = train['#name==id'].astype('category')\n",
        "train['#url'] = train['#url'].astype('category')\n",
        "train['#private'] = train['#private'].astype('category')\n",
        "train['#professional'] = train['#professional'].astype('category')\n",
        "train['#fake'] = train['#fake'].astype('category')\n",
        "train['#highlight'] = train['#highlight'].astype('category')"
      ],
      "execution_count": 66,
      "outputs": []
    },
    {
      "cell_type": "code",
      "metadata": {
        "colab": {
          "base_uri": "https://localhost:8080/",
          "height": 204
        },
        "id": "hNfbgiqVujP_",
        "outputId": "0a42e4b7-a270-4af7-a614-e9c3df6c3db0"
      },
      "source": [
        "train.head()"
      ],
      "execution_count": 67,
      "outputs": [
        {
          "output_type": "execute_result",
          "data": {
            "text/html": [
              "<div>\n",
              "<style scoped>\n",
              "    .dataframe tbody tr th:only-of-type {\n",
              "        vertical-align: middle;\n",
              "    }\n",
              "\n",
              "    .dataframe tbody tr th {\n",
              "        vertical-align: top;\n",
              "    }\n",
              "\n",
              "    .dataframe thead th {\n",
              "        text-align: right;\n",
              "    }\n",
              "</style>\n",
              "<table border=\"1\" class=\"dataframe\">\n",
              "  <thead>\n",
              "    <tr style=\"text-align: right;\">\n",
              "      <th></th>\n",
              "      <th>#profile_pic</th>\n",
              "      <th>#id_len</th>\n",
              "      <th>#num_in_id</th>\n",
              "      <th>#name_len</th>\n",
              "      <th>#num_in_name</th>\n",
              "      <th>#name==id</th>\n",
              "      <th>#itro_len</th>\n",
              "      <th>#url</th>\n",
              "      <th>#private</th>\n",
              "      <th>#post</th>\n",
              "      <th>#follower_counts</th>\n",
              "      <th>#follows_counts</th>\n",
              "      <th>#highlight</th>\n",
              "      <th>#account_tag</th>\n",
              "      <th>#hash_tag</th>\n",
              "      <th>#professional</th>\n",
              "      <th>#fake</th>\n",
              "    </tr>\n",
              "  </thead>\n",
              "  <tbody>\n",
              "    <tr>\n",
              "      <th>0</th>\n",
              "      <td>1</td>\n",
              "      <td>11</td>\n",
              "      <td>0</td>\n",
              "      <td>31</td>\n",
              "      <td>0</td>\n",
              "      <td>0</td>\n",
              "      <td>117</td>\n",
              "      <td>1</td>\n",
              "      <td>0</td>\n",
              "      <td>123</td>\n",
              "      <td>288</td>\n",
              "      <td>85</td>\n",
              "      <td>1</td>\n",
              "      <td>0</td>\n",
              "      <td>0</td>\n",
              "      <td>1</td>\n",
              "      <td>0</td>\n",
              "    </tr>\n",
              "    <tr>\n",
              "      <th>1</th>\n",
              "      <td>1</td>\n",
              "      <td>11</td>\n",
              "      <td>0</td>\n",
              "      <td>5</td>\n",
              "      <td>0</td>\n",
              "      <td>0</td>\n",
              "      <td>91</td>\n",
              "      <td>1</td>\n",
              "      <td>0</td>\n",
              "      <td>2654</td>\n",
              "      <td>88000</td>\n",
              "      <td>541</td>\n",
              "      <td>1</td>\n",
              "      <td>1</td>\n",
              "      <td>0</td>\n",
              "      <td>1</td>\n",
              "      <td>0</td>\n",
              "    </tr>\n",
              "    <tr>\n",
              "      <th>2</th>\n",
              "      <td>1</td>\n",
              "      <td>8</td>\n",
              "      <td>3</td>\n",
              "      <td>22</td>\n",
              "      <td>3</td>\n",
              "      <td>0</td>\n",
              "      <td>103</td>\n",
              "      <td>1</td>\n",
              "      <td>0</td>\n",
              "      <td>4642</td>\n",
              "      <td>32000</td>\n",
              "      <td>275</td>\n",
              "      <td>1</td>\n",
              "      <td>0</td>\n",
              "      <td>3</td>\n",
              "      <td>0</td>\n",
              "      <td>0</td>\n",
              "    </tr>\n",
              "    <tr>\n",
              "      <th>3</th>\n",
              "      <td>1</td>\n",
              "      <td>10</td>\n",
              "      <td>2</td>\n",
              "      <td>3</td>\n",
              "      <td>0</td>\n",
              "      <td>0</td>\n",
              "      <td>55</td>\n",
              "      <td>1</td>\n",
              "      <td>0</td>\n",
              "      <td>305</td>\n",
              "      <td>653</td>\n",
              "      <td>1368</td>\n",
              "      <td>1</td>\n",
              "      <td>2</td>\n",
              "      <td>0</td>\n",
              "      <td>0</td>\n",
              "      <td>0</td>\n",
              "    </tr>\n",
              "    <tr>\n",
              "      <th>4</th>\n",
              "      <td>0</td>\n",
              "      <td>12</td>\n",
              "      <td>2</td>\n",
              "      <td>12</td>\n",
              "      <td>2</td>\n",
              "      <td>1</td>\n",
              "      <td>0</td>\n",
              "      <td>0</td>\n",
              "      <td>0</td>\n",
              "      <td>0</td>\n",
              "      <td>12</td>\n",
              "      <td>19</td>\n",
              "      <td>0</td>\n",
              "      <td>0</td>\n",
              "      <td>0</td>\n",
              "      <td>0</td>\n",
              "      <td>0</td>\n",
              "    </tr>\n",
              "  </tbody>\n",
              "</table>\n",
              "</div>"
            ],
            "text/plain": [
              "  #profile_pic  #id_len  #num_in_id  ...  #hash_tag  #professional #fake\n",
              "0            1       11           0  ...          0              1     0\n",
              "1            1       11           0  ...          0              1     0\n",
              "2            1        8           3  ...          3              0     0\n",
              "3            1       10           2  ...          0              0     0\n",
              "4            0       12           2  ...          0              0     0\n",
              "\n",
              "[5 rows x 17 columns]"
            ]
          },
          "metadata": {
            "tags": []
          },
          "execution_count": 67
        }
      ]
    },
    {
      "cell_type": "code",
      "metadata": {
        "colab": {
          "base_uri": "https://localhost:8080/"
        },
        "id": "dEqJUHHoxrPS",
        "outputId": "c4551b83-920a-43dd-af53-6bb1c5ed6304"
      },
      "source": [
        "train.info()"
      ],
      "execution_count": 68,
      "outputs": [
        {
          "output_type": "stream",
          "text": [
            "<class 'pandas.core.frame.DataFrame'>\n",
            "RangeIndex: 10104 entries, 0 to 10103\n",
            "Data columns (total 17 columns):\n",
            " #   Column            Non-Null Count  Dtype   \n",
            "---  ------            --------------  -----   \n",
            " 0   #profile_pic      10104 non-null  category\n",
            " 1   #id_len           10104 non-null  int64   \n",
            " 2   #num_in_id        10104 non-null  int64   \n",
            " 3   #name_len         10104 non-null  int64   \n",
            " 4   #num_in_name      10104 non-null  int64   \n",
            " 5   #name==id         10104 non-null  category\n",
            " 6   #itro_len         10104 non-null  int64   \n",
            " 7   #url              10104 non-null  category\n",
            " 8   #private          10104 non-null  category\n",
            " 9   #post             10104 non-null  int64   \n",
            " 10  #follower_counts  10104 non-null  int64   \n",
            " 11  #follows_counts   10104 non-null  int64   \n",
            " 12  #highlight        10104 non-null  category\n",
            " 13  #account_tag      10104 non-null  int64   \n",
            " 14  #hash_tag         10104 non-null  int64   \n",
            " 15  #professional     10104 non-null  category\n",
            " 16  #fake             10104 non-null  category\n",
            "dtypes: category(7), int64(10)\n",
            "memory usage: 859.2 KB\n"
          ],
          "name": "stdout"
        }
      ]
    },
    {
      "cell_type": "code",
      "metadata": {
        "colab": {
          "base_uri": "https://localhost:8080/"
        },
        "id": "-24DSFfjxt0Z",
        "outputId": "8fe41b15-3170-42c2-b882-3edd8d5712b7"
      },
      "source": [
        "train.nunique() # 혹시 0과 1 만 들어있어야 할 곳에 다른 것이 들어 갔는지 확인"
      ],
      "execution_count": 69,
      "outputs": [
        {
          "output_type": "execute_result",
          "data": {
            "text/plain": [
              "#profile_pic           2\n",
              "#id_len               31\n",
              "#num_in_id            15\n",
              "#name_len             39\n",
              "#num_in_name          15\n",
              "#name==id              3\n",
              "#itro_len            167\n",
              "#url                   2\n",
              "#private               2\n",
              "#post                747\n",
              "#follower_counts    1891\n",
              "#follows_counts     2836\n",
              "#highlight             2\n",
              "#account_tag          11\n",
              "#hash_tag             21\n",
              "#professional          2\n",
              "#fake                  2\n",
              "dtype: int64"
            ]
          },
          "metadata": {
            "tags": []
          },
          "execution_count": 69
        }
      ]
    },
    {
      "cell_type": "code",
      "metadata": {
        "colab": {
          "base_uri": "https://localhost:8080/",
          "height": 359
        },
        "id": "w2t-fRdYD3Rr",
        "outputId": "b6308e73-56c6-4cac-e1c0-aa5f27bdb69c"
      },
      "source": [
        "train.head(10)"
      ],
      "execution_count": 70,
      "outputs": [
        {
          "output_type": "execute_result",
          "data": {
            "text/html": [
              "<div>\n",
              "<style scoped>\n",
              "    .dataframe tbody tr th:only-of-type {\n",
              "        vertical-align: middle;\n",
              "    }\n",
              "\n",
              "    .dataframe tbody tr th {\n",
              "        vertical-align: top;\n",
              "    }\n",
              "\n",
              "    .dataframe thead th {\n",
              "        text-align: right;\n",
              "    }\n",
              "</style>\n",
              "<table border=\"1\" class=\"dataframe\">\n",
              "  <thead>\n",
              "    <tr style=\"text-align: right;\">\n",
              "      <th></th>\n",
              "      <th>#profile_pic</th>\n",
              "      <th>#id_len</th>\n",
              "      <th>#num_in_id</th>\n",
              "      <th>#name_len</th>\n",
              "      <th>#num_in_name</th>\n",
              "      <th>#name==id</th>\n",
              "      <th>#itro_len</th>\n",
              "      <th>#url</th>\n",
              "      <th>#private</th>\n",
              "      <th>#post</th>\n",
              "      <th>#follower_counts</th>\n",
              "      <th>#follows_counts</th>\n",
              "      <th>#highlight</th>\n",
              "      <th>#account_tag</th>\n",
              "      <th>#hash_tag</th>\n",
              "      <th>#professional</th>\n",
              "      <th>#fake</th>\n",
              "    </tr>\n",
              "  </thead>\n",
              "  <tbody>\n",
              "    <tr>\n",
              "      <th>0</th>\n",
              "      <td>1</td>\n",
              "      <td>11</td>\n",
              "      <td>0</td>\n",
              "      <td>31</td>\n",
              "      <td>0</td>\n",
              "      <td>0</td>\n",
              "      <td>117</td>\n",
              "      <td>1</td>\n",
              "      <td>0</td>\n",
              "      <td>123</td>\n",
              "      <td>288</td>\n",
              "      <td>85</td>\n",
              "      <td>1</td>\n",
              "      <td>0</td>\n",
              "      <td>0</td>\n",
              "      <td>1</td>\n",
              "      <td>0</td>\n",
              "    </tr>\n",
              "    <tr>\n",
              "      <th>1</th>\n",
              "      <td>1</td>\n",
              "      <td>11</td>\n",
              "      <td>0</td>\n",
              "      <td>5</td>\n",
              "      <td>0</td>\n",
              "      <td>0</td>\n",
              "      <td>91</td>\n",
              "      <td>1</td>\n",
              "      <td>0</td>\n",
              "      <td>2654</td>\n",
              "      <td>88000</td>\n",
              "      <td>541</td>\n",
              "      <td>1</td>\n",
              "      <td>1</td>\n",
              "      <td>0</td>\n",
              "      <td>1</td>\n",
              "      <td>0</td>\n",
              "    </tr>\n",
              "    <tr>\n",
              "      <th>2</th>\n",
              "      <td>1</td>\n",
              "      <td>8</td>\n",
              "      <td>3</td>\n",
              "      <td>22</td>\n",
              "      <td>3</td>\n",
              "      <td>0</td>\n",
              "      <td>103</td>\n",
              "      <td>1</td>\n",
              "      <td>0</td>\n",
              "      <td>4642</td>\n",
              "      <td>32000</td>\n",
              "      <td>275</td>\n",
              "      <td>1</td>\n",
              "      <td>0</td>\n",
              "      <td>3</td>\n",
              "      <td>0</td>\n",
              "      <td>0</td>\n",
              "    </tr>\n",
              "    <tr>\n",
              "      <th>3</th>\n",
              "      <td>1</td>\n",
              "      <td>10</td>\n",
              "      <td>2</td>\n",
              "      <td>3</td>\n",
              "      <td>0</td>\n",
              "      <td>0</td>\n",
              "      <td>55</td>\n",
              "      <td>1</td>\n",
              "      <td>0</td>\n",
              "      <td>305</td>\n",
              "      <td>653</td>\n",
              "      <td>1368</td>\n",
              "      <td>1</td>\n",
              "      <td>2</td>\n",
              "      <td>0</td>\n",
              "      <td>0</td>\n",
              "      <td>0</td>\n",
              "    </tr>\n",
              "    <tr>\n",
              "      <th>4</th>\n",
              "      <td>0</td>\n",
              "      <td>12</td>\n",
              "      <td>2</td>\n",
              "      <td>12</td>\n",
              "      <td>2</td>\n",
              "      <td>1</td>\n",
              "      <td>0</td>\n",
              "      <td>0</td>\n",
              "      <td>0</td>\n",
              "      <td>0</td>\n",
              "      <td>12</td>\n",
              "      <td>19</td>\n",
              "      <td>0</td>\n",
              "      <td>0</td>\n",
              "      <td>0</td>\n",
              "      <td>0</td>\n",
              "      <td>0</td>\n",
              "    </tr>\n",
              "    <tr>\n",
              "      <th>5</th>\n",
              "      <td>1</td>\n",
              "      <td>11</td>\n",
              "      <td>0</td>\n",
              "      <td>11</td>\n",
              "      <td>0</td>\n",
              "      <td>1</td>\n",
              "      <td>0</td>\n",
              "      <td>0</td>\n",
              "      <td>0</td>\n",
              "      <td>15</td>\n",
              "      <td>36</td>\n",
              "      <td>51</td>\n",
              "      <td>1</td>\n",
              "      <td>0</td>\n",
              "      <td>0</td>\n",
              "      <td>0</td>\n",
              "      <td>0</td>\n",
              "    </tr>\n",
              "    <tr>\n",
              "      <th>6</th>\n",
              "      <td>1</td>\n",
              "      <td>11</td>\n",
              "      <td>0</td>\n",
              "      <td>11</td>\n",
              "      <td>0</td>\n",
              "      <td>1</td>\n",
              "      <td>0</td>\n",
              "      <td>0</td>\n",
              "      <td>0</td>\n",
              "      <td>21</td>\n",
              "      <td>216</td>\n",
              "      <td>217</td>\n",
              "      <td>1</td>\n",
              "      <td>0</td>\n",
              "      <td>0</td>\n",
              "      <td>0</td>\n",
              "      <td>0</td>\n",
              "    </tr>\n",
              "    <tr>\n",
              "      <th>7</th>\n",
              "      <td>1</td>\n",
              "      <td>9</td>\n",
              "      <td>0</td>\n",
              "      <td>3</td>\n",
              "      <td>0</td>\n",
              "      <td>0</td>\n",
              "      <td>0</td>\n",
              "      <td>0</td>\n",
              "      <td>0</td>\n",
              "      <td>1</td>\n",
              "      <td>18</td>\n",
              "      <td>20</td>\n",
              "      <td>0</td>\n",
              "      <td>0</td>\n",
              "      <td>0</td>\n",
              "      <td>0</td>\n",
              "      <td>0</td>\n",
              "    </tr>\n",
              "    <tr>\n",
              "      <th>8</th>\n",
              "      <td>1</td>\n",
              "      <td>9</td>\n",
              "      <td>0</td>\n",
              "      <td>7</td>\n",
              "      <td>0</td>\n",
              "      <td>0</td>\n",
              "      <td>33</td>\n",
              "      <td>0</td>\n",
              "      <td>0</td>\n",
              "      <td>6</td>\n",
              "      <td>23</td>\n",
              "      <td>26</td>\n",
              "      <td>0</td>\n",
              "      <td>0</td>\n",
              "      <td>0</td>\n",
              "      <td>0</td>\n",
              "      <td>0</td>\n",
              "    </tr>\n",
              "    <tr>\n",
              "      <th>9</th>\n",
              "      <td>1</td>\n",
              "      <td>9</td>\n",
              "      <td>0</td>\n",
              "      <td>1</td>\n",
              "      <td>0</td>\n",
              "      <td>0</td>\n",
              "      <td>0</td>\n",
              "      <td>0</td>\n",
              "      <td>0</td>\n",
              "      <td>0</td>\n",
              "      <td>20</td>\n",
              "      <td>22</td>\n",
              "      <td>0</td>\n",
              "      <td>0</td>\n",
              "      <td>0</td>\n",
              "      <td>0</td>\n",
              "      <td>0</td>\n",
              "    </tr>\n",
              "  </tbody>\n",
              "</table>\n",
              "</div>"
            ],
            "text/plain": [
              "  #profile_pic  #id_len  #num_in_id  ...  #hash_tag  #professional #fake\n",
              "0            1       11           0  ...          0              1     0\n",
              "1            1       11           0  ...          0              1     0\n",
              "2            1        8           3  ...          3              0     0\n",
              "3            1       10           2  ...          0              0     0\n",
              "4            0       12           2  ...          0              0     0\n",
              "5            1       11           0  ...          0              0     0\n",
              "6            1       11           0  ...          0              0     0\n",
              "7            1        9           0  ...          0              0     0\n",
              "8            1        9           0  ...          0              0     0\n",
              "9            1        9           0  ...          0              0     0\n",
              "\n",
              "[10 rows x 17 columns]"
            ]
          },
          "metadata": {
            "tags": []
          },
          "execution_count": 70
        }
      ]
    },
    {
      "cell_type": "code",
      "metadata": {
        "id": "jDOsynV_D5X0"
      },
      "source": [
        "# train 셋에 있는 fake는 y에 저장\n",
        "y_train = train['#fake']\n",
        "X_train = train.drop('#fake',axis=1)"
      ],
      "execution_count": 71,
      "outputs": []
    },
    {
      "cell_type": "code",
      "metadata": {
        "colab": {
          "base_uri": "https://localhost:8080/"
        },
        "id": "fbXB-tRsYm78",
        "outputId": "ba9864ab-5ea6-46a2-f94f-5de7837be887"
      },
      "source": [
        "y_train.head()"
      ],
      "execution_count": 72,
      "outputs": [
        {
          "output_type": "execute_result",
          "data": {
            "text/plain": [
              "0    0\n",
              "1    0\n",
              "2    0\n",
              "3    0\n",
              "4    0\n",
              "Name: #fake, dtype: category\n",
              "Categories (2, int64): [0, 1]"
            ]
          },
          "metadata": {
            "tags": []
          },
          "execution_count": 72
        }
      ]
    },
    {
      "cell_type": "code",
      "metadata": {
        "colab": {
          "base_uri": "https://localhost:8080/",
          "height": 204
        },
        "id": "B_R26JXEYpmp",
        "outputId": "96a74689-c69d-4c85-95d6-5dbd23ce95f5"
      },
      "source": [
        "X_train.head()"
      ],
      "execution_count": 73,
      "outputs": [
        {
          "output_type": "execute_result",
          "data": {
            "text/html": [
              "<div>\n",
              "<style scoped>\n",
              "    .dataframe tbody tr th:only-of-type {\n",
              "        vertical-align: middle;\n",
              "    }\n",
              "\n",
              "    .dataframe tbody tr th {\n",
              "        vertical-align: top;\n",
              "    }\n",
              "\n",
              "    .dataframe thead th {\n",
              "        text-align: right;\n",
              "    }\n",
              "</style>\n",
              "<table border=\"1\" class=\"dataframe\">\n",
              "  <thead>\n",
              "    <tr style=\"text-align: right;\">\n",
              "      <th></th>\n",
              "      <th>#profile_pic</th>\n",
              "      <th>#id_len</th>\n",
              "      <th>#num_in_id</th>\n",
              "      <th>#name_len</th>\n",
              "      <th>#num_in_name</th>\n",
              "      <th>#name==id</th>\n",
              "      <th>#itro_len</th>\n",
              "      <th>#url</th>\n",
              "      <th>#private</th>\n",
              "      <th>#post</th>\n",
              "      <th>#follower_counts</th>\n",
              "      <th>#follows_counts</th>\n",
              "      <th>#highlight</th>\n",
              "      <th>#account_tag</th>\n",
              "      <th>#hash_tag</th>\n",
              "      <th>#professional</th>\n",
              "    </tr>\n",
              "  </thead>\n",
              "  <tbody>\n",
              "    <tr>\n",
              "      <th>0</th>\n",
              "      <td>1</td>\n",
              "      <td>11</td>\n",
              "      <td>0</td>\n",
              "      <td>31</td>\n",
              "      <td>0</td>\n",
              "      <td>0</td>\n",
              "      <td>117</td>\n",
              "      <td>1</td>\n",
              "      <td>0</td>\n",
              "      <td>123</td>\n",
              "      <td>288</td>\n",
              "      <td>85</td>\n",
              "      <td>1</td>\n",
              "      <td>0</td>\n",
              "      <td>0</td>\n",
              "      <td>1</td>\n",
              "    </tr>\n",
              "    <tr>\n",
              "      <th>1</th>\n",
              "      <td>1</td>\n",
              "      <td>11</td>\n",
              "      <td>0</td>\n",
              "      <td>5</td>\n",
              "      <td>0</td>\n",
              "      <td>0</td>\n",
              "      <td>91</td>\n",
              "      <td>1</td>\n",
              "      <td>0</td>\n",
              "      <td>2654</td>\n",
              "      <td>88000</td>\n",
              "      <td>541</td>\n",
              "      <td>1</td>\n",
              "      <td>1</td>\n",
              "      <td>0</td>\n",
              "      <td>1</td>\n",
              "    </tr>\n",
              "    <tr>\n",
              "      <th>2</th>\n",
              "      <td>1</td>\n",
              "      <td>8</td>\n",
              "      <td>3</td>\n",
              "      <td>22</td>\n",
              "      <td>3</td>\n",
              "      <td>0</td>\n",
              "      <td>103</td>\n",
              "      <td>1</td>\n",
              "      <td>0</td>\n",
              "      <td>4642</td>\n",
              "      <td>32000</td>\n",
              "      <td>275</td>\n",
              "      <td>1</td>\n",
              "      <td>0</td>\n",
              "      <td>3</td>\n",
              "      <td>0</td>\n",
              "    </tr>\n",
              "    <tr>\n",
              "      <th>3</th>\n",
              "      <td>1</td>\n",
              "      <td>10</td>\n",
              "      <td>2</td>\n",
              "      <td>3</td>\n",
              "      <td>0</td>\n",
              "      <td>0</td>\n",
              "      <td>55</td>\n",
              "      <td>1</td>\n",
              "      <td>0</td>\n",
              "      <td>305</td>\n",
              "      <td>653</td>\n",
              "      <td>1368</td>\n",
              "      <td>1</td>\n",
              "      <td>2</td>\n",
              "      <td>0</td>\n",
              "      <td>0</td>\n",
              "    </tr>\n",
              "    <tr>\n",
              "      <th>4</th>\n",
              "      <td>0</td>\n",
              "      <td>12</td>\n",
              "      <td>2</td>\n",
              "      <td>12</td>\n",
              "      <td>2</td>\n",
              "      <td>1</td>\n",
              "      <td>0</td>\n",
              "      <td>0</td>\n",
              "      <td>0</td>\n",
              "      <td>0</td>\n",
              "      <td>12</td>\n",
              "      <td>19</td>\n",
              "      <td>0</td>\n",
              "      <td>0</td>\n",
              "      <td>0</td>\n",
              "      <td>0</td>\n",
              "    </tr>\n",
              "  </tbody>\n",
              "</table>\n",
              "</div>"
            ],
            "text/plain": [
              "  #profile_pic  #id_len  #num_in_id  ...  #account_tag  #hash_tag #professional\n",
              "0            1       11           0  ...             0          0             1\n",
              "1            1       11           0  ...             1          0             1\n",
              "2            1        8           3  ...             0          3             0\n",
              "3            1       10           2  ...             2          0             0\n",
              "4            0       12           2  ...             0          0             0\n",
              "\n",
              "[5 rows x 16 columns]"
            ]
          },
          "metadata": {
            "tags": []
          },
          "execution_count": 73
        }
      ]
    },
    {
      "cell_type": "code",
      "metadata": {
        "colab": {
          "base_uri": "https://localhost:8080/",
          "height": 376
        },
        "id": "jkSWWtkKH39I",
        "outputId": "7d26958a-e156-406a-b4ae-408d89f7f70c"
      },
      "source": [
        "data_corr = X_train.corr(method='pearson')\n",
        "axes = sns.heatmap(data_corr, vmin=-1, vmax=1, cmap='BrBG')\n",
        "axes.set_title('Correlation Heatmap Between Features')"
      ],
      "execution_count": 74,
      "outputs": [
        {
          "output_type": "execute_result",
          "data": {
            "text/plain": [
              "Text(0.5, 1.0, 'Correlation Heatmap Between Features')"
            ]
          },
          "metadata": {
            "tags": []
          },
          "execution_count": 74
        },
        {
          "output_type": "display_data",
          "data": {
            "image/png": "[encoded data removed]",
            "text/plain": [
              "<Figure size 432x288 with 2 Axes>"
            ]
          },
          "metadata": {
            "tags": [],
            "needs_background": "light"
          }
        }
      ]
    },
    {
      "cell_type": "code",
      "metadata": {
        "colab": {
          "base_uri": "https://localhost:8080/"
        },
        "id": "EywWgcY-ILmb",
        "outputId": "96140bb4-8328-4842-ea30-82205d0d0fc9"
      },
      "source": [
        "# 진짜 계정과 가짜 계정이 총 몇 개씩 있는지 확인 (False = 진짜 계정 , True = 가짜 계정)\n",
        "unique, freq = np.unique(y_train, return_counts=True)\n",
        "for i, j in zip(unique, freq):\n",
        "  print('Label : ',i, ', Frequency : ', j)"
      ],
      "execution_count": 75,
      "outputs": [
        {
          "output_type": "stream",
          "text": [
            "Label :  0 , Frequency :  5052\n",
            "Label :  1 , Frequency :  5052\n"
          ],
          "name": "stdout"
        }
      ]
    },
    {
      "cell_type": "code",
      "metadata": {
        "colab": {
          "base_uri": "https://localhost:8080/"
        },
        "id": "N4hyyTV2J3xL",
        "outputId": "67daa81f-df9e-4f66-9a08-89398d03f240"
      },
      "source": [
        "# train과 validation set은 8:2로 나눔\n",
        "from sklearn.model_selection import train_test_split\n",
        "X_train,X_valid, y_train, y_valid = train_test_split(X_train,y_train, test_size=0.2, random_state=0, shuffle=True)\n",
        "\n",
        "print('X_train = ', X_train.shape)\n",
        "print('X_valid = ', X_valid.shape)\n",
        "print('y_train = ', y_train.shape)\n",
        "print('y_valid = ', y_valid.shape)"
      ],
      "execution_count": 76,
      "outputs": [
        {
          "output_type": "stream",
          "text": [
            "X_train =  (8083, 16)\n",
            "X_valid =  (2021, 16)\n",
            "y_train =  (8083,)\n",
            "y_valid =  (2021,)\n"
          ],
          "name": "stdout"
        }
      ]
    },
    {
      "cell_type": "code",
      "metadata": {
        "colab": {
          "base_uri": "https://localhost:8080/"
        },
        "id": "ZBuYEilfysmu",
        "outputId": "bf93061b-99f3-4dd2-c24d-1bdfabbd579a"
      },
      "source": [
        "from sklearn.ensemble import RandomForestClassifier\n",
        "rf= RandomForestClassifier()\n",
        "rf.fit(X_train, y_train)\n",
        "train_score = rf.score(X_train, y_train)\n",
        "valid_score = rf.score(X_valid, y_valid)\n",
        "print('RandomForest Train_Accuracy : {}'.format(train_score))\n",
        "print('RandomForest Valid_Accuracy : {}'.format(valid_score))\n",
        "print()\n",
        "\n",
        "from sklearn.ensemble import GradientBoostingClassifier\n",
        "gb= GradientBoostingClassifier()\n",
        "gb.fit(X_train, y_train)\n",
        "train_score = gb.score(X_train, y_train)\n",
        "valid_score = gb.score(X_valid, y_valid)\n",
        "print('GradientBoosting Train_Accuracy : {}'.format(train_score))\n",
        "print('GradientBoosting Valid_Accuracy : {}'.format(valid_score))\n",
        "print()\n",
        "\n",
        "from sklearn.linear_model import LogisticRegression\n",
        "lg = LogisticRegression(penalty = 'l2',solver='newton-cg',random_state=0, max_iter=600)\n",
        "lg.fit(X_train,y_train)\n",
        "train_score = lg.score(X_train,y_train)\n",
        "valid_score = lg.score(X_valid,y_valid)\n",
        "print('Logistic Train_Accuracy : {}'.format(train_score))\n",
        "print('Logistic Valid_Accuracy : {}'.format(valid_score))\n",
        "print()\n",
        "from sklearn.tree import DecisionTreeClassifier\n",
        "dt = DecisionTreeClassifier()\n",
        "dt.fit(X_train,y_train)\n",
        "train_score = dt.score(X_train,y_train)\n",
        "valid_score=dt.score(X_valid,y_valid)\n",
        "print('DecisionTree Train_Accuracy : {}'.format(train_score))\n",
        "print('DecisionTree Valid_Accuracy : {}'.format(valid_score))\n"
      ],
      "execution_count": 77,
      "outputs": [
        {
          "output_type": "stream",
          "text": [
            "RandomForest Train_Accuracy : 1.0\n",
            "RandomForest Valid_Accuracy : 0.9703117268678871\n",
            "\n",
            "GradientBoosting Train_Accuracy : 0.9777310404552765\n",
            "GradientBoosting Valid_Accuracy : 0.9703117268678871\n",
            "\n",
            "Logistic Train_Accuracy : 0.8693554373376222\n",
            "Logistic Valid_Accuracy : 0.8703612073231074\n",
            "\n",
            "DecisionTree Train_Accuracy : 1.0\n",
            "DecisionTree Valid_Accuracy : 0.9539831766452251\n"
          ],
          "name": "stdout"
        }
      ]
    },
    {
      "cell_type": "code",
      "metadata": {
        "id": "2fZJFF4u9M9q"
      },
      "source": [
        "#XGBoost 시도해보니, category는 안받아줌 -> bool으로 시도해봄.\n",
        "train['#profile_pic'] = train['#profile_pic'].astype(bool)\n",
        "train['#name==id'] = train['#name==id'].astype(bool)\n",
        "train['#url'] = train['#url'].astype(bool)\n",
        "train['#private'] = train['#private'].astype(bool)\n",
        "train['#professional'] = train['#professional'].astype(bool)\n",
        "train['#fake'] = train['#fake'].astype(bool)\n",
        "train['#highlight'] = train['#highlight'].astype(bool)"
      ],
      "execution_count": 78,
      "outputs": []
    },
    {
      "cell_type": "code",
      "metadata": {
        "colab": {
          "base_uri": "https://localhost:8080/",
          "height": 376
        },
        "id": "iZI--PODwpGd",
        "outputId": "f36cd34a-3f1f-46e1-84f1-69cab849a929"
      },
      "source": [
        "data_corr = X_train.corr(method='pearson')\n",
        "axes = sns.heatmap(data_corr, vmin=-1, vmax=1, cmap='BrBG')\n",
        "axes.set_title('Correlation Heatmap Between Features')"
      ],
      "execution_count": 79,
      "outputs": [
        {
          "output_type": "execute_result",
          "data": {
            "text/plain": [
              "Text(0.5, 1.0, 'Correlation Heatmap Between Features')"
            ]
          },
          "metadata": {
            "tags": []
          },
          "execution_count": 79
        },
        {
          "output_type": "display_data",
          "data": {
            "image/png": "[encoded data removed]",
            "text/plain": [
              "<Figure size 432x288 with 2 Axes>"
            ]
          },
          "metadata": {
            "tags": [],
            "needs_background": "light"
          }
        }
      ]
    },
    {
      "cell_type": "code",
      "metadata": {
        "colab": {
          "base_uri": "https://localhost:8080/"
        },
        "id": "01we_MKgECQy",
        "outputId": "0f001672-8db2-4d6c-ca9d-849ed25abcc5"
      },
      "source": [
        "train.info()"
      ],
      "execution_count": 80,
      "outputs": [
        {
          "output_type": "stream",
          "text": [
            "<class 'pandas.core.frame.DataFrame'>\n",
            "RangeIndex: 10104 entries, 0 to 10103\n",
            "Data columns (total 17 columns):\n",
            " #   Column            Non-Null Count  Dtype\n",
            "---  ------            --------------  -----\n",
            " 0   #profile_pic      10104 non-null  bool \n",
            " 1   #id_len           10104 non-null  int64\n",
            " 2   #num_in_id        10104 non-null  int64\n",
            " 3   #name_len         10104 non-null  int64\n",
            " 4   #num_in_name      10104 non-null  int64\n",
            " 5   #name==id         10104 non-null  bool \n",
            " 6   #itro_len         10104 non-null  int64\n",
            " 7   #url              10104 non-null  bool \n",
            " 8   #private          10104 non-null  bool \n",
            " 9   #post             10104 non-null  int64\n",
            " 10  #follower_counts  10104 non-null  int64\n",
            " 11  #follows_counts   10104 non-null  int64\n",
            " 12  #highlight        10104 non-null  bool \n",
            " 13  #account_tag      10104 non-null  int64\n",
            " 14  #hash_tag         10104 non-null  int64\n",
            " 15  #professional     10104 non-null  bool \n",
            " 16  #fake             10104 non-null  bool \n",
            "dtypes: bool(7), int64(10)\n",
            "memory usage: 858.6 KB\n"
          ],
          "name": "stdout"
        }
      ]
    },
    {
      "cell_type": "code",
      "metadata": {
        "id": "adEmra4UAZva"
      },
      "source": [
        "y_train = train['#fake']\n",
        "X_train = train.drop('#fake',axis=1)"
      ],
      "execution_count": 81,
      "outputs": []
    },
    {
      "cell_type": "code",
      "metadata": {
        "colab": {
          "base_uri": "https://localhost:8080/"
        },
        "id": "BErpv9g0ATft",
        "outputId": "ccfcceb6-9c64-4148-be44-5a355b937d19"
      },
      "source": [
        "X_train,X_valid, y_train, y_valid = train_test_split(X_train,y_train, test_size=0.2, random_state=0, shuffle=True)\n",
        "\n",
        "print('X_train = ', X_train.shape)\n",
        "print('X_valid = ', X_valid.shape)\n",
        "print('y_train = ', y_train.shape)\n",
        "print('y_valid = ', y_valid.shape)"
      ],
      "execution_count": 82,
      "outputs": [
        {
          "output_type": "stream",
          "text": [
            "X_train =  (8083, 16)\n",
            "X_valid =  (2021, 16)\n",
            "y_train =  (8083,)\n",
            "y_valid =  (2021,)\n"
          ],
          "name": "stdout"
        }
      ]
    },
    {
      "cell_type": "code",
      "metadata": {
        "colab": {
          "base_uri": "https://localhost:8080/"
        },
        "id": "vmtXsTjoaAaA",
        "outputId": "fa2da418-1806-4bba-f17e-7f4c9408a743"
      },
      "source": [
        "import xgboost as xgb\n",
        "xgb_model = xgb.XGBClassifier()\n",
        "xgb_model.fit(X_train,y_train)\n",
        "train_score = xgb_model.score(X_train,y_train)\n",
        "valid_score = xgb_model.score(X_valid,y_valid)\n",
        "print('XGBoost Train_Accuracy : {}'.format(train_score))\n",
        "print('XGBoost Valid_Accuracy : {}'.format(valid_score))\n",
        "print()\n",
        "\n",
        "import lightgbm as lgb\n",
        "lgb_model = lgb.LGBMClassifier()\n",
        "lgb_model.fit(X_train, y_train)\n",
        "train_score =lgb_model.score(X_train,y_train)\n",
        "valid_score= lgb_model.score(X_valid,y_valid)\n",
        "print('LGBM Train_Accuracy : {}'.format(train_score))\n",
        "print('LGBM Valid_Accuracy : {}'.format(valid_score))\n",
        "print()\n",
        "from sklearn.ensemble import RandomForestClassifier\n",
        "rf= RandomForestClassifier()\n",
        "rf.fit(X_train, y_train)\n",
        "train_score = rf.score(X_train, y_train)\n",
        "valid_score = rf.score(X_valid, y_valid)\n",
        "print('RandomForest Train_Accuracy : {}'.format(train_score))\n",
        "print('RandomForest Valid_Accuracy : {}'.format(valid_score))"
      ],
      "execution_count": 83,
      "outputs": [
        {
          "output_type": "stream",
          "text": [
            "XGBoost Train_Accuracy : 0.9764938760361253\n",
            "XGBoost Valid_Accuracy : 0.9703117268678871\n",
            "\n",
            "LGBM Train_Accuracy : 0.9978968204874428\n",
            "LGBM Valid_Accuracy : 0.9722909450766947\n",
            "\n",
            "RandomForest Train_Accuracy : 1.0\n",
            "RandomForest Valid_Accuracy : 0.9678377041068777\n"
          ],
          "name": "stdout"
        }
      ]
    },
    {
      "cell_type": "markdown",
      "metadata": {
        "id": "9PTxnNHmGEWH"
      },
      "source": [
        "# int형으로만 해놓고 돌리면?"
      ]
    },
    {
      "cell_type": "code",
      "metadata": {
        "colab": {
          "base_uri": "https://localhost:8080/"
        },
        "id": "PQiHWDc6FFdN",
        "outputId": "f5540e04-4d8a-4a18-8ab5-5cf8b47b8512"
      },
      "source": [
        "train= pd.read_csv(filepath+'instagram_detection.csv')  # int형으로 그냥 두고 돌릴 때 변화가 있는지 확인\n",
        "print(train.shape)"
      ],
      "execution_count": 84,
      "outputs": [
        {
          "output_type": "stream",
          "text": [
            "(10104, 17)\n"
          ],
          "name": "stdout"
        }
      ]
    },
    {
      "cell_type": "code",
      "metadata": {
        "colab": {
          "base_uri": "https://localhost:8080/"
        },
        "id": "pYD4OJTsFwF1",
        "outputId": "97dbba94-7aad-4698-c889-f14cd73ab82b"
      },
      "source": [
        "train.info()"
      ],
      "execution_count": 85,
      "outputs": [
        {
          "output_type": "stream",
          "text": [
            "<class 'pandas.core.frame.DataFrame'>\n",
            "RangeIndex: 10104 entries, 0 to 10103\n",
            "Data columns (total 17 columns):\n",
            " #   Column            Non-Null Count  Dtype\n",
            "---  ------            --------------  -----\n",
            " 0   #profile_pic      10104 non-null  int64\n",
            " 1   #id_len           10104 non-null  int64\n",
            " 2   #num_in_id        10104 non-null  int64\n",
            " 3   #name_len         10104 non-null  int64\n",
            " 4   #num_in_name      10104 non-null  int64\n",
            " 5   #name==id         10104 non-null  int64\n",
            " 6   #itro_len         10104 non-null  int64\n",
            " 7   #url              10104 non-null  int64\n",
            " 8   #private          10104 non-null  int64\n",
            " 9   #post             10104 non-null  int64\n",
            " 10  #follower_counts  10104 non-null  int64\n",
            " 11  #follows_counts   10104 non-null  int64\n",
            " 12  #highlight        10104 non-null  int64\n",
            " 13  #account_tag      10104 non-null  int64\n",
            " 14  #hash_tag         10104 non-null  int64\n",
            " 15  #professional     10104 non-null  int64\n",
            " 16  #fake             10104 non-null  int64\n",
            "dtypes: int64(17)\n",
            "memory usage: 1.3 MB\n"
          ],
          "name": "stdout"
        }
      ]
    },
    {
      "cell_type": "code",
      "metadata": {
        "colab": {
          "base_uri": "https://localhost:8080/",
          "height": 376
        },
        "id": "Tn_koVjLAhgm",
        "outputId": "b4049e51-3ef8-453a-bfdc-f3a9f2b0132b"
      },
      "source": [
        "data_corr = train.corr(method='pearson')\n",
        "axes = sns.heatmap(data_corr, vmin=-1, vmax=1, cmap='BrBG')\n",
        "axes.set_title('Correlation Heatmap Between Features')"
      ],
      "execution_count": 86,
      "outputs": [
        {
          "output_type": "execute_result",
          "data": {
            "text/plain": [
              "Text(0.5, 1.0, 'Correlation Heatmap Between Features')"
            ]
          },
          "metadata": {
            "tags": []
          },
          "execution_count": 86
        },
        {
          "output_type": "display_data",
          "data": {
            "image/png": "[encoded data removed]",
            "text/plain": [
              "<Figure size 432x288 with 2 Axes>"
            ]
          },
          "metadata": {
            "tags": [],
            "needs_background": "light"
          }
        }
      ]
    },
    {
      "cell_type": "code",
      "metadata": {
        "colab": {
          "base_uri": "https://localhost:8080/"
        },
        "id": "Y0qGJObKFxhi",
        "outputId": "20aeb69a-d7e0-4b02-fd4e-1e2dd946e074"
      },
      "source": [
        "y_train = train['#fake']\n",
        "X_train = train.drop('#fake',axis=1)\n",
        "X_train,X_valid, y_train, y_valid = train_test_split(X_train,y_train, test_size=0.2, random_state=0, shuffle=True)\n",
        "\n",
        "print('X_train = ', X_train.shape)\n",
        "print('X_valid = ', X_valid.shape)\n",
        "print('y_train = ', y_train.shape)\n",
        "print('y_valid = ', y_valid.shape)"
      ],
      "execution_count": 87,
      "outputs": [
        {
          "output_type": "stream",
          "text": [
            "X_train =  (8083, 16)\n",
            "X_valid =  (2021, 16)\n",
            "y_train =  (8083,)\n",
            "y_valid =  (2021,)\n"
          ],
          "name": "stdout"
        }
      ]
    },
    {
      "cell_type": "code",
      "metadata": {
        "colab": {
          "base_uri": "https://localhost:8080/"
        },
        "id": "Hb0i5bj2F-t7",
        "outputId": "51fee3fc-2811-4707-9322-2a96eeaaed0d"
      },
      "source": [
        "from sklearn.ensemble import RandomForestClassifier\n",
        "rf= RandomForestClassifier()\n",
        "rf.fit(X_train, y_train)\n",
        "train_score = rf.score(X_train, y_train)\n",
        "valid_score = rf.score(X_valid, y_valid)\n",
        "print('RandomForest Train_Accuracy : {}'.format(train_score))\n",
        "print('RandomForest Valid_Accuracy : {}'.format(valid_score))\n",
        "print()\n",
        "\n",
        "from sklearn.ensemble import GradientBoostingClassifier\n",
        "gb= GradientBoostingClassifier()\n",
        "gb.fit(X_train, y_train)\n",
        "train_score = gb.score(X_train, y_train)\n",
        "valid_score = gb.score(X_valid, y_valid)\n",
        "print('GradientBoosting Train_Accuracy : {}'.format(train_score))\n",
        "print('GradientBoosting Valid_Accuracy : {}'.format(valid_score))\n",
        "print()\n",
        "\n",
        "from sklearn.linear_model import LogisticRegression\n",
        "lg = LogisticRegression(penalty = 'l2',solver='newton-cg',random_state=0, max_iter=600)\n",
        "lg.fit(X_train,y_train)\n",
        "train_score = lg.score(X_train,y_train)\n",
        "valid_score = lg.score(X_valid,y_valid)\n",
        "print('Logistic Train_Accuracy : {}'.format(train_score))\n",
        "print('Logistic Valid_Accuracy : {}'.format(valid_score))\n",
        "print()\n",
        "\n",
        "import xgboost as xgb\n",
        "xgb_model = xgb.XGBClassifier()\n",
        "xgb_model.fit(X_train,y_train)\n",
        "train_score = xgb_model.score(X_train,y_train)\n",
        "valid_score = xgb_model.score(X_valid,y_valid)\n",
        "print('XGBoost Train_Accuracy : {}'.format(train_score))\n",
        "print('XGBoost Valid_Accuracy : {}'.format(valid_score))\n",
        "print()\n",
        "\n",
        "import lightgbm as lgb\n",
        "lgb_model = lgb.LGBMClassifier()\n",
        "lgb_model.fit(X_train, y_train)\n",
        "train_score =lgb_model.score(X_train,y_train)\n",
        "valid_score= lgb_model.score(X_valid,y_valid)\n",
        "print('LGBM Train_Accuracy : {}'.format(train_score))\n",
        "print('LGBM Valid_Accuracy : {}'.format(valid_score))\n",
        "print()\n",
        "\n",
        "from sklearn.tree import DecisionTreeClassifier\n",
        "dt = DecisionTreeClassifier()\n",
        "dt.fit(X_train,y_train)\n",
        "train_score = dt.score(X_train,y_train)\n",
        "valid_score=dt.score(X_valid,y_valid)\n",
        "print('DecisionTree Train_Accuracy : {}'.format(train_score))\n",
        "print('DecisionTree Valid_Accuracy : {}'.format(valid_score))"
      ],
      "execution_count": 88,
      "outputs": [
        {
          "output_type": "stream",
          "text": [
            "RandomForest Train_Accuracy : 1.0\n",
            "RandomForest Valid_Accuracy : 0.971301335972291\n",
            "\n",
            "GradientBoosting Train_Accuracy : 0.9777310404552765\n",
            "GradientBoosting Valid_Accuracy : 0.9703117268678871\n",
            "\n",
            "Logistic Train_Accuracy : 0.8693554373376222\n",
            "Logistic Valid_Accuracy : 0.8703612073231074\n",
            "\n",
            "XGBoost Train_Accuracy : 0.9764938760361253\n",
            "XGBoost Valid_Accuracy : 0.9703117268678871\n",
            "\n",
            "LGBM Train_Accuracy : 0.9978968204874428\n",
            "LGBM Valid_Accuracy : 0.9722909450766947\n",
            "\n",
            "DecisionTree Train_Accuracy : 1.0\n",
            "DecisionTree Valid_Accuracy : 0.9594260267194458\n"
          ],
          "name": "stdout"
        }
      ]
    },
    {
      "cell_type": "markdown",
      "metadata": {
        "id": "LTyNNDCpTQSo"
      },
      "source": [
        "# 최대한 효율적인 방법 - RandomForest, GradientBoosting, LGBM\n",
        "## (Train 정확도 높은 것, valid 정확도 높은 것 중 고려)"
      ]
    },
    {
      "cell_type": "markdown",
      "metadata": {
        "id": "byRfF_yTVSWB"
      },
      "source": [
        "## **int형으로 돌릴 때**, *Randomforest*에서 정확도 올라감 (나머지는 변함X) \n",
        "## -> **int형으로 유지한 상태에서, optuna 사용해봄.**"
      ]
    },
    {
      "cell_type": "code",
      "metadata": {
        "colab": {
          "base_uri": "https://localhost:8080/"
        },
        "id": "BTnmpFt6HwA2",
        "outputId": "f917bf5b-610c-44a0-9255-8af77c46a64e"
      },
      "source": [
        "!pip install optuna #옵튜나 설치"
      ],
      "execution_count": 89,
      "outputs": [
        {
          "output_type": "stream",
          "text": [
            "Requirement already satisfied: optuna in /usr/local/lib/python3.7/dist-packages (2.7.0)\n",
            "Requirement already satisfied: packaging>=20.0 in /usr/local/lib/python3.7/dist-packages (from optuna) (20.9)\n",
            "Requirement already satisfied: cliff in /usr/local/lib/python3.7/dist-packages (from optuna) (3.8.0)\n",
            "Requirement already satisfied: alembic in /usr/local/lib/python3.7/dist-packages (from optuna) (1.6.5)\n",
            "Requirement already satisfied: numpy in /usr/local/lib/python3.7/dist-packages (from optuna) (1.19.5)\n",
            "Requirement already satisfied: scipy!=1.4.0 in /usr/local/lib/python3.7/dist-packages (from optuna) (1.4.1)\n",
            "Requirement already satisfied: sqlalchemy>=1.1.0 in /usr/local/lib/python3.7/dist-packages (from optuna) (1.4.15)\n",
            "Requirement already satisfied: cmaes>=0.8.2 in /usr/local/lib/python3.7/dist-packages (from optuna) (0.8.2)\n",
            "Requirement already satisfied: colorlog in /usr/local/lib/python3.7/dist-packages (from optuna) (5.0.1)\n",
            "Requirement already satisfied: tqdm in /usr/local/lib/python3.7/dist-packages (from optuna) (4.41.1)\n",
            "Requirement already satisfied: pyparsing>=2.0.2 in /usr/local/lib/python3.7/dist-packages (from packaging>=20.0->optuna) (2.4.7)\n",
            "Requirement already satisfied: PyYAML>=3.12 in /usr/local/lib/python3.7/dist-packages (from cliff->optuna) (3.13)\n",
            "Requirement already satisfied: pbr!=2.1.0,>=2.0.0 in /usr/local/lib/python3.7/dist-packages (from cliff->optuna) (5.6.0)\n",
            "Requirement already satisfied: PrettyTable>=0.7.2 in /usr/local/lib/python3.7/dist-packages (from cliff->optuna) (2.1.0)\n",
            "Requirement already satisfied: cmd2>=1.0.0 in /usr/local/lib/python3.7/dist-packages (from cliff->optuna) (1.5.0)\n",
            "Requirement already satisfied: stevedore>=2.0.1 in /usr/local/lib/python3.7/dist-packages (from cliff->optuna) (3.3.0)\n",
            "Requirement already satisfied: python-dateutil in /usr/local/lib/python3.7/dist-packages (from alembic->optuna) (2.8.1)\n",
            "Requirement already satisfied: Mako in /usr/local/lib/python3.7/dist-packages (from alembic->optuna) (1.1.4)\n",
            "Requirement already satisfied: python-editor>=0.3 in /usr/local/lib/python3.7/dist-packages (from alembic->optuna) (1.0.4)\n",
            "Requirement already satisfied: importlib-metadata; python_version < \"3.8\" in /usr/local/lib/python3.7/dist-packages (from sqlalchemy>=1.1.0->optuna) (4.0.1)\n",
            "Requirement already satisfied: greenlet!=0.4.17; python_version >= \"3\" in /usr/local/lib/python3.7/dist-packages (from sqlalchemy>=1.1.0->optuna) (1.1.0)\n",
            "Requirement already satisfied: wcwidth in /usr/local/lib/python3.7/dist-packages (from PrettyTable>=0.7.2->cliff->optuna) (0.2.5)\n",
            "Requirement already satisfied: colorama>=0.3.7 in /usr/local/lib/python3.7/dist-packages (from cmd2>=1.0.0->cliff->optuna) (0.4.4)\n",
            "Requirement already satisfied: pyperclip>=1.6 in /usr/local/lib/python3.7/dist-packages (from cmd2>=1.0.0->cliff->optuna) (1.8.2)\n",
            "Requirement already satisfied: attrs>=16.3.0 in /usr/local/lib/python3.7/dist-packages (from cmd2>=1.0.0->cliff->optuna) (21.2.0)\n",
            "Requirement already satisfied: six>=1.5 in /usr/local/lib/python3.7/dist-packages (from python-dateutil->alembic->optuna) (1.15.0)\n",
            "Requirement already satisfied: MarkupSafe>=0.9.2 in /usr/local/lib/python3.7/dist-packages (from Mako->alembic->optuna) (2.0.1)\n",
            "Requirement already satisfied: zipp>=0.5 in /usr/local/lib/python3.7/dist-packages (from importlib-metadata; python_version < \"3.8\"->sqlalchemy>=1.1.0->optuna) (3.4.1)\n",
            "Requirement already satisfied: typing-extensions>=3.6.4; python_version < \"3.8\" in /usr/local/lib/python3.7/dist-packages (from importlib-metadata; python_version < \"3.8\"->sqlalchemy>=1.1.0->optuna) (3.7.4.3)\n"
          ],
          "name": "stdout"
        }
      ]
    },
    {
      "cell_type": "code",
      "metadata": {
        "id": "v6z9KUbhVzKS"
      },
      "source": [
        "import optuna\n",
        "from sklearn.metrics import log_loss\n",
        "categorical_features = ['#profile_pic','#name==id','#url','#private','#highlight','#professional']\n",
        "def objective(trial):\n",
        "  params = {'objective':'binary', \n",
        "            'n_estimators' : trial.suggest_categorical('n_estimators', [300,500,800,1000]),\n",
        "            'learning_rate' : trial.suggest_categorical('lerning_rate', [0.05,0.01,0.1]), \n",
        "            'max_depth' : trial.suggest_categorical('max_depth', [5,6,7,8]), \n",
        "            'max_features' : trial.suggest_categorical('max_features', [0.1,0.3,0.5,0.7]), \n",
        "            'min_samples_split' : trial.suggest_categorical('min_samples_split', [2,6]),\n",
        "            'min_samples_leaf' : trial.suggest_categorical('min_samples_leaf', [2,6])\n",
        "            }\n",
        "  lgb_train = lgb.Dataset(X_train,y_train, categorical_feature = categorical_features)\n",
        "  lgb_eval = lgb.Dataset(X_valid,y_valid,reference=lgb_train, categorical_feature = categorical_features)\n",
        "  model = lgb.train(params, lgb_train, valid_sets=[lgb_train, lgb_eval],verbose_eval=10, num_boost_round=1000, early_stopping_rounds=100)\n",
        "  y_pred_valid = model.predict(X_valid,num_iteration=model.best_iteration)\n",
        "  score = log_loss(y_valid,y_pred_valid)\n",
        "  return score"
      ],
      "execution_count": 90,
      "outputs": []
    },
    {
      "cell_type": "code",
      "metadata": {
        "colab": {
          "base_uri": "https://localhost:8080/"
        },
        "id": "uzbiwogbkLhM",
        "outputId": "6158bec2-c4dc-4f42-a391-5daf091cf0f8"
      },
      "source": [
        "study=optuna.create_study(direction='minimize')\n",
        "study.optimize(objective,n_trials=40) #5회반복\n",
        "\n",
        "print('Best score : '+str(study.best_trial.value))"
      ],
      "execution_count": 91,
      "outputs": [
        {
          "output_type": "stream",
          "text": [
            "\u001b[32m[I 2021-06-02 19:09:06,590]\u001b[0m A new study created in memory with name: no-name-4adf4577-5a54-4bc0-9425-4f748b6e1db1\u001b[0m\n",
            "/usr/local/lib/python3.7/dist-packages/lightgbm/engine.py:118: UserWarning:\n",
            "\n",
            "Found `n_estimators` in params. Will use it instead of argument\n",
            "\n",
            "/usr/local/lib/python3.7/dist-packages/lightgbm/basic.py:1205: UserWarning:\n",
            "\n",
            "Using categorical_feature in Dataset.\n",
            "\n",
            "/usr/local/lib/python3.7/dist-packages/lightgbm/basic.py:762: UserWarning:\n",
            "\n",
            "categorical_feature in param dict is overridden.\n",
            "\n"
          ],
          "name": "stderr"
        },
        {
          "output_type": "stream",
          "text": [
            "Training until validation scores don't improve for 100 rounds.\n",
            "[10]\ttraining's binary_logloss: 0.409698\tvalid_1's binary_logloss: 0.411253\n",
            "[20]\ttraining's binary_logloss: 0.267993\tvalid_1's binary_logloss: 0.274399\n",
            "[30]\ttraining's binary_logloss: 0.189238\tvalid_1's binary_logloss: 0.200589\n",
            "[40]\ttraining's binary_logloss: 0.141871\tvalid_1's binary_logloss: 0.156714\n",
            "[50]\ttraining's binary_logloss: 0.111377\tvalid_1's binary_logloss: 0.131017\n",
            "[60]\ttraining's binary_logloss: 0.0913246\tvalid_1's binary_logloss: 0.114705\n",
            "[70]\ttraining's binary_logloss: 0.0766883\tvalid_1's binary_logloss: 0.103426\n",
            "[80]\ttraining's binary_logloss: 0.0662109\tvalid_1's binary_logloss: 0.0955257\n",
            "[90]\ttraining's binary_logloss: 0.0579735\tvalid_1's binary_logloss: 0.0907321\n",
            "[100]\ttraining's binary_logloss: 0.0519366\tvalid_1's binary_logloss: 0.0873016\n",
            "[110]\ttraining's binary_logloss: 0.0467174\tvalid_1's binary_logloss: 0.084692\n",
            "[120]\ttraining's binary_logloss: 0.042823\tvalid_1's binary_logloss: 0.0825027\n",
            "[130]\ttraining's binary_logloss: 0.039263\tvalid_1's binary_logloss: 0.080728\n",
            "[140]\ttraining's binary_logloss: 0.0368088\tvalid_1's binary_logloss: 0.0795862\n",
            "[150]\ttraining's binary_logloss: 0.0341807\tvalid_1's binary_logloss: 0.0785089\n",
            "[160]\ttraining's binary_logloss: 0.031824\tvalid_1's binary_logloss: 0.0776682\n",
            "[170]\ttraining's binary_logloss: 0.0294623\tvalid_1's binary_logloss: 0.0773473\n",
            "[180]\ttraining's binary_logloss: 0.0277132\tvalid_1's binary_logloss: 0.0770717\n",
            "[190]\ttraining's binary_logloss: 0.0260938\tvalid_1's binary_logloss: 0.0768503\n",
            "[200]\ttraining's binary_logloss: 0.0243262\tvalid_1's binary_logloss: 0.0768429\n",
            "[210]\ttraining's binary_logloss: 0.0228748\tvalid_1's binary_logloss: 0.076908\n",
            "[220]\ttraining's binary_logloss: 0.021454\tvalid_1's binary_logloss: 0.0766721\n",
            "[230]\ttraining's binary_logloss: 0.0199342\tvalid_1's binary_logloss: 0.076072\n",
            "[240]\ttraining's binary_logloss: 0.0185507\tvalid_1's binary_logloss: 0.075876\n",
            "[250]\ttraining's binary_logloss: 0.0175056\tvalid_1's binary_logloss: 0.075725\n",
            "[260]\ttraining's binary_logloss: 0.0163431\tvalid_1's binary_logloss: 0.0753673\n",
            "[270]\ttraining's binary_logloss: 0.0151222\tvalid_1's binary_logloss: 0.0750839\n",
            "[280]\ttraining's binary_logloss: 0.0140374\tvalid_1's binary_logloss: 0.0746954\n",
            "[290]\ttraining's binary_logloss: 0.013094\tvalid_1's binary_logloss: 0.074504\n",
            "[300]\ttraining's binary_logloss: 0.0123084\tvalid_1's binary_logloss: 0.0747105\n",
            "[310]\ttraining's binary_logloss: 0.0114225\tvalid_1's binary_logloss: 0.0748976\n",
            "[320]\ttraining's binary_logloss: 0.0107359\tvalid_1's binary_logloss: 0.0751468\n",
            "[330]\ttraining's binary_logloss: 0.0101537\tvalid_1's binary_logloss: 0.0751449\n",
            "[340]\ttraining's binary_logloss: 0.00961056\tvalid_1's binary_logloss: 0.0755691\n",
            "[350]\ttraining's binary_logloss: 0.00917149\tvalid_1's binary_logloss: 0.0756973\n",
            "[360]\ttraining's binary_logloss: 0.00863189\tvalid_1's binary_logloss: 0.076131\n",
            "[370]\ttraining's binary_logloss: 0.00827119\tvalid_1's binary_logloss: 0.0763711\n",
            "[380]\ttraining's binary_logloss: 0.00773575\tvalid_1's binary_logloss: 0.0768945\n",
            "Early stopping, best iteration is:\n",
            "[284]\ttraining's binary_logloss: 0.0136564\tvalid_1's binary_logloss: 0.074488\n"
          ],
          "name": "stdout"
        },
        {
          "output_type": "stream",
          "text": [
            "\u001b[32m[I 2021-06-02 19:09:07,717]\u001b[0m Trial 0 finished with value: 0.07448800223470399 and parameters: {'n_estimators': 500, 'lerning_rate': 0.05, 'max_depth': 7, 'max_features': 0.5, 'min_samples_split': 2, 'min_samples_leaf': 6}. Best is trial 0 with value: 0.07448800223470399.\u001b[0m\n",
            "/usr/local/lib/python3.7/dist-packages/lightgbm/engine.py:118: UserWarning:\n",
            "\n",
            "Found `n_estimators` in params. Will use it instead of argument\n",
            "\n",
            "/usr/local/lib/python3.7/dist-packages/lightgbm/basic.py:1205: UserWarning:\n",
            "\n",
            "Using categorical_feature in Dataset.\n",
            "\n",
            "/usr/local/lib/python3.7/dist-packages/lightgbm/basic.py:762: UserWarning:\n",
            "\n",
            "categorical_feature in param dict is overridden.\n",
            "\n"
          ],
          "name": "stderr"
        },
        {
          "output_type": "stream",
          "text": [
            "Training until validation scores don't improve for 100 rounds.\n",
            "[10]\ttraining's binary_logloss: 0.411323\tvalid_1's binary_logloss: 0.413697\n",
            "[20]\ttraining's binary_logloss: 0.270566\tvalid_1's binary_logloss: 0.277387\n",
            "[30]\ttraining's binary_logloss: 0.193298\tvalid_1's binary_logloss: 0.204611\n",
            "[40]\ttraining's binary_logloss: 0.145922\tvalid_1's binary_logloss: 0.161338\n",
            "[50]\ttraining's binary_logloss: 0.116141\tvalid_1's binary_logloss: 0.135096\n",
            "[60]\ttraining's binary_logloss: 0.0963498\tvalid_1's binary_logloss: 0.118673\n",
            "[70]\ttraining's binary_logloss: 0.0816513\tvalid_1's binary_logloss: 0.106801\n",
            "[80]\ttraining's binary_logloss: 0.0710277\tvalid_1's binary_logloss: 0.0991108\n",
            "[90]\ttraining's binary_logloss: 0.0634895\tvalid_1's binary_logloss: 0.0944022\n",
            "[100]\ttraining's binary_logloss: 0.0574838\tvalid_1's binary_logloss: 0.0909468\n",
            "[110]\ttraining's binary_logloss: 0.052291\tvalid_1's binary_logloss: 0.0881219\n",
            "[120]\ttraining's binary_logloss: 0.0481254\tvalid_1's binary_logloss: 0.0868324\n",
            "[130]\ttraining's binary_logloss: 0.0448136\tvalid_1's binary_logloss: 0.0852678\n",
            "[140]\ttraining's binary_logloss: 0.0426374\tvalid_1's binary_logloss: 0.0843877\n",
            "[150]\ttraining's binary_logloss: 0.0395421\tvalid_1's binary_logloss: 0.0831745\n",
            "[160]\ttraining's binary_logloss: 0.0373895\tvalid_1's binary_logloss: 0.082264\n",
            "[170]\ttraining's binary_logloss: 0.0357445\tvalid_1's binary_logloss: 0.0817602\n",
            "[180]\ttraining's binary_logloss: 0.0336474\tvalid_1's binary_logloss: 0.0814583\n",
            "[190]\ttraining's binary_logloss: 0.0317092\tvalid_1's binary_logloss: 0.0811886\n",
            "[200]\ttraining's binary_logloss: 0.0298133\tvalid_1's binary_logloss: 0.0807668\n",
            "[210]\ttraining's binary_logloss: 0.0283265\tvalid_1's binary_logloss: 0.0804893\n",
            "[220]\ttraining's binary_logloss: 0.0267947\tvalid_1's binary_logloss: 0.0804896\n",
            "[230]\ttraining's binary_logloss: 0.0253559\tvalid_1's binary_logloss: 0.0802702\n",
            "[240]\ttraining's binary_logloss: 0.0238454\tvalid_1's binary_logloss: 0.0800036\n",
            "[250]\ttraining's binary_logloss: 0.0227992\tvalid_1's binary_logloss: 0.0799582\n",
            "[260]\ttraining's binary_logloss: 0.0216784\tvalid_1's binary_logloss: 0.0797223\n",
            "[270]\ttraining's binary_logloss: 0.0204874\tvalid_1's binary_logloss: 0.0798342\n",
            "[280]\ttraining's binary_logloss: 0.0195981\tvalid_1's binary_logloss: 0.0798478\n",
            "[290]\ttraining's binary_logloss: 0.0187997\tvalid_1's binary_logloss: 0.0796971\n",
            "[300]\ttraining's binary_logloss: 0.0177473\tvalid_1's binary_logloss: 0.0797611\n",
            "Did not meet early stopping. Best iteration is:\n",
            "[300]\ttraining's binary_logloss: 0.0177473\tvalid_1's binary_logloss: 0.0797611\n"
          ],
          "name": "stdout"
        },
        {
          "output_type": "stream",
          "text": [
            "\u001b[32m[I 2021-06-02 19:09:08,615]\u001b[0m Trial 1 finished with value: 0.07976107606346014 and parameters: {'n_estimators': 300, 'lerning_rate': 0.05, 'max_depth': 6, 'max_features': 0.1, 'min_samples_split': 2, 'min_samples_leaf': 2}. Best is trial 0 with value: 0.07448800223470399.\u001b[0m\n",
            "/usr/local/lib/python3.7/dist-packages/lightgbm/engine.py:118: UserWarning:\n",
            "\n",
            "Found `n_estimators` in params. Will use it instead of argument\n",
            "\n",
            "/usr/local/lib/python3.7/dist-packages/lightgbm/basic.py:1205: UserWarning:\n",
            "\n",
            "Using categorical_feature in Dataset.\n",
            "\n",
            "/usr/local/lib/python3.7/dist-packages/lightgbm/basic.py:762: UserWarning:\n",
            "\n",
            "categorical_feature in param dict is overridden.\n",
            "\n"
          ],
          "name": "stderr"
        },
        {
          "output_type": "stream",
          "text": [
            "Training until validation scores don't improve for 100 rounds.\n",
            "[10]\ttraining's binary_logloss: 0.409857\tvalid_1's binary_logloss: 0.411575\n",
            "[20]\ttraining's binary_logloss: 0.267202\tvalid_1's binary_logloss: 0.273658\n",
            "[30]\ttraining's binary_logloss: 0.188147\tvalid_1's binary_logloss: 0.199805\n",
            "[40]\ttraining's binary_logloss: 0.140546\tvalid_1's binary_logloss: 0.156187\n",
            "[50]\ttraining's binary_logloss: 0.110349\tvalid_1's binary_logloss: 0.130895\n",
            "[60]\ttraining's binary_logloss: 0.0902005\tvalid_1's binary_logloss: 0.114351\n",
            "[70]\ttraining's binary_logloss: 0.0755908\tvalid_1's binary_logloss: 0.102603\n",
            "[80]\ttraining's binary_logloss: 0.0646585\tvalid_1's binary_logloss: 0.0947769\n",
            "[90]\ttraining's binary_logloss: 0.0565063\tvalid_1's binary_logloss: 0.0899954\n",
            "[100]\ttraining's binary_logloss: 0.0502482\tvalid_1's binary_logloss: 0.0871729\n",
            "[110]\ttraining's binary_logloss: 0.0449098\tvalid_1's binary_logloss: 0.0846616\n",
            "[120]\ttraining's binary_logloss: 0.0409557\tvalid_1's binary_logloss: 0.0829291\n",
            "[130]\ttraining's binary_logloss: 0.0373761\tvalid_1's binary_logloss: 0.0816816\n",
            "[140]\ttraining's binary_logloss: 0.034035\tvalid_1's binary_logloss: 0.0804962\n",
            "[150]\ttraining's binary_logloss: 0.0311156\tvalid_1's binary_logloss: 0.0796231\n",
            "[160]\ttraining's binary_logloss: 0.028688\tvalid_1's binary_logloss: 0.0790155\n",
            "[170]\ttraining's binary_logloss: 0.026794\tvalid_1's binary_logloss: 0.0784011\n",
            "[180]\ttraining's binary_logloss: 0.0248347\tvalid_1's binary_logloss: 0.0780895\n",
            "[190]\ttraining's binary_logloss: 0.0227093\tvalid_1's binary_logloss: 0.0775361\n",
            "[200]\ttraining's binary_logloss: 0.020774\tvalid_1's binary_logloss: 0.0768253\n",
            "[210]\ttraining's binary_logloss: 0.0193763\tvalid_1's binary_logloss: 0.0769856\n",
            "[220]\ttraining's binary_logloss: 0.0178966\tvalid_1's binary_logloss: 0.0769537\n",
            "[230]\ttraining's binary_logloss: 0.0166873\tvalid_1's binary_logloss: 0.0769032\n",
            "[240]\ttraining's binary_logloss: 0.0155855\tvalid_1's binary_logloss: 0.0769729\n",
            "[250]\ttraining's binary_logloss: 0.0146673\tvalid_1's binary_logloss: 0.077249\n",
            "[260]\ttraining's binary_logloss: 0.0137546\tvalid_1's binary_logloss: 0.0774029\n",
            "[270]\ttraining's binary_logloss: 0.0127554\tvalid_1's binary_logloss: 0.0772952\n",
            "[280]\ttraining's binary_logloss: 0.0118789\tvalid_1's binary_logloss: 0.0772718\n",
            "[290]\ttraining's binary_logloss: 0.0110396\tvalid_1's binary_logloss: 0.0776678\n",
            "[300]\ttraining's binary_logloss: 0.0102129\tvalid_1's binary_logloss: 0.0778492\n",
            "Did not meet early stopping. Best iteration is:\n",
            "[300]\ttraining's binary_logloss: 0.0102129\tvalid_1's binary_logloss: 0.0778492\n"
          ],
          "name": "stdout"
        },
        {
          "output_type": "stream",
          "text": [
            "\u001b[32m[I 2021-06-02 19:09:09,538]\u001b[0m Trial 2 finished with value: 0.07784917913434437 and parameters: {'n_estimators': 300, 'lerning_rate': 0.05, 'max_depth': 8, 'max_features': 0.3, 'min_samples_split': 6, 'min_samples_leaf': 2}. Best is trial 0 with value: 0.07448800223470399.\u001b[0m\n",
            "/usr/local/lib/python3.7/dist-packages/lightgbm/engine.py:118: UserWarning:\n",
            "\n",
            "Found `n_estimators` in params. Will use it instead of argument\n",
            "\n",
            "/usr/local/lib/python3.7/dist-packages/lightgbm/basic.py:1205: UserWarning:\n",
            "\n",
            "Using categorical_feature in Dataset.\n",
            "\n",
            "/usr/local/lib/python3.7/dist-packages/lightgbm/basic.py:762: UserWarning:\n",
            "\n",
            "categorical_feature in param dict is overridden.\n",
            "\n"
          ],
          "name": "stderr"
        },
        {
          "output_type": "stream",
          "text": [
            "Training until validation scores don't improve for 100 rounds.\n",
            "[10]\ttraining's binary_logloss: 0.619899\tvalid_1's binary_logloss: 0.619961\n",
            "[20]\ttraining's binary_logloss: 0.558859\tvalid_1's binary_logloss: 0.559194\n",
            "[30]\ttraining's binary_logloss: 0.506427\tvalid_1's binary_logloss: 0.507173\n",
            "[40]\ttraining's binary_logloss: 0.46106\tvalid_1's binary_logloss: 0.462145\n",
            "[50]\ttraining's binary_logloss: 0.421733\tvalid_1's binary_logloss: 0.423367\n",
            "[60]\ttraining's binary_logloss: 0.387189\tvalid_1's binary_logloss: 0.38948\n",
            "[70]\ttraining's binary_logloss: 0.35632\tvalid_1's binary_logloss: 0.359383\n",
            "[80]\ttraining's binary_logloss: 0.329062\tvalid_1's binary_logloss: 0.333138\n",
            "[90]\ttraining's binary_logloss: 0.305177\tvalid_1's binary_logloss: 0.309917\n",
            "[100]\ttraining's binary_logloss: 0.284077\tvalid_1's binary_logloss: 0.289415\n",
            "[110]\ttraining's binary_logloss: 0.265387\tvalid_1's binary_logloss: 0.27132\n",
            "[120]\ttraining's binary_logloss: 0.248668\tvalid_1's binary_logloss: 0.255336\n",
            "[130]\ttraining's binary_logloss: 0.233653\tvalid_1's binary_logloss: 0.2409\n",
            "[140]\ttraining's binary_logloss: 0.220095\tvalid_1's binary_logloss: 0.228055\n",
            "[150]\ttraining's binary_logloss: 0.207733\tvalid_1's binary_logloss: 0.216426\n",
            "[160]\ttraining's binary_logloss: 0.196535\tvalid_1's binary_logloss: 0.205786\n",
            "[170]\ttraining's binary_logloss: 0.186198\tvalid_1's binary_logloss: 0.195979\n",
            "[180]\ttraining's binary_logloss: 0.176873\tvalid_1's binary_logloss: 0.187166\n",
            "[190]\ttraining's binary_logloss: 0.168477\tvalid_1's binary_logloss: 0.179322\n",
            "[200]\ttraining's binary_logloss: 0.160883\tvalid_1's binary_logloss: 0.172242\n",
            "[210]\ttraining's binary_logloss: 0.153965\tvalid_1's binary_logloss: 0.165789\n",
            "[220]\ttraining's binary_logloss: 0.147541\tvalid_1's binary_logloss: 0.159924\n",
            "[230]\ttraining's binary_logloss: 0.141567\tvalid_1's binary_logloss: 0.154633\n",
            "[240]\ttraining's binary_logloss: 0.135998\tvalid_1's binary_logloss: 0.149679\n",
            "[250]\ttraining's binary_logloss: 0.130885\tvalid_1's binary_logloss: 0.144975\n",
            "[260]\ttraining's binary_logloss: 0.126016\tvalid_1's binary_logloss: 0.140607\n",
            "[270]\ttraining's binary_logloss: 0.121573\tvalid_1's binary_logloss: 0.136623\n",
            "[280]\ttraining's binary_logloss: 0.117518\tvalid_1's binary_logloss: 0.133005\n",
            "[290]\ttraining's binary_logloss: 0.113686\tvalid_1's binary_logloss: 0.129685\n",
            "[300]\ttraining's binary_logloss: 0.110175\tvalid_1's binary_logloss: 0.126679\n",
            "[310]\ttraining's binary_logloss: 0.106626\tvalid_1's binary_logloss: 0.123663\n",
            "[320]\ttraining's binary_logloss: 0.103389\tvalid_1's binary_logloss: 0.120974\n",
            "[330]\ttraining's binary_logloss: 0.100337\tvalid_1's binary_logloss: 0.118425\n",
            "[340]\ttraining's binary_logloss: 0.0974153\tvalid_1's binary_logloss: 0.11606\n",
            "[350]\ttraining's binary_logloss: 0.0947641\tvalid_1's binary_logloss: 0.113899\n",
            "[360]\ttraining's binary_logloss: 0.0922413\tvalid_1's binary_logloss: 0.111929\n",
            "[370]\ttraining's binary_logloss: 0.0898828\tvalid_1's binary_logloss: 0.110087\n",
            "[380]\ttraining's binary_logloss: 0.0876275\tvalid_1's binary_logloss: 0.108327\n",
            "[390]\ttraining's binary_logloss: 0.0854396\tvalid_1's binary_logloss: 0.106626\n",
            "[400]\ttraining's binary_logloss: 0.0833846\tvalid_1's binary_logloss: 0.10507\n",
            "[410]\ttraining's binary_logloss: 0.081393\tvalid_1's binary_logloss: 0.103561\n",
            "[420]\ttraining's binary_logloss: 0.0795575\tvalid_1's binary_logloss: 0.102278\n",
            "[430]\ttraining's binary_logloss: 0.0779115\tvalid_1's binary_logloss: 0.101076\n",
            "[440]\ttraining's binary_logloss: 0.076378\tvalid_1's binary_logloss: 0.100019\n",
            "[450]\ttraining's binary_logloss: 0.0748654\tvalid_1's binary_logloss: 0.0990315\n",
            "[460]\ttraining's binary_logloss: 0.0734362\tvalid_1's binary_logloss: 0.0980647\n",
            "[470]\ttraining's binary_logloss: 0.0721407\tvalid_1's binary_logloss: 0.0972154\n",
            "[480]\ttraining's binary_logloss: 0.0708767\tvalid_1's binary_logloss: 0.0963939\n",
            "[490]\ttraining's binary_logloss: 0.0695607\tvalid_1's binary_logloss: 0.0955243\n",
            "[500]\ttraining's binary_logloss: 0.0683072\tvalid_1's binary_logloss: 0.0947344\n",
            "Did not meet early stopping. Best iteration is:\n",
            "[500]\ttraining's binary_logloss: 0.0683072\tvalid_1's binary_logloss: 0.0947344\n"
          ],
          "name": "stdout"
        },
        {
          "output_type": "stream",
          "text": [
            "\u001b[32m[I 2021-06-02 19:09:11,115]\u001b[0m Trial 3 finished with value: 0.09473440204858743 and parameters: {'n_estimators': 500, 'lerning_rate': 0.01, 'max_depth': 5, 'max_features': 0.7, 'min_samples_split': 6, 'min_samples_leaf': 6}. Best is trial 0 with value: 0.07448800223470399.\u001b[0m\n",
            "/usr/local/lib/python3.7/dist-packages/lightgbm/engine.py:118: UserWarning:\n",
            "\n",
            "Found `n_estimators` in params. Will use it instead of argument\n",
            "\n",
            "/usr/local/lib/python3.7/dist-packages/lightgbm/basic.py:1205: UserWarning:\n",
            "\n",
            "Using categorical_feature in Dataset.\n",
            "\n",
            "/usr/local/lib/python3.7/dist-packages/lightgbm/basic.py:762: UserWarning:\n",
            "\n",
            "categorical_feature in param dict is overridden.\n",
            "\n"
          ],
          "name": "stderr"
        },
        {
          "output_type": "stream",
          "text": [
            "Training until validation scores don't improve for 100 rounds.\n",
            "[10]\ttraining's binary_logloss: 0.616829\tvalid_1's binary_logloss: 0.616906\n",
            "[20]\ttraining's binary_logloss: 0.553327\tvalid_1's binary_logloss: 0.553572\n",
            "[30]\ttraining's binary_logloss: 0.499584\tvalid_1's binary_logloss: 0.500203\n",
            "[40]\ttraining's binary_logloss: 0.452701\tvalid_1's binary_logloss: 0.453814\n",
            "[50]\ttraining's binary_logloss: 0.411634\tvalid_1's binary_logloss: 0.413236\n",
            "[60]\ttraining's binary_logloss: 0.375426\tvalid_1's binary_logloss: 0.377978\n",
            "[70]\ttraining's binary_logloss: 0.343707\tvalid_1's binary_logloss: 0.347072\n",
            "[80]\ttraining's binary_logloss: 0.315787\tvalid_1's binary_logloss: 0.320113\n",
            "[90]\ttraining's binary_logloss: 0.291207\tvalid_1's binary_logloss: 0.296652\n",
            "[100]\ttraining's binary_logloss: 0.269098\tvalid_1's binary_logloss: 0.275817\n",
            "[110]\ttraining's binary_logloss: 0.249516\tvalid_1's binary_logloss: 0.257306\n",
            "[120]\ttraining's binary_logloss: 0.232055\tvalid_1's binary_logloss: 0.240907\n",
            "[130]\ttraining's binary_logloss: 0.216335\tvalid_1's binary_logloss: 0.226338\n",
            "[140]\ttraining's binary_logloss: 0.202252\tvalid_1's binary_logloss: 0.213252\n",
            "[150]\ttraining's binary_logloss: 0.189683\tvalid_1's binary_logloss: 0.201632\n",
            "[160]\ttraining's binary_logloss: 0.178031\tvalid_1's binary_logloss: 0.190725\n",
            "[170]\ttraining's binary_logloss: 0.167715\tvalid_1's binary_logloss: 0.181012\n",
            "[180]\ttraining's binary_logloss: 0.158241\tvalid_1's binary_logloss: 0.172132\n",
            "[190]\ttraining's binary_logloss: 0.149658\tvalid_1's binary_logloss: 0.16417\n",
            "[200]\ttraining's binary_logloss: 0.141847\tvalid_1's binary_logloss: 0.15696\n",
            "[210]\ttraining's binary_logloss: 0.134625\tvalid_1's binary_logloss: 0.150527\n",
            "[220]\ttraining's binary_logloss: 0.127839\tvalid_1's binary_logloss: 0.144864\n",
            "[230]\ttraining's binary_logloss: 0.121611\tvalid_1's binary_logloss: 0.139734\n",
            "[240]\ttraining's binary_logloss: 0.116027\tvalid_1's binary_logloss: 0.135208\n",
            "[250]\ttraining's binary_logloss: 0.111037\tvalid_1's binary_logloss: 0.131083\n",
            "[260]\ttraining's binary_logloss: 0.106348\tvalid_1's binary_logloss: 0.127107\n",
            "[270]\ttraining's binary_logloss: 0.102048\tvalid_1's binary_logloss: 0.123476\n",
            "[280]\ttraining's binary_logloss: 0.098023\tvalid_1's binary_logloss: 0.119964\n",
            "[290]\ttraining's binary_logloss: 0.0942825\tvalid_1's binary_logloss: 0.11689\n",
            "[300]\ttraining's binary_logloss: 0.0906829\tvalid_1's binary_logloss: 0.114076\n",
            "[310]\ttraining's binary_logloss: 0.0874779\tvalid_1's binary_logloss: 0.111554\n",
            "[320]\ttraining's binary_logloss: 0.084399\tvalid_1's binary_logloss: 0.109196\n",
            "[330]\ttraining's binary_logloss: 0.0814896\tvalid_1's binary_logloss: 0.10704\n",
            "[340]\ttraining's binary_logloss: 0.0787496\tvalid_1's binary_logloss: 0.104795\n",
            "[350]\ttraining's binary_logloss: 0.0761457\tvalid_1's binary_logloss: 0.102741\n",
            "[360]\ttraining's binary_logloss: 0.0737365\tvalid_1's binary_logloss: 0.101112\n",
            "[370]\ttraining's binary_logloss: 0.0715015\tvalid_1's binary_logloss: 0.0995443\n",
            "[380]\ttraining's binary_logloss: 0.0693821\tvalid_1's binary_logloss: 0.0980127\n",
            "[390]\ttraining's binary_logloss: 0.0672561\tvalid_1's binary_logloss: 0.096386\n",
            "[400]\ttraining's binary_logloss: 0.0653078\tvalid_1's binary_logloss: 0.0949951\n",
            "[410]\ttraining's binary_logloss: 0.0635105\tvalid_1's binary_logloss: 0.093761\n",
            "[420]\ttraining's binary_logloss: 0.0618205\tvalid_1's binary_logloss: 0.0926767\n",
            "[430]\ttraining's binary_logloss: 0.0601921\tvalid_1's binary_logloss: 0.09171\n",
            "[440]\ttraining's binary_logloss: 0.0586311\tvalid_1's binary_logloss: 0.0909011\n",
            "[450]\ttraining's binary_logloss: 0.0571734\tvalid_1's binary_logloss: 0.0900677\n",
            "[460]\ttraining's binary_logloss: 0.0558108\tvalid_1's binary_logloss: 0.0894581\n",
            "[470]\ttraining's binary_logloss: 0.0545099\tvalid_1's binary_logloss: 0.0889063\n",
            "[480]\ttraining's binary_logloss: 0.0532607\tvalid_1's binary_logloss: 0.0884247\n",
            "[490]\ttraining's binary_logloss: 0.0519976\tvalid_1's binary_logloss: 0.0878043\n",
            "[500]\ttraining's binary_logloss: 0.0508042\tvalid_1's binary_logloss: 0.087209\n",
            "[510]\ttraining's binary_logloss: 0.0496513\tvalid_1's binary_logloss: 0.0866805\n",
            "[520]\ttraining's binary_logloss: 0.0485386\tvalid_1's binary_logloss: 0.0861167\n",
            "[530]\ttraining's binary_logloss: 0.0474402\tvalid_1's binary_logloss: 0.0856967\n",
            "[540]\ttraining's binary_logloss: 0.0463857\tvalid_1's binary_logloss: 0.0852977\n",
            "[550]\ttraining's binary_logloss: 0.0454147\tvalid_1's binary_logloss: 0.0849592\n",
            "[560]\ttraining's binary_logloss: 0.0444882\tvalid_1's binary_logloss: 0.0844945\n",
            "[570]\ttraining's binary_logloss: 0.0435958\tvalid_1's binary_logloss: 0.0842551\n",
            "[580]\ttraining's binary_logloss: 0.042708\tvalid_1's binary_logloss: 0.0840362\n",
            "[590]\ttraining's binary_logloss: 0.0419894\tvalid_1's binary_logloss: 0.0838657\n",
            "[600]\ttraining's binary_logloss: 0.0413165\tvalid_1's binary_logloss: 0.0836756\n",
            "[610]\ttraining's binary_logloss: 0.0406414\tvalid_1's binary_logloss: 0.0833421\n",
            "[620]\ttraining's binary_logloss: 0.0398297\tvalid_1's binary_logloss: 0.0829326\n",
            "[630]\ttraining's binary_logloss: 0.0391489\tvalid_1's binary_logloss: 0.082832\n",
            "[640]\ttraining's binary_logloss: 0.0383203\tvalid_1's binary_logloss: 0.0824653\n",
            "[650]\ttraining's binary_logloss: 0.0376059\tvalid_1's binary_logloss: 0.0822643\n",
            "[660]\ttraining's binary_logloss: 0.0370108\tvalid_1's binary_logloss: 0.0820057\n",
            "[670]\ttraining's binary_logloss: 0.0362948\tvalid_1's binary_logloss: 0.0817207\n",
            "[680]\ttraining's binary_logloss: 0.0355899\tvalid_1's binary_logloss: 0.0814922\n",
            "[690]\ttraining's binary_logloss: 0.0348877\tvalid_1's binary_logloss: 0.0812127\n",
            "[700]\ttraining's binary_logloss: 0.0342647\tvalid_1's binary_logloss: 0.0810305\n",
            "[710]\ttraining's binary_logloss: 0.0336666\tvalid_1's binary_logloss: 0.080873\n",
            "[720]\ttraining's binary_logloss: 0.0331121\tvalid_1's binary_logloss: 0.0807028\n",
            "[730]\ttraining's binary_logloss: 0.0325536\tvalid_1's binary_logloss: 0.0805189\n",
            "[740]\ttraining's binary_logloss: 0.0320313\tvalid_1's binary_logloss: 0.0802817\n",
            "[750]\ttraining's binary_logloss: 0.0316129\tvalid_1's binary_logloss: 0.0800914\n",
            "[760]\ttraining's binary_logloss: 0.0311409\tvalid_1's binary_logloss: 0.0799072\n",
            "[770]\ttraining's binary_logloss: 0.0305895\tvalid_1's binary_logloss: 0.0797956\n",
            "[780]\ttraining's binary_logloss: 0.0301015\tvalid_1's binary_logloss: 0.079644\n",
            "[790]\ttraining's binary_logloss: 0.0296374\tvalid_1's binary_logloss: 0.0794938\n",
            "[800]\ttraining's binary_logloss: 0.029169\tvalid_1's binary_logloss: 0.0793726\n",
            "Did not meet early stopping. Best iteration is:\n",
            "[800]\ttraining's binary_logloss: 0.029169\tvalid_1's binary_logloss: 0.0793726\n"
          ],
          "name": "stdout"
        },
        {
          "output_type": "stream",
          "text": [
            "\u001b[32m[I 2021-06-02 19:09:13,678]\u001b[0m Trial 4 finished with value: 0.07937259885711942 and parameters: {'n_estimators': 800, 'lerning_rate': 0.01, 'max_depth': 8, 'max_features': 0.1, 'min_samples_split': 2, 'min_samples_leaf': 6}. Best is trial 0 with value: 0.07448800223470399.\u001b[0m\n",
            "/usr/local/lib/python3.7/dist-packages/lightgbm/engine.py:118: UserWarning:\n",
            "\n",
            "Found `n_estimators` in params. Will use it instead of argument\n",
            "\n",
            "/usr/local/lib/python3.7/dist-packages/lightgbm/basic.py:1205: UserWarning:\n",
            "\n",
            "Using categorical_feature in Dataset.\n",
            "\n",
            "/usr/local/lib/python3.7/dist-packages/lightgbm/basic.py:762: UserWarning:\n",
            "\n",
            "categorical_feature in param dict is overridden.\n",
            "\n"
          ],
          "name": "stderr"
        },
        {
          "output_type": "stream",
          "text": [
            "Training until validation scores don't improve for 100 rounds.\n",
            "[10]\ttraining's binary_logloss: 0.418997\tvalid_1's binary_logloss: 0.420731\n",
            "[20]\ttraining's binary_logloss: 0.282218\tvalid_1's binary_logloss: 0.287381\n",
            "[30]\ttraining's binary_logloss: 0.206188\tvalid_1's binary_logloss: 0.215322\n",
            "[40]\ttraining's binary_logloss: 0.160089\tvalid_1's binary_logloss: 0.171675\n",
            "[50]\ttraining's binary_logloss: 0.130013\tvalid_1's binary_logloss: 0.144479\n",
            "[60]\ttraining's binary_logloss: 0.109227\tvalid_1's binary_logloss: 0.125945\n",
            "[70]\ttraining's binary_logloss: 0.0940343\tvalid_1's binary_logloss: 0.113364\n",
            "[80]\ttraining's binary_logloss: 0.0828253\tvalid_1's binary_logloss: 0.104801\n",
            "[90]\ttraining's binary_logloss: 0.0744705\tvalid_1's binary_logloss: 0.0988442\n",
            "[100]\ttraining's binary_logloss: 0.0678946\tvalid_1's binary_logloss: 0.094721\n",
            "[110]\ttraining's binary_logloss: 0.0624988\tvalid_1's binary_logloss: 0.0913801\n",
            "[120]\ttraining's binary_logloss: 0.0585045\tvalid_1's binary_logloss: 0.089354\n",
            "[130]\ttraining's binary_logloss: 0.0550333\tvalid_1's binary_logloss: 0.0874419\n",
            "[140]\ttraining's binary_logloss: 0.0519388\tvalid_1's binary_logloss: 0.0858294\n",
            "[150]\ttraining's binary_logloss: 0.0492584\tvalid_1's binary_logloss: 0.0848701\n",
            "[160]\ttraining's binary_logloss: 0.0466821\tvalid_1's binary_logloss: 0.0838417\n",
            "[170]\ttraining's binary_logloss: 0.0445855\tvalid_1's binary_logloss: 0.0833475\n",
            "[180]\ttraining's binary_logloss: 0.0422962\tvalid_1's binary_logloss: 0.0824579\n",
            "[190]\ttraining's binary_logloss: 0.0404459\tvalid_1's binary_logloss: 0.0819334\n",
            "[200]\ttraining's binary_logloss: 0.0390711\tvalid_1's binary_logloss: 0.0813806\n",
            "[210]\ttraining's binary_logloss: 0.0373853\tvalid_1's binary_logloss: 0.080532\n",
            "[220]\ttraining's binary_logloss: 0.0360873\tvalid_1's binary_logloss: 0.0802617\n",
            "[230]\ttraining's binary_logloss: 0.0346456\tvalid_1's binary_logloss: 0.0801191\n",
            "[240]\ttraining's binary_logloss: 0.0336365\tvalid_1's binary_logloss: 0.0798566\n",
            "[250]\ttraining's binary_logloss: 0.0320279\tvalid_1's binary_logloss: 0.0792543\n",
            "[260]\ttraining's binary_logloss: 0.0309858\tvalid_1's binary_logloss: 0.0789378\n",
            "[270]\ttraining's binary_logloss: 0.0300017\tvalid_1's binary_logloss: 0.079113\n",
            "[280]\ttraining's binary_logloss: 0.0284746\tvalid_1's binary_logloss: 0.0786074\n",
            "[290]\ttraining's binary_logloss: 0.0276014\tvalid_1's binary_logloss: 0.0785746\n",
            "[300]\ttraining's binary_logloss: 0.026531\tvalid_1's binary_logloss: 0.0787535\n",
            "[310]\ttraining's binary_logloss: 0.0254982\tvalid_1's binary_logloss: 0.0786233\n",
            "[320]\ttraining's binary_logloss: 0.0244612\tvalid_1's binary_logloss: 0.0783247\n",
            "[330]\ttraining's binary_logloss: 0.0234639\tvalid_1's binary_logloss: 0.0782165\n",
            "[340]\ttraining's binary_logloss: 0.0224665\tvalid_1's binary_logloss: 0.078238\n",
            "[350]\ttraining's binary_logloss: 0.0214653\tvalid_1's binary_logloss: 0.078109\n",
            "[360]\ttraining's binary_logloss: 0.020878\tvalid_1's binary_logloss: 0.0783936\n",
            "[370]\ttraining's binary_logloss: 0.0201838\tvalid_1's binary_logloss: 0.07862\n",
            "[380]\ttraining's binary_logloss: 0.0193581\tvalid_1's binary_logloss: 0.0788847\n",
            "[390]\ttraining's binary_logloss: 0.0185383\tvalid_1's binary_logloss: 0.0789581\n",
            "[400]\ttraining's binary_logloss: 0.0180344\tvalid_1's binary_logloss: 0.0792781\n",
            "[410]\ttraining's binary_logloss: 0.017412\tvalid_1's binary_logloss: 0.0793388\n",
            "[420]\ttraining's binary_logloss: 0.0168615\tvalid_1's binary_logloss: 0.079478\n",
            "[430]\ttraining's binary_logloss: 0.0161291\tvalid_1's binary_logloss: 0.0792406\n"
          ],
          "name": "stdout"
        },
        {
          "output_type": "stream",
          "text": [
            "\u001b[32m[I 2021-06-02 19:09:14,891]\u001b[0m Trial 5 finished with value: 0.0780556546583138 and parameters: {'n_estimators': 500, 'lerning_rate': 0.05, 'max_depth': 5, 'max_features': 0.1, 'min_samples_split': 6, 'min_samples_leaf': 2}. Best is trial 0 with value: 0.07448800223470399.\u001b[0m\n"
          ],
          "name": "stderr"
        },
        {
          "output_type": "stream",
          "text": [
            "[440]\ttraining's binary_logloss: 0.0154738\tvalid_1's binary_logloss: 0.0791613\n",
            "Early stopping, best iteration is:\n",
            "[344]\ttraining's binary_logloss: 0.0220129\tvalid_1's binary_logloss: 0.0780557\n",
            "Training until validation scores don't improve for 100 rounds.\n",
            "[10]\ttraining's binary_logloss: 0.263725\tvalid_1's binary_logloss: 0.270308\n",
            "[20]\ttraining's binary_logloss: 0.139732\tvalid_1's binary_logloss: 0.155235\n"
          ],
          "name": "stdout"
        },
        {
          "output_type": "stream",
          "text": [
            "/usr/local/lib/python3.7/dist-packages/lightgbm/engine.py:118: UserWarning:\n",
            "\n",
            "Found `n_estimators` in params. Will use it instead of argument\n",
            "\n",
            "/usr/local/lib/python3.7/dist-packages/lightgbm/basic.py:1205: UserWarning:\n",
            "\n",
            "Using categorical_feature in Dataset.\n",
            "\n",
            "/usr/local/lib/python3.7/dist-packages/lightgbm/basic.py:762: UserWarning:\n",
            "\n",
            "categorical_feature in param dict is overridden.\n",
            "\n"
          ],
          "name": "stderr"
        },
        {
          "output_type": "stream",
          "text": [
            "[30]\ttraining's binary_logloss: 0.0894339\tvalid_1's binary_logloss: 0.114188\n",
            "[40]\ttraining's binary_logloss: 0.0641725\tvalid_1's binary_logloss: 0.0958343\n",
            "[50]\ttraining's binary_logloss: 0.0497186\tvalid_1's binary_logloss: 0.0884936\n",
            "[60]\ttraining's binary_logloss: 0.0405796\tvalid_1's binary_logloss: 0.0842271\n",
            "[70]\ttraining's binary_logloss: 0.0336879\tvalid_1's binary_logloss: 0.0820956\n",
            "[80]\ttraining's binary_logloss: 0.0288078\tvalid_1's binary_logloss: 0.0809092\n",
            "[90]\ttraining's binary_logloss: 0.024282\tvalid_1's binary_logloss: 0.0814334\n",
            "[100]\ttraining's binary_logloss: 0.020594\tvalid_1's binary_logloss: 0.0803693\n",
            "[110]\ttraining's binary_logloss: 0.0178909\tvalid_1's binary_logloss: 0.0804107\n",
            "[120]\ttraining's binary_logloss: 0.0152594\tvalid_1's binary_logloss: 0.0800538\n",
            "[130]\ttraining's binary_logloss: 0.0133004\tvalid_1's binary_logloss: 0.0798444\n",
            "[140]\ttraining's binary_logloss: 0.0116758\tvalid_1's binary_logloss: 0.0799722\n",
            "[150]\ttraining's binary_logloss: 0.0100604\tvalid_1's binary_logloss: 0.0805075\n",
            "[160]\ttraining's binary_logloss: 0.00869468\tvalid_1's binary_logloss: 0.0805234\n",
            "[170]\ttraining's binary_logloss: 0.00765644\tvalid_1's binary_logloss: 0.0819792\n",
            "[180]\ttraining's binary_logloss: 0.00669346\tvalid_1's binary_logloss: 0.0828034\n",
            "[190]\ttraining's binary_logloss: 0.00576611\tvalid_1's binary_logloss: 0.0841991\n"
          ],
          "name": "stdout"
        },
        {
          "output_type": "stream",
          "text": [
            "\u001b[32m[I 2021-06-02 19:09:15,578]\u001b[0m Trial 6 finished with value: 0.07931026837297858 and parameters: {'n_estimators': 800, 'lerning_rate': 0.1, 'max_depth': 8, 'max_features': 0.7, 'min_samples_split': 2, 'min_samples_leaf': 2}. Best is trial 0 with value: 0.07448800223470399.\u001b[0m\n"
          ],
          "name": "stderr"
        },
        {
          "output_type": "stream",
          "text": [
            "[200]\ttraining's binary_logloss: 0.00503344\tvalid_1's binary_logloss: 0.0850781\n",
            "[210]\ttraining's binary_logloss: 0.00433516\tvalid_1's binary_logloss: 0.0865869\n",
            "[220]\ttraining's binary_logloss: 0.00380136\tvalid_1's binary_logloss: 0.0875668\n",
            "[230]\ttraining's binary_logloss: 0.00323289\tvalid_1's binary_logloss: 0.088206\n",
            "Early stopping, best iteration is:\n",
            "[135]\ttraining's binary_logloss: 0.0125035\tvalid_1's binary_logloss: 0.0793103\n",
            "Training until validation scores don't improve for 100 rounds.\n",
            "[10]\ttraining's binary_logloss: 0.409698\tvalid_1's binary_logloss: 0.411253\n"
          ],
          "name": "stdout"
        },
        {
          "output_type": "stream",
          "text": [
            "/usr/local/lib/python3.7/dist-packages/lightgbm/engine.py:118: UserWarning:\n",
            "\n",
            "Found `n_estimators` in params. Will use it instead of argument\n",
            "\n",
            "/usr/local/lib/python3.7/dist-packages/lightgbm/basic.py:1205: UserWarning:\n",
            "\n",
            "Using categorical_feature in Dataset.\n",
            "\n",
            "/usr/local/lib/python3.7/dist-packages/lightgbm/basic.py:762: UserWarning:\n",
            "\n",
            "categorical_feature in param dict is overridden.\n",
            "\n"
          ],
          "name": "stderr"
        },
        {
          "output_type": "stream",
          "text": [
            "[20]\ttraining's binary_logloss: 0.267993\tvalid_1's binary_logloss: 0.274399\n",
            "[30]\ttraining's binary_logloss: 0.189238\tvalid_1's binary_logloss: 0.200589\n",
            "[40]\ttraining's binary_logloss: 0.141871\tvalid_1's binary_logloss: 0.156714\n",
            "[50]\ttraining's binary_logloss: 0.111377\tvalid_1's binary_logloss: 0.131017\n",
            "[60]\ttraining's binary_logloss: 0.0913246\tvalid_1's binary_logloss: 0.114705\n",
            "[70]\ttraining's binary_logloss: 0.0766883\tvalid_1's binary_logloss: 0.103426\n",
            "[80]\ttraining's binary_logloss: 0.0662109\tvalid_1's binary_logloss: 0.0955257\n",
            "[90]\ttraining's binary_logloss: 0.0579735\tvalid_1's binary_logloss: 0.0907321\n",
            "[100]\ttraining's binary_logloss: 0.0519366\tvalid_1's binary_logloss: 0.0873016\n",
            "[110]\ttraining's binary_logloss: 0.0467174\tvalid_1's binary_logloss: 0.084692\n",
            "[120]\ttraining's binary_logloss: 0.042823\tvalid_1's binary_logloss: 0.0825027\n",
            "[130]\ttraining's binary_logloss: 0.039263\tvalid_1's binary_logloss: 0.080728\n",
            "[140]\ttraining's binary_logloss: 0.0368088\tvalid_1's binary_logloss: 0.0795862\n",
            "[150]\ttraining's binary_logloss: 0.0341807\tvalid_1's binary_logloss: 0.0785089\n",
            "[160]\ttraining's binary_logloss: 0.031824\tvalid_1's binary_logloss: 0.0776682\n",
            "[170]\ttraining's binary_logloss: 0.0294623\tvalid_1's binary_logloss: 0.0773473\n",
            "[180]\ttraining's binary_logloss: 0.0277132\tvalid_1's binary_logloss: 0.0770717\n",
            "[190]\ttraining's binary_logloss: 0.0260938\tvalid_1's binary_logloss: 0.0768503\n",
            "[200]\ttraining's binary_logloss: 0.0243262\tvalid_1's binary_logloss: 0.0768429\n",
            "[210]\ttraining's binary_logloss: 0.0228748\tvalid_1's binary_logloss: 0.076908\n",
            "[220]\ttraining's binary_logloss: 0.021454\tvalid_1's binary_logloss: 0.0766721\n",
            "[230]\ttraining's binary_logloss: 0.0199342\tvalid_1's binary_logloss: 0.076072\n",
            "[240]\ttraining's binary_logloss: 0.0185507\tvalid_1's binary_logloss: 0.075876\n",
            "[250]\ttraining's binary_logloss: 0.0175056\tvalid_1's binary_logloss: 0.075725\n",
            "[260]\ttraining's binary_logloss: 0.0163431\tvalid_1's binary_logloss: 0.0753673\n",
            "[270]\ttraining's binary_logloss: 0.0151222\tvalid_1's binary_logloss: 0.0750839\n",
            "[280]\ttraining's binary_logloss: 0.0140374\tvalid_1's binary_logloss: 0.0746954\n",
            "[290]\ttraining's binary_logloss: 0.013094\tvalid_1's binary_logloss: 0.074504\n",
            "[300]\ttraining's binary_logloss: 0.0123084\tvalid_1's binary_logloss: 0.0747105\n",
            "[310]\ttraining's binary_logloss: 0.0114225\tvalid_1's binary_logloss: 0.0748976\n",
            "[320]\ttraining's binary_logloss: 0.0107359\tvalid_1's binary_logloss: 0.0751468\n",
            "[330]\ttraining's binary_logloss: 0.0101537\tvalid_1's binary_logloss: 0.0751449\n",
            "[340]\ttraining's binary_logloss: 0.00961056\tvalid_1's binary_logloss: 0.0755691\n",
            "[350]\ttraining's binary_logloss: 0.00917149\tvalid_1's binary_logloss: 0.0756973\n"
          ],
          "name": "stdout"
        },
        {
          "output_type": "stream",
          "text": [
            "\u001b[32m[I 2021-06-02 19:09:16,687]\u001b[0m Trial 7 finished with value: 0.07448800223470399 and parameters: {'n_estimators': 500, 'lerning_rate': 0.05, 'max_depth': 7, 'max_features': 0.1, 'min_samples_split': 2, 'min_samples_leaf': 2}. Best is trial 0 with value: 0.07448800223470399.\u001b[0m\n"
          ],
          "name": "stderr"
        },
        {
          "output_type": "stream",
          "text": [
            "[360]\ttraining's binary_logloss: 0.00863189\tvalid_1's binary_logloss: 0.076131\n",
            "[370]\ttraining's binary_logloss: 0.00827119\tvalid_1's binary_logloss: 0.0763711\n",
            "[380]\ttraining's binary_logloss: 0.00773575\tvalid_1's binary_logloss: 0.0768945\n",
            "Early stopping, best iteration is:\n",
            "[284]\ttraining's binary_logloss: 0.0136564\tvalid_1's binary_logloss: 0.074488\n",
            "Training until validation scores don't improve for 100 rounds.\n",
            "[10]\ttraining's binary_logloss: 0.409857\tvalid_1's binary_logloss: 0.411575\n"
          ],
          "name": "stdout"
        },
        {
          "output_type": "stream",
          "text": [
            "/usr/local/lib/python3.7/dist-packages/lightgbm/engine.py:118: UserWarning:\n",
            "\n",
            "Found `n_estimators` in params. Will use it instead of argument\n",
            "\n",
            "/usr/local/lib/python3.7/dist-packages/lightgbm/basic.py:1205: UserWarning:\n",
            "\n",
            "Using categorical_feature in Dataset.\n",
            "\n",
            "/usr/local/lib/python3.7/dist-packages/lightgbm/basic.py:762: UserWarning:\n",
            "\n",
            "categorical_feature in param dict is overridden.\n",
            "\n"
          ],
          "name": "stderr"
        },
        {
          "output_type": "stream",
          "text": [
            "[20]\ttraining's binary_logloss: 0.267202\tvalid_1's binary_logloss: 0.273658\n",
            "[30]\ttraining's binary_logloss: 0.188147\tvalid_1's binary_logloss: 0.199805\n",
            "[40]\ttraining's binary_logloss: 0.140546\tvalid_1's binary_logloss: 0.156187\n",
            "[50]\ttraining's binary_logloss: 0.110349\tvalid_1's binary_logloss: 0.130895\n",
            "[60]\ttraining's binary_logloss: 0.0902005\tvalid_1's binary_logloss: 0.114351\n",
            "[70]\ttraining's binary_logloss: 0.0755908\tvalid_1's binary_logloss: 0.102603\n",
            "[80]\ttraining's binary_logloss: 0.0646585\tvalid_1's binary_logloss: 0.0947769\n",
            "[90]\ttraining's binary_logloss: 0.0565063\tvalid_1's binary_logloss: 0.0899954\n",
            "[100]\ttraining's binary_logloss: 0.0502482\tvalid_1's binary_logloss: 0.0871729\n",
            "[110]\ttraining's binary_logloss: 0.0449098\tvalid_1's binary_logloss: 0.0846616\n",
            "[120]\ttraining's binary_logloss: 0.0409557\tvalid_1's binary_logloss: 0.0829291\n",
            "[130]\ttraining's binary_logloss: 0.0373761\tvalid_1's binary_logloss: 0.0816816\n",
            "[140]\ttraining's binary_logloss: 0.034035\tvalid_1's binary_logloss: 0.0804962\n",
            "[150]\ttraining's binary_logloss: 0.0311156\tvalid_1's binary_logloss: 0.0796231\n",
            "[160]\ttraining's binary_logloss: 0.028688\tvalid_1's binary_logloss: 0.0790155\n",
            "[170]\ttraining's binary_logloss: 0.026794\tvalid_1's binary_logloss: 0.0784011\n",
            "[180]\ttraining's binary_logloss: 0.0248347\tvalid_1's binary_logloss: 0.0780895\n",
            "[190]\ttraining's binary_logloss: 0.0227093\tvalid_1's binary_logloss: 0.0775361\n",
            "[200]\ttraining's binary_logloss: 0.020774\tvalid_1's binary_logloss: 0.0768253\n",
            "[210]\ttraining's binary_logloss: 0.0193763\tvalid_1's binary_logloss: 0.0769856\n",
            "[220]\ttraining's binary_logloss: 0.0178966\tvalid_1's binary_logloss: 0.0769537\n",
            "[230]\ttraining's binary_logloss: 0.0166873\tvalid_1's binary_logloss: 0.0769032\n",
            "[240]\ttraining's binary_logloss: 0.0155855\tvalid_1's binary_logloss: 0.0769729\n",
            "[250]\ttraining's binary_logloss: 0.0146673\tvalid_1's binary_logloss: 0.077249\n"
          ],
          "name": "stdout"
        },
        {
          "output_type": "stream",
          "text": [
            "\u001b[32m[I 2021-06-02 19:09:17,579]\u001b[0m Trial 8 finished with value: 0.07682527594288036 and parameters: {'n_estimators': 1000, 'lerning_rate': 0.05, 'max_depth': 8, 'max_features': 0.3, 'min_samples_split': 2, 'min_samples_leaf': 2}. Best is trial 0 with value: 0.07448800223470399.\u001b[0m\n"
          ],
          "name": "stderr"
        },
        {
          "output_type": "stream",
          "text": [
            "[260]\ttraining's binary_logloss: 0.0137546\tvalid_1's binary_logloss: 0.0774029\n",
            "[270]\ttraining's binary_logloss: 0.0127554\tvalid_1's binary_logloss: 0.0772952\n",
            "[280]\ttraining's binary_logloss: 0.0118789\tvalid_1's binary_logloss: 0.0772718\n",
            "[290]\ttraining's binary_logloss: 0.0110396\tvalid_1's binary_logloss: 0.0776678\n",
            "[300]\ttraining's binary_logloss: 0.0102129\tvalid_1's binary_logloss: 0.0778492\n",
            "Early stopping, best iteration is:\n",
            "[200]\ttraining's binary_logloss: 0.020774\tvalid_1's binary_logloss: 0.0768253\n",
            "Training until validation scores don't improve for 100 rounds.\n"
          ],
          "name": "stdout"
        },
        {
          "output_type": "stream",
          "text": [
            "/usr/local/lib/python3.7/dist-packages/lightgbm/engine.py:118: UserWarning:\n",
            "\n",
            "Found `n_estimators` in params. Will use it instead of argument\n",
            "\n",
            "/usr/local/lib/python3.7/dist-packages/lightgbm/basic.py:1205: UserWarning:\n",
            "\n",
            "Using categorical_feature in Dataset.\n",
            "\n",
            "/usr/local/lib/python3.7/dist-packages/lightgbm/basic.py:762: UserWarning:\n",
            "\n",
            "categorical_feature in param dict is overridden.\n",
            "\n"
          ],
          "name": "stderr"
        },
        {
          "output_type": "stream",
          "text": [
            "[10]\ttraining's binary_logloss: 0.418997\tvalid_1's binary_logloss: 0.420731\n",
            "[20]\ttraining's binary_logloss: 0.282218\tvalid_1's binary_logloss: 0.287381\n",
            "[30]\ttraining's binary_logloss: 0.206188\tvalid_1's binary_logloss: 0.215322\n",
            "[40]\ttraining's binary_logloss: 0.160089\tvalid_1's binary_logloss: 0.171675\n",
            "[50]\ttraining's binary_logloss: 0.130013\tvalid_1's binary_logloss: 0.144479\n",
            "[60]\ttraining's binary_logloss: 0.109227\tvalid_1's binary_logloss: 0.125945\n",
            "[70]\ttraining's binary_logloss: 0.0940343\tvalid_1's binary_logloss: 0.113364\n",
            "[80]\ttraining's binary_logloss: 0.0828253\tvalid_1's binary_logloss: 0.104801\n",
            "[90]\ttraining's binary_logloss: 0.0744705\tvalid_1's binary_logloss: 0.0988442\n",
            "[100]\ttraining's binary_logloss: 0.0678946\tvalid_1's binary_logloss: 0.094721\n",
            "[110]\ttraining's binary_logloss: 0.0624988\tvalid_1's binary_logloss: 0.0913801\n",
            "[120]\ttraining's binary_logloss: 0.0585045\tvalid_1's binary_logloss: 0.089354\n",
            "[130]\ttraining's binary_logloss: 0.0550333\tvalid_1's binary_logloss: 0.0874419\n",
            "[140]\ttraining's binary_logloss: 0.0519388\tvalid_1's binary_logloss: 0.0858294\n",
            "[150]\ttraining's binary_logloss: 0.0492584\tvalid_1's binary_logloss: 0.0848701\n",
            "[160]\ttraining's binary_logloss: 0.0466821\tvalid_1's binary_logloss: 0.0838417\n",
            "[170]\ttraining's binary_logloss: 0.0445855\tvalid_1's binary_logloss: 0.0833475\n",
            "[180]\ttraining's binary_logloss: 0.0422962\tvalid_1's binary_logloss: 0.0824579\n",
            "[190]\ttraining's binary_logloss: 0.0404459\tvalid_1's binary_logloss: 0.0819334\n",
            "[200]\ttraining's binary_logloss: 0.0390711\tvalid_1's binary_logloss: 0.0813806\n",
            "[210]\ttraining's binary_logloss: 0.0373853\tvalid_1's binary_logloss: 0.080532\n",
            "[220]\ttraining's binary_logloss: 0.0360873\tvalid_1's binary_logloss: 0.0802617\n",
            "[230]\ttraining's binary_logloss: 0.0346456\tvalid_1's binary_logloss: 0.0801191\n",
            "[240]\ttraining's binary_logloss: 0.0336365\tvalid_1's binary_logloss: 0.0798566\n",
            "[250]\ttraining's binary_logloss: 0.0320279\tvalid_1's binary_logloss: 0.0792543\n",
            "[260]\ttraining's binary_logloss: 0.0309858\tvalid_1's binary_logloss: 0.0789378\n",
            "[270]\ttraining's binary_logloss: 0.0300017\tvalid_1's binary_logloss: 0.079113\n",
            "[280]\ttraining's binary_logloss: 0.0284746\tvalid_1's binary_logloss: 0.0786074\n",
            "[290]\ttraining's binary_logloss: 0.0276014\tvalid_1's binary_logloss: 0.0785746\n",
            "[300]\ttraining's binary_logloss: 0.026531\tvalid_1's binary_logloss: 0.0787535\n",
            "[310]\ttraining's binary_logloss: 0.0254982\tvalid_1's binary_logloss: 0.0786233\n",
            "[320]\ttraining's binary_logloss: 0.0244612\tvalid_1's binary_logloss: 0.0783247\n",
            "[330]\ttraining's binary_logloss: 0.0234639\tvalid_1's binary_logloss: 0.0782165\n",
            "[340]\ttraining's binary_logloss: 0.0224665\tvalid_1's binary_logloss: 0.078238\n",
            "[350]\ttraining's binary_logloss: 0.0214653\tvalid_1's binary_logloss: 0.078109\n",
            "[360]\ttraining's binary_logloss: 0.020878\tvalid_1's binary_logloss: 0.0783936\n",
            "[370]\ttraining's binary_logloss: 0.0201838\tvalid_1's binary_logloss: 0.07862\n",
            "[380]\ttraining's binary_logloss: 0.0193581\tvalid_1's binary_logloss: 0.0788847\n",
            "[390]\ttraining's binary_logloss: 0.0185383\tvalid_1's binary_logloss: 0.0789581\n",
            "[400]\ttraining's binary_logloss: 0.0180344\tvalid_1's binary_logloss: 0.0792781\n",
            "[410]\ttraining's binary_logloss: 0.017412\tvalid_1's binary_logloss: 0.0793388\n",
            "[420]\ttraining's binary_logloss: 0.0168615\tvalid_1's binary_logloss: 0.079478\n",
            "[430]\ttraining's binary_logloss: 0.0161291\tvalid_1's binary_logloss: 0.0792406\n",
            "[440]\ttraining's binary_logloss: 0.0154738\tvalid_1's binary_logloss: 0.0791613\n",
            "Early stopping, best iteration is:\n",
            "[344]\ttraining's binary_logloss: 0.0220129\tvalid_1's binary_logloss: 0.0780557\n"
          ],
          "name": "stdout"
        },
        {
          "output_type": "stream",
          "text": [
            "\u001b[32m[I 2021-06-02 19:09:18,751]\u001b[0m Trial 9 finished with value: 0.0780556546583138 and parameters: {'n_estimators': 500, 'lerning_rate': 0.05, 'max_depth': 5, 'max_features': 0.1, 'min_samples_split': 6, 'min_samples_leaf': 6}. Best is trial 0 with value: 0.07448800223470399.\u001b[0m\n",
            "/usr/local/lib/python3.7/dist-packages/lightgbm/engine.py:118: UserWarning:\n",
            "\n",
            "Found `n_estimators` in params. Will use it instead of argument\n",
            "\n",
            "/usr/local/lib/python3.7/dist-packages/lightgbm/basic.py:1205: UserWarning:\n",
            "\n",
            "Using categorical_feature in Dataset.\n",
            "\n",
            "/usr/local/lib/python3.7/dist-packages/lightgbm/basic.py:762: UserWarning:\n",
            "\n",
            "categorical_feature in param dict is overridden.\n",
            "\n"
          ],
          "name": "stderr"
        },
        {
          "output_type": "stream",
          "text": [
            "Training until validation scores don't improve for 100 rounds.\n",
            "[10]\ttraining's binary_logloss: 0.265484\tvalid_1's binary_logloss: 0.270788\n",
            "[20]\ttraining's binary_logloss: 0.141454\tvalid_1's binary_logloss: 0.155841\n",
            "[30]\ttraining's binary_logloss: 0.0913956\tvalid_1's binary_logloss: 0.114023\n",
            "[40]\ttraining's binary_logloss: 0.0659753\tvalid_1's binary_logloss: 0.0951342\n",
            "[50]\ttraining's binary_logloss: 0.0518051\tvalid_1's binary_logloss: 0.0872426\n",
            "[60]\ttraining's binary_logloss: 0.0420666\tvalid_1's binary_logloss: 0.0829783\n",
            "[70]\ttraining's binary_logloss: 0.0349382\tvalid_1's binary_logloss: 0.079769\n",
            "[80]\ttraining's binary_logloss: 0.0304187\tvalid_1's binary_logloss: 0.0783453\n",
            "[90]\ttraining's binary_logloss: 0.0268742\tvalid_1's binary_logloss: 0.0784974\n",
            "[100]\ttraining's binary_logloss: 0.0234778\tvalid_1's binary_logloss: 0.0787675\n",
            "[110]\ttraining's binary_logloss: 0.019951\tvalid_1's binary_logloss: 0.0779364\n",
            "[120]\ttraining's binary_logloss: 0.0172662\tvalid_1's binary_logloss: 0.0786049\n",
            "[130]\ttraining's binary_logloss: 0.0149412\tvalid_1's binary_logloss: 0.0781018\n",
            "[140]\ttraining's binary_logloss: 0.013256\tvalid_1's binary_logloss: 0.0786329\n",
            "[150]\ttraining's binary_logloss: 0.0116296\tvalid_1's binary_logloss: 0.079005\n",
            "[160]\ttraining's binary_logloss: 0.0101228\tvalid_1's binary_logloss: 0.0792184\n"
          ],
          "name": "stdout"
        },
        {
          "output_type": "stream",
          "text": [
            "\u001b[32m[I 2021-06-02 19:09:19,348]\u001b[0m Trial 10 finished with value: 0.07793637174609908 and parameters: {'n_estimators': 1000, 'lerning_rate': 0.1, 'max_depth': 7, 'max_features': 0.5, 'min_samples_split': 2, 'min_samples_leaf': 6}. Best is trial 0 with value: 0.07448800223470399.\u001b[0m\n"
          ],
          "name": "stderr"
        },
        {
          "output_type": "stream",
          "text": [
            "[170]\ttraining's binary_logloss: 0.00909075\tvalid_1's binary_logloss: 0.0803631\n",
            "[180]\ttraining's binary_logloss: 0.00801235\tvalid_1's binary_logloss: 0.0808345\n",
            "[190]\ttraining's binary_logloss: 0.00711092\tvalid_1's binary_logloss: 0.0812948\n",
            "[200]\ttraining's binary_logloss: 0.00615468\tvalid_1's binary_logloss: 0.0822679\n",
            "[210]\ttraining's binary_logloss: 0.00527397\tvalid_1's binary_logloss: 0.0829521\n",
            "Early stopping, best iteration is:\n",
            "[110]\ttraining's binary_logloss: 0.019951\tvalid_1's binary_logloss: 0.0779364\n",
            "Training until validation scores don't improve for 100 rounds.\n",
            "[10]\ttraining's binary_logloss: 0.409698\tvalid_1's binary_logloss: 0.411253\n"
          ],
          "name": "stdout"
        },
        {
          "output_type": "stream",
          "text": [
            "/usr/local/lib/python3.7/dist-packages/lightgbm/engine.py:118: UserWarning:\n",
            "\n",
            "Found `n_estimators` in params. Will use it instead of argument\n",
            "\n",
            "/usr/local/lib/python3.7/dist-packages/lightgbm/basic.py:1205: UserWarning:\n",
            "\n",
            "Using categorical_feature in Dataset.\n",
            "\n",
            "/usr/local/lib/python3.7/dist-packages/lightgbm/basic.py:762: UserWarning:\n",
            "\n",
            "categorical_feature in param dict is overridden.\n",
            "\n"
          ],
          "name": "stderr"
        },
        {
          "output_type": "stream",
          "text": [
            "[20]\ttraining's binary_logloss: 0.267993\tvalid_1's binary_logloss: 0.274399\n",
            "[30]\ttraining's binary_logloss: 0.189238\tvalid_1's binary_logloss: 0.200589\n",
            "[40]\ttraining's binary_logloss: 0.141871\tvalid_1's binary_logloss: 0.156714\n",
            "[50]\ttraining's binary_logloss: 0.111377\tvalid_1's binary_logloss: 0.131017\n",
            "[60]\ttraining's binary_logloss: 0.0913246\tvalid_1's binary_logloss: 0.114705\n",
            "[70]\ttraining's binary_logloss: 0.0766883\tvalid_1's binary_logloss: 0.103426\n",
            "[80]\ttraining's binary_logloss: 0.0662109\tvalid_1's binary_logloss: 0.0955257\n",
            "[90]\ttraining's binary_logloss: 0.0579735\tvalid_1's binary_logloss: 0.0907321\n",
            "[100]\ttraining's binary_logloss: 0.0519366\tvalid_1's binary_logloss: 0.0873016\n",
            "[110]\ttraining's binary_logloss: 0.0467174\tvalid_1's binary_logloss: 0.084692\n",
            "[120]\ttraining's binary_logloss: 0.042823\tvalid_1's binary_logloss: 0.0825027\n",
            "[130]\ttraining's binary_logloss: 0.039263\tvalid_1's binary_logloss: 0.080728\n",
            "[140]\ttraining's binary_logloss: 0.0368088\tvalid_1's binary_logloss: 0.0795862\n",
            "[150]\ttraining's binary_logloss: 0.0341807\tvalid_1's binary_logloss: 0.0785089\n",
            "[160]\ttraining's binary_logloss: 0.031824\tvalid_1's binary_logloss: 0.0776682\n",
            "[170]\ttraining's binary_logloss: 0.0294623\tvalid_1's binary_logloss: 0.0773473\n",
            "[180]\ttraining's binary_logloss: 0.0277132\tvalid_1's binary_logloss: 0.0770717\n",
            "[190]\ttraining's binary_logloss: 0.0260938\tvalid_1's binary_logloss: 0.0768503\n",
            "[200]\ttraining's binary_logloss: 0.0243262\tvalid_1's binary_logloss: 0.0768429\n",
            "[210]\ttraining's binary_logloss: 0.0228748\tvalid_1's binary_logloss: 0.076908\n",
            "[220]\ttraining's binary_logloss: 0.021454\tvalid_1's binary_logloss: 0.0766721\n",
            "[230]\ttraining's binary_logloss: 0.0199342\tvalid_1's binary_logloss: 0.076072\n",
            "[240]\ttraining's binary_logloss: 0.0185507\tvalid_1's binary_logloss: 0.075876\n",
            "[250]\ttraining's binary_logloss: 0.0175056\tvalid_1's binary_logloss: 0.075725\n",
            "[260]\ttraining's binary_logloss: 0.0163431\tvalid_1's binary_logloss: 0.0753673\n",
            "[270]\ttraining's binary_logloss: 0.0151222\tvalid_1's binary_logloss: 0.0750839\n",
            "[280]\ttraining's binary_logloss: 0.0140374\tvalid_1's binary_logloss: 0.0746954\n",
            "[290]\ttraining's binary_logloss: 0.013094\tvalid_1's binary_logloss: 0.074504\n",
            "[300]\ttraining's binary_logloss: 0.0123084\tvalid_1's binary_logloss: 0.0747105\n",
            "[310]\ttraining's binary_logloss: 0.0114225\tvalid_1's binary_logloss: 0.0748976\n",
            "[320]\ttraining's binary_logloss: 0.0107359\tvalid_1's binary_logloss: 0.0751468\n",
            "[330]\ttraining's binary_logloss: 0.0101537\tvalid_1's binary_logloss: 0.0751449\n",
            "[340]\ttraining's binary_logloss: 0.00961056\tvalid_1's binary_logloss: 0.0755691\n",
            "[350]\ttraining's binary_logloss: 0.00917149\tvalid_1's binary_logloss: 0.0756973\n"
          ],
          "name": "stdout"
        },
        {
          "output_type": "stream",
          "text": [
            "\u001b[32m[I 2021-06-02 19:09:20,448]\u001b[0m Trial 11 finished with value: 0.07448800223470399 and parameters: {'n_estimators': 500, 'lerning_rate': 0.05, 'max_depth': 7, 'max_features': 0.5, 'min_samples_split': 2, 'min_samples_leaf': 6}. Best is trial 0 with value: 0.07448800223470399.\u001b[0m\n"
          ],
          "name": "stderr"
        },
        {
          "output_type": "stream",
          "text": [
            "[360]\ttraining's binary_logloss: 0.00863189\tvalid_1's binary_logloss: 0.076131\n",
            "[370]\ttraining's binary_logloss: 0.00827119\tvalid_1's binary_logloss: 0.0763711\n",
            "[380]\ttraining's binary_logloss: 0.00773575\tvalid_1's binary_logloss: 0.0768945\n",
            "Early stopping, best iteration is:\n",
            "[284]\ttraining's binary_logloss: 0.0136564\tvalid_1's binary_logloss: 0.074488\n",
            "Training until validation scores don't improve for 100 rounds.\n",
            "[10]\ttraining's binary_logloss: 0.409698\tvalid_1's binary_logloss: 0.411253\n"
          ],
          "name": "stdout"
        },
        {
          "output_type": "stream",
          "text": [
            "/usr/local/lib/python3.7/dist-packages/lightgbm/engine.py:118: UserWarning:\n",
            "\n",
            "Found `n_estimators` in params. Will use it instead of argument\n",
            "\n",
            "/usr/local/lib/python3.7/dist-packages/lightgbm/basic.py:1205: UserWarning:\n",
            "\n",
            "Using categorical_feature in Dataset.\n",
            "\n",
            "/usr/local/lib/python3.7/dist-packages/lightgbm/basic.py:762: UserWarning:\n",
            "\n",
            "categorical_feature in param dict is overridden.\n",
            "\n"
          ],
          "name": "stderr"
        },
        {
          "output_type": "stream",
          "text": [
            "[20]\ttraining's binary_logloss: 0.267993\tvalid_1's binary_logloss: 0.274399\n",
            "[30]\ttraining's binary_logloss: 0.189238\tvalid_1's binary_logloss: 0.200589\n",
            "[40]\ttraining's binary_logloss: 0.141871\tvalid_1's binary_logloss: 0.156714\n",
            "[50]\ttraining's binary_logloss: 0.111377\tvalid_1's binary_logloss: 0.131017\n",
            "[60]\ttraining's binary_logloss: 0.0913246\tvalid_1's binary_logloss: 0.114705\n",
            "[70]\ttraining's binary_logloss: 0.0766883\tvalid_1's binary_logloss: 0.103426\n",
            "[80]\ttraining's binary_logloss: 0.0662109\tvalid_1's binary_logloss: 0.0955257\n",
            "[90]\ttraining's binary_logloss: 0.0579735\tvalid_1's binary_logloss: 0.0907321\n",
            "[100]\ttraining's binary_logloss: 0.0519366\tvalid_1's binary_logloss: 0.0873016\n",
            "[110]\ttraining's binary_logloss: 0.0467174\tvalid_1's binary_logloss: 0.084692\n",
            "[120]\ttraining's binary_logloss: 0.042823\tvalid_1's binary_logloss: 0.0825027\n",
            "[130]\ttraining's binary_logloss: 0.039263\tvalid_1's binary_logloss: 0.080728\n",
            "[140]\ttraining's binary_logloss: 0.0368088\tvalid_1's binary_logloss: 0.0795862\n",
            "[150]\ttraining's binary_logloss: 0.0341807\tvalid_1's binary_logloss: 0.0785089\n",
            "[160]\ttraining's binary_logloss: 0.031824\tvalid_1's binary_logloss: 0.0776682\n",
            "[170]\ttraining's binary_logloss: 0.0294623\tvalid_1's binary_logloss: 0.0773473\n",
            "[180]\ttraining's binary_logloss: 0.0277132\tvalid_1's binary_logloss: 0.0770717\n",
            "[190]\ttraining's binary_logloss: 0.0260938\tvalid_1's binary_logloss: 0.0768503\n",
            "[200]\ttraining's binary_logloss: 0.0243262\tvalid_1's binary_logloss: 0.0768429\n",
            "[210]\ttraining's binary_logloss: 0.0228748\tvalid_1's binary_logloss: 0.076908\n",
            "[220]\ttraining's binary_logloss: 0.021454\tvalid_1's binary_logloss: 0.0766721\n",
            "[230]\ttraining's binary_logloss: 0.0199342\tvalid_1's binary_logloss: 0.076072\n",
            "[240]\ttraining's binary_logloss: 0.0185507\tvalid_1's binary_logloss: 0.075876\n",
            "[250]\ttraining's binary_logloss: 0.0175056\tvalid_1's binary_logloss: 0.075725\n",
            "[260]\ttraining's binary_logloss: 0.0163431\tvalid_1's binary_logloss: 0.0753673\n",
            "[270]\ttraining's binary_logloss: 0.0151222\tvalid_1's binary_logloss: 0.0750839\n",
            "[280]\ttraining's binary_logloss: 0.0140374\tvalid_1's binary_logloss: 0.0746954\n",
            "[290]\ttraining's binary_logloss: 0.013094\tvalid_1's binary_logloss: 0.074504\n",
            "[300]\ttraining's binary_logloss: 0.0123084\tvalid_1's binary_logloss: 0.0747105\n",
            "[310]\ttraining's binary_logloss: 0.0114225\tvalid_1's binary_logloss: 0.0748976\n",
            "[320]\ttraining's binary_logloss: 0.0107359\tvalid_1's binary_logloss: 0.0751468\n",
            "[330]\ttraining's binary_logloss: 0.0101537\tvalid_1's binary_logloss: 0.0751449\n",
            "[340]\ttraining's binary_logloss: 0.00961056\tvalid_1's binary_logloss: 0.0755691\n",
            "[350]\ttraining's binary_logloss: 0.00917149\tvalid_1's binary_logloss: 0.0756973\n",
            "[360]\ttraining's binary_logloss: 0.00863189\tvalid_1's binary_logloss: 0.076131\n"
          ],
          "name": "stdout"
        },
        {
          "output_type": "stream",
          "text": [
            "\u001b[32m[I 2021-06-02 19:09:21,547]\u001b[0m Trial 12 finished with value: 0.07448800223470399 and parameters: {'n_estimators': 500, 'lerning_rate': 0.05, 'max_depth': 7, 'max_features': 0.5, 'min_samples_split': 2, 'min_samples_leaf': 6}. Best is trial 0 with value: 0.07448800223470399.\u001b[0m\n"
          ],
          "name": "stderr"
        },
        {
          "output_type": "stream",
          "text": [
            "[370]\ttraining's binary_logloss: 0.00827119\tvalid_1's binary_logloss: 0.0763711\n",
            "[380]\ttraining's binary_logloss: 0.00773575\tvalid_1's binary_logloss: 0.0768945\n",
            "Early stopping, best iteration is:\n",
            "[284]\ttraining's binary_logloss: 0.0136564\tvalid_1's binary_logloss: 0.074488\n",
            "Training until validation scores don't improve for 100 rounds.\n",
            "[10]\ttraining's binary_logloss: 0.409698\tvalid_1's binary_logloss: 0.411253\n",
            "[20]\ttraining's binary_logloss: 0.267993\tvalid_1's binary_logloss: 0.274399\n"
          ],
          "name": "stdout"
        },
        {
          "output_type": "stream",
          "text": [
            "/usr/local/lib/python3.7/dist-packages/lightgbm/engine.py:118: UserWarning:\n",
            "\n",
            "Found `n_estimators` in params. Will use it instead of argument\n",
            "\n",
            "/usr/local/lib/python3.7/dist-packages/lightgbm/basic.py:1205: UserWarning:\n",
            "\n",
            "Using categorical_feature in Dataset.\n",
            "\n",
            "/usr/local/lib/python3.7/dist-packages/lightgbm/basic.py:762: UserWarning:\n",
            "\n",
            "categorical_feature in param dict is overridden.\n",
            "\n"
          ],
          "name": "stderr"
        },
        {
          "output_type": "stream",
          "text": [
            "[30]\ttraining's binary_logloss: 0.189238\tvalid_1's binary_logloss: 0.200589\n",
            "[40]\ttraining's binary_logloss: 0.141871\tvalid_1's binary_logloss: 0.156714\n",
            "[50]\ttraining's binary_logloss: 0.111377\tvalid_1's binary_logloss: 0.131017\n",
            "[60]\ttraining's binary_logloss: 0.0913246\tvalid_1's binary_logloss: 0.114705\n",
            "[70]\ttraining's binary_logloss: 0.0766883\tvalid_1's binary_logloss: 0.103426\n",
            "[80]\ttraining's binary_logloss: 0.0662109\tvalid_1's binary_logloss: 0.0955257\n",
            "[90]\ttraining's binary_logloss: 0.0579735\tvalid_1's binary_logloss: 0.0907321\n",
            "[100]\ttraining's binary_logloss: 0.0519366\tvalid_1's binary_logloss: 0.0873016\n",
            "[110]\ttraining's binary_logloss: 0.0467174\tvalid_1's binary_logloss: 0.084692\n",
            "[120]\ttraining's binary_logloss: 0.042823\tvalid_1's binary_logloss: 0.0825027\n",
            "[130]\ttraining's binary_logloss: 0.039263\tvalid_1's binary_logloss: 0.080728\n",
            "[140]\ttraining's binary_logloss: 0.0368088\tvalid_1's binary_logloss: 0.0795862\n",
            "[150]\ttraining's binary_logloss: 0.0341807\tvalid_1's binary_logloss: 0.0785089\n",
            "[160]\ttraining's binary_logloss: 0.031824\tvalid_1's binary_logloss: 0.0776682\n",
            "[170]\ttraining's binary_logloss: 0.0294623\tvalid_1's binary_logloss: 0.0773473\n",
            "[180]\ttraining's binary_logloss: 0.0277132\tvalid_1's binary_logloss: 0.0770717\n",
            "[190]\ttraining's binary_logloss: 0.0260938\tvalid_1's binary_logloss: 0.0768503\n",
            "[200]\ttraining's binary_logloss: 0.0243262\tvalid_1's binary_logloss: 0.0768429\n",
            "[210]\ttraining's binary_logloss: 0.0228748\tvalid_1's binary_logloss: 0.076908\n",
            "[220]\ttraining's binary_logloss: 0.021454\tvalid_1's binary_logloss: 0.0766721\n",
            "[230]\ttraining's binary_logloss: 0.0199342\tvalid_1's binary_logloss: 0.076072\n",
            "[240]\ttraining's binary_logloss: 0.0185507\tvalid_1's binary_logloss: 0.075876\n",
            "[250]\ttraining's binary_logloss: 0.0175056\tvalid_1's binary_logloss: 0.075725\n",
            "[260]\ttraining's binary_logloss: 0.0163431\tvalid_1's binary_logloss: 0.0753673\n",
            "[270]\ttraining's binary_logloss: 0.0151222\tvalid_1's binary_logloss: 0.0750839\n",
            "[280]\ttraining's binary_logloss: 0.0140374\tvalid_1's binary_logloss: 0.0746954\n",
            "[290]\ttraining's binary_logloss: 0.013094\tvalid_1's binary_logloss: 0.074504\n",
            "[300]\ttraining's binary_logloss: 0.0123084\tvalid_1's binary_logloss: 0.0747105\n",
            "[310]\ttraining's binary_logloss: 0.0114225\tvalid_1's binary_logloss: 0.0748976\n",
            "[320]\ttraining's binary_logloss: 0.0107359\tvalid_1's binary_logloss: 0.0751468\n",
            "[330]\ttraining's binary_logloss: 0.0101537\tvalid_1's binary_logloss: 0.0751449\n",
            "[340]\ttraining's binary_logloss: 0.00961056\tvalid_1's binary_logloss: 0.0755691\n",
            "[350]\ttraining's binary_logloss: 0.00917149\tvalid_1's binary_logloss: 0.0756973\n",
            "[360]\ttraining's binary_logloss: 0.00863189\tvalid_1's binary_logloss: 0.076131\n",
            "[370]\ttraining's binary_logloss: 0.00827119\tvalid_1's binary_logloss: 0.0763711\n"
          ],
          "name": "stdout"
        },
        {
          "output_type": "stream",
          "text": [
            "\u001b[32m[I 2021-06-02 19:09:22,661]\u001b[0m Trial 13 finished with value: 0.07448800223470399 and parameters: {'n_estimators': 500, 'lerning_rate': 0.05, 'max_depth': 7, 'max_features': 0.5, 'min_samples_split': 2, 'min_samples_leaf': 2}. Best is trial 0 with value: 0.07448800223470399.\u001b[0m\n"
          ],
          "name": "stderr"
        },
        {
          "output_type": "stream",
          "text": [
            "[380]\ttraining's binary_logloss: 0.00773575\tvalid_1's binary_logloss: 0.0768945\n",
            "Early stopping, best iteration is:\n",
            "[284]\ttraining's binary_logloss: 0.0136564\tvalid_1's binary_logloss: 0.074488\n",
            "Training until validation scores don't improve for 100 rounds.\n",
            "[10]\ttraining's binary_logloss: 0.617153\tvalid_1's binary_logloss: 0.617242\n",
            "[20]\ttraining's binary_logloss: 0.553972\tvalid_1's binary_logloss: 0.554072\n"
          ],
          "name": "stdout"
        },
        {
          "output_type": "stream",
          "text": [
            "/usr/local/lib/python3.7/dist-packages/lightgbm/engine.py:118: UserWarning:\n",
            "\n",
            "Found `n_estimators` in params. Will use it instead of argument\n",
            "\n",
            "/usr/local/lib/python3.7/dist-packages/lightgbm/basic.py:1205: UserWarning:\n",
            "\n",
            "Using categorical_feature in Dataset.\n",
            "\n",
            "/usr/local/lib/python3.7/dist-packages/lightgbm/basic.py:762: UserWarning:\n",
            "\n",
            "categorical_feature in param dict is overridden.\n",
            "\n"
          ],
          "name": "stderr"
        },
        {
          "output_type": "stream",
          "text": [
            "[30]\ttraining's binary_logloss: 0.500474\tvalid_1's binary_logloss: 0.500795\n",
            "[40]\ttraining's binary_logloss: 0.453758\tvalid_1's binary_logloss: 0.454518\n",
            "[50]\ttraining's binary_logloss: 0.412333\tvalid_1's binary_logloss: 0.413831\n",
            "[60]\ttraining's binary_logloss: 0.376057\tvalid_1's binary_logloss: 0.378553\n",
            "[70]\ttraining's binary_logloss: 0.344534\tvalid_1's binary_logloss: 0.347978\n",
            "[80]\ttraining's binary_logloss: 0.316671\tvalid_1's binary_logloss: 0.321011\n",
            "[90]\ttraining's binary_logloss: 0.292122\tvalid_1's binary_logloss: 0.297588\n",
            "[100]\ttraining's binary_logloss: 0.270129\tvalid_1's binary_logloss: 0.276866\n",
            "[110]\ttraining's binary_logloss: 0.25063\tvalid_1's binary_logloss: 0.2583\n",
            "[120]\ttraining's binary_logloss: 0.233145\tvalid_1's binary_logloss: 0.241869\n",
            "[130]\ttraining's binary_logloss: 0.217582\tvalid_1's binary_logloss: 0.227239\n",
            "[140]\ttraining's binary_logloss: 0.20359\tvalid_1's binary_logloss: 0.214207\n",
            "[150]\ttraining's binary_logloss: 0.190863\tvalid_1's binary_logloss: 0.202545\n",
            "[160]\ttraining's binary_logloss: 0.179237\tvalid_1's binary_logloss: 0.191814\n",
            "[170]\ttraining's binary_logloss: 0.168811\tvalid_1's binary_logloss: 0.181962\n",
            "[180]\ttraining's binary_logloss: 0.159422\tvalid_1's binary_logloss: 0.173081\n",
            "[190]\ttraining's binary_logloss: 0.15085\tvalid_1's binary_logloss: 0.165157\n",
            "[200]\ttraining's binary_logloss: 0.143121\tvalid_1's binary_logloss: 0.158015\n",
            "[210]\ttraining's binary_logloss: 0.1358\tvalid_1's binary_logloss: 0.15154\n",
            "[220]\ttraining's binary_logloss: 0.12902\tvalid_1's binary_logloss: 0.145871\n",
            "[230]\ttraining's binary_logloss: 0.122776\tvalid_1's binary_logloss: 0.140757\n",
            "[240]\ttraining's binary_logloss: 0.117185\tvalid_1's binary_logloss: 0.136169\n",
            "[250]\ttraining's binary_logloss: 0.112119\tvalid_1's binary_logloss: 0.131949\n",
            "[260]\ttraining's binary_logloss: 0.107469\tvalid_1's binary_logloss: 0.128116\n",
            "[270]\ttraining's binary_logloss: 0.103213\tvalid_1's binary_logloss: 0.1246\n",
            "[280]\ttraining's binary_logloss: 0.0992351\tvalid_1's binary_logloss: 0.121302\n",
            "[290]\ttraining's binary_logloss: 0.0952946\tvalid_1's binary_logloss: 0.118206\n",
            "[300]\ttraining's binary_logloss: 0.091742\tvalid_1's binary_logloss: 0.115256\n",
            "[310]\ttraining's binary_logloss: 0.0884151\tvalid_1's binary_logloss: 0.112647\n",
            "[320]\ttraining's binary_logloss: 0.0853472\tvalid_1's binary_logloss: 0.110188\n",
            "[330]\ttraining's binary_logloss: 0.0825442\tvalid_1's binary_logloss: 0.107992\n",
            "[340]\ttraining's binary_logloss: 0.0798766\tvalid_1's binary_logloss: 0.105971\n",
            "[350]\ttraining's binary_logloss: 0.0774121\tvalid_1's binary_logloss: 0.10404\n",
            "[360]\ttraining's binary_logloss: 0.0750978\tvalid_1's binary_logloss: 0.102237\n",
            "[370]\ttraining's binary_logloss: 0.0729044\tvalid_1's binary_logloss: 0.100645\n",
            "[380]\ttraining's binary_logloss: 0.0706852\tvalid_1's binary_logloss: 0.0989826\n",
            "[390]\ttraining's binary_logloss: 0.0686055\tvalid_1's binary_logloss: 0.0975003\n",
            "[400]\ttraining's binary_logloss: 0.0666136\tvalid_1's binary_logloss: 0.0961084\n",
            "[410]\ttraining's binary_logloss: 0.0648006\tvalid_1's binary_logloss: 0.0949209\n",
            "[420]\ttraining's binary_logloss: 0.0630678\tvalid_1's binary_logloss: 0.0938229\n",
            "[430]\ttraining's binary_logloss: 0.0613963\tvalid_1's binary_logloss: 0.0928306\n",
            "[440]\ttraining's binary_logloss: 0.0598742\tvalid_1's binary_logloss: 0.0918384\n",
            "[450]\ttraining's binary_logloss: 0.0584271\tvalid_1's binary_logloss: 0.0909909\n",
            "[460]\ttraining's binary_logloss: 0.0571237\tvalid_1's binary_logloss: 0.0903084\n",
            "[470]\ttraining's binary_logloss: 0.0558672\tvalid_1's binary_logloss: 0.0896661\n",
            "[480]\ttraining's binary_logloss: 0.0546622\tvalid_1's binary_logloss: 0.0891082\n",
            "[490]\ttraining's binary_logloss: 0.0534624\tvalid_1's binary_logloss: 0.0884549\n"
          ],
          "name": "stdout"
        },
        {
          "output_type": "stream",
          "text": [
            "\u001b[32m[I 2021-06-02 19:09:24,243]\u001b[0m Trial 14 finished with value: 0.08792617917978822 and parameters: {'n_estimators': 500, 'lerning_rate': 0.01, 'max_depth': 7, 'max_features': 0.5, 'min_samples_split': 2, 'min_samples_leaf': 6}. Best is trial 0 with value: 0.07448800223470399.\u001b[0m\n"
          ],
          "name": "stderr"
        },
        {
          "output_type": "stream",
          "text": [
            "[500]\ttraining's binary_logloss: 0.052371\tvalid_1's binary_logloss: 0.0879262\n",
            "Did not meet early stopping. Best iteration is:\n",
            "[500]\ttraining's binary_logloss: 0.052371\tvalid_1's binary_logloss: 0.0879262\n",
            "Training until validation scores don't improve for 100 rounds.\n"
          ],
          "name": "stdout"
        },
        {
          "output_type": "stream",
          "text": [
            "/usr/local/lib/python3.7/dist-packages/lightgbm/engine.py:118: UserWarning:\n",
            "\n",
            "Found `n_estimators` in params. Will use it instead of argument\n",
            "\n",
            "/usr/local/lib/python3.7/dist-packages/lightgbm/basic.py:1205: UserWarning:\n",
            "\n",
            "Using categorical_feature in Dataset.\n",
            "\n",
            "/usr/local/lib/python3.7/dist-packages/lightgbm/basic.py:762: UserWarning:\n",
            "\n",
            "categorical_feature in param dict is overridden.\n",
            "\n"
          ],
          "name": "stderr"
        },
        {
          "output_type": "stream",
          "text": [
            "[10]\ttraining's binary_logloss: 0.266767\tvalid_1's binary_logloss: 0.274705\n",
            "[20]\ttraining's binary_logloss: 0.144443\tvalid_1's binary_logloss: 0.159431\n",
            "[30]\ttraining's binary_logloss: 0.0958977\tvalid_1's binary_logloss: 0.118034\n",
            "[40]\ttraining's binary_logloss: 0.0702442\tvalid_1's binary_logloss: 0.0996568\n",
            "[50]\ttraining's binary_logloss: 0.0564647\tvalid_1's binary_logloss: 0.0912706\n",
            "[60]\ttraining's binary_logloss: 0.046874\tvalid_1's binary_logloss: 0.0870191\n",
            "[70]\ttraining's binary_logloss: 0.0411837\tvalid_1's binary_logloss: 0.0845034\n",
            "[80]\ttraining's binary_logloss: 0.0360919\tvalid_1's binary_logloss: 0.0827132\n",
            "[90]\ttraining's binary_logloss: 0.0318975\tvalid_1's binary_logloss: 0.0817224\n",
            "[100]\ttraining's binary_logloss: 0.02906\tvalid_1's binary_logloss: 0.0817705\n",
            "[110]\ttraining's binary_logloss: 0.0255643\tvalid_1's binary_logloss: 0.0820655\n",
            "[120]\ttraining's binary_logloss: 0.0229696\tvalid_1's binary_logloss: 0.0815336\n",
            "[130]\ttraining's binary_logloss: 0.0206013\tvalid_1's binary_logloss: 0.0812856\n",
            "[140]\ttraining's binary_logloss: 0.0180552\tvalid_1's binary_logloss: 0.0818167\n",
            "[150]\ttraining's binary_logloss: 0.0163443\tvalid_1's binary_logloss: 0.0812916\n",
            "[160]\ttraining's binary_logloss: 0.0148679\tvalid_1's binary_logloss: 0.0820178\n",
            "[170]\ttraining's binary_logloss: 0.0132327\tvalid_1's binary_logloss: 0.0824417\n"
          ],
          "name": "stdout"
        },
        {
          "output_type": "stream",
          "text": [
            "\u001b[32m[I 2021-06-02 19:09:24,909]\u001b[0m Trial 15 finished with value: 0.08118244928794337 and parameters: {'n_estimators': 500, 'lerning_rate': 0.1, 'max_depth': 6, 'max_features': 0.1, 'min_samples_split': 2, 'min_samples_leaf': 2}. Best is trial 0 with value: 0.07448800223470399.\u001b[0m\n"
          ],
          "name": "stderr"
        },
        {
          "output_type": "stream",
          "text": [
            "[180]\ttraining's binary_logloss: 0.0120824\tvalid_1's binary_logloss: 0.0828352\n",
            "[190]\ttraining's binary_logloss: 0.0108922\tvalid_1's binary_logloss: 0.0838645\n",
            "[200]\ttraining's binary_logloss: 0.00984415\tvalid_1's binary_logloss: 0.0844875\n",
            "[210]\ttraining's binary_logloss: 0.00826271\tvalid_1's binary_logloss: 0.0843083\n",
            "[220]\ttraining's binary_logloss: 0.00716188\tvalid_1's binary_logloss: 0.084324\n",
            "[230]\ttraining's binary_logloss: 0.00640641\tvalid_1's binary_logloss: 0.0861376\n",
            "Early stopping, best iteration is:\n",
            "[131]\ttraining's binary_logloss: 0.0201993\tvalid_1's binary_logloss: 0.0811824\n",
            "Training until validation scores don't improve for 100 rounds.\n"
          ],
          "name": "stdout"
        },
        {
          "output_type": "stream",
          "text": [
            "/usr/local/lib/python3.7/dist-packages/lightgbm/engine.py:118: UserWarning:\n",
            "\n",
            "Found `n_estimators` in params. Will use it instead of argument\n",
            "\n",
            "/usr/local/lib/python3.7/dist-packages/lightgbm/basic.py:1205: UserWarning:\n",
            "\n",
            "Using categorical_feature in Dataset.\n",
            "\n",
            "/usr/local/lib/python3.7/dist-packages/lightgbm/basic.py:762: UserWarning:\n",
            "\n",
            "categorical_feature in param dict is overridden.\n",
            "\n"
          ],
          "name": "stderr"
        },
        {
          "output_type": "stream",
          "text": [
            "[10]\ttraining's binary_logloss: 0.409698\tvalid_1's binary_logloss: 0.411253\n",
            "[20]\ttraining's binary_logloss: 0.267993\tvalid_1's binary_logloss: 0.274399\n",
            "[30]\ttraining's binary_logloss: 0.189238\tvalid_1's binary_logloss: 0.200589\n",
            "[40]\ttraining's binary_logloss: 0.141871\tvalid_1's binary_logloss: 0.156714\n",
            "[50]\ttraining's binary_logloss: 0.111377\tvalid_1's binary_logloss: 0.131017\n",
            "[60]\ttraining's binary_logloss: 0.0913246\tvalid_1's binary_logloss: 0.114705\n",
            "[70]\ttraining's binary_logloss: 0.0766883\tvalid_1's binary_logloss: 0.103426\n",
            "[80]\ttraining's binary_logloss: 0.0662109\tvalid_1's binary_logloss: 0.0955257\n",
            "[90]\ttraining's binary_logloss: 0.0579735\tvalid_1's binary_logloss: 0.0907321\n",
            "[100]\ttraining's binary_logloss: 0.0519366\tvalid_1's binary_logloss: 0.0873016\n",
            "[110]\ttraining's binary_logloss: 0.0467174\tvalid_1's binary_logloss: 0.084692\n",
            "[120]\ttraining's binary_logloss: 0.042823\tvalid_1's binary_logloss: 0.0825027\n",
            "[130]\ttraining's binary_logloss: 0.039263\tvalid_1's binary_logloss: 0.080728\n",
            "[140]\ttraining's binary_logloss: 0.0368088\tvalid_1's binary_logloss: 0.0795862\n",
            "[150]\ttraining's binary_logloss: 0.0341807\tvalid_1's binary_logloss: 0.0785089\n",
            "[160]\ttraining's binary_logloss: 0.031824\tvalid_1's binary_logloss: 0.0776682\n",
            "[170]\ttraining's binary_logloss: 0.0294623\tvalid_1's binary_logloss: 0.0773473\n",
            "[180]\ttraining's binary_logloss: 0.0277132\tvalid_1's binary_logloss: 0.0770717\n",
            "[190]\ttraining's binary_logloss: 0.0260938\tvalid_1's binary_logloss: 0.0768503\n",
            "[200]\ttraining's binary_logloss: 0.0243262\tvalid_1's binary_logloss: 0.0768429\n",
            "[210]\ttraining's binary_logloss: 0.0228748\tvalid_1's binary_logloss: 0.076908\n",
            "[220]\ttraining's binary_logloss: 0.021454\tvalid_1's binary_logloss: 0.0766721\n",
            "[230]\ttraining's binary_logloss: 0.0199342\tvalid_1's binary_logloss: 0.076072\n",
            "[240]\ttraining's binary_logloss: 0.0185507\tvalid_1's binary_logloss: 0.075876\n",
            "[250]\ttraining's binary_logloss: 0.0175056\tvalid_1's binary_logloss: 0.075725\n",
            "[260]\ttraining's binary_logloss: 0.0163431\tvalid_1's binary_logloss: 0.0753673\n",
            "[270]\ttraining's binary_logloss: 0.0151222\tvalid_1's binary_logloss: 0.0750839\n",
            "[280]\ttraining's binary_logloss: 0.0140374\tvalid_1's binary_logloss: 0.0746954\n",
            "[290]\ttraining's binary_logloss: 0.013094\tvalid_1's binary_logloss: 0.074504\n",
            "[300]\ttraining's binary_logloss: 0.0123084\tvalid_1's binary_logloss: 0.0747105\n",
            "[310]\ttraining's binary_logloss: 0.0114225\tvalid_1's binary_logloss: 0.0748976\n",
            "[320]\ttraining's binary_logloss: 0.0107359\tvalid_1's binary_logloss: 0.0751468\n",
            "[330]\ttraining's binary_logloss: 0.0101537\tvalid_1's binary_logloss: 0.0751449\n"
          ],
          "name": "stdout"
        },
        {
          "output_type": "stream",
          "text": [
            "\u001b[32m[I 2021-06-02 19:09:26,031]\u001b[0m Trial 16 finished with value: 0.07448800223470399 and parameters: {'n_estimators': 1000, 'lerning_rate': 0.05, 'max_depth': 7, 'max_features': 0.1, 'min_samples_split': 2, 'min_samples_leaf': 2}. Best is trial 0 with value: 0.07448800223470399.\u001b[0m\n"
          ],
          "name": "stderr"
        },
        {
          "output_type": "stream",
          "text": [
            "[340]\ttraining's binary_logloss: 0.00961056\tvalid_1's binary_logloss: 0.0755691\n",
            "[350]\ttraining's binary_logloss: 0.00917149\tvalid_1's binary_logloss: 0.0756973\n",
            "[360]\ttraining's binary_logloss: 0.00863189\tvalid_1's binary_logloss: 0.076131\n",
            "[370]\ttraining's binary_logloss: 0.00827119\tvalid_1's binary_logloss: 0.0763711\n",
            "[380]\ttraining's binary_logloss: 0.00773575\tvalid_1's binary_logloss: 0.0768945\n",
            "Early stopping, best iteration is:\n",
            "[284]\ttraining's binary_logloss: 0.0136564\tvalid_1's binary_logloss: 0.074488\n"
          ],
          "name": "stdout"
        },
        {
          "output_type": "stream",
          "text": [
            "/usr/local/lib/python3.7/dist-packages/lightgbm/engine.py:118: UserWarning:\n",
            "\n",
            "Found `n_estimators` in params. Will use it instead of argument\n",
            "\n",
            "/usr/local/lib/python3.7/dist-packages/lightgbm/basic.py:1205: UserWarning:\n",
            "\n",
            "Using categorical_feature in Dataset.\n",
            "\n",
            "/usr/local/lib/python3.7/dist-packages/lightgbm/basic.py:762: UserWarning:\n",
            "\n",
            "categorical_feature in param dict is overridden.\n",
            "\n"
          ],
          "name": "stderr"
        },
        {
          "output_type": "stream",
          "text": [
            "Training until validation scores don't improve for 100 rounds.\n",
            "[10]\ttraining's binary_logloss: 0.409698\tvalid_1's binary_logloss: 0.411253\n",
            "[20]\ttraining's binary_logloss: 0.267993\tvalid_1's binary_logloss: 0.274399\n",
            "[30]\ttraining's binary_logloss: 0.189238\tvalid_1's binary_logloss: 0.200589\n",
            "[40]\ttraining's binary_logloss: 0.141871\tvalid_1's binary_logloss: 0.156714\n",
            "[50]\ttraining's binary_logloss: 0.111377\tvalid_1's binary_logloss: 0.131017\n",
            "[60]\ttraining's binary_logloss: 0.0913246\tvalid_1's binary_logloss: 0.114705\n",
            "[70]\ttraining's binary_logloss: 0.0766883\tvalid_1's binary_logloss: 0.103426\n",
            "[80]\ttraining's binary_logloss: 0.0662109\tvalid_1's binary_logloss: 0.0955257\n",
            "[90]\ttraining's binary_logloss: 0.0579735\tvalid_1's binary_logloss: 0.0907321\n",
            "[100]\ttraining's binary_logloss: 0.0519366\tvalid_1's binary_logloss: 0.0873016\n",
            "[110]\ttraining's binary_logloss: 0.0467174\tvalid_1's binary_logloss: 0.084692\n",
            "[120]\ttraining's binary_logloss: 0.042823\tvalid_1's binary_logloss: 0.0825027\n",
            "[130]\ttraining's binary_logloss: 0.039263\tvalid_1's binary_logloss: 0.080728\n",
            "[140]\ttraining's binary_logloss: 0.0368088\tvalid_1's binary_logloss: 0.0795862\n",
            "[150]\ttraining's binary_logloss: 0.0341807\tvalid_1's binary_logloss: 0.0785089\n",
            "[160]\ttraining's binary_logloss: 0.031824\tvalid_1's binary_logloss: 0.0776682\n",
            "[170]\ttraining's binary_logloss: 0.0294623\tvalid_1's binary_logloss: 0.0773473\n",
            "[180]\ttraining's binary_logloss: 0.0277132\tvalid_1's binary_logloss: 0.0770717\n",
            "[190]\ttraining's binary_logloss: 0.0260938\tvalid_1's binary_logloss: 0.0768503\n",
            "[200]\ttraining's binary_logloss: 0.0243262\tvalid_1's binary_logloss: 0.0768429\n",
            "[210]\ttraining's binary_logloss: 0.0228748\tvalid_1's binary_logloss: 0.076908\n",
            "[220]\ttraining's binary_logloss: 0.021454\tvalid_1's binary_logloss: 0.0766721\n",
            "[230]\ttraining's binary_logloss: 0.0199342\tvalid_1's binary_logloss: 0.076072\n",
            "[240]\ttraining's binary_logloss: 0.0185507\tvalid_1's binary_logloss: 0.075876\n",
            "[250]\ttraining's binary_logloss: 0.0175056\tvalid_1's binary_logloss: 0.075725\n",
            "[260]\ttraining's binary_logloss: 0.0163431\tvalid_1's binary_logloss: 0.0753673\n",
            "[270]\ttraining's binary_logloss: 0.0151222\tvalid_1's binary_logloss: 0.0750839\n",
            "[280]\ttraining's binary_logloss: 0.0140374\tvalid_1's binary_logloss: 0.0746954\n",
            "[290]\ttraining's binary_logloss: 0.013094\tvalid_1's binary_logloss: 0.074504\n",
            "[300]\ttraining's binary_logloss: 0.0123084\tvalid_1's binary_logloss: 0.0747105\n",
            "[310]\ttraining's binary_logloss: 0.0114225\tvalid_1's binary_logloss: 0.0748976\n",
            "[320]\ttraining's binary_logloss: 0.0107359\tvalid_1's binary_logloss: 0.0751468\n",
            "[330]\ttraining's binary_logloss: 0.0101537\tvalid_1's binary_logloss: 0.0751449\n",
            "[340]\ttraining's binary_logloss: 0.00961056\tvalid_1's binary_logloss: 0.0755691\n",
            "[350]\ttraining's binary_logloss: 0.00917149\tvalid_1's binary_logloss: 0.0756973\n",
            "[360]\ttraining's binary_logloss: 0.00863189\tvalid_1's binary_logloss: 0.076131\n",
            "[370]\ttraining's binary_logloss: 0.00827119\tvalid_1's binary_logloss: 0.0763711\n",
            "[380]\ttraining's binary_logloss: 0.00773575\tvalid_1's binary_logloss: 0.0768945\n",
            "Early stopping, best iteration is:\n",
            "[284]\ttraining's binary_logloss: 0.0136564\tvalid_1's binary_logloss: 0.074488\n"
          ],
          "name": "stdout"
        },
        {
          "output_type": "stream",
          "text": [
            "\u001b[32m[I 2021-06-02 19:09:27,138]\u001b[0m Trial 17 finished with value: 0.07448800223470399 and parameters: {'n_estimators': 800, 'lerning_rate': 0.05, 'max_depth': 7, 'max_features': 0.5, 'min_samples_split': 2, 'min_samples_leaf': 6}. Best is trial 0 with value: 0.07448800223470399.\u001b[0m\n",
            "/usr/local/lib/python3.7/dist-packages/lightgbm/engine.py:118: UserWarning:\n",
            "\n",
            "Found `n_estimators` in params. Will use it instead of argument\n",
            "\n",
            "/usr/local/lib/python3.7/dist-packages/lightgbm/basic.py:1205: UserWarning:\n",
            "\n",
            "Using categorical_feature in Dataset.\n",
            "\n",
            "/usr/local/lib/python3.7/dist-packages/lightgbm/basic.py:762: UserWarning:\n",
            "\n",
            "categorical_feature in param dict is overridden.\n",
            "\n"
          ],
          "name": "stderr"
        },
        {
          "output_type": "stream",
          "text": [
            "Training until validation scores don't improve for 100 rounds.\n",
            "[10]\ttraining's binary_logloss: 0.409698\tvalid_1's binary_logloss: 0.411253\n",
            "[20]\ttraining's binary_logloss: 0.267993\tvalid_1's binary_logloss: 0.274399\n",
            "[30]\ttraining's binary_logloss: 0.189238\tvalid_1's binary_logloss: 0.200589\n",
            "[40]\ttraining's binary_logloss: 0.141871\tvalid_1's binary_logloss: 0.156714\n",
            "[50]\ttraining's binary_logloss: 0.111377\tvalid_1's binary_logloss: 0.131017\n",
            "[60]\ttraining's binary_logloss: 0.0913246\tvalid_1's binary_logloss: 0.114705\n",
            "[70]\ttraining's binary_logloss: 0.0766883\tvalid_1's binary_logloss: 0.103426\n",
            "[80]\ttraining's binary_logloss: 0.0662109\tvalid_1's binary_logloss: 0.0955257\n",
            "[90]\ttraining's binary_logloss: 0.0579735\tvalid_1's binary_logloss: 0.0907321\n",
            "[100]\ttraining's binary_logloss: 0.0519366\tvalid_1's binary_logloss: 0.0873016\n",
            "[110]\ttraining's binary_logloss: 0.0467174\tvalid_1's binary_logloss: 0.084692\n",
            "[120]\ttraining's binary_logloss: 0.042823\tvalid_1's binary_logloss: 0.0825027\n",
            "[130]\ttraining's binary_logloss: 0.039263\tvalid_1's binary_logloss: 0.080728\n",
            "[140]\ttraining's binary_logloss: 0.0368088\tvalid_1's binary_logloss: 0.0795862\n",
            "[150]\ttraining's binary_logloss: 0.0341807\tvalid_1's binary_logloss: 0.0785089\n",
            "[160]\ttraining's binary_logloss: 0.031824\tvalid_1's binary_logloss: 0.0776682\n",
            "[170]\ttraining's binary_logloss: 0.0294623\tvalid_1's binary_logloss: 0.0773473\n",
            "[180]\ttraining's binary_logloss: 0.0277132\tvalid_1's binary_logloss: 0.0770717\n",
            "[190]\ttraining's binary_logloss: 0.0260938\tvalid_1's binary_logloss: 0.0768503\n",
            "[200]\ttraining's binary_logloss: 0.0243262\tvalid_1's binary_logloss: 0.0768429\n",
            "[210]\ttraining's binary_logloss: 0.0228748\tvalid_1's binary_logloss: 0.076908\n",
            "[220]\ttraining's binary_logloss: 0.021454\tvalid_1's binary_logloss: 0.0766721\n",
            "[230]\ttraining's binary_logloss: 0.0199342\tvalid_1's binary_logloss: 0.076072\n",
            "[240]\ttraining's binary_logloss: 0.0185507\tvalid_1's binary_logloss: 0.075876\n",
            "[250]\ttraining's binary_logloss: 0.0175056\tvalid_1's binary_logloss: 0.075725\n",
            "[260]\ttraining's binary_logloss: 0.0163431\tvalid_1's binary_logloss: 0.0753673\n",
            "[270]\ttraining's binary_logloss: 0.0151222\tvalid_1's binary_logloss: 0.0750839\n",
            "[280]\ttraining's binary_logloss: 0.0140374\tvalid_1's binary_logloss: 0.0746954\n",
            "[290]\ttraining's binary_logloss: 0.013094\tvalid_1's binary_logloss: 0.074504\n",
            "[300]\ttraining's binary_logloss: 0.0123084\tvalid_1's binary_logloss: 0.0747105\n",
            "[310]\ttraining's binary_logloss: 0.0114225\tvalid_1's binary_logloss: 0.0748976\n",
            "[320]\ttraining's binary_logloss: 0.0107359\tvalid_1's binary_logloss: 0.0751468\n",
            "[330]\ttraining's binary_logloss: 0.0101537\tvalid_1's binary_logloss: 0.0751449\n"
          ],
          "name": "stdout"
        },
        {
          "output_type": "stream",
          "text": [
            "\u001b[32m[I 2021-06-02 19:09:28,243]\u001b[0m Trial 18 finished with value: 0.07448800223470399 and parameters: {'n_estimators': 500, 'lerning_rate': 0.05, 'max_depth': 7, 'max_features': 0.5, 'min_samples_split': 2, 'min_samples_leaf': 2}. Best is trial 0 with value: 0.07448800223470399.\u001b[0m\n"
          ],
          "name": "stderr"
        },
        {
          "output_type": "stream",
          "text": [
            "[340]\ttraining's binary_logloss: 0.00961056\tvalid_1's binary_logloss: 0.0755691\n",
            "[350]\ttraining's binary_logloss: 0.00917149\tvalid_1's binary_logloss: 0.0756973\n",
            "[360]\ttraining's binary_logloss: 0.00863189\tvalid_1's binary_logloss: 0.076131\n",
            "[370]\ttraining's binary_logloss: 0.00827119\tvalid_1's binary_logloss: 0.0763711\n",
            "[380]\ttraining's binary_logloss: 0.00773575\tvalid_1's binary_logloss: 0.0768945\n",
            "Early stopping, best iteration is:\n",
            "[284]\ttraining's binary_logloss: 0.0136564\tvalid_1's binary_logloss: 0.074488\n"
          ],
          "name": "stdout"
        },
        {
          "output_type": "stream",
          "text": [
            "/usr/local/lib/python3.7/dist-packages/lightgbm/engine.py:118: UserWarning:\n",
            "\n",
            "Found `n_estimators` in params. Will use it instead of argument\n",
            "\n",
            "/usr/local/lib/python3.7/dist-packages/lightgbm/basic.py:1205: UserWarning:\n",
            "\n",
            "Using categorical_feature in Dataset.\n",
            "\n",
            "/usr/local/lib/python3.7/dist-packages/lightgbm/basic.py:762: UserWarning:\n",
            "\n",
            "categorical_feature in param dict is overridden.\n",
            "\n"
          ],
          "name": "stderr"
        },
        {
          "output_type": "stream",
          "text": [
            "Training until validation scores don't improve for 100 rounds.\n",
            "[10]\ttraining's binary_logloss: 0.411323\tvalid_1's binary_logloss: 0.413697\n",
            "[20]\ttraining's binary_logloss: 0.270566\tvalid_1's binary_logloss: 0.277387\n",
            "[30]\ttraining's binary_logloss: 0.193298\tvalid_1's binary_logloss: 0.204611\n",
            "[40]\ttraining's binary_logloss: 0.145922\tvalid_1's binary_logloss: 0.161338\n",
            "[50]\ttraining's binary_logloss: 0.116141\tvalid_1's binary_logloss: 0.135096\n",
            "[60]\ttraining's binary_logloss: 0.0963498\tvalid_1's binary_logloss: 0.118673\n",
            "[70]\ttraining's binary_logloss: 0.0816513\tvalid_1's binary_logloss: 0.106801\n",
            "[80]\ttraining's binary_logloss: 0.0710277\tvalid_1's binary_logloss: 0.0991108\n",
            "[90]\ttraining's binary_logloss: 0.0634895\tvalid_1's binary_logloss: 0.0944022\n",
            "[100]\ttraining's binary_logloss: 0.0574838\tvalid_1's binary_logloss: 0.0909468\n",
            "[110]\ttraining's binary_logloss: 0.052291\tvalid_1's binary_logloss: 0.0881219\n",
            "[120]\ttraining's binary_logloss: 0.0481254\tvalid_1's binary_logloss: 0.0868324\n",
            "[130]\ttraining's binary_logloss: 0.0448136\tvalid_1's binary_logloss: 0.0852678\n",
            "[140]\ttraining's binary_logloss: 0.0426374\tvalid_1's binary_logloss: 0.0843877\n",
            "[150]\ttraining's binary_logloss: 0.0395421\tvalid_1's binary_logloss: 0.0831745\n",
            "[160]\ttraining's binary_logloss: 0.0373895\tvalid_1's binary_logloss: 0.082264\n",
            "[170]\ttraining's binary_logloss: 0.0357445\tvalid_1's binary_logloss: 0.0817602\n",
            "[180]\ttraining's binary_logloss: 0.0336474\tvalid_1's binary_logloss: 0.0814583\n",
            "[190]\ttraining's binary_logloss: 0.0317092\tvalid_1's binary_logloss: 0.0811886\n",
            "[200]\ttraining's binary_logloss: 0.0298133\tvalid_1's binary_logloss: 0.0807668\n",
            "[210]\ttraining's binary_logloss: 0.0283265\tvalid_1's binary_logloss: 0.0804893\n",
            "[220]\ttraining's binary_logloss: 0.0267947\tvalid_1's binary_logloss: 0.0804896\n",
            "[230]\ttraining's binary_logloss: 0.0253559\tvalid_1's binary_logloss: 0.0802702\n",
            "[240]\ttraining's binary_logloss: 0.0238454\tvalid_1's binary_logloss: 0.0800036\n",
            "[250]\ttraining's binary_logloss: 0.0227992\tvalid_1's binary_logloss: 0.0799582\n",
            "[260]\ttraining's binary_logloss: 0.0216784\tvalid_1's binary_logloss: 0.0797223\n",
            "[270]\ttraining's binary_logloss: 0.0204874\tvalid_1's binary_logloss: 0.0798342\n",
            "[280]\ttraining's binary_logloss: 0.0195981\tvalid_1's binary_logloss: 0.0798478\n",
            "[290]\ttraining's binary_logloss: 0.0187997\tvalid_1's binary_logloss: 0.0796971\n",
            "[300]\ttraining's binary_logloss: 0.0177473\tvalid_1's binary_logloss: 0.0797611\n",
            "[310]\ttraining's binary_logloss: 0.0170115\tvalid_1's binary_logloss: 0.0796715\n",
            "[320]\ttraining's binary_logloss: 0.0160561\tvalid_1's binary_logloss: 0.0797479\n",
            "[330]\ttraining's binary_logloss: 0.0153693\tvalid_1's binary_logloss: 0.0800413\n",
            "[340]\ttraining's binary_logloss: 0.014486\tvalid_1's binary_logloss: 0.080195\n",
            "[350]\ttraining's binary_logloss: 0.0136539\tvalid_1's binary_logloss: 0.0802173\n",
            "[360]\ttraining's binary_logloss: 0.0129077\tvalid_1's binary_logloss: 0.0803597\n",
            "[370]\ttraining's binary_logloss: 0.0121212\tvalid_1's binary_logloss: 0.0805178\n",
            "[380]\ttraining's binary_logloss: 0.0113706\tvalid_1's binary_logloss: 0.0809432\n",
            "[390]\ttraining's binary_logloss: 0.0107657\tvalid_1's binary_logloss: 0.0812043\n",
            "[400]\ttraining's binary_logloss: 0.010227\tvalid_1's binary_logloss: 0.0818694\n",
            "[410]\ttraining's binary_logloss: 0.00954008\tvalid_1's binary_logloss: 0.0819276\n",
            "Early stopping, best iteration is:\n",
            "[314]\ttraining's binary_logloss: 0.0165187\tvalid_1's binary_logloss: 0.0795023\n"
          ],
          "name": "stdout"
        },
        {
          "output_type": "stream",
          "text": [
            "\u001b[32m[I 2021-06-02 19:09:29,391]\u001b[0m Trial 19 finished with value: 0.07950226739191199 and parameters: {'n_estimators': 1000, 'lerning_rate': 0.05, 'max_depth': 6, 'max_features': 0.7, 'min_samples_split': 2, 'min_samples_leaf': 6}. Best is trial 0 with value: 0.07448800223470399.\u001b[0m\n",
            "/usr/local/lib/python3.7/dist-packages/lightgbm/engine.py:118: UserWarning:\n",
            "\n",
            "Found `n_estimators` in params. Will use it instead of argument\n",
            "\n",
            "/usr/local/lib/python3.7/dist-packages/lightgbm/basic.py:1205: UserWarning:\n",
            "\n",
            "Using categorical_feature in Dataset.\n",
            "\n",
            "/usr/local/lib/python3.7/dist-packages/lightgbm/basic.py:762: UserWarning:\n",
            "\n",
            "categorical_feature in param dict is overridden.\n",
            "\n"
          ],
          "name": "stderr"
        },
        {
          "output_type": "stream",
          "text": [
            "Training until validation scores don't improve for 100 rounds.\n",
            "[10]\ttraining's binary_logloss: 0.617153\tvalid_1's binary_logloss: 0.617242\n",
            "[20]\ttraining's binary_logloss: 0.553972\tvalid_1's binary_logloss: 0.554072\n",
            "[30]\ttraining's binary_logloss: 0.500474\tvalid_1's binary_logloss: 0.500795\n",
            "[40]\ttraining's binary_logloss: 0.453758\tvalid_1's binary_logloss: 0.454518\n",
            "[50]\ttraining's binary_logloss: 0.412333\tvalid_1's binary_logloss: 0.413831\n",
            "[60]\ttraining's binary_logloss: 0.376057\tvalid_1's binary_logloss: 0.378553\n",
            "[70]\ttraining's binary_logloss: 0.344534\tvalid_1's binary_logloss: 0.347978\n",
            "[80]\ttraining's binary_logloss: 0.316671\tvalid_1's binary_logloss: 0.321011\n",
            "[90]\ttraining's binary_logloss: 0.292122\tvalid_1's binary_logloss: 0.297588\n",
            "[100]\ttraining's binary_logloss: 0.270129\tvalid_1's binary_logloss: 0.276866\n",
            "[110]\ttraining's binary_logloss: 0.25063\tvalid_1's binary_logloss: 0.2583\n",
            "[120]\ttraining's binary_logloss: 0.233145\tvalid_1's binary_logloss: 0.241869\n",
            "[130]\ttraining's binary_logloss: 0.217582\tvalid_1's binary_logloss: 0.227239\n",
            "[140]\ttraining's binary_logloss: 0.20359\tvalid_1's binary_logloss: 0.214207\n",
            "[150]\ttraining's binary_logloss: 0.190863\tvalid_1's binary_logloss: 0.202545\n",
            "[160]\ttraining's binary_logloss: 0.179237\tvalid_1's binary_logloss: 0.191814\n",
            "[170]\ttraining's binary_logloss: 0.168811\tvalid_1's binary_logloss: 0.181962\n",
            "[180]\ttraining's binary_logloss: 0.159422\tvalid_1's binary_logloss: 0.173081\n",
            "[190]\ttraining's binary_logloss: 0.15085\tvalid_1's binary_logloss: 0.165157\n",
            "[200]\ttraining's binary_logloss: 0.143121\tvalid_1's binary_logloss: 0.158015\n",
            "[210]\ttraining's binary_logloss: 0.1358\tvalid_1's binary_logloss: 0.15154\n",
            "[220]\ttraining's binary_logloss: 0.12902\tvalid_1's binary_logloss: 0.145871\n",
            "[230]\ttraining's binary_logloss: 0.122776\tvalid_1's binary_logloss: 0.140757\n",
            "[240]\ttraining's binary_logloss: 0.117185\tvalid_1's binary_logloss: 0.136169\n",
            "[250]\ttraining's binary_logloss: 0.112119\tvalid_1's binary_logloss: 0.131949\n",
            "[260]\ttraining's binary_logloss: 0.107469\tvalid_1's binary_logloss: 0.128116\n",
            "[270]\ttraining's binary_logloss: 0.103213\tvalid_1's binary_logloss: 0.1246\n",
            "[280]\ttraining's binary_logloss: 0.0992351\tvalid_1's binary_logloss: 0.121302\n",
            "[290]\ttraining's binary_logloss: 0.0952946\tvalid_1's binary_logloss: 0.118206\n",
            "[300]\ttraining's binary_logloss: 0.091742\tvalid_1's binary_logloss: 0.115256\n",
            "[310]\ttraining's binary_logloss: 0.0884151\tvalid_1's binary_logloss: 0.112647\n",
            "[320]\ttraining's binary_logloss: 0.0853472\tvalid_1's binary_logloss: 0.110188\n",
            "[330]\ttraining's binary_logloss: 0.0825442\tvalid_1's binary_logloss: 0.107992\n",
            "[340]\ttraining's binary_logloss: 0.0798766\tvalid_1's binary_logloss: 0.105971\n",
            "[350]\ttraining's binary_logloss: 0.0774121\tvalid_1's binary_logloss: 0.10404\n",
            "[360]\ttraining's binary_logloss: 0.0750978\tvalid_1's binary_logloss: 0.102237\n",
            "[370]\ttraining's binary_logloss: 0.0729044\tvalid_1's binary_logloss: 0.100645\n",
            "[380]\ttraining's binary_logloss: 0.0706852\tvalid_1's binary_logloss: 0.0989826\n",
            "[390]\ttraining's binary_logloss: 0.0686055\tvalid_1's binary_logloss: 0.0975003\n",
            "[400]\ttraining's binary_logloss: 0.0666136\tvalid_1's binary_logloss: 0.0961084\n",
            "[410]\ttraining's binary_logloss: 0.0648006\tvalid_1's binary_logloss: 0.0949209\n",
            "[420]\ttraining's binary_logloss: 0.0630678\tvalid_1's binary_logloss: 0.0938229\n",
            "[430]\ttraining's binary_logloss: 0.0613963\tvalid_1's binary_logloss: 0.0928306\n",
            "[440]\ttraining's binary_logloss: 0.0598742\tvalid_1's binary_logloss: 0.0918384\n",
            "[450]\ttraining's binary_logloss: 0.0584271\tvalid_1's binary_logloss: 0.0909909\n",
            "[460]\ttraining's binary_logloss: 0.0571237\tvalid_1's binary_logloss: 0.0903084\n",
            "[470]\ttraining's binary_logloss: 0.0558672\tvalid_1's binary_logloss: 0.0896661\n",
            "[480]\ttraining's binary_logloss: 0.0546622\tvalid_1's binary_logloss: 0.0891082\n",
            "[490]\ttraining's binary_logloss: 0.0534624\tvalid_1's binary_logloss: 0.0884549\n",
            "[500]\ttraining's binary_logloss: 0.052371\tvalid_1's binary_logloss: 0.0879262\n",
            "[510]\ttraining's binary_logloss: 0.0512305\tvalid_1's binary_logloss: 0.0873029\n",
            "[520]\ttraining's binary_logloss: 0.0500921\tvalid_1's binary_logloss: 0.0866459\n",
            "[530]\ttraining's binary_logloss: 0.0489953\tvalid_1's binary_logloss: 0.0861172\n",
            "[540]\ttraining's binary_logloss: 0.0480274\tvalid_1's binary_logloss: 0.0856091\n",
            "[550]\ttraining's binary_logloss: 0.0470739\tvalid_1's binary_logloss: 0.0851961\n",
            "[560]\ttraining's binary_logloss: 0.0461981\tvalid_1's binary_logloss: 0.0848568\n",
            "[570]\ttraining's binary_logloss: 0.0453258\tvalid_1's binary_logloss: 0.0844424\n",
            "[580]\ttraining's binary_logloss: 0.0445785\tvalid_1's binary_logloss: 0.0841558\n",
            "[590]\ttraining's binary_logloss: 0.0437912\tvalid_1's binary_logloss: 0.0837451\n",
            "[600]\ttraining's binary_logloss: 0.0429977\tvalid_1's binary_logloss: 0.0833245\n",
            "[610]\ttraining's binary_logloss: 0.0423383\tvalid_1's binary_logloss: 0.0830653\n",
            "[620]\ttraining's binary_logloss: 0.0416943\tvalid_1's binary_logloss: 0.0828252\n",
            "[630]\ttraining's binary_logloss: 0.0411112\tvalid_1's binary_logloss: 0.0826112\n",
            "[640]\ttraining's binary_logloss: 0.0404996\tvalid_1's binary_logloss: 0.0823514\n",
            "[650]\ttraining's binary_logloss: 0.0399608\tvalid_1's binary_logloss: 0.0821396\n",
            "[660]\ttraining's binary_logloss: 0.0394182\tvalid_1's binary_logloss: 0.0819092\n",
            "[670]\ttraining's binary_logloss: 0.0387728\tvalid_1's binary_logloss: 0.0816031\n",
            "[680]\ttraining's binary_logloss: 0.0381204\tvalid_1's binary_logloss: 0.0813734\n",
            "[690]\ttraining's binary_logloss: 0.0375476\tvalid_1's binary_logloss: 0.0811192\n",
            "[700]\ttraining's binary_logloss: 0.0369502\tvalid_1's binary_logloss: 0.0807832\n",
            "[710]\ttraining's binary_logloss: 0.0364607\tvalid_1's binary_logloss: 0.0806399\n",
            "[720]\ttraining's binary_logloss: 0.0359018\tvalid_1's binary_logloss: 0.0803642\n",
            "[730]\ttraining's binary_logloss: 0.0353604\tvalid_1's binary_logloss: 0.080217\n",
            "[740]\ttraining's binary_logloss: 0.0348739\tvalid_1's binary_logloss: 0.0800685\n",
            "[750]\ttraining's binary_logloss: 0.0344242\tvalid_1's binary_logloss: 0.0798166\n",
            "[760]\ttraining's binary_logloss: 0.033886\tvalid_1's binary_logloss: 0.079665\n",
            "[770]\ttraining's binary_logloss: 0.0334127\tvalid_1's binary_logloss: 0.0794546\n",
            "[780]\ttraining's binary_logloss: 0.0328687\tvalid_1's binary_logloss: 0.0792562\n",
            "[790]\ttraining's binary_logloss: 0.0323697\tvalid_1's binary_logloss: 0.0790752\n",
            "[800]\ttraining's binary_logloss: 0.0319211\tvalid_1's binary_logloss: 0.0790237\n",
            "Did not meet early stopping. Best iteration is:\n",
            "[800]\ttraining's binary_logloss: 0.0319211\tvalid_1's binary_logloss: 0.0790237\n"
          ],
          "name": "stdout"
        },
        {
          "output_type": "stream",
          "text": [
            "\u001b[32m[I 2021-06-02 19:09:31,877]\u001b[0m Trial 20 finished with value: 0.07902369651363979 and parameters: {'n_estimators': 800, 'lerning_rate': 0.01, 'max_depth': 7, 'max_features': 0.5, 'min_samples_split': 2, 'min_samples_leaf': 6}. Best is trial 0 with value: 0.07448800223470399.\u001b[0m\n",
            "/usr/local/lib/python3.7/dist-packages/lightgbm/engine.py:118: UserWarning:\n",
            "\n",
            "Found `n_estimators` in params. Will use it instead of argument\n",
            "\n",
            "/usr/local/lib/python3.7/dist-packages/lightgbm/basic.py:1205: UserWarning:\n",
            "\n",
            "Using categorical_feature in Dataset.\n",
            "\n",
            "/usr/local/lib/python3.7/dist-packages/lightgbm/basic.py:762: UserWarning:\n",
            "\n",
            "categorical_feature in param dict is overridden.\n",
            "\n"
          ],
          "name": "stderr"
        },
        {
          "output_type": "stream",
          "text": [
            "Training until validation scores don't improve for 100 rounds.\n",
            "[10]\ttraining's binary_logloss: 0.409698\tvalid_1's binary_logloss: 0.411253\n",
            "[20]\ttraining's binary_logloss: 0.267993\tvalid_1's binary_logloss: 0.274399\n",
            "[30]\ttraining's binary_logloss: 0.189238\tvalid_1's binary_logloss: 0.200589\n",
            "[40]\ttraining's binary_logloss: 0.141871\tvalid_1's binary_logloss: 0.156714\n",
            "[50]\ttraining's binary_logloss: 0.111377\tvalid_1's binary_logloss: 0.131017\n",
            "[60]\ttraining's binary_logloss: 0.0913246\tvalid_1's binary_logloss: 0.114705\n",
            "[70]\ttraining's binary_logloss: 0.0766883\tvalid_1's binary_logloss: 0.103426\n",
            "[80]\ttraining's binary_logloss: 0.0662109\tvalid_1's binary_logloss: 0.0955257\n",
            "[90]\ttraining's binary_logloss: 0.0579735\tvalid_1's binary_logloss: 0.0907321\n",
            "[100]\ttraining's binary_logloss: 0.0519366\tvalid_1's binary_logloss: 0.0873016\n",
            "[110]\ttraining's binary_logloss: 0.0467174\tvalid_1's binary_logloss: 0.084692\n",
            "[120]\ttraining's binary_logloss: 0.042823\tvalid_1's binary_logloss: 0.0825027\n",
            "[130]\ttraining's binary_logloss: 0.039263\tvalid_1's binary_logloss: 0.080728\n",
            "[140]\ttraining's binary_logloss: 0.0368088\tvalid_1's binary_logloss: 0.0795862\n",
            "[150]\ttraining's binary_logloss: 0.0341807\tvalid_1's binary_logloss: 0.0785089\n",
            "[160]\ttraining's binary_logloss: 0.031824\tvalid_1's binary_logloss: 0.0776682\n",
            "[170]\ttraining's binary_logloss: 0.0294623\tvalid_1's binary_logloss: 0.0773473\n",
            "[180]\ttraining's binary_logloss: 0.0277132\tvalid_1's binary_logloss: 0.0770717\n",
            "[190]\ttraining's binary_logloss: 0.0260938\tvalid_1's binary_logloss: 0.0768503\n",
            "[200]\ttraining's binary_logloss: 0.0243262\tvalid_1's binary_logloss: 0.0768429\n",
            "[210]\ttraining's binary_logloss: 0.0228748\tvalid_1's binary_logloss: 0.076908\n",
            "[220]\ttraining's binary_logloss: 0.021454\tvalid_1's binary_logloss: 0.0766721\n",
            "[230]\ttraining's binary_logloss: 0.0199342\tvalid_1's binary_logloss: 0.076072\n",
            "[240]\ttraining's binary_logloss: 0.0185507\tvalid_1's binary_logloss: 0.075876\n",
            "[250]\ttraining's binary_logloss: 0.0175056\tvalid_1's binary_logloss: 0.075725\n",
            "[260]\ttraining's binary_logloss: 0.0163431\tvalid_1's binary_logloss: 0.0753673\n",
            "[270]\ttraining's binary_logloss: 0.0151222\tvalid_1's binary_logloss: 0.0750839\n",
            "[280]\ttraining's binary_logloss: 0.0140374\tvalid_1's binary_logloss: 0.0746954\n",
            "[290]\ttraining's binary_logloss: 0.013094\tvalid_1's binary_logloss: 0.074504\n",
            "[300]\ttraining's binary_logloss: 0.0123084\tvalid_1's binary_logloss: 0.0747105\n",
            "[310]\ttraining's binary_logloss: 0.0114225\tvalid_1's binary_logloss: 0.0748976\n",
            "[320]\ttraining's binary_logloss: 0.0107359\tvalid_1's binary_logloss: 0.0751468\n",
            "[330]\ttraining's binary_logloss: 0.0101537\tvalid_1's binary_logloss: 0.0751449\n",
            "[340]\ttraining's binary_logloss: 0.00961056\tvalid_1's binary_logloss: 0.0755691\n",
            "[350]\ttraining's binary_logloss: 0.00917149\tvalid_1's binary_logloss: 0.0756973\n",
            "[360]\ttraining's binary_logloss: 0.00863189\tvalid_1's binary_logloss: 0.076131\n",
            "[370]\ttraining's binary_logloss: 0.00827119\tvalid_1's binary_logloss: 0.0763711\n",
            "[380]\ttraining's binary_logloss: 0.00773575\tvalid_1's binary_logloss: 0.0768945\n",
            "Early stopping, best iteration is:\n",
            "[284]\ttraining's binary_logloss: 0.0136564\tvalid_1's binary_logloss: 0.074488\n"
          ],
          "name": "stdout"
        },
        {
          "output_type": "stream",
          "text": [
            "\u001b[32m[I 2021-06-02 19:09:32,984]\u001b[0m Trial 21 finished with value: 0.07448800223470399 and parameters: {'n_estimators': 800, 'lerning_rate': 0.05, 'max_depth': 7, 'max_features': 0.5, 'min_samples_split': 2, 'min_samples_leaf': 6}. Best is trial 0 with value: 0.07448800223470399.\u001b[0m\n",
            "/usr/local/lib/python3.7/dist-packages/lightgbm/engine.py:118: UserWarning:\n",
            "\n",
            "Found `n_estimators` in params. Will use it instead of argument\n",
            "\n",
            "/usr/local/lib/python3.7/dist-packages/lightgbm/basic.py:1205: UserWarning:\n",
            "\n",
            "Using categorical_feature in Dataset.\n",
            "\n",
            "/usr/local/lib/python3.7/dist-packages/lightgbm/basic.py:762: UserWarning:\n",
            "\n",
            "categorical_feature in param dict is overridden.\n",
            "\n"
          ],
          "name": "stderr"
        },
        {
          "output_type": "stream",
          "text": [
            "Training until validation scores don't improve for 100 rounds.\n",
            "[10]\ttraining's binary_logloss: 0.409698\tvalid_1's binary_logloss: 0.411253\n",
            "[20]\ttraining's binary_logloss: 0.267993\tvalid_1's binary_logloss: 0.274399\n",
            "[30]\ttraining's binary_logloss: 0.189238\tvalid_1's binary_logloss: 0.200589\n",
            "[40]\ttraining's binary_logloss: 0.141871\tvalid_1's binary_logloss: 0.156714\n",
            "[50]\ttraining's binary_logloss: 0.111377\tvalid_1's binary_logloss: 0.131017\n",
            "[60]\ttraining's binary_logloss: 0.0913246\tvalid_1's binary_logloss: 0.114705\n",
            "[70]\ttraining's binary_logloss: 0.0766883\tvalid_1's binary_logloss: 0.103426\n",
            "[80]\ttraining's binary_logloss: 0.0662109\tvalid_1's binary_logloss: 0.0955257\n",
            "[90]\ttraining's binary_logloss: 0.0579735\tvalid_1's binary_logloss: 0.0907321\n",
            "[100]\ttraining's binary_logloss: 0.0519366\tvalid_1's binary_logloss: 0.0873016\n",
            "[110]\ttraining's binary_logloss: 0.0467174\tvalid_1's binary_logloss: 0.084692\n",
            "[120]\ttraining's binary_logloss: 0.042823\tvalid_1's binary_logloss: 0.0825027\n",
            "[130]\ttraining's binary_logloss: 0.039263\tvalid_1's binary_logloss: 0.080728\n",
            "[140]\ttraining's binary_logloss: 0.0368088\tvalid_1's binary_logloss: 0.0795862\n",
            "[150]\ttraining's binary_logloss: 0.0341807\tvalid_1's binary_logloss: 0.0785089\n",
            "[160]\ttraining's binary_logloss: 0.031824\tvalid_1's binary_logloss: 0.0776682\n",
            "[170]\ttraining's binary_logloss: 0.0294623\tvalid_1's binary_logloss: 0.0773473\n",
            "[180]\ttraining's binary_logloss: 0.0277132\tvalid_1's binary_logloss: 0.0770717\n",
            "[190]\ttraining's binary_logloss: 0.0260938\tvalid_1's binary_logloss: 0.0768503\n",
            "[200]\ttraining's binary_logloss: 0.0243262\tvalid_1's binary_logloss: 0.0768429\n",
            "[210]\ttraining's binary_logloss: 0.0228748\tvalid_1's binary_logloss: 0.076908\n",
            "[220]\ttraining's binary_logloss: 0.021454\tvalid_1's binary_logloss: 0.0766721\n",
            "[230]\ttraining's binary_logloss: 0.0199342\tvalid_1's binary_logloss: 0.076072\n",
            "[240]\ttraining's binary_logloss: 0.0185507\tvalid_1's binary_logloss: 0.075876\n",
            "[250]\ttraining's binary_logloss: 0.0175056\tvalid_1's binary_logloss: 0.075725\n",
            "[260]\ttraining's binary_logloss: 0.0163431\tvalid_1's binary_logloss: 0.0753673\n",
            "[270]\ttraining's binary_logloss: 0.0151222\tvalid_1's binary_logloss: 0.0750839\n",
            "[280]\ttraining's binary_logloss: 0.0140374\tvalid_1's binary_logloss: 0.0746954\n",
            "[290]\ttraining's binary_logloss: 0.013094\tvalid_1's binary_logloss: 0.074504\n",
            "[300]\ttraining's binary_logloss: 0.0123084\tvalid_1's binary_logloss: 0.0747105\n",
            "[310]\ttraining's binary_logloss: 0.0114225\tvalid_1's binary_logloss: 0.0748976\n",
            "[320]\ttraining's binary_logloss: 0.0107359\tvalid_1's binary_logloss: 0.0751468\n",
            "[330]\ttraining's binary_logloss: 0.0101537\tvalid_1's binary_logloss: 0.0751449\n",
            "[340]\ttraining's binary_logloss: 0.00961056\tvalid_1's binary_logloss: 0.0755691\n",
            "[350]\ttraining's binary_logloss: 0.00917149\tvalid_1's binary_logloss: 0.0756973\n",
            "[360]\ttraining's binary_logloss: 0.00863189\tvalid_1's binary_logloss: 0.076131\n",
            "[370]\ttraining's binary_logloss: 0.00827119\tvalid_1's binary_logloss: 0.0763711\n",
            "[380]\ttraining's binary_logloss: 0.00773575\tvalid_1's binary_logloss: 0.0768945\n",
            "Early stopping, best iteration is:\n",
            "[284]\ttraining's binary_logloss: 0.0136564\tvalid_1's binary_logloss: 0.074488\n"
          ],
          "name": "stdout"
        },
        {
          "output_type": "stream",
          "text": [
            "\u001b[32m[I 2021-06-02 19:09:34,099]\u001b[0m Trial 22 finished with value: 0.07448800223470399 and parameters: {'n_estimators': 800, 'lerning_rate': 0.05, 'max_depth': 7, 'max_features': 0.5, 'min_samples_split': 2, 'min_samples_leaf': 6}. Best is trial 0 with value: 0.07448800223470399.\u001b[0m\n",
            "/usr/local/lib/python3.7/dist-packages/lightgbm/engine.py:118: UserWarning:\n",
            "\n",
            "Found `n_estimators` in params. Will use it instead of argument\n",
            "\n",
            "/usr/local/lib/python3.7/dist-packages/lightgbm/basic.py:1205: UserWarning:\n",
            "\n",
            "Using categorical_feature in Dataset.\n",
            "\n",
            "/usr/local/lib/python3.7/dist-packages/lightgbm/basic.py:762: UserWarning:\n",
            "\n",
            "categorical_feature in param dict is overridden.\n",
            "\n"
          ],
          "name": "stderr"
        },
        {
          "output_type": "stream",
          "text": [
            "Training until validation scores don't improve for 100 rounds.\n",
            "[10]\ttraining's binary_logloss: 0.409698\tvalid_1's binary_logloss: 0.411253\n",
            "[20]\ttraining's binary_logloss: 0.267993\tvalid_1's binary_logloss: 0.274399\n",
            "[30]\ttraining's binary_logloss: 0.189238\tvalid_1's binary_logloss: 0.200589\n",
            "[40]\ttraining's binary_logloss: 0.141871\tvalid_1's binary_logloss: 0.156714\n",
            "[50]\ttraining's binary_logloss: 0.111377\tvalid_1's binary_logloss: 0.131017\n",
            "[60]\ttraining's binary_logloss: 0.0913246\tvalid_1's binary_logloss: 0.114705\n",
            "[70]\ttraining's binary_logloss: 0.0766883\tvalid_1's binary_logloss: 0.103426\n",
            "[80]\ttraining's binary_logloss: 0.0662109\tvalid_1's binary_logloss: 0.0955257\n",
            "[90]\ttraining's binary_logloss: 0.0579735\tvalid_1's binary_logloss: 0.0907321\n",
            "[100]\ttraining's binary_logloss: 0.0519366\tvalid_1's binary_logloss: 0.0873016\n",
            "[110]\ttraining's binary_logloss: 0.0467174\tvalid_1's binary_logloss: 0.084692\n",
            "[120]\ttraining's binary_logloss: 0.042823\tvalid_1's binary_logloss: 0.0825027\n",
            "[130]\ttraining's binary_logloss: 0.039263\tvalid_1's binary_logloss: 0.080728\n",
            "[140]\ttraining's binary_logloss: 0.0368088\tvalid_1's binary_logloss: 0.0795862\n",
            "[150]\ttraining's binary_logloss: 0.0341807\tvalid_1's binary_logloss: 0.0785089\n",
            "[160]\ttraining's binary_logloss: 0.031824\tvalid_1's binary_logloss: 0.0776682\n",
            "[170]\ttraining's binary_logloss: 0.0294623\tvalid_1's binary_logloss: 0.0773473\n",
            "[180]\ttraining's binary_logloss: 0.0277132\tvalid_1's binary_logloss: 0.0770717\n",
            "[190]\ttraining's binary_logloss: 0.0260938\tvalid_1's binary_logloss: 0.0768503\n",
            "[200]\ttraining's binary_logloss: 0.0243262\tvalid_1's binary_logloss: 0.0768429\n",
            "[210]\ttraining's binary_logloss: 0.0228748\tvalid_1's binary_logloss: 0.076908\n",
            "[220]\ttraining's binary_logloss: 0.021454\tvalid_1's binary_logloss: 0.0766721\n",
            "[230]\ttraining's binary_logloss: 0.0199342\tvalid_1's binary_logloss: 0.076072\n",
            "[240]\ttraining's binary_logloss: 0.0185507\tvalid_1's binary_logloss: 0.075876\n",
            "[250]\ttraining's binary_logloss: 0.0175056\tvalid_1's binary_logloss: 0.075725\n",
            "[260]\ttraining's binary_logloss: 0.0163431\tvalid_1's binary_logloss: 0.0753673\n",
            "[270]\ttraining's binary_logloss: 0.0151222\tvalid_1's binary_logloss: 0.0750839\n",
            "[280]\ttraining's binary_logloss: 0.0140374\tvalid_1's binary_logloss: 0.0746954\n",
            "[290]\ttraining's binary_logloss: 0.013094\tvalid_1's binary_logloss: 0.074504\n",
            "[300]\ttraining's binary_logloss: 0.0123084\tvalid_1's binary_logloss: 0.0747105\n",
            "[310]\ttraining's binary_logloss: 0.0114225\tvalid_1's binary_logloss: 0.0748976\n",
            "[320]\ttraining's binary_logloss: 0.0107359\tvalid_1's binary_logloss: 0.0751468\n",
            "[330]\ttraining's binary_logloss: 0.0101537\tvalid_1's binary_logloss: 0.0751449\n",
            "[340]\ttraining's binary_logloss: 0.00961056\tvalid_1's binary_logloss: 0.0755691\n",
            "[350]\ttraining's binary_logloss: 0.00917149\tvalid_1's binary_logloss: 0.0756973\n",
            "[360]\ttraining's binary_logloss: 0.00863189\tvalid_1's binary_logloss: 0.076131\n",
            "[370]\ttraining's binary_logloss: 0.00827119\tvalid_1's binary_logloss: 0.0763711\n",
            "[380]\ttraining's binary_logloss: 0.00773575\tvalid_1's binary_logloss: 0.0768945\n",
            "Early stopping, best iteration is:\n",
            "[284]\ttraining's binary_logloss: 0.0136564\tvalid_1's binary_logloss: 0.074488\n"
          ],
          "name": "stdout"
        },
        {
          "output_type": "stream",
          "text": [
            "\u001b[32m[I 2021-06-02 19:09:35,216]\u001b[0m Trial 23 finished with value: 0.07448800223470399 and parameters: {'n_estimators': 800, 'lerning_rate': 0.05, 'max_depth': 7, 'max_features': 0.5, 'min_samples_split': 2, 'min_samples_leaf': 6}. Best is trial 0 with value: 0.07448800223470399.\u001b[0m\n",
            "/usr/local/lib/python3.7/dist-packages/lightgbm/engine.py:118: UserWarning:\n",
            "\n",
            "Found `n_estimators` in params. Will use it instead of argument\n",
            "\n",
            "/usr/local/lib/python3.7/dist-packages/lightgbm/basic.py:1205: UserWarning:\n",
            "\n",
            "Using categorical_feature in Dataset.\n",
            "\n",
            "/usr/local/lib/python3.7/dist-packages/lightgbm/basic.py:762: UserWarning:\n",
            "\n",
            "categorical_feature in param dict is overridden.\n",
            "\n"
          ],
          "name": "stderr"
        },
        {
          "output_type": "stream",
          "text": [
            "Training until validation scores don't improve for 100 rounds.\n",
            "[10]\ttraining's binary_logloss: 0.409698\tvalid_1's binary_logloss: 0.411253\n",
            "[20]\ttraining's binary_logloss: 0.267993\tvalid_1's binary_logloss: 0.274399\n",
            "[30]\ttraining's binary_logloss: 0.189238\tvalid_1's binary_logloss: 0.200589\n",
            "[40]\ttraining's binary_logloss: 0.141871\tvalid_1's binary_logloss: 0.156714\n",
            "[50]\ttraining's binary_logloss: 0.111377\tvalid_1's binary_logloss: 0.131017\n",
            "[60]\ttraining's binary_logloss: 0.0913246\tvalid_1's binary_logloss: 0.114705\n",
            "[70]\ttraining's binary_logloss: 0.0766883\tvalid_1's binary_logloss: 0.103426\n",
            "[80]\ttraining's binary_logloss: 0.0662109\tvalid_1's binary_logloss: 0.0955257\n",
            "[90]\ttraining's binary_logloss: 0.0579735\tvalid_1's binary_logloss: 0.0907321\n",
            "[100]\ttraining's binary_logloss: 0.0519366\tvalid_1's binary_logloss: 0.0873016\n",
            "[110]\ttraining's binary_logloss: 0.0467174\tvalid_1's binary_logloss: 0.084692\n",
            "[120]\ttraining's binary_logloss: 0.042823\tvalid_1's binary_logloss: 0.0825027\n",
            "[130]\ttraining's binary_logloss: 0.039263\tvalid_1's binary_logloss: 0.080728\n",
            "[140]\ttraining's binary_logloss: 0.0368088\tvalid_1's binary_logloss: 0.0795862\n",
            "[150]\ttraining's binary_logloss: 0.0341807\tvalid_1's binary_logloss: 0.0785089\n",
            "[160]\ttraining's binary_logloss: 0.031824\tvalid_1's binary_logloss: 0.0776682\n",
            "[170]\ttraining's binary_logloss: 0.0294623\tvalid_1's binary_logloss: 0.0773473\n",
            "[180]\ttraining's binary_logloss: 0.0277132\tvalid_1's binary_logloss: 0.0770717\n",
            "[190]\ttraining's binary_logloss: 0.0260938\tvalid_1's binary_logloss: 0.0768503\n",
            "[200]\ttraining's binary_logloss: 0.0243262\tvalid_1's binary_logloss: 0.0768429\n",
            "[210]\ttraining's binary_logloss: 0.0228748\tvalid_1's binary_logloss: 0.076908\n",
            "[220]\ttraining's binary_logloss: 0.021454\tvalid_1's binary_logloss: 0.0766721\n",
            "[230]\ttraining's binary_logloss: 0.0199342\tvalid_1's binary_logloss: 0.076072\n",
            "[240]\ttraining's binary_logloss: 0.0185507\tvalid_1's binary_logloss: 0.075876\n",
            "[250]\ttraining's binary_logloss: 0.0175056\tvalid_1's binary_logloss: 0.075725\n",
            "[260]\ttraining's binary_logloss: 0.0163431\tvalid_1's binary_logloss: 0.0753673\n",
            "[270]\ttraining's binary_logloss: 0.0151222\tvalid_1's binary_logloss: 0.0750839\n",
            "[280]\ttraining's binary_logloss: 0.0140374\tvalid_1's binary_logloss: 0.0746954\n",
            "[290]\ttraining's binary_logloss: 0.013094\tvalid_1's binary_logloss: 0.074504\n",
            "[300]\ttraining's binary_logloss: 0.0123084\tvalid_1's binary_logloss: 0.0747105\n",
            "Did not meet early stopping. Best iteration is:\n",
            "[300]\ttraining's binary_logloss: 0.0123084\tvalid_1's binary_logloss: 0.0747105\n"
          ],
          "name": "stdout"
        },
        {
          "output_type": "stream",
          "text": [
            "\u001b[32m[I 2021-06-02 19:09:36,142]\u001b[0m Trial 24 finished with value: 0.07471050854077584 and parameters: {'n_estimators': 300, 'lerning_rate': 0.05, 'max_depth': 7, 'max_features': 0.5, 'min_samples_split': 2, 'min_samples_leaf': 6}. Best is trial 0 with value: 0.07448800223470399.\u001b[0m\n",
            "/usr/local/lib/python3.7/dist-packages/lightgbm/engine.py:118: UserWarning:\n",
            "\n",
            "Found `n_estimators` in params. Will use it instead of argument\n",
            "\n",
            "/usr/local/lib/python3.7/dist-packages/lightgbm/basic.py:1205: UserWarning:\n",
            "\n",
            "Using categorical_feature in Dataset.\n",
            "\n",
            "/usr/local/lib/python3.7/dist-packages/lightgbm/basic.py:762: UserWarning:\n",
            "\n",
            "categorical_feature in param dict is overridden.\n",
            "\n"
          ],
          "name": "stderr"
        },
        {
          "output_type": "stream",
          "text": [
            "Training until validation scores don't improve for 100 rounds.\n",
            "[10]\ttraining's binary_logloss: 0.265484\tvalid_1's binary_logloss: 0.270788\n",
            "[20]\ttraining's binary_logloss: 0.141454\tvalid_1's binary_logloss: 0.155841\n",
            "[30]\ttraining's binary_logloss: 0.0913956\tvalid_1's binary_logloss: 0.114023\n",
            "[40]\ttraining's binary_logloss: 0.0659753\tvalid_1's binary_logloss: 0.0951342\n",
            "[50]\ttraining's binary_logloss: 0.0518051\tvalid_1's binary_logloss: 0.0872426\n",
            "[60]\ttraining's binary_logloss: 0.0420666\tvalid_1's binary_logloss: 0.0829783\n",
            "[70]\ttraining's binary_logloss: 0.0349382\tvalid_1's binary_logloss: 0.079769\n",
            "[80]\ttraining's binary_logloss: 0.0304187\tvalid_1's binary_logloss: 0.0783453\n",
            "[90]\ttraining's binary_logloss: 0.0268742\tvalid_1's binary_logloss: 0.0784974\n",
            "[100]\ttraining's binary_logloss: 0.0234778\tvalid_1's binary_logloss: 0.0787675\n",
            "[110]\ttraining's binary_logloss: 0.019951\tvalid_1's binary_logloss: 0.0779364\n",
            "[120]\ttraining's binary_logloss: 0.0172662\tvalid_1's binary_logloss: 0.0786049\n",
            "[130]\ttraining's binary_logloss: 0.0149412\tvalid_1's binary_logloss: 0.0781018\n",
            "[140]\ttraining's binary_logloss: 0.013256\tvalid_1's binary_logloss: 0.0786329\n",
            "[150]\ttraining's binary_logloss: 0.0116296\tvalid_1's binary_logloss: 0.079005\n",
            "[160]\ttraining's binary_logloss: 0.0101228\tvalid_1's binary_logloss: 0.0792184\n"
          ],
          "name": "stdout"
        },
        {
          "output_type": "stream",
          "text": [
            "\u001b[32m[I 2021-06-02 19:09:36,761]\u001b[0m Trial 25 finished with value: 0.07793637174609908 and parameters: {'n_estimators': 800, 'lerning_rate': 0.1, 'max_depth': 7, 'max_features': 0.5, 'min_samples_split': 2, 'min_samples_leaf': 6}. Best is trial 0 with value: 0.07448800223470399.\u001b[0m\n"
          ],
          "name": "stderr"
        },
        {
          "output_type": "stream",
          "text": [
            "[170]\ttraining's binary_logloss: 0.00909075\tvalid_1's binary_logloss: 0.0803631\n",
            "[180]\ttraining's binary_logloss: 0.00801235\tvalid_1's binary_logloss: 0.0808345\n",
            "[190]\ttraining's binary_logloss: 0.00711092\tvalid_1's binary_logloss: 0.0812948\n",
            "[200]\ttraining's binary_logloss: 0.00615468\tvalid_1's binary_logloss: 0.0822679\n",
            "[210]\ttraining's binary_logloss: 0.00527397\tvalid_1's binary_logloss: 0.0829521\n",
            "Early stopping, best iteration is:\n",
            "[110]\ttraining's binary_logloss: 0.019951\tvalid_1's binary_logloss: 0.0779364\n",
            "Training until validation scores don't improve for 100 rounds.\n",
            "[10]\ttraining's binary_logloss: 0.409698\tvalid_1's binary_logloss: 0.411253\n"
          ],
          "name": "stdout"
        },
        {
          "output_type": "stream",
          "text": [
            "/usr/local/lib/python3.7/dist-packages/lightgbm/engine.py:118: UserWarning:\n",
            "\n",
            "Found `n_estimators` in params. Will use it instead of argument\n",
            "\n",
            "/usr/local/lib/python3.7/dist-packages/lightgbm/basic.py:1205: UserWarning:\n",
            "\n",
            "Using categorical_feature in Dataset.\n",
            "\n",
            "/usr/local/lib/python3.7/dist-packages/lightgbm/basic.py:762: UserWarning:\n",
            "\n",
            "categorical_feature in param dict is overridden.\n",
            "\n"
          ],
          "name": "stderr"
        },
        {
          "output_type": "stream",
          "text": [
            "[20]\ttraining's binary_logloss: 0.267993\tvalid_1's binary_logloss: 0.274399\n",
            "[30]\ttraining's binary_logloss: 0.189238\tvalid_1's binary_logloss: 0.200589\n",
            "[40]\ttraining's binary_logloss: 0.141871\tvalid_1's binary_logloss: 0.156714\n",
            "[50]\ttraining's binary_logloss: 0.111377\tvalid_1's binary_logloss: 0.131017\n",
            "[60]\ttraining's binary_logloss: 0.0913246\tvalid_1's binary_logloss: 0.114705\n",
            "[70]\ttraining's binary_logloss: 0.0766883\tvalid_1's binary_logloss: 0.103426\n",
            "[80]\ttraining's binary_logloss: 0.0662109\tvalid_1's binary_logloss: 0.0955257\n",
            "[90]\ttraining's binary_logloss: 0.0579735\tvalid_1's binary_logloss: 0.0907321\n",
            "[100]\ttraining's binary_logloss: 0.0519366\tvalid_1's binary_logloss: 0.0873016\n",
            "[110]\ttraining's binary_logloss: 0.0467174\tvalid_1's binary_logloss: 0.084692\n",
            "[120]\ttraining's binary_logloss: 0.042823\tvalid_1's binary_logloss: 0.0825027\n",
            "[130]\ttraining's binary_logloss: 0.039263\tvalid_1's binary_logloss: 0.080728\n",
            "[140]\ttraining's binary_logloss: 0.0368088\tvalid_1's binary_logloss: 0.0795862\n",
            "[150]\ttraining's binary_logloss: 0.0341807\tvalid_1's binary_logloss: 0.0785089\n",
            "[160]\ttraining's binary_logloss: 0.031824\tvalid_1's binary_logloss: 0.0776682\n",
            "[170]\ttraining's binary_logloss: 0.0294623\tvalid_1's binary_logloss: 0.0773473\n",
            "[180]\ttraining's binary_logloss: 0.0277132\tvalid_1's binary_logloss: 0.0770717\n",
            "[190]\ttraining's binary_logloss: 0.0260938\tvalid_1's binary_logloss: 0.0768503\n",
            "[200]\ttraining's binary_logloss: 0.0243262\tvalid_1's binary_logloss: 0.0768429\n",
            "[210]\ttraining's binary_logloss: 0.0228748\tvalid_1's binary_logloss: 0.076908\n",
            "[220]\ttraining's binary_logloss: 0.021454\tvalid_1's binary_logloss: 0.0766721\n",
            "[230]\ttraining's binary_logloss: 0.0199342\tvalid_1's binary_logloss: 0.076072\n",
            "[240]\ttraining's binary_logloss: 0.0185507\tvalid_1's binary_logloss: 0.075876\n",
            "[250]\ttraining's binary_logloss: 0.0175056\tvalid_1's binary_logloss: 0.075725\n",
            "[260]\ttraining's binary_logloss: 0.0163431\tvalid_1's binary_logloss: 0.0753673\n",
            "[270]\ttraining's binary_logloss: 0.0151222\tvalid_1's binary_logloss: 0.0750839\n",
            "[280]\ttraining's binary_logloss: 0.0140374\tvalid_1's binary_logloss: 0.0746954\n",
            "[290]\ttraining's binary_logloss: 0.013094\tvalid_1's binary_logloss: 0.074504\n",
            "[300]\ttraining's binary_logloss: 0.0123084\tvalid_1's binary_logloss: 0.0747105\n",
            "[310]\ttraining's binary_logloss: 0.0114225\tvalid_1's binary_logloss: 0.0748976\n",
            "[320]\ttraining's binary_logloss: 0.0107359\tvalid_1's binary_logloss: 0.0751468\n",
            "[330]\ttraining's binary_logloss: 0.0101537\tvalid_1's binary_logloss: 0.0751449\n",
            "[340]\ttraining's binary_logloss: 0.00961056\tvalid_1's binary_logloss: 0.0755691\n",
            "[350]\ttraining's binary_logloss: 0.00917149\tvalid_1's binary_logloss: 0.0756973\n",
            "[360]\ttraining's binary_logloss: 0.00863189\tvalid_1's binary_logloss: 0.076131\n"
          ],
          "name": "stdout"
        },
        {
          "output_type": "stream",
          "text": [
            "\u001b[32m[I 2021-06-02 19:09:37,871]\u001b[0m Trial 26 finished with value: 0.07448800223470399 and parameters: {'n_estimators': 800, 'lerning_rate': 0.05, 'max_depth': 7, 'max_features': 0.3, 'min_samples_split': 2, 'min_samples_leaf': 6}. Best is trial 0 with value: 0.07448800223470399.\u001b[0m\n"
          ],
          "name": "stderr"
        },
        {
          "output_type": "stream",
          "text": [
            "[370]\ttraining's binary_logloss: 0.00827119\tvalid_1's binary_logloss: 0.0763711\n",
            "[380]\ttraining's binary_logloss: 0.00773575\tvalid_1's binary_logloss: 0.0768945\n",
            "Early stopping, best iteration is:\n",
            "[284]\ttraining's binary_logloss: 0.0136564\tvalid_1's binary_logloss: 0.074488\n",
            "Training until validation scores don't improve for 100 rounds.\n",
            "[10]\ttraining's binary_logloss: 0.409698\tvalid_1's binary_logloss: 0.411253\n"
          ],
          "name": "stdout"
        },
        {
          "output_type": "stream",
          "text": [
            "/usr/local/lib/python3.7/dist-packages/lightgbm/engine.py:118: UserWarning:\n",
            "\n",
            "Found `n_estimators` in params. Will use it instead of argument\n",
            "\n",
            "/usr/local/lib/python3.7/dist-packages/lightgbm/basic.py:1205: UserWarning:\n",
            "\n",
            "Using categorical_feature in Dataset.\n",
            "\n",
            "/usr/local/lib/python3.7/dist-packages/lightgbm/basic.py:762: UserWarning:\n",
            "\n",
            "categorical_feature in param dict is overridden.\n",
            "\n"
          ],
          "name": "stderr"
        },
        {
          "output_type": "stream",
          "text": [
            "[20]\ttraining's binary_logloss: 0.267993\tvalid_1's binary_logloss: 0.274399\n",
            "[30]\ttraining's binary_logloss: 0.189238\tvalid_1's binary_logloss: 0.200589\n",
            "[40]\ttraining's binary_logloss: 0.141871\tvalid_1's binary_logloss: 0.156714\n",
            "[50]\ttraining's binary_logloss: 0.111377\tvalid_1's binary_logloss: 0.131017\n",
            "[60]\ttraining's binary_logloss: 0.0913246\tvalid_1's binary_logloss: 0.114705\n",
            "[70]\ttraining's binary_logloss: 0.0766883\tvalid_1's binary_logloss: 0.103426\n",
            "[80]\ttraining's binary_logloss: 0.0662109\tvalid_1's binary_logloss: 0.0955257\n",
            "[90]\ttraining's binary_logloss: 0.0579735\tvalid_1's binary_logloss: 0.0907321\n",
            "[100]\ttraining's binary_logloss: 0.0519366\tvalid_1's binary_logloss: 0.0873016\n",
            "[110]\ttraining's binary_logloss: 0.0467174\tvalid_1's binary_logloss: 0.084692\n",
            "[120]\ttraining's binary_logloss: 0.042823\tvalid_1's binary_logloss: 0.0825027\n",
            "[130]\ttraining's binary_logloss: 0.039263\tvalid_1's binary_logloss: 0.080728\n",
            "[140]\ttraining's binary_logloss: 0.0368088\tvalid_1's binary_logloss: 0.0795862\n",
            "[150]\ttraining's binary_logloss: 0.0341807\tvalid_1's binary_logloss: 0.0785089\n",
            "[160]\ttraining's binary_logloss: 0.031824\tvalid_1's binary_logloss: 0.0776682\n",
            "[170]\ttraining's binary_logloss: 0.0294623\tvalid_1's binary_logloss: 0.0773473\n",
            "[180]\ttraining's binary_logloss: 0.0277132\tvalid_1's binary_logloss: 0.0770717\n",
            "[190]\ttraining's binary_logloss: 0.0260938\tvalid_1's binary_logloss: 0.0768503\n",
            "[200]\ttraining's binary_logloss: 0.0243262\tvalid_1's binary_logloss: 0.0768429\n",
            "[210]\ttraining's binary_logloss: 0.0228748\tvalid_1's binary_logloss: 0.076908\n",
            "[220]\ttraining's binary_logloss: 0.021454\tvalid_1's binary_logloss: 0.0766721\n",
            "[230]\ttraining's binary_logloss: 0.0199342\tvalid_1's binary_logloss: 0.076072\n",
            "[240]\ttraining's binary_logloss: 0.0185507\tvalid_1's binary_logloss: 0.075876\n",
            "[250]\ttraining's binary_logloss: 0.0175056\tvalid_1's binary_logloss: 0.075725\n",
            "[260]\ttraining's binary_logloss: 0.0163431\tvalid_1's binary_logloss: 0.0753673\n",
            "[270]\ttraining's binary_logloss: 0.0151222\tvalid_1's binary_logloss: 0.0750839\n",
            "[280]\ttraining's binary_logloss: 0.0140374\tvalid_1's binary_logloss: 0.0746954\n",
            "[290]\ttraining's binary_logloss: 0.013094\tvalid_1's binary_logloss: 0.074504\n",
            "[300]\ttraining's binary_logloss: 0.0123084\tvalid_1's binary_logloss: 0.0747105\n",
            "[310]\ttraining's binary_logloss: 0.0114225\tvalid_1's binary_logloss: 0.0748976\n",
            "[320]\ttraining's binary_logloss: 0.0107359\tvalid_1's binary_logloss: 0.0751468\n",
            "[330]\ttraining's binary_logloss: 0.0101537\tvalid_1's binary_logloss: 0.0751449\n",
            "[340]\ttraining's binary_logloss: 0.00961056\tvalid_1's binary_logloss: 0.0755691\n",
            "[350]\ttraining's binary_logloss: 0.00917149\tvalid_1's binary_logloss: 0.0756973\n",
            "[360]\ttraining's binary_logloss: 0.00863189\tvalid_1's binary_logloss: 0.076131\n",
            "[370]\ttraining's binary_logloss: 0.00827119\tvalid_1's binary_logloss: 0.0763711\n"
          ],
          "name": "stdout"
        },
        {
          "output_type": "stream",
          "text": [
            "\u001b[32m[I 2021-06-02 19:09:38,982]\u001b[0m Trial 27 finished with value: 0.07448800223470399 and parameters: {'n_estimators': 800, 'lerning_rate': 0.05, 'max_depth': 7, 'max_features': 0.5, 'min_samples_split': 6, 'min_samples_leaf': 6}. Best is trial 0 with value: 0.07448800223470399.\u001b[0m\n"
          ],
          "name": "stderr"
        },
        {
          "output_type": "stream",
          "text": [
            "[380]\ttraining's binary_logloss: 0.00773575\tvalid_1's binary_logloss: 0.0768945\n",
            "Early stopping, best iteration is:\n",
            "[284]\ttraining's binary_logloss: 0.0136564\tvalid_1's binary_logloss: 0.074488\n",
            "Training until validation scores don't improve for 100 rounds.\n",
            "[10]\ttraining's binary_logloss: 0.409698\tvalid_1's binary_logloss: 0.411253\n",
            "[20]\ttraining's binary_logloss: 0.267993\tvalid_1's binary_logloss: 0.274399\n"
          ],
          "name": "stdout"
        },
        {
          "output_type": "stream",
          "text": [
            "/usr/local/lib/python3.7/dist-packages/lightgbm/engine.py:118: UserWarning:\n",
            "\n",
            "Found `n_estimators` in params. Will use it instead of argument\n",
            "\n",
            "/usr/local/lib/python3.7/dist-packages/lightgbm/basic.py:1205: UserWarning:\n",
            "\n",
            "Using categorical_feature in Dataset.\n",
            "\n",
            "/usr/local/lib/python3.7/dist-packages/lightgbm/basic.py:762: UserWarning:\n",
            "\n",
            "categorical_feature in param dict is overridden.\n",
            "\n"
          ],
          "name": "stderr"
        },
        {
          "output_type": "stream",
          "text": [
            "[30]\ttraining's binary_logloss: 0.189238\tvalid_1's binary_logloss: 0.200589\n",
            "[40]\ttraining's binary_logloss: 0.141871\tvalid_1's binary_logloss: 0.156714\n",
            "[50]\ttraining's binary_logloss: 0.111377\tvalid_1's binary_logloss: 0.131017\n",
            "[60]\ttraining's binary_logloss: 0.0913246\tvalid_1's binary_logloss: 0.114705\n",
            "[70]\ttraining's binary_logloss: 0.0766883\tvalid_1's binary_logloss: 0.103426\n",
            "[80]\ttraining's binary_logloss: 0.0662109\tvalid_1's binary_logloss: 0.0955257\n",
            "[90]\ttraining's binary_logloss: 0.0579735\tvalid_1's binary_logloss: 0.0907321\n",
            "[100]\ttraining's binary_logloss: 0.0519366\tvalid_1's binary_logloss: 0.0873016\n",
            "[110]\ttraining's binary_logloss: 0.0467174\tvalid_1's binary_logloss: 0.084692\n",
            "[120]\ttraining's binary_logloss: 0.042823\tvalid_1's binary_logloss: 0.0825027\n",
            "[130]\ttraining's binary_logloss: 0.039263\tvalid_1's binary_logloss: 0.080728\n",
            "[140]\ttraining's binary_logloss: 0.0368088\tvalid_1's binary_logloss: 0.0795862\n",
            "[150]\ttraining's binary_logloss: 0.0341807\tvalid_1's binary_logloss: 0.0785089\n",
            "[160]\ttraining's binary_logloss: 0.031824\tvalid_1's binary_logloss: 0.0776682\n",
            "[170]\ttraining's binary_logloss: 0.0294623\tvalid_1's binary_logloss: 0.0773473\n",
            "[180]\ttraining's binary_logloss: 0.0277132\tvalid_1's binary_logloss: 0.0770717\n",
            "[190]\ttraining's binary_logloss: 0.0260938\tvalid_1's binary_logloss: 0.0768503\n",
            "[200]\ttraining's binary_logloss: 0.0243262\tvalid_1's binary_logloss: 0.0768429\n",
            "[210]\ttraining's binary_logloss: 0.0228748\tvalid_1's binary_logloss: 0.076908\n",
            "[220]\ttraining's binary_logloss: 0.021454\tvalid_1's binary_logloss: 0.0766721\n",
            "[230]\ttraining's binary_logloss: 0.0199342\tvalid_1's binary_logloss: 0.076072\n",
            "[240]\ttraining's binary_logloss: 0.0185507\tvalid_1's binary_logloss: 0.075876\n",
            "[250]\ttraining's binary_logloss: 0.0175056\tvalid_1's binary_logloss: 0.075725\n",
            "[260]\ttraining's binary_logloss: 0.0163431\tvalid_1's binary_logloss: 0.0753673\n",
            "[270]\ttraining's binary_logloss: 0.0151222\tvalid_1's binary_logloss: 0.0750839\n",
            "[280]\ttraining's binary_logloss: 0.0140374\tvalid_1's binary_logloss: 0.0746954\n",
            "[290]\ttraining's binary_logloss: 0.013094\tvalid_1's binary_logloss: 0.074504\n",
            "[300]\ttraining's binary_logloss: 0.0123084\tvalid_1's binary_logloss: 0.0747105\n",
            "[310]\ttraining's binary_logloss: 0.0114225\tvalid_1's binary_logloss: 0.0748976\n",
            "[320]\ttraining's binary_logloss: 0.0107359\tvalid_1's binary_logloss: 0.0751468\n",
            "[330]\ttraining's binary_logloss: 0.0101537\tvalid_1's binary_logloss: 0.0751449\n",
            "[340]\ttraining's binary_logloss: 0.00961056\tvalid_1's binary_logloss: 0.0755691\n",
            "[350]\ttraining's binary_logloss: 0.00917149\tvalid_1's binary_logloss: 0.0756973\n",
            "[360]\ttraining's binary_logloss: 0.00863189\tvalid_1's binary_logloss: 0.076131\n",
            "[370]\ttraining's binary_logloss: 0.00827119\tvalid_1's binary_logloss: 0.0763711\n"
          ],
          "name": "stdout"
        },
        {
          "output_type": "stream",
          "text": [
            "\u001b[32m[I 2021-06-02 19:09:40,090]\u001b[0m Trial 28 finished with value: 0.07448800223470399 and parameters: {'n_estimators': 800, 'lerning_rate': 0.05, 'max_depth': 7, 'max_features': 0.5, 'min_samples_split': 2, 'min_samples_leaf': 6}. Best is trial 0 with value: 0.07448800223470399.\u001b[0m\n"
          ],
          "name": "stderr"
        },
        {
          "output_type": "stream",
          "text": [
            "[380]\ttraining's binary_logloss: 0.00773575\tvalid_1's binary_logloss: 0.0768945\n",
            "Early stopping, best iteration is:\n",
            "[284]\ttraining's binary_logloss: 0.0136564\tvalid_1's binary_logloss: 0.074488\n",
            "Training until validation scores don't improve for 100 rounds.\n",
            "[10]\ttraining's binary_logloss: 0.411323\tvalid_1's binary_logloss: 0.413697\n",
            "[20]\ttraining's binary_logloss: 0.270566\tvalid_1's binary_logloss: 0.277387\n",
            "[30]\ttraining's binary_logloss: 0.193298\tvalid_1's binary_logloss: 0.204611\n"
          ],
          "name": "stdout"
        },
        {
          "output_type": "stream",
          "text": [
            "/usr/local/lib/python3.7/dist-packages/lightgbm/engine.py:118: UserWarning:\n",
            "\n",
            "Found `n_estimators` in params. Will use it instead of argument\n",
            "\n",
            "/usr/local/lib/python3.7/dist-packages/lightgbm/basic.py:1205: UserWarning:\n",
            "\n",
            "Using categorical_feature in Dataset.\n",
            "\n",
            "/usr/local/lib/python3.7/dist-packages/lightgbm/basic.py:762: UserWarning:\n",
            "\n",
            "categorical_feature in param dict is overridden.\n",
            "\n"
          ],
          "name": "stderr"
        },
        {
          "output_type": "stream",
          "text": [
            "[40]\ttraining's binary_logloss: 0.145922\tvalid_1's binary_logloss: 0.161338\n",
            "[50]\ttraining's binary_logloss: 0.116141\tvalid_1's binary_logloss: 0.135096\n",
            "[60]\ttraining's binary_logloss: 0.0963498\tvalid_1's binary_logloss: 0.118673\n",
            "[70]\ttraining's binary_logloss: 0.0816513\tvalid_1's binary_logloss: 0.106801\n",
            "[80]\ttraining's binary_logloss: 0.0710277\tvalid_1's binary_logloss: 0.0991108\n",
            "[90]\ttraining's binary_logloss: 0.0634895\tvalid_1's binary_logloss: 0.0944022\n",
            "[100]\ttraining's binary_logloss: 0.0574838\tvalid_1's binary_logloss: 0.0909468\n",
            "[110]\ttraining's binary_logloss: 0.052291\tvalid_1's binary_logloss: 0.0881219\n",
            "[120]\ttraining's binary_logloss: 0.0481254\tvalid_1's binary_logloss: 0.0868324\n",
            "[130]\ttraining's binary_logloss: 0.0448136\tvalid_1's binary_logloss: 0.0852678\n",
            "[140]\ttraining's binary_logloss: 0.0426374\tvalid_1's binary_logloss: 0.0843877\n",
            "[150]\ttraining's binary_logloss: 0.0395421\tvalid_1's binary_logloss: 0.0831745\n",
            "[160]\ttraining's binary_logloss: 0.0373895\tvalid_1's binary_logloss: 0.082264\n",
            "[170]\ttraining's binary_logloss: 0.0357445\tvalid_1's binary_logloss: 0.0817602\n",
            "[180]\ttraining's binary_logloss: 0.0336474\tvalid_1's binary_logloss: 0.0814583\n",
            "[190]\ttraining's binary_logloss: 0.0317092\tvalid_1's binary_logloss: 0.0811886\n",
            "[200]\ttraining's binary_logloss: 0.0298133\tvalid_1's binary_logloss: 0.0807668\n",
            "[210]\ttraining's binary_logloss: 0.0283265\tvalid_1's binary_logloss: 0.0804893\n",
            "[220]\ttraining's binary_logloss: 0.0267947\tvalid_1's binary_logloss: 0.0804896\n",
            "[230]\ttraining's binary_logloss: 0.0253559\tvalid_1's binary_logloss: 0.0802702\n",
            "[240]\ttraining's binary_logloss: 0.0238454\tvalid_1's binary_logloss: 0.0800036\n",
            "[250]\ttraining's binary_logloss: 0.0227992\tvalid_1's binary_logloss: 0.0799582\n",
            "[260]\ttraining's binary_logloss: 0.0216784\tvalid_1's binary_logloss: 0.0797223\n",
            "[270]\ttraining's binary_logloss: 0.0204874\tvalid_1's binary_logloss: 0.0798342\n",
            "[280]\ttraining's binary_logloss: 0.0195981\tvalid_1's binary_logloss: 0.0798478\n",
            "[290]\ttraining's binary_logloss: 0.0187997\tvalid_1's binary_logloss: 0.0796971\n"
          ],
          "name": "stdout"
        },
        {
          "output_type": "stream",
          "text": [
            "\u001b[32m[I 2021-06-02 19:09:40,959]\u001b[0m Trial 29 finished with value: 0.07976107606346014 and parameters: {'n_estimators': 300, 'lerning_rate': 0.05, 'max_depth': 6, 'max_features': 0.3, 'min_samples_split': 2, 'min_samples_leaf': 6}. Best is trial 0 with value: 0.07448800223470399.\u001b[0m\n"
          ],
          "name": "stderr"
        },
        {
          "output_type": "stream",
          "text": [
            "[300]\ttraining's binary_logloss: 0.0177473\tvalid_1's binary_logloss: 0.0797611\n",
            "Did not meet early stopping. Best iteration is:\n",
            "[300]\ttraining's binary_logloss: 0.0177473\tvalid_1's binary_logloss: 0.0797611\n",
            "Training until validation scores don't improve for 100 rounds.\n",
            "[10]\ttraining's binary_logloss: 0.418997\tvalid_1's binary_logloss: 0.420731\n",
            "[20]\ttraining's binary_logloss: 0.282218\tvalid_1's binary_logloss: 0.287381\n",
            "[30]\ttraining's binary_logloss: 0.206188\tvalid_1's binary_logloss: 0.215322\n"
          ],
          "name": "stdout"
        },
        {
          "output_type": "stream",
          "text": [
            "/usr/local/lib/python3.7/dist-packages/lightgbm/engine.py:118: UserWarning:\n",
            "\n",
            "Found `n_estimators` in params. Will use it instead of argument\n",
            "\n",
            "/usr/local/lib/python3.7/dist-packages/lightgbm/basic.py:1205: UserWarning:\n",
            "\n",
            "Using categorical_feature in Dataset.\n",
            "\n",
            "/usr/local/lib/python3.7/dist-packages/lightgbm/basic.py:762: UserWarning:\n",
            "\n",
            "categorical_feature in param dict is overridden.\n",
            "\n"
          ],
          "name": "stderr"
        },
        {
          "output_type": "stream",
          "text": [
            "[40]\ttraining's binary_logloss: 0.160089\tvalid_1's binary_logloss: 0.171675\n",
            "[50]\ttraining's binary_logloss: 0.130013\tvalid_1's binary_logloss: 0.144479\n",
            "[60]\ttraining's binary_logloss: 0.109227\tvalid_1's binary_logloss: 0.125945\n",
            "[70]\ttraining's binary_logloss: 0.0940343\tvalid_1's binary_logloss: 0.113364\n",
            "[80]\ttraining's binary_logloss: 0.0828253\tvalid_1's binary_logloss: 0.104801\n",
            "[90]\ttraining's binary_logloss: 0.0744705\tvalid_1's binary_logloss: 0.0988442\n",
            "[100]\ttraining's binary_logloss: 0.0678946\tvalid_1's binary_logloss: 0.094721\n",
            "[110]\ttraining's binary_logloss: 0.0624988\tvalid_1's binary_logloss: 0.0913801\n",
            "[120]\ttraining's binary_logloss: 0.0585045\tvalid_1's binary_logloss: 0.089354\n",
            "[130]\ttraining's binary_logloss: 0.0550333\tvalid_1's binary_logloss: 0.0874419\n",
            "[140]\ttraining's binary_logloss: 0.0519388\tvalid_1's binary_logloss: 0.0858294\n",
            "[150]\ttraining's binary_logloss: 0.0492584\tvalid_1's binary_logloss: 0.0848701\n",
            "[160]\ttraining's binary_logloss: 0.0466821\tvalid_1's binary_logloss: 0.0838417\n",
            "[170]\ttraining's binary_logloss: 0.0445855\tvalid_1's binary_logloss: 0.0833475\n",
            "[180]\ttraining's binary_logloss: 0.0422962\tvalid_1's binary_logloss: 0.0824579\n",
            "[190]\ttraining's binary_logloss: 0.0404459\tvalid_1's binary_logloss: 0.0819334\n",
            "[200]\ttraining's binary_logloss: 0.0390711\tvalid_1's binary_logloss: 0.0813806\n",
            "[210]\ttraining's binary_logloss: 0.0373853\tvalid_1's binary_logloss: 0.080532\n",
            "[220]\ttraining's binary_logloss: 0.0360873\tvalid_1's binary_logloss: 0.0802617\n",
            "[230]\ttraining's binary_logloss: 0.0346456\tvalid_1's binary_logloss: 0.0801191\n",
            "[240]\ttraining's binary_logloss: 0.0336365\tvalid_1's binary_logloss: 0.0798566\n",
            "[250]\ttraining's binary_logloss: 0.0320279\tvalid_1's binary_logloss: 0.0792543\n",
            "[260]\ttraining's binary_logloss: 0.0309858\tvalid_1's binary_logloss: 0.0789378\n",
            "[270]\ttraining's binary_logloss: 0.0300017\tvalid_1's binary_logloss: 0.079113\n",
            "[280]\ttraining's binary_logloss: 0.0284746\tvalid_1's binary_logloss: 0.0786074\n",
            "[290]\ttraining's binary_logloss: 0.0276014\tvalid_1's binary_logloss: 0.0785746\n",
            "[300]\ttraining's binary_logloss: 0.026531\tvalid_1's binary_logloss: 0.0787535\n",
            "[310]\ttraining's binary_logloss: 0.0254982\tvalid_1's binary_logloss: 0.0786233\n",
            "[320]\ttraining's binary_logloss: 0.0244612\tvalid_1's binary_logloss: 0.0783247\n",
            "[330]\ttraining's binary_logloss: 0.0234639\tvalid_1's binary_logloss: 0.0782165\n",
            "[340]\ttraining's binary_logloss: 0.0224665\tvalid_1's binary_logloss: 0.078238\n",
            "[350]\ttraining's binary_logloss: 0.0214653\tvalid_1's binary_logloss: 0.078109\n",
            "[360]\ttraining's binary_logloss: 0.020878\tvalid_1's binary_logloss: 0.0783936\n",
            "[370]\ttraining's binary_logloss: 0.0201838\tvalid_1's binary_logloss: 0.07862\n",
            "[380]\ttraining's binary_logloss: 0.0193581\tvalid_1's binary_logloss: 0.0788847\n",
            "[390]\ttraining's binary_logloss: 0.0185383\tvalid_1's binary_logloss: 0.0789581\n",
            "[400]\ttraining's binary_logloss: 0.0180344\tvalid_1's binary_logloss: 0.0792781\n",
            "[410]\ttraining's binary_logloss: 0.017412\tvalid_1's binary_logloss: 0.0793388\n",
            "[420]\ttraining's binary_logloss: 0.0168615\tvalid_1's binary_logloss: 0.079478\n",
            "[430]\ttraining's binary_logloss: 0.0161291\tvalid_1's binary_logloss: 0.0792406\n",
            "[440]\ttraining's binary_logloss: 0.0154738\tvalid_1's binary_logloss: 0.0791613\n",
            "Early stopping, best iteration is:\n",
            "[344]\ttraining's binary_logloss: 0.0220129\tvalid_1's binary_logloss: 0.0780557\n"
          ],
          "name": "stdout"
        },
        {
          "output_type": "stream",
          "text": [
            "\u001b[32m[I 2021-06-02 19:09:42,167]\u001b[0m Trial 30 finished with value: 0.0780556546583138 and parameters: {'n_estimators': 800, 'lerning_rate': 0.05, 'max_depth': 5, 'max_features': 0.5, 'min_samples_split': 2, 'min_samples_leaf': 6}. Best is trial 0 with value: 0.07448800223470399.\u001b[0m\n",
            "/usr/local/lib/python3.7/dist-packages/lightgbm/engine.py:118: UserWarning:\n",
            "\n",
            "Found `n_estimators` in params. Will use it instead of argument\n",
            "\n",
            "/usr/local/lib/python3.7/dist-packages/lightgbm/basic.py:1205: UserWarning:\n",
            "\n",
            "Using categorical_feature in Dataset.\n",
            "\n",
            "/usr/local/lib/python3.7/dist-packages/lightgbm/basic.py:762: UserWarning:\n",
            "\n",
            "categorical_feature in param dict is overridden.\n",
            "\n"
          ],
          "name": "stderr"
        },
        {
          "output_type": "stream",
          "text": [
            "Training until validation scores don't improve for 100 rounds.\n",
            "[10]\ttraining's binary_logloss: 0.409698\tvalid_1's binary_logloss: 0.411253\n",
            "[20]\ttraining's binary_logloss: 0.267993\tvalid_1's binary_logloss: 0.274399\n",
            "[30]\ttraining's binary_logloss: 0.189238\tvalid_1's binary_logloss: 0.200589\n",
            "[40]\ttraining's binary_logloss: 0.141871\tvalid_1's binary_logloss: 0.156714\n",
            "[50]\ttraining's binary_logloss: 0.111377\tvalid_1's binary_logloss: 0.131017\n",
            "[60]\ttraining's binary_logloss: 0.0913246\tvalid_1's binary_logloss: 0.114705\n",
            "[70]\ttraining's binary_logloss: 0.0766883\tvalid_1's binary_logloss: 0.103426\n",
            "[80]\ttraining's binary_logloss: 0.0662109\tvalid_1's binary_logloss: 0.0955257\n",
            "[90]\ttraining's binary_logloss: 0.0579735\tvalid_1's binary_logloss: 0.0907321\n",
            "[100]\ttraining's binary_logloss: 0.0519366\tvalid_1's binary_logloss: 0.0873016\n",
            "[110]\ttraining's binary_logloss: 0.0467174\tvalid_1's binary_logloss: 0.084692\n",
            "[120]\ttraining's binary_logloss: 0.042823\tvalid_1's binary_logloss: 0.0825027\n",
            "[130]\ttraining's binary_logloss: 0.039263\tvalid_1's binary_logloss: 0.080728\n",
            "[140]\ttraining's binary_logloss: 0.0368088\tvalid_1's binary_logloss: 0.0795862\n",
            "[150]\ttraining's binary_logloss: 0.0341807\tvalid_1's binary_logloss: 0.0785089\n",
            "[160]\ttraining's binary_logloss: 0.031824\tvalid_1's binary_logloss: 0.0776682\n",
            "[170]\ttraining's binary_logloss: 0.0294623\tvalid_1's binary_logloss: 0.0773473\n",
            "[180]\ttraining's binary_logloss: 0.0277132\tvalid_1's binary_logloss: 0.0770717\n",
            "[190]\ttraining's binary_logloss: 0.0260938\tvalid_1's binary_logloss: 0.0768503\n",
            "[200]\ttraining's binary_logloss: 0.0243262\tvalid_1's binary_logloss: 0.0768429\n",
            "[210]\ttraining's binary_logloss: 0.0228748\tvalid_1's binary_logloss: 0.076908\n",
            "[220]\ttraining's binary_logloss: 0.021454\tvalid_1's binary_logloss: 0.0766721\n",
            "[230]\ttraining's binary_logloss: 0.0199342\tvalid_1's binary_logloss: 0.076072\n",
            "[240]\ttraining's binary_logloss: 0.0185507\tvalid_1's binary_logloss: 0.075876\n",
            "[250]\ttraining's binary_logloss: 0.0175056\tvalid_1's binary_logloss: 0.075725\n",
            "[260]\ttraining's binary_logloss: 0.0163431\tvalid_1's binary_logloss: 0.0753673\n",
            "[270]\ttraining's binary_logloss: 0.0151222\tvalid_1's binary_logloss: 0.0750839\n",
            "[280]\ttraining's binary_logloss: 0.0140374\tvalid_1's binary_logloss: 0.0746954\n",
            "[290]\ttraining's binary_logloss: 0.013094\tvalid_1's binary_logloss: 0.074504\n",
            "[300]\ttraining's binary_logloss: 0.0123084\tvalid_1's binary_logloss: 0.0747105\n",
            "[310]\ttraining's binary_logloss: 0.0114225\tvalid_1's binary_logloss: 0.0748976\n",
            "[320]\ttraining's binary_logloss: 0.0107359\tvalid_1's binary_logloss: 0.0751468\n",
            "[330]\ttraining's binary_logloss: 0.0101537\tvalid_1's binary_logloss: 0.0751449\n",
            "[340]\ttraining's binary_logloss: 0.00961056\tvalid_1's binary_logloss: 0.0755691\n",
            "[350]\ttraining's binary_logloss: 0.00917149\tvalid_1's binary_logloss: 0.0756973\n",
            "[360]\ttraining's binary_logloss: 0.00863189\tvalid_1's binary_logloss: 0.076131\n",
            "[370]\ttraining's binary_logloss: 0.00827119\tvalid_1's binary_logloss: 0.0763711\n",
            "[380]\ttraining's binary_logloss: 0.00773575\tvalid_1's binary_logloss: 0.0768945\n",
            "Early stopping, best iteration is:\n",
            "[284]\ttraining's binary_logloss: 0.0136564\tvalid_1's binary_logloss: 0.074488\n"
          ],
          "name": "stdout"
        },
        {
          "output_type": "stream",
          "text": [
            "\u001b[32m[I 2021-06-02 19:09:43,294]\u001b[0m Trial 31 finished with value: 0.07448800223470399 and parameters: {'n_estimators': 1000, 'lerning_rate': 0.05, 'max_depth': 7, 'max_features': 0.1, 'min_samples_split': 2, 'min_samples_leaf': 2}. Best is trial 0 with value: 0.07448800223470399.\u001b[0m\n",
            "/usr/local/lib/python3.7/dist-packages/lightgbm/engine.py:118: UserWarning:\n",
            "\n",
            "Found `n_estimators` in params. Will use it instead of argument\n",
            "\n",
            "/usr/local/lib/python3.7/dist-packages/lightgbm/basic.py:1205: UserWarning:\n",
            "\n",
            "Using categorical_feature in Dataset.\n",
            "\n",
            "/usr/local/lib/python3.7/dist-packages/lightgbm/basic.py:762: UserWarning:\n",
            "\n",
            "categorical_feature in param dict is overridden.\n",
            "\n"
          ],
          "name": "stderr"
        },
        {
          "output_type": "stream",
          "text": [
            "Training until validation scores don't improve for 100 rounds.\n",
            "[10]\ttraining's binary_logloss: 0.409698\tvalid_1's binary_logloss: 0.411253\n",
            "[20]\ttraining's binary_logloss: 0.267993\tvalid_1's binary_logloss: 0.274399\n",
            "[30]\ttraining's binary_logloss: 0.189238\tvalid_1's binary_logloss: 0.200589\n",
            "[40]\ttraining's binary_logloss: 0.141871\tvalid_1's binary_logloss: 0.156714\n",
            "[50]\ttraining's binary_logloss: 0.111377\tvalid_1's binary_logloss: 0.131017\n",
            "[60]\ttraining's binary_logloss: 0.0913246\tvalid_1's binary_logloss: 0.114705\n",
            "[70]\ttraining's binary_logloss: 0.0766883\tvalid_1's binary_logloss: 0.103426\n",
            "[80]\ttraining's binary_logloss: 0.0662109\tvalid_1's binary_logloss: 0.0955257\n",
            "[90]\ttraining's binary_logloss: 0.0579735\tvalid_1's binary_logloss: 0.0907321\n",
            "[100]\ttraining's binary_logloss: 0.0519366\tvalid_1's binary_logloss: 0.0873016\n",
            "[110]\ttraining's binary_logloss: 0.0467174\tvalid_1's binary_logloss: 0.084692\n",
            "[120]\ttraining's binary_logloss: 0.042823\tvalid_1's binary_logloss: 0.0825027\n",
            "[130]\ttraining's binary_logloss: 0.039263\tvalid_1's binary_logloss: 0.080728\n",
            "[140]\ttraining's binary_logloss: 0.0368088\tvalid_1's binary_logloss: 0.0795862\n",
            "[150]\ttraining's binary_logloss: 0.0341807\tvalid_1's binary_logloss: 0.0785089\n",
            "[160]\ttraining's binary_logloss: 0.031824\tvalid_1's binary_logloss: 0.0776682\n",
            "[170]\ttraining's binary_logloss: 0.0294623\tvalid_1's binary_logloss: 0.0773473\n",
            "[180]\ttraining's binary_logloss: 0.0277132\tvalid_1's binary_logloss: 0.0770717\n",
            "[190]\ttraining's binary_logloss: 0.0260938\tvalid_1's binary_logloss: 0.0768503\n",
            "[200]\ttraining's binary_logloss: 0.0243262\tvalid_1's binary_logloss: 0.0768429\n",
            "[210]\ttraining's binary_logloss: 0.0228748\tvalid_1's binary_logloss: 0.076908\n",
            "[220]\ttraining's binary_logloss: 0.021454\tvalid_1's binary_logloss: 0.0766721\n",
            "[230]\ttraining's binary_logloss: 0.0199342\tvalid_1's binary_logloss: 0.076072\n",
            "[240]\ttraining's binary_logloss: 0.0185507\tvalid_1's binary_logloss: 0.075876\n",
            "[250]\ttraining's binary_logloss: 0.0175056\tvalid_1's binary_logloss: 0.075725\n",
            "[260]\ttraining's binary_logloss: 0.0163431\tvalid_1's binary_logloss: 0.0753673\n",
            "[270]\ttraining's binary_logloss: 0.0151222\tvalid_1's binary_logloss: 0.0750839\n",
            "[280]\ttraining's binary_logloss: 0.0140374\tvalid_1's binary_logloss: 0.0746954\n",
            "[290]\ttraining's binary_logloss: 0.013094\tvalid_1's binary_logloss: 0.074504\n",
            "[300]\ttraining's binary_logloss: 0.0123084\tvalid_1's binary_logloss: 0.0747105\n",
            "[310]\ttraining's binary_logloss: 0.0114225\tvalid_1's binary_logloss: 0.0748976\n",
            "[320]\ttraining's binary_logloss: 0.0107359\tvalid_1's binary_logloss: 0.0751468\n",
            "[330]\ttraining's binary_logloss: 0.0101537\tvalid_1's binary_logloss: 0.0751449\n",
            "[340]\ttraining's binary_logloss: 0.00961056\tvalid_1's binary_logloss: 0.0755691\n",
            "[350]\ttraining's binary_logloss: 0.00917149\tvalid_1's binary_logloss: 0.0756973\n",
            "[360]\ttraining's binary_logloss: 0.00863189\tvalid_1's binary_logloss: 0.076131\n",
            "[370]\ttraining's binary_logloss: 0.00827119\tvalid_1's binary_logloss: 0.0763711\n",
            "[380]\ttraining's binary_logloss: 0.00773575\tvalid_1's binary_logloss: 0.0768945\n",
            "Early stopping, best iteration is:\n",
            "[284]\ttraining's binary_logloss: 0.0136564\tvalid_1's binary_logloss: 0.074488\n"
          ],
          "name": "stdout"
        },
        {
          "output_type": "stream",
          "text": [
            "\u001b[32m[I 2021-06-02 19:09:44,419]\u001b[0m Trial 32 finished with value: 0.07448800223470399 and parameters: {'n_estimators': 800, 'lerning_rate': 0.05, 'max_depth': 7, 'max_features': 0.3, 'min_samples_split': 6, 'min_samples_leaf': 6}. Best is trial 0 with value: 0.07448800223470399.\u001b[0m\n",
            "/usr/local/lib/python3.7/dist-packages/lightgbm/engine.py:118: UserWarning:\n",
            "\n",
            "Found `n_estimators` in params. Will use it instead of argument\n",
            "\n",
            "/usr/local/lib/python3.7/dist-packages/lightgbm/basic.py:1205: UserWarning:\n",
            "\n",
            "Using categorical_feature in Dataset.\n",
            "\n",
            "/usr/local/lib/python3.7/dist-packages/lightgbm/basic.py:762: UserWarning:\n",
            "\n",
            "categorical_feature in param dict is overridden.\n",
            "\n"
          ],
          "name": "stderr"
        },
        {
          "output_type": "stream",
          "text": [
            "Training until validation scores don't improve for 100 rounds.\n",
            "[10]\ttraining's binary_logloss: 0.409698\tvalid_1's binary_logloss: 0.411253\n",
            "[20]\ttraining's binary_logloss: 0.267993\tvalid_1's binary_logloss: 0.274399\n",
            "[30]\ttraining's binary_logloss: 0.189238\tvalid_1's binary_logloss: 0.200589\n",
            "[40]\ttraining's binary_logloss: 0.141871\tvalid_1's binary_logloss: 0.156714\n",
            "[50]\ttraining's binary_logloss: 0.111377\tvalid_1's binary_logloss: 0.131017\n",
            "[60]\ttraining's binary_logloss: 0.0913246\tvalid_1's binary_logloss: 0.114705\n",
            "[70]\ttraining's binary_logloss: 0.0766883\tvalid_1's binary_logloss: 0.103426\n",
            "[80]\ttraining's binary_logloss: 0.0662109\tvalid_1's binary_logloss: 0.0955257\n",
            "[90]\ttraining's binary_logloss: 0.0579735\tvalid_1's binary_logloss: 0.0907321\n",
            "[100]\ttraining's binary_logloss: 0.0519366\tvalid_1's binary_logloss: 0.0873016\n",
            "[110]\ttraining's binary_logloss: 0.0467174\tvalid_1's binary_logloss: 0.084692\n",
            "[120]\ttraining's binary_logloss: 0.042823\tvalid_1's binary_logloss: 0.0825027\n",
            "[130]\ttraining's binary_logloss: 0.039263\tvalid_1's binary_logloss: 0.080728\n",
            "[140]\ttraining's binary_logloss: 0.0368088\tvalid_1's binary_logloss: 0.0795862\n",
            "[150]\ttraining's binary_logloss: 0.0341807\tvalid_1's binary_logloss: 0.0785089\n",
            "[160]\ttraining's binary_logloss: 0.031824\tvalid_1's binary_logloss: 0.0776682\n",
            "[170]\ttraining's binary_logloss: 0.0294623\tvalid_1's binary_logloss: 0.0773473\n",
            "[180]\ttraining's binary_logloss: 0.0277132\tvalid_1's binary_logloss: 0.0770717\n",
            "[190]\ttraining's binary_logloss: 0.0260938\tvalid_1's binary_logloss: 0.0768503\n",
            "[200]\ttraining's binary_logloss: 0.0243262\tvalid_1's binary_logloss: 0.0768429\n",
            "[210]\ttraining's binary_logloss: 0.0228748\tvalid_1's binary_logloss: 0.076908\n",
            "[220]\ttraining's binary_logloss: 0.021454\tvalid_1's binary_logloss: 0.0766721\n",
            "[230]\ttraining's binary_logloss: 0.0199342\tvalid_1's binary_logloss: 0.076072\n",
            "[240]\ttraining's binary_logloss: 0.0185507\tvalid_1's binary_logloss: 0.075876\n",
            "[250]\ttraining's binary_logloss: 0.0175056\tvalid_1's binary_logloss: 0.075725\n",
            "[260]\ttraining's binary_logloss: 0.0163431\tvalid_1's binary_logloss: 0.0753673\n",
            "[270]\ttraining's binary_logloss: 0.0151222\tvalid_1's binary_logloss: 0.0750839\n",
            "[280]\ttraining's binary_logloss: 0.0140374\tvalid_1's binary_logloss: 0.0746954\n",
            "[290]\ttraining's binary_logloss: 0.013094\tvalid_1's binary_logloss: 0.074504\n",
            "[300]\ttraining's binary_logloss: 0.0123084\tvalid_1's binary_logloss: 0.0747105\n",
            "[310]\ttraining's binary_logloss: 0.0114225\tvalid_1's binary_logloss: 0.0748976\n",
            "[320]\ttraining's binary_logloss: 0.0107359\tvalid_1's binary_logloss: 0.0751468\n",
            "[330]\ttraining's binary_logloss: 0.0101537\tvalid_1's binary_logloss: 0.0751449\n",
            "[340]\ttraining's binary_logloss: 0.00961056\tvalid_1's binary_logloss: 0.0755691\n",
            "[350]\ttraining's binary_logloss: 0.00917149\tvalid_1's binary_logloss: 0.0756973\n",
            "[360]\ttraining's binary_logloss: 0.00863189\tvalid_1's binary_logloss: 0.076131\n",
            "[370]\ttraining's binary_logloss: 0.00827119\tvalid_1's binary_logloss: 0.0763711\n",
            "[380]\ttraining's binary_logloss: 0.00773575\tvalid_1's binary_logloss: 0.0768945\n",
            "Early stopping, best iteration is:\n",
            "[284]\ttraining's binary_logloss: 0.0136564\tvalid_1's binary_logloss: 0.074488\n"
          ],
          "name": "stdout"
        },
        {
          "output_type": "stream",
          "text": [
            "\u001b[32m[I 2021-06-02 19:09:45,577]\u001b[0m Trial 33 finished with value: 0.07448800223470399 and parameters: {'n_estimators': 800, 'lerning_rate': 0.05, 'max_depth': 7, 'max_features': 0.3, 'min_samples_split': 6, 'min_samples_leaf': 6}. Best is trial 0 with value: 0.07448800223470399.\u001b[0m\n",
            "/usr/local/lib/python3.7/dist-packages/lightgbm/engine.py:118: UserWarning:\n",
            "\n",
            "Found `n_estimators` in params. Will use it instead of argument\n",
            "\n",
            "/usr/local/lib/python3.7/dist-packages/lightgbm/basic.py:1205: UserWarning:\n",
            "\n",
            "Using categorical_feature in Dataset.\n",
            "\n",
            "/usr/local/lib/python3.7/dist-packages/lightgbm/basic.py:762: UserWarning:\n",
            "\n",
            "categorical_feature in param dict is overridden.\n",
            "\n"
          ],
          "name": "stderr"
        },
        {
          "output_type": "stream",
          "text": [
            "Training until validation scores don't improve for 100 rounds.\n",
            "[10]\ttraining's binary_logloss: 0.409698\tvalid_1's binary_logloss: 0.411253\n",
            "[20]\ttraining's binary_logloss: 0.267993\tvalid_1's binary_logloss: 0.274399\n",
            "[30]\ttraining's binary_logloss: 0.189238\tvalid_1's binary_logloss: 0.200589\n",
            "[40]\ttraining's binary_logloss: 0.141871\tvalid_1's binary_logloss: 0.156714\n",
            "[50]\ttraining's binary_logloss: 0.111377\tvalid_1's binary_logloss: 0.131017\n",
            "[60]\ttraining's binary_logloss: 0.0913246\tvalid_1's binary_logloss: 0.114705\n",
            "[70]\ttraining's binary_logloss: 0.0766883\tvalid_1's binary_logloss: 0.103426\n",
            "[80]\ttraining's binary_logloss: 0.0662109\tvalid_1's binary_logloss: 0.0955257\n",
            "[90]\ttraining's binary_logloss: 0.0579735\tvalid_1's binary_logloss: 0.0907321\n",
            "[100]\ttraining's binary_logloss: 0.0519366\tvalid_1's binary_logloss: 0.0873016\n",
            "[110]\ttraining's binary_logloss: 0.0467174\tvalid_1's binary_logloss: 0.084692\n",
            "[120]\ttraining's binary_logloss: 0.042823\tvalid_1's binary_logloss: 0.0825027\n",
            "[130]\ttraining's binary_logloss: 0.039263\tvalid_1's binary_logloss: 0.080728\n",
            "[140]\ttraining's binary_logloss: 0.0368088\tvalid_1's binary_logloss: 0.0795862\n",
            "[150]\ttraining's binary_logloss: 0.0341807\tvalid_1's binary_logloss: 0.0785089\n",
            "[160]\ttraining's binary_logloss: 0.031824\tvalid_1's binary_logloss: 0.0776682\n",
            "[170]\ttraining's binary_logloss: 0.0294623\tvalid_1's binary_logloss: 0.0773473\n",
            "[180]\ttraining's binary_logloss: 0.0277132\tvalid_1's binary_logloss: 0.0770717\n",
            "[190]\ttraining's binary_logloss: 0.0260938\tvalid_1's binary_logloss: 0.0768503\n",
            "[200]\ttraining's binary_logloss: 0.0243262\tvalid_1's binary_logloss: 0.0768429\n",
            "[210]\ttraining's binary_logloss: 0.0228748\tvalid_1's binary_logloss: 0.076908\n",
            "[220]\ttraining's binary_logloss: 0.021454\tvalid_1's binary_logloss: 0.0766721\n",
            "[230]\ttraining's binary_logloss: 0.0199342\tvalid_1's binary_logloss: 0.076072\n",
            "[240]\ttraining's binary_logloss: 0.0185507\tvalid_1's binary_logloss: 0.075876\n",
            "[250]\ttraining's binary_logloss: 0.0175056\tvalid_1's binary_logloss: 0.075725\n",
            "[260]\ttraining's binary_logloss: 0.0163431\tvalid_1's binary_logloss: 0.0753673\n",
            "[270]\ttraining's binary_logloss: 0.0151222\tvalid_1's binary_logloss: 0.0750839\n",
            "[280]\ttraining's binary_logloss: 0.0140374\tvalid_1's binary_logloss: 0.0746954\n",
            "[290]\ttraining's binary_logloss: 0.013094\tvalid_1's binary_logloss: 0.074504\n",
            "[300]\ttraining's binary_logloss: 0.0123084\tvalid_1's binary_logloss: 0.0747105\n",
            "[310]\ttraining's binary_logloss: 0.0114225\tvalid_1's binary_logloss: 0.0748976\n",
            "[320]\ttraining's binary_logloss: 0.0107359\tvalid_1's binary_logloss: 0.0751468\n",
            "[330]\ttraining's binary_logloss: 0.0101537\tvalid_1's binary_logloss: 0.0751449\n",
            "[340]\ttraining's binary_logloss: 0.00961056\tvalid_1's binary_logloss: 0.0755691\n"
          ],
          "name": "stdout"
        },
        {
          "output_type": "stream",
          "text": [
            "\u001b[32m[I 2021-06-02 19:09:46,686]\u001b[0m Trial 34 finished with value: 0.07448800223470399 and parameters: {'n_estimators': 1000, 'lerning_rate': 0.05, 'max_depth': 7, 'max_features': 0.1, 'min_samples_split': 6, 'min_samples_leaf': 2}. Best is trial 0 with value: 0.07448800223470399.\u001b[0m\n"
          ],
          "name": "stderr"
        },
        {
          "output_type": "stream",
          "text": [
            "[350]\ttraining's binary_logloss: 0.00917149\tvalid_1's binary_logloss: 0.0756973\n",
            "[360]\ttraining's binary_logloss: 0.00863189\tvalid_1's binary_logloss: 0.076131\n",
            "[370]\ttraining's binary_logloss: 0.00827119\tvalid_1's binary_logloss: 0.0763711\n",
            "[380]\ttraining's binary_logloss: 0.00773575\tvalid_1's binary_logloss: 0.0768945\n",
            "Early stopping, best iteration is:\n",
            "[284]\ttraining's binary_logloss: 0.0136564\tvalid_1's binary_logloss: 0.074488\n"
          ],
          "name": "stdout"
        },
        {
          "output_type": "stream",
          "text": [
            "/usr/local/lib/python3.7/dist-packages/lightgbm/engine.py:118: UserWarning:\n",
            "\n",
            "Found `n_estimators` in params. Will use it instead of argument\n",
            "\n",
            "/usr/local/lib/python3.7/dist-packages/lightgbm/basic.py:1205: UserWarning:\n",
            "\n",
            "Using categorical_feature in Dataset.\n",
            "\n",
            "/usr/local/lib/python3.7/dist-packages/lightgbm/basic.py:762: UserWarning:\n",
            "\n",
            "categorical_feature in param dict is overridden.\n",
            "\n"
          ],
          "name": "stderr"
        },
        {
          "output_type": "stream",
          "text": [
            "Training until validation scores don't improve for 100 rounds.\n",
            "[10]\ttraining's binary_logloss: 0.616829\tvalid_1's binary_logloss: 0.616906\n",
            "[20]\ttraining's binary_logloss: 0.553327\tvalid_1's binary_logloss: 0.553572\n",
            "[30]\ttraining's binary_logloss: 0.499584\tvalid_1's binary_logloss: 0.500203\n",
            "[40]\ttraining's binary_logloss: 0.452701\tvalid_1's binary_logloss: 0.453814\n",
            "[50]\ttraining's binary_logloss: 0.411634\tvalid_1's binary_logloss: 0.413236\n",
            "[60]\ttraining's binary_logloss: 0.375426\tvalid_1's binary_logloss: 0.377978\n",
            "[70]\ttraining's binary_logloss: 0.343707\tvalid_1's binary_logloss: 0.347072\n",
            "[80]\ttraining's binary_logloss: 0.315787\tvalid_1's binary_logloss: 0.320113\n",
            "[90]\ttraining's binary_logloss: 0.291207\tvalid_1's binary_logloss: 0.296652\n",
            "[100]\ttraining's binary_logloss: 0.269098\tvalid_1's binary_logloss: 0.275817\n",
            "[110]\ttraining's binary_logloss: 0.249516\tvalid_1's binary_logloss: 0.257306\n",
            "[120]\ttraining's binary_logloss: 0.232055\tvalid_1's binary_logloss: 0.240907\n",
            "[130]\ttraining's binary_logloss: 0.216335\tvalid_1's binary_logloss: 0.226338\n",
            "[140]\ttraining's binary_logloss: 0.202252\tvalid_1's binary_logloss: 0.213252\n",
            "[150]\ttraining's binary_logloss: 0.189683\tvalid_1's binary_logloss: 0.201632\n",
            "[160]\ttraining's binary_logloss: 0.178031\tvalid_1's binary_logloss: 0.190725\n",
            "[170]\ttraining's binary_logloss: 0.167715\tvalid_1's binary_logloss: 0.181012\n",
            "[180]\ttraining's binary_logloss: 0.158241\tvalid_1's binary_logloss: 0.172132\n",
            "[190]\ttraining's binary_logloss: 0.149658\tvalid_1's binary_logloss: 0.16417\n",
            "[200]\ttraining's binary_logloss: 0.141847\tvalid_1's binary_logloss: 0.15696\n",
            "[210]\ttraining's binary_logloss: 0.134625\tvalid_1's binary_logloss: 0.150527\n",
            "[220]\ttraining's binary_logloss: 0.127839\tvalid_1's binary_logloss: 0.144864\n",
            "[230]\ttraining's binary_logloss: 0.121611\tvalid_1's binary_logloss: 0.139734\n",
            "[240]\ttraining's binary_logloss: 0.116027\tvalid_1's binary_logloss: 0.135208\n",
            "[250]\ttraining's binary_logloss: 0.111037\tvalid_1's binary_logloss: 0.131083\n",
            "[260]\ttraining's binary_logloss: 0.106348\tvalid_1's binary_logloss: 0.127107\n",
            "[270]\ttraining's binary_logloss: 0.102048\tvalid_1's binary_logloss: 0.123476\n",
            "[280]\ttraining's binary_logloss: 0.098023\tvalid_1's binary_logloss: 0.119964\n",
            "[290]\ttraining's binary_logloss: 0.0942825\tvalid_1's binary_logloss: 0.11689\n",
            "[300]\ttraining's binary_logloss: 0.0906829\tvalid_1's binary_logloss: 0.114076\n",
            "[310]\ttraining's binary_logloss: 0.0874779\tvalid_1's binary_logloss: 0.111554\n",
            "[320]\ttraining's binary_logloss: 0.084399\tvalid_1's binary_logloss: 0.109196\n",
            "[330]\ttraining's binary_logloss: 0.0814896\tvalid_1's binary_logloss: 0.10704\n",
            "[340]\ttraining's binary_logloss: 0.0787496\tvalid_1's binary_logloss: 0.104795\n",
            "[350]\ttraining's binary_logloss: 0.0761457\tvalid_1's binary_logloss: 0.102741\n",
            "[360]\ttraining's binary_logloss: 0.0737365\tvalid_1's binary_logloss: 0.101112\n",
            "[370]\ttraining's binary_logloss: 0.0715015\tvalid_1's binary_logloss: 0.0995443\n",
            "[380]\ttraining's binary_logloss: 0.0693821\tvalid_1's binary_logloss: 0.0980127\n",
            "[390]\ttraining's binary_logloss: 0.0672561\tvalid_1's binary_logloss: 0.096386\n",
            "[400]\ttraining's binary_logloss: 0.0653078\tvalid_1's binary_logloss: 0.0949951\n",
            "[410]\ttraining's binary_logloss: 0.0635105\tvalid_1's binary_logloss: 0.093761\n",
            "[420]\ttraining's binary_logloss: 0.0618205\tvalid_1's binary_logloss: 0.0926767\n",
            "[430]\ttraining's binary_logloss: 0.0601921\tvalid_1's binary_logloss: 0.09171\n",
            "[440]\ttraining's binary_logloss: 0.0586311\tvalid_1's binary_logloss: 0.0909011\n",
            "[450]\ttraining's binary_logloss: 0.0571734\tvalid_1's binary_logloss: 0.0900677\n",
            "[460]\ttraining's binary_logloss: 0.0558108\tvalid_1's binary_logloss: 0.0894581\n",
            "[470]\ttraining's binary_logloss: 0.0545099\tvalid_1's binary_logloss: 0.0889063\n",
            "[480]\ttraining's binary_logloss: 0.0532607\tvalid_1's binary_logloss: 0.0884247\n",
            "[490]\ttraining's binary_logloss: 0.0519976\tvalid_1's binary_logloss: 0.0878043\n",
            "[500]\ttraining's binary_logloss: 0.0508042\tvalid_1's binary_logloss: 0.087209\n",
            "[510]\ttraining's binary_logloss: 0.0496513\tvalid_1's binary_logloss: 0.0866805\n",
            "[520]\ttraining's binary_logloss: 0.0485386\tvalid_1's binary_logloss: 0.0861167\n",
            "[530]\ttraining's binary_logloss: 0.0474402\tvalid_1's binary_logloss: 0.0856967\n",
            "[540]\ttraining's binary_logloss: 0.0463857\tvalid_1's binary_logloss: 0.0852977\n",
            "[550]\ttraining's binary_logloss: 0.0454147\tvalid_1's binary_logloss: 0.0849592\n",
            "[560]\ttraining's binary_logloss: 0.0444882\tvalid_1's binary_logloss: 0.0844945\n",
            "[570]\ttraining's binary_logloss: 0.0435958\tvalid_1's binary_logloss: 0.0842551\n",
            "[580]\ttraining's binary_logloss: 0.042708\tvalid_1's binary_logloss: 0.0840362\n",
            "[590]\ttraining's binary_logloss: 0.0419894\tvalid_1's binary_logloss: 0.0838657\n",
            "[600]\ttraining's binary_logloss: 0.0413165\tvalid_1's binary_logloss: 0.0836756\n",
            "[610]\ttraining's binary_logloss: 0.0406414\tvalid_1's binary_logloss: 0.0833421\n",
            "[620]\ttraining's binary_logloss: 0.0398297\tvalid_1's binary_logloss: 0.0829326\n",
            "[630]\ttraining's binary_logloss: 0.0391489\tvalid_1's binary_logloss: 0.082832\n",
            "[640]\ttraining's binary_logloss: 0.0383203\tvalid_1's binary_logloss: 0.0824653\n",
            "[650]\ttraining's binary_logloss: 0.0376059\tvalid_1's binary_logloss: 0.0822643\n",
            "[660]\ttraining's binary_logloss: 0.0370108\tvalid_1's binary_logloss: 0.0820057\n",
            "[670]\ttraining's binary_logloss: 0.0362948\tvalid_1's binary_logloss: 0.0817207\n",
            "[680]\ttraining's binary_logloss: 0.0355899\tvalid_1's binary_logloss: 0.0814922\n",
            "[690]\ttraining's binary_logloss: 0.0348877\tvalid_1's binary_logloss: 0.0812127\n",
            "[700]\ttraining's binary_logloss: 0.0342647\tvalid_1's binary_logloss: 0.0810305\n",
            "[710]\ttraining's binary_logloss: 0.0336666\tvalid_1's binary_logloss: 0.080873\n",
            "[720]\ttraining's binary_logloss: 0.0331121\tvalid_1's binary_logloss: 0.0807028\n",
            "[730]\ttraining's binary_logloss: 0.0325536\tvalid_1's binary_logloss: 0.0805189\n",
            "[740]\ttraining's binary_logloss: 0.0320313\tvalid_1's binary_logloss: 0.0802817\n",
            "[750]\ttraining's binary_logloss: 0.0316129\tvalid_1's binary_logloss: 0.0800914\n",
            "[760]\ttraining's binary_logloss: 0.0311409\tvalid_1's binary_logloss: 0.0799072\n",
            "[770]\ttraining's binary_logloss: 0.0305895\tvalid_1's binary_logloss: 0.0797956\n",
            "[780]\ttraining's binary_logloss: 0.0301015\tvalid_1's binary_logloss: 0.079644\n",
            "[790]\ttraining's binary_logloss: 0.0296374\tvalid_1's binary_logloss: 0.0794938\n",
            "[800]\ttraining's binary_logloss: 0.029169\tvalid_1's binary_logloss: 0.0793726\n",
            "[810]\ttraining's binary_logloss: 0.0286986\tvalid_1's binary_logloss: 0.079207\n",
            "[820]\ttraining's binary_logloss: 0.0282593\tvalid_1's binary_logloss: 0.0790757\n",
            "[830]\ttraining's binary_logloss: 0.0278265\tvalid_1's binary_logloss: 0.0789717\n",
            "[840]\ttraining's binary_logloss: 0.0274128\tvalid_1's binary_logloss: 0.0788548\n",
            "[850]\ttraining's binary_logloss: 0.0270319\tvalid_1's binary_logloss: 0.0788633\n",
            "[860]\ttraining's binary_logloss: 0.0266376\tvalid_1's binary_logloss: 0.0788409\n",
            "[870]\ttraining's binary_logloss: 0.0262435\tvalid_1's binary_logloss: 0.0787656\n",
            "[880]\ttraining's binary_logloss: 0.0259019\tvalid_1's binary_logloss: 0.0787935\n",
            "[890]\ttraining's binary_logloss: 0.0254345\tvalid_1's binary_logloss: 0.0787319\n",
            "[900]\ttraining's binary_logloss: 0.0249892\tvalid_1's binary_logloss: 0.0786298\n",
            "[910]\ttraining's binary_logloss: 0.0245652\tvalid_1's binary_logloss: 0.0786487\n",
            "[920]\ttraining's binary_logloss: 0.0241175\tvalid_1's binary_logloss: 0.0786149\n",
            "[930]\ttraining's binary_logloss: 0.0236711\tvalid_1's binary_logloss: 0.0784727\n",
            "[940]\ttraining's binary_logloss: 0.0232457\tvalid_1's binary_logloss: 0.0783741\n",
            "[950]\ttraining's binary_logloss: 0.0228849\tvalid_1's binary_logloss: 0.0783209\n",
            "[960]\ttraining's binary_logloss: 0.0225206\tvalid_1's binary_logloss: 0.0782236\n",
            "[970]\ttraining's binary_logloss: 0.0221925\tvalid_1's binary_logloss: 0.0781537\n",
            "[980]\ttraining's binary_logloss: 0.0218161\tvalid_1's binary_logloss: 0.078055\n",
            "[990]\ttraining's binary_logloss: 0.0214675\tvalid_1's binary_logloss: 0.0780815\n",
            "[1000]\ttraining's binary_logloss: 0.0211307\tvalid_1's binary_logloss: 0.0780235\n",
            "Did not meet early stopping. Best iteration is:\n",
            "[1000]\ttraining's binary_logloss: 0.0211307\tvalid_1's binary_logloss: 0.0780235\n"
          ],
          "name": "stdout"
        },
        {
          "output_type": "stream",
          "text": [
            "\u001b[32m[I 2021-06-02 19:09:49,894]\u001b[0m Trial 35 finished with value: 0.07802351902763069 and parameters: {'n_estimators': 1000, 'lerning_rate': 0.01, 'max_depth': 8, 'max_features': 0.3, 'min_samples_split': 6, 'min_samples_leaf': 6}. Best is trial 0 with value: 0.07448800223470399.\u001b[0m\n",
            "/usr/local/lib/python3.7/dist-packages/lightgbm/engine.py:118: UserWarning:\n",
            "\n",
            "Found `n_estimators` in params. Will use it instead of argument\n",
            "\n",
            "/usr/local/lib/python3.7/dist-packages/lightgbm/basic.py:1205: UserWarning:\n",
            "\n",
            "Using categorical_feature in Dataset.\n",
            "\n",
            "/usr/local/lib/python3.7/dist-packages/lightgbm/basic.py:762: UserWarning:\n",
            "\n",
            "categorical_feature in param dict is overridden.\n",
            "\n"
          ],
          "name": "stderr"
        },
        {
          "output_type": "stream",
          "text": [
            "Training until validation scores don't improve for 100 rounds.\n",
            "[10]\ttraining's binary_logloss: 0.409698\tvalid_1's binary_logloss: 0.411253\n",
            "[20]\ttraining's binary_logloss: 0.267993\tvalid_1's binary_logloss: 0.274399\n",
            "[30]\ttraining's binary_logloss: 0.189238\tvalid_1's binary_logloss: 0.200589\n",
            "[40]\ttraining's binary_logloss: 0.141871\tvalid_1's binary_logloss: 0.156714\n",
            "[50]\ttraining's binary_logloss: 0.111377\tvalid_1's binary_logloss: 0.131017\n",
            "[60]\ttraining's binary_logloss: 0.0913246\tvalid_1's binary_logloss: 0.114705\n",
            "[70]\ttraining's binary_logloss: 0.0766883\tvalid_1's binary_logloss: 0.103426\n",
            "[80]\ttraining's binary_logloss: 0.0662109\tvalid_1's binary_logloss: 0.0955257\n",
            "[90]\ttraining's binary_logloss: 0.0579735\tvalid_1's binary_logloss: 0.0907321\n",
            "[100]\ttraining's binary_logloss: 0.0519366\tvalid_1's binary_logloss: 0.0873016\n",
            "[110]\ttraining's binary_logloss: 0.0467174\tvalid_1's binary_logloss: 0.084692\n",
            "[120]\ttraining's binary_logloss: 0.042823\tvalid_1's binary_logloss: 0.0825027\n",
            "[130]\ttraining's binary_logloss: 0.039263\tvalid_1's binary_logloss: 0.080728\n",
            "[140]\ttraining's binary_logloss: 0.0368088\tvalid_1's binary_logloss: 0.0795862\n",
            "[150]\ttraining's binary_logloss: 0.0341807\tvalid_1's binary_logloss: 0.0785089\n",
            "[160]\ttraining's binary_logloss: 0.031824\tvalid_1's binary_logloss: 0.0776682\n",
            "[170]\ttraining's binary_logloss: 0.0294623\tvalid_1's binary_logloss: 0.0773473\n",
            "[180]\ttraining's binary_logloss: 0.0277132\tvalid_1's binary_logloss: 0.0770717\n",
            "[190]\ttraining's binary_logloss: 0.0260938\tvalid_1's binary_logloss: 0.0768503\n",
            "[200]\ttraining's binary_logloss: 0.0243262\tvalid_1's binary_logloss: 0.0768429\n",
            "[210]\ttraining's binary_logloss: 0.0228748\tvalid_1's binary_logloss: 0.076908\n",
            "[220]\ttraining's binary_logloss: 0.021454\tvalid_1's binary_logloss: 0.0766721\n",
            "[230]\ttraining's binary_logloss: 0.0199342\tvalid_1's binary_logloss: 0.076072\n",
            "[240]\ttraining's binary_logloss: 0.0185507\tvalid_1's binary_logloss: 0.075876\n",
            "[250]\ttraining's binary_logloss: 0.0175056\tvalid_1's binary_logloss: 0.075725\n",
            "[260]\ttraining's binary_logloss: 0.0163431\tvalid_1's binary_logloss: 0.0753673\n",
            "[270]\ttraining's binary_logloss: 0.0151222\tvalid_1's binary_logloss: 0.0750839\n",
            "[280]\ttraining's binary_logloss: 0.0140374\tvalid_1's binary_logloss: 0.0746954\n",
            "[290]\ttraining's binary_logloss: 0.013094\tvalid_1's binary_logloss: 0.074504\n",
            "[300]\ttraining's binary_logloss: 0.0123084\tvalid_1's binary_logloss: 0.0747105\n",
            "Did not meet early stopping. Best iteration is:\n",
            "[300]\ttraining's binary_logloss: 0.0123084\tvalid_1's binary_logloss: 0.0747105\n"
          ],
          "name": "stdout"
        },
        {
          "output_type": "stream",
          "text": [
            "\u001b[32m[I 2021-06-02 19:09:50,796]\u001b[0m Trial 36 finished with value: 0.07471050854077584 and parameters: {'n_estimators': 300, 'lerning_rate': 0.05, 'max_depth': 7, 'max_features': 0.3, 'min_samples_split': 6, 'min_samples_leaf': 2}. Best is trial 0 with value: 0.07448800223470399.\u001b[0m\n",
            "/usr/local/lib/python3.7/dist-packages/lightgbm/engine.py:118: UserWarning:\n",
            "\n",
            "Found `n_estimators` in params. Will use it instead of argument\n",
            "\n",
            "/usr/local/lib/python3.7/dist-packages/lightgbm/basic.py:1205: UserWarning:\n",
            "\n",
            "Using categorical_feature in Dataset.\n",
            "\n",
            "/usr/local/lib/python3.7/dist-packages/lightgbm/basic.py:762: UserWarning:\n",
            "\n",
            "categorical_feature in param dict is overridden.\n",
            "\n"
          ],
          "name": "stderr"
        },
        {
          "output_type": "stream",
          "text": [
            "Training until validation scores don't improve for 100 rounds.\n",
            "[10]\ttraining's binary_logloss: 0.418997\tvalid_1's binary_logloss: 0.420731\n",
            "[20]\ttraining's binary_logloss: 0.282218\tvalid_1's binary_logloss: 0.287381\n",
            "[30]\ttraining's binary_logloss: 0.206188\tvalid_1's binary_logloss: 0.215322\n",
            "[40]\ttraining's binary_logloss: 0.160089\tvalid_1's binary_logloss: 0.171675\n",
            "[50]\ttraining's binary_logloss: 0.130013\tvalid_1's binary_logloss: 0.144479\n",
            "[60]\ttraining's binary_logloss: 0.109227\tvalid_1's binary_logloss: 0.125945\n",
            "[70]\ttraining's binary_logloss: 0.0940343\tvalid_1's binary_logloss: 0.113364\n",
            "[80]\ttraining's binary_logloss: 0.0828253\tvalid_1's binary_logloss: 0.104801\n",
            "[90]\ttraining's binary_logloss: 0.0744705\tvalid_1's binary_logloss: 0.0988442\n",
            "[100]\ttraining's binary_logloss: 0.0678946\tvalid_1's binary_logloss: 0.094721\n",
            "[110]\ttraining's binary_logloss: 0.0624988\tvalid_1's binary_logloss: 0.0913801\n",
            "[120]\ttraining's binary_logloss: 0.0585045\tvalid_1's binary_logloss: 0.089354\n",
            "[130]\ttraining's binary_logloss: 0.0550333\tvalid_1's binary_logloss: 0.0874419\n",
            "[140]\ttraining's binary_logloss: 0.0519388\tvalid_1's binary_logloss: 0.0858294\n",
            "[150]\ttraining's binary_logloss: 0.0492584\tvalid_1's binary_logloss: 0.0848701\n",
            "[160]\ttraining's binary_logloss: 0.0466821\tvalid_1's binary_logloss: 0.0838417\n",
            "[170]\ttraining's binary_logloss: 0.0445855\tvalid_1's binary_logloss: 0.0833475\n",
            "[180]\ttraining's binary_logloss: 0.0422962\tvalid_1's binary_logloss: 0.0824579\n",
            "[190]\ttraining's binary_logloss: 0.0404459\tvalid_1's binary_logloss: 0.0819334\n",
            "[200]\ttraining's binary_logloss: 0.0390711\tvalid_1's binary_logloss: 0.0813806\n",
            "[210]\ttraining's binary_logloss: 0.0373853\tvalid_1's binary_logloss: 0.080532\n",
            "[220]\ttraining's binary_logloss: 0.0360873\tvalid_1's binary_logloss: 0.0802617\n",
            "[230]\ttraining's binary_logloss: 0.0346456\tvalid_1's binary_logloss: 0.0801191\n",
            "[240]\ttraining's binary_logloss: 0.0336365\tvalid_1's binary_logloss: 0.0798566\n",
            "[250]\ttraining's binary_logloss: 0.0320279\tvalid_1's binary_logloss: 0.0792543\n",
            "[260]\ttraining's binary_logloss: 0.0309858\tvalid_1's binary_logloss: 0.0789378\n",
            "[270]\ttraining's binary_logloss: 0.0300017\tvalid_1's binary_logloss: 0.079113\n",
            "[280]\ttraining's binary_logloss: 0.0284746\tvalid_1's binary_logloss: 0.0786074\n",
            "[290]\ttraining's binary_logloss: 0.0276014\tvalid_1's binary_logloss: 0.0785746\n",
            "[300]\ttraining's binary_logloss: 0.026531\tvalid_1's binary_logloss: 0.0787535\n",
            "[310]\ttraining's binary_logloss: 0.0254982\tvalid_1's binary_logloss: 0.0786233\n",
            "[320]\ttraining's binary_logloss: 0.0244612\tvalid_1's binary_logloss: 0.0783247\n",
            "[330]\ttraining's binary_logloss: 0.0234639\tvalid_1's binary_logloss: 0.0782165\n",
            "[340]\ttraining's binary_logloss: 0.0224665\tvalid_1's binary_logloss: 0.078238\n",
            "[350]\ttraining's binary_logloss: 0.0214653\tvalid_1's binary_logloss: 0.078109\n",
            "[360]\ttraining's binary_logloss: 0.020878\tvalid_1's binary_logloss: 0.0783936\n",
            "[370]\ttraining's binary_logloss: 0.0201838\tvalid_1's binary_logloss: 0.07862\n",
            "[380]\ttraining's binary_logloss: 0.0193581\tvalid_1's binary_logloss: 0.0788847\n",
            "[390]\ttraining's binary_logloss: 0.0185383\tvalid_1's binary_logloss: 0.0789581\n",
            "[400]\ttraining's binary_logloss: 0.0180344\tvalid_1's binary_logloss: 0.0792781\n",
            "[410]\ttraining's binary_logloss: 0.017412\tvalid_1's binary_logloss: 0.0793388\n",
            "[420]\ttraining's binary_logloss: 0.0168615\tvalid_1's binary_logloss: 0.079478\n",
            "[430]\ttraining's binary_logloss: 0.0161291\tvalid_1's binary_logloss: 0.0792406\n"
          ],
          "name": "stdout"
        },
        {
          "output_type": "stream",
          "text": [
            "\u001b[32m[I 2021-06-02 19:09:52,009]\u001b[0m Trial 37 finished with value: 0.0780556546583138 and parameters: {'n_estimators': 1000, 'lerning_rate': 0.05, 'max_depth': 5, 'max_features': 0.3, 'min_samples_split': 6, 'min_samples_leaf': 2}. Best is trial 0 with value: 0.07448800223470399.\u001b[0m\n"
          ],
          "name": "stderr"
        },
        {
          "output_type": "stream",
          "text": [
            "[440]\ttraining's binary_logloss: 0.0154738\tvalid_1's binary_logloss: 0.0791613\n",
            "Early stopping, best iteration is:\n",
            "[344]\ttraining's binary_logloss: 0.0220129\tvalid_1's binary_logloss: 0.0780557\n",
            "Training until validation scores don't improve for 100 rounds.\n",
            "[10]\ttraining's binary_logloss: 0.266767\tvalid_1's binary_logloss: 0.274705\n",
            "[20]\ttraining's binary_logloss: 0.144443\tvalid_1's binary_logloss: 0.159431\n"
          ],
          "name": "stdout"
        },
        {
          "output_type": "stream",
          "text": [
            "/usr/local/lib/python3.7/dist-packages/lightgbm/engine.py:118: UserWarning:\n",
            "\n",
            "Found `n_estimators` in params. Will use it instead of argument\n",
            "\n",
            "/usr/local/lib/python3.7/dist-packages/lightgbm/basic.py:1205: UserWarning:\n",
            "\n",
            "Using categorical_feature in Dataset.\n",
            "\n",
            "/usr/local/lib/python3.7/dist-packages/lightgbm/basic.py:762: UserWarning:\n",
            "\n",
            "categorical_feature in param dict is overridden.\n",
            "\n"
          ],
          "name": "stderr"
        },
        {
          "output_type": "stream",
          "text": [
            "[30]\ttraining's binary_logloss: 0.0958977\tvalid_1's binary_logloss: 0.118034\n",
            "[40]\ttraining's binary_logloss: 0.0702442\tvalid_1's binary_logloss: 0.0996568\n",
            "[50]\ttraining's binary_logloss: 0.0564647\tvalid_1's binary_logloss: 0.0912706\n",
            "[60]\ttraining's binary_logloss: 0.046874\tvalid_1's binary_logloss: 0.0870191\n",
            "[70]\ttraining's binary_logloss: 0.0411837\tvalid_1's binary_logloss: 0.0845034\n",
            "[80]\ttraining's binary_logloss: 0.0360919\tvalid_1's binary_logloss: 0.0827132\n",
            "[90]\ttraining's binary_logloss: 0.0318975\tvalid_1's binary_logloss: 0.0817224\n",
            "[100]\ttraining's binary_logloss: 0.02906\tvalid_1's binary_logloss: 0.0817705\n",
            "[110]\ttraining's binary_logloss: 0.0255643\tvalid_1's binary_logloss: 0.0820655\n",
            "[120]\ttraining's binary_logloss: 0.0229696\tvalid_1's binary_logloss: 0.0815336\n",
            "[130]\ttraining's binary_logloss: 0.0206013\tvalid_1's binary_logloss: 0.0812856\n",
            "[140]\ttraining's binary_logloss: 0.0180552\tvalid_1's binary_logloss: 0.0818167\n",
            "[150]\ttraining's binary_logloss: 0.0163443\tvalid_1's binary_logloss: 0.0812916\n",
            "[160]\ttraining's binary_logloss: 0.0148679\tvalid_1's binary_logloss: 0.0820178\n",
            "[170]\ttraining's binary_logloss: 0.0132327\tvalid_1's binary_logloss: 0.0824417\n",
            "[180]\ttraining's binary_logloss: 0.0120824\tvalid_1's binary_logloss: 0.0828352\n",
            "[190]\ttraining's binary_logloss: 0.0108922\tvalid_1's binary_logloss: 0.0838645\n",
            "[200]\ttraining's binary_logloss: 0.00984415\tvalid_1's binary_logloss: 0.0844875\n"
          ],
          "name": "stdout"
        },
        {
          "output_type": "stream",
          "text": [
            "\u001b[32m[I 2021-06-02 19:09:52,674]\u001b[0m Trial 38 finished with value: 0.08118244928794337 and parameters: {'n_estimators': 1000, 'lerning_rate': 0.1, 'max_depth': 6, 'max_features': 0.3, 'min_samples_split': 6, 'min_samples_leaf': 6}. Best is trial 0 with value: 0.07448800223470399.\u001b[0m\n"
          ],
          "name": "stderr"
        },
        {
          "output_type": "stream",
          "text": [
            "[210]\ttraining's binary_logloss: 0.00826271\tvalid_1's binary_logloss: 0.0843083\n",
            "[220]\ttraining's binary_logloss: 0.00716188\tvalid_1's binary_logloss: 0.084324\n",
            "[230]\ttraining's binary_logloss: 0.00640641\tvalid_1's binary_logloss: 0.0861376\n",
            "Early stopping, best iteration is:\n",
            "[131]\ttraining's binary_logloss: 0.0201993\tvalid_1's binary_logloss: 0.0811824\n",
            "Training until validation scores don't improve for 100 rounds.\n",
            "[10]\ttraining's binary_logloss: 0.409857\tvalid_1's binary_logloss: 0.411575\n",
            "[20]\ttraining's binary_logloss: 0.267202\tvalid_1's binary_logloss: 0.273658\n"
          ],
          "name": "stdout"
        },
        {
          "output_type": "stream",
          "text": [
            "/usr/local/lib/python3.7/dist-packages/lightgbm/engine.py:118: UserWarning:\n",
            "\n",
            "Found `n_estimators` in params. Will use it instead of argument\n",
            "\n",
            "/usr/local/lib/python3.7/dist-packages/lightgbm/basic.py:1205: UserWarning:\n",
            "\n",
            "Using categorical_feature in Dataset.\n",
            "\n",
            "/usr/local/lib/python3.7/dist-packages/lightgbm/basic.py:762: UserWarning:\n",
            "\n",
            "categorical_feature in param dict is overridden.\n",
            "\n"
          ],
          "name": "stderr"
        },
        {
          "output_type": "stream",
          "text": [
            "[30]\ttraining's binary_logloss: 0.188147\tvalid_1's binary_logloss: 0.199805\n",
            "[40]\ttraining's binary_logloss: 0.140546\tvalid_1's binary_logloss: 0.156187\n",
            "[50]\ttraining's binary_logloss: 0.110349\tvalid_1's binary_logloss: 0.130895\n",
            "[60]\ttraining's binary_logloss: 0.0902005\tvalid_1's binary_logloss: 0.114351\n",
            "[70]\ttraining's binary_logloss: 0.0755908\tvalid_1's binary_logloss: 0.102603\n",
            "[80]\ttraining's binary_logloss: 0.0646585\tvalid_1's binary_logloss: 0.0947769\n",
            "[90]\ttraining's binary_logloss: 0.0565063\tvalid_1's binary_logloss: 0.0899954\n",
            "[100]\ttraining's binary_logloss: 0.0502482\tvalid_1's binary_logloss: 0.0871729\n",
            "[110]\ttraining's binary_logloss: 0.0449098\tvalid_1's binary_logloss: 0.0846616\n",
            "[120]\ttraining's binary_logloss: 0.0409557\tvalid_1's binary_logloss: 0.0829291\n",
            "[130]\ttraining's binary_logloss: 0.0373761\tvalid_1's binary_logloss: 0.0816816\n",
            "[140]\ttraining's binary_logloss: 0.034035\tvalid_1's binary_logloss: 0.0804962\n",
            "[150]\ttraining's binary_logloss: 0.0311156\tvalid_1's binary_logloss: 0.0796231\n",
            "[160]\ttraining's binary_logloss: 0.028688\tvalid_1's binary_logloss: 0.0790155\n",
            "[170]\ttraining's binary_logloss: 0.026794\tvalid_1's binary_logloss: 0.0784011\n",
            "[180]\ttraining's binary_logloss: 0.0248347\tvalid_1's binary_logloss: 0.0780895\n",
            "[190]\ttraining's binary_logloss: 0.0227093\tvalid_1's binary_logloss: 0.0775361\n",
            "[200]\ttraining's binary_logloss: 0.020774\tvalid_1's binary_logloss: 0.0768253\n",
            "[210]\ttraining's binary_logloss: 0.0193763\tvalid_1's binary_logloss: 0.0769856\n",
            "[220]\ttraining's binary_logloss: 0.0178966\tvalid_1's binary_logloss: 0.0769537\n",
            "[230]\ttraining's binary_logloss: 0.0166873\tvalid_1's binary_logloss: 0.0769032\n",
            "[240]\ttraining's binary_logloss: 0.0155855\tvalid_1's binary_logloss: 0.0769729\n",
            "[250]\ttraining's binary_logloss: 0.0146673\tvalid_1's binary_logloss: 0.077249\n"
          ],
          "name": "stdout"
        },
        {
          "output_type": "stream",
          "text": [
            "\u001b[32m[I 2021-06-02 19:09:53,573]\u001b[0m Trial 39 finished with value: 0.07682527594288036 and parameters: {'n_estimators': 800, 'lerning_rate': 0.05, 'max_depth': 8, 'max_features': 0.7, 'min_samples_split': 6, 'min_samples_leaf': 6}. Best is trial 0 with value: 0.07448800223470399.\u001b[0m\n"
          ],
          "name": "stderr"
        },
        {
          "output_type": "stream",
          "text": [
            "[260]\ttraining's binary_logloss: 0.0137546\tvalid_1's binary_logloss: 0.0774029\n",
            "[270]\ttraining's binary_logloss: 0.0127554\tvalid_1's binary_logloss: 0.0772952\n",
            "[280]\ttraining's binary_logloss: 0.0118789\tvalid_1's binary_logloss: 0.0772718\n",
            "[290]\ttraining's binary_logloss: 0.0110396\tvalid_1's binary_logloss: 0.0776678\n",
            "[300]\ttraining's binary_logloss: 0.0102129\tvalid_1's binary_logloss: 0.0778492\n",
            "Early stopping, best iteration is:\n",
            "[200]\ttraining's binary_logloss: 0.020774\tvalid_1's binary_logloss: 0.0768253\n",
            "Best score : 0.07448800223470399\n"
          ],
          "name": "stdout"
        }
      ]
    },
    {
      "cell_type": "code",
      "metadata": {
        "colab": {
          "base_uri": "https://localhost:8080/"
        },
        "id": "ImyatXv7khtx",
        "outputId": "e4f24075-d19f-443d-8fcb-13f8b6a89cf0"
      },
      "source": [
        "study.best_params"
      ],
      "execution_count": 92,
      "outputs": [
        {
          "output_type": "execute_result",
          "data": {
            "text/plain": [
              "{'lerning_rate': 0.05,\n",
              " 'max_depth': 7,\n",
              " 'max_features': 0.5,\n",
              " 'min_samples_leaf': 6,\n",
              " 'min_samples_split': 2,\n",
              " 'n_estimators': 500}"
            ]
          },
          "metadata": {
            "tags": []
          },
          "execution_count": 92
        }
      ]
    },
    {
      "cell_type": "code",
      "metadata": {
        "colab": {
          "base_uri": "https://localhost:8080/"
        },
        "id": "iIQAEWuao0MU",
        "outputId": "23e84948-6b5e-4375-ab2f-fba1d65c0131"
      },
      "source": [
        "import lightgbm as lgb\n",
        "lgb_model = lgb.LGBMClassifier(**study.best_params)\n",
        "lgb_model.fit(X_train, y_train)\n",
        "train_score =lgb_model.score(X_train,y_train)\n",
        "valid_score= lgb_model.score(X_valid,y_valid)\n",
        "print('LGBM Train_Accuracy : {}'.format(train_score))\n",
        "print('LGBM Valid_Accuracy : {}'.format(valid_score))"
      ],
      "execution_count": 93,
      "outputs": [
        {
          "output_type": "stream",
          "text": [
            "LGBM Train_Accuracy : 1.0\n",
            "LGBM Valid_Accuracy : 0.971301335972291\n"
          ],
          "name": "stdout"
        }
      ]
    },
    {
      "cell_type": "markdown",
      "metadata": {
        "id": "OEH6Zac3mYE7"
      },
      "source": [
        "# 결과인 fake부분만 Bool타입으로 지정"
      ]
    },
    {
      "cell_type": "code",
      "metadata": {
        "id": "4730OPaMpZnA",
        "colab": {
          "base_uri": "https://localhost:8080/"
        },
        "outputId": "c5b0e1e3-9495-48a0-95c0-bf3a2be4f89c"
      },
      "source": [
        "train = pd.read_csv(filepath+'instagram_detection.csv')\n",
        "print(train.shape)"
      ],
      "execution_count": 94,
      "outputs": [
        {
          "output_type": "stream",
          "text": [
            "(10104, 17)\n"
          ],
          "name": "stdout"
        }
      ]
    },
    {
      "cell_type": "code",
      "metadata": {
        "id": "rfIvreipmpp9"
      },
      "source": [
        "train['#fake'] = train['#fake'].astype('bool')"
      ],
      "execution_count": 95,
      "outputs": []
    },
    {
      "cell_type": "code",
      "metadata": {
        "colab": {
          "base_uri": "https://localhost:8080/"
        },
        "id": "WA4LLl3UmfPo",
        "outputId": "50bc7b0f-0a2c-48af-b199-504ea574bba3"
      },
      "source": [
        "from sklearn.model_selection import train_test_split\n",
        "y_train = train['#fake']\n",
        "X_train = train.drop('#fake',axis=1)\n",
        "X_train,X_valid, y_train, y_valid = train_test_split(X_train,y_train, test_size=0.2, random_state=0, shuffle=True)\n",
        "\n",
        "print('X_train = ', X_train.shape)\n",
        "print('X_valid = ', X_valid.shape)\n",
        "print('y_train = ', y_train.shape)\n",
        "print('y_valid = ', y_valid.shape)"
      ],
      "execution_count": 96,
      "outputs": [
        {
          "output_type": "stream",
          "text": [
            "X_train =  (8083, 16)\n",
            "X_valid =  (2021, 16)\n",
            "y_train =  (8083,)\n",
            "y_valid =  (2021,)\n"
          ],
          "name": "stdout"
        }
      ]
    },
    {
      "cell_type": "code",
      "metadata": {
        "colab": {
          "base_uri": "https://localhost:8080/"
        },
        "id": "N1_PMDcFm0Wl",
        "outputId": "d17ed1b2-3fca-4c0a-f395-57b29ef13527"
      },
      "source": [
        "from sklearn.ensemble import RandomForestClassifier\n",
        "rf= RandomForestClassifier()\n",
        "rf.fit(X_train, y_train)\n",
        "train_score = rf.score(X_train, y_train)\n",
        "valid_score = rf.score(X_valid, y_valid)\n",
        "print('RandomForest Train_Accuracy : {}'.format(train_score))\n",
        "print('RandomForest Valid_Accuracy : {}'.format(valid_score))\n",
        "print()\n",
        "\n",
        "from sklearn.ensemble import GradientBoostingClassifier\n",
        "gb= GradientBoostingClassifier()\n",
        "gb.fit(X_train, y_train)\n",
        "train_score = gb.score(X_train, y_train)\n",
        "valid_score = gb.score(X_valid, y_valid)\n",
        "print('GradientBoosting Train_Accuracy : {}'.format(train_score))\n",
        "print('GradientBoosting Valid_Accuracy : {}'.format(valid_score))\n",
        "print()\n",
        "\n",
        "from sklearn.linear_model import LogisticRegression\n",
        "lg = LogisticRegression(penalty = 'l2',solver='newton-cg',random_state=0, max_iter=600)\n",
        "lg.fit(X_train,y_train)\n",
        "train_score = lg.score(X_train,y_train)\n",
        "valid_score = lg.score(X_valid,y_valid)\n",
        "print('Logistic Train_Accuracy : {}'.format(train_score))\n",
        "print('Logistic Valid_Accuracy : {}'.format(valid_score))\n",
        "print()\n",
        "\n",
        "import xgboost as xgb\n",
        "xgb_model = xgb.XGBClassifier()\n",
        "xgb_model.fit(X_train,y_train)\n",
        "train_score = xgb_model.score(X_train,y_train)\n",
        "valid_score = xgb_model.score(X_valid,y_valid)\n",
        "print('XGBoost Train_Accuracy : {}'.format(train_score))\n",
        "print('XGBoost Valid_Accuracy : {}'.format(valid_score))\n",
        "print()\n",
        "\n",
        "import lightgbm as lgb\n",
        "lgb_model = lgb.LGBMClassifier()\n",
        "lgb_model.fit(X_train, y_train)\n",
        "train_score =lgb_model.score(X_train,y_train)\n",
        "valid_score= lgb_model.score(X_valid,y_valid)\n",
        "print('LGBM Train_Accuracy : {}'.format(train_score))\n",
        "print('LGBM Valid_Accuracy : {}'.format(valid_score))\n",
        "print()\n",
        "\n",
        "from sklearn.tree import DecisionTreeClassifier\n",
        "dt = DecisionTreeClassifier()\n",
        "dt.fit(X_train,y_train)\n",
        "train_score = dt.score(X_train,y_train)\n",
        "valid_score=dt.score(X_valid,y_valid)\n",
        "print('DecisionTree Train_Accuracy : {}'.format(train_score))\n",
        "print('DecisionTree Valid_Accuracy : {}'.format(valid_score))"
      ],
      "execution_count": 97,
      "outputs": [
        {
          "output_type": "stream",
          "text": [
            "RandomForest Train_Accuracy : 1.0\n",
            "RandomForest Valid_Accuracy : 0.9693221177634834\n",
            "\n",
            "GradientBoosting Train_Accuracy : 0.9777310404552765\n",
            "GradientBoosting Valid_Accuracy : 0.9703117268678871\n",
            "\n",
            "Logistic Train_Accuracy : 0.8693554373376222\n",
            "Logistic Valid_Accuracy : 0.8703612073231074\n",
            "\n",
            "XGBoost Train_Accuracy : 0.9764938760361253\n",
            "XGBoost Valid_Accuracy : 0.9703117268678871\n",
            "\n",
            "LGBM Train_Accuracy : 0.9978968204874428\n",
            "LGBM Valid_Accuracy : 0.9722909450766947\n",
            "\n",
            "DecisionTree Train_Accuracy : 1.0\n",
            "DecisionTree Valid_Accuracy : 0.9574468085106383\n"
          ],
          "name": "stdout"
        }
      ]
    },
    {
      "cell_type": "markdown",
      "metadata": {
        "id": "9xXtnA1DnOH8"
      },
      "source": [
        "로지스틱회귀분석 valid 정확도에서 살짝 오른 것을 제외하면, 나머지 정확도는 모든게 int형일 때, 더 정확하거나 비슷하다. ->굳이 Bool을 써야할 필요가 없다."
      ]
    },
    {
      "cell_type": "markdown",
      "metadata": {
        "id": "zeaoG12TJDsa"
      },
      "source": [
        "# 결과"
      ]
    },
    {
      "cell_type": "code",
      "metadata": {
        "id": "9jfHenwBm3Xe",
        "colab": {
          "base_uri": "https://localhost:8080/"
        },
        "outputId": "4f74a4ec-9f1c-4f25-cafc-aec5910137a5"
      },
      "source": [
        "import numpy as np\n",
        "import pandas as pd\n",
        "import matplotlib.pyplot as plt\n",
        "import seaborn as sns\n",
        "from google.colab import drive\n",
        "drive.mount('/content/gdrive', force_remount=True)\n",
        "filepath='/content/gdrive/My Drive/'\n",
        "train = pd.read_csv(filepath+'instagram_detection.csv')\n",
        "print(train.shape)"
      ],
      "execution_count": 105,
      "outputs": [
        {
          "output_type": "stream",
          "text": [
            "Mounted at /content/gdrive\n",
            "(10104, 17)\n"
          ],
          "name": "stdout"
        }
      ]
    },
    {
      "cell_type": "code",
      "metadata": {
        "id": "2NSEDPgELrPY"
      },
      "source": [
        "y_train = train['#fake']\n",
        "X_train = train.drop('#fake',axis=1)"
      ],
      "execution_count": 106,
      "outputs": []
    },
    {
      "cell_type": "code",
      "metadata": {
        "colab": {
          "base_uri": "https://localhost:8080/"
        },
        "id": "K5wcCt6IOHXK",
        "outputId": "c669ceae-cd87-4d4f-c465-5996c131df16"
      },
      "source": [
        "from sklearn.model_selection import train_test_split\n",
        "X_train,X_valid, y_train, y_valid = train_test_split(X_train,y_train, test_size=0.2, random_state=0, shuffle=True)\n",
        "\n",
        "print('X_train = ', X_train.shape)\n",
        "print('X_valid = ', X_valid.shape)\n",
        "print('y_train = ', y_train.shape)\n",
        "print('y_valid = ', y_valid.shape)"
      ],
      "execution_count": 107,
      "outputs": [
        {
          "output_type": "stream",
          "text": [
            "X_train =  (8083, 16)\n",
            "X_valid =  (2021, 16)\n",
            "y_train =  (8083,)\n",
            "y_valid =  (2021,)\n"
          ],
          "name": "stdout"
        }
      ]
    },
    {
      "cell_type": "code",
      "metadata": {
        "colab": {
          "base_uri": "https://localhost:8080/"
        },
        "id": "QmL10jgJOIsp",
        "outputId": "863b62fc-abdf-4060-db74-73bb92a3d5a5"
      },
      "source": [
        "from sklearn.ensemble import RandomForestClassifier\n",
        "rf= RandomForestClassifier(random_state=11)\n",
        "rf.fit(X_train, y_train)\n",
        "train_score = rf.score(X_train, y_train)\n",
        "valid_score = rf.score(X_valid, y_valid)\n",
        "print('RandomForest Train_Accuracy : {}'.format(train_score))\n",
        "print('RandomForest Valid_Accuracy : {}'.format(valid_score))\n",
        "print()\n",
        "\n",
        "import lightgbm as lgb\n",
        "lgb_model = lgb.LGBMClassifier()\n",
        "lgb_model.fit(X_train, y_train)\n",
        "train_score =lgb_model.score(X_train,y_train)\n",
        "valid_score= lgb_model.score(X_valid,y_valid)\n",
        "print('LGBM Train_Accuracy : {}'.format(train_score))\n",
        "print('LGBM Valid_Accuracy : {}'.format(valid_score))\n",
        "print()\n",
        "\n",
        "from sklearn.ensemble import GradientBoostingClassifier\n",
        "gb= GradientBoostingClassifier()\n",
        "gb.fit(X_train, y_train)\n",
        "train_score = gb.score(X_train, y_train)\n",
        "valid_score = gb.score(X_valid, y_valid)\n",
        "print('GradientBoosting Train_Accuracy : {}'.format(train_score))\n",
        "print('GradientBoosting Valid_Accuracy : {}'.format(valid_score))\n",
        "print()"
      ],
      "execution_count": 108,
      "outputs": [
        {
          "output_type": "stream",
          "text": [
            "RandomForest Train_Accuracy : 1.0\n",
            "RandomForest Valid_Accuracy : 0.9717961405244928\n",
            "\n",
            "LGBM Train_Accuracy : 0.9978968204874428\n",
            "LGBM Valid_Accuracy : 0.9722909450766947\n",
            "\n",
            "GradientBoosting Train_Accuracy : 0.9777310404552765\n",
            "GradientBoosting Valid_Accuracy : 0.9703117268678871\n",
            "\n"
          ],
          "name": "stdout"
        }
      ]
    },
    {
      "cell_type": "code",
      "metadata": {
        "id": "fKFUIic2tM62",
        "colab": {
          "base_uri": "https://localhost:8080/"
        },
        "outputId": "31246f0b-085f-4eeb-a1d9-b4a73a31ce81"
      },
      "source": [
        "#가짜계정인가? -> False = 진짜계정, True = 가짜계정\n",
        "p=[[1,19,4,14,0,0,0,0,0,0,3,3,0,0,0,0]]  # 학습하지 않은, 가짜 계정의 정보를 입력\n",
        "rf_y = rf.predict(p)\n",
        "lgb_y=lgb_model.predict(p)\n",
        "gb_y=gb.predict(p)\n",
        "print(rf_y)\n",
        "print(lgb_y)\n",
        "print(gb_y)    #가짜계정이라고 답변 내리는 것을 볼 수 있음."
      ],
      "execution_count": 109,
      "outputs": [
        {
          "output_type": "stream",
          "text": [
            "[1]\n",
            "[1]\n",
            "[1]\n"
          ],
          "name": "stdout"
        }
      ]
    },
    {
      "cell_type": "code",
      "metadata": {
        "colab": {
          "base_uri": "https://localhost:8080/"
        },
        "id": "b3cq3BON26h7",
        "outputId": "7ec3bfde-d45f-4863-9699-9c6fa77def5c"
      },
      "source": [
        "#가짜계정인가? -> False= 진짜계정, True = 가짜계정\n",
        "x=[[0,9,0,3,0,0,0,0,1,4,265,350,0,0,0,0]]  # 학습하지 않은, 진짜 계정의 정보를 입력\n",
        "rf_y = rf.predict(x)\n",
        "lgb_y=lgb_model.predict(x)\n",
        "gb_y=gb.predict(x)\n",
        "print(rf_y)\n",
        "print(lgb_y)\n",
        "print(gb_y)    #진짜계정이라고 답변 내리는 것을 볼 수 있음."
      ],
      "execution_count": 110,
      "outputs": [
        {
          "output_type": "stream",
          "text": [
            "[0]\n",
            "[0]\n",
            "[0]\n"
          ],
          "name": "stdout"
        }
      ]
    },
    {
      "cell_type": "code",
      "metadata": {
        "id": "lyatPsJF5dqg"
      },
      "source": [
        ""
      ],
      "execution_count": 104,
      "outputs": []
    }
  ]
}